{
 "cells": [
  {
   "cell_type": "code",
   "execution_count": 15,
   "metadata": {},
   "outputs": [],
   "source": [
    "import numpy as np\n",
    "from numpy import array, dot, zeros\n",
    "from numpy.linalg import inv\n",
    "import scipy.linalg\n",
    "np.set_printoptions(precision=4)"
   ]
  },
  {
   "cell_type": "markdown",
   "metadata": {},
   "source": [
    "Истинное решение системы $A\\mathbf{x}=\\mathbf{b}$ по формуле $\\mathbf{x}=A^{-1}\\mathbf{b}$."
   ]
  },
  {
   "cell_type": "code",
   "execution_count": 17,
   "metadata": {},
   "outputs": [
    {
     "data": {
      "text/plain": [
       "array([ 0.426 , -0.8658, -1.4467, -9.8102])"
      ]
     },
     "execution_count": 17,
     "metadata": {},
     "output_type": "execute_result"
    }
   ],
   "source": [
    "A = array([\n",
    "    [3.3, -2.2,  -10,  1.7],\n",
    "    [1.8, 21.1,  1.3, -2.2],\n",
    "    [-10,  1.1,   20, -4.5],\n",
    "    [ 70, -1.7, -2.2,  3.3]\n",
    "])\n",
    "\n",
    "b = array([1.1, 2.2, 10, 2.1])\n",
    "dot(inv(A), b)"
   ]
  },
  {
   "cell_type": "code",
   "execution_count": 18,
   "metadata": {},
   "outputs": [],
   "source": [
    "def solve_triangular(A, b):\n",
    "    A = A.astype(np.float64); b = b.astype(np.float64)\n",
    "    x = np.empty_like(b)\n",
    "    for i in reversed(range(len(x))):\n",
    "        x[i] = (b[i] - np.dot(A[i, i+1:], x[i+1:])) / A[i, i]\n",
    "    return x"
   ]
  },
  {
   "cell_type": "markdown",
   "metadata": {},
   "source": [
    "### 1. Метод исключения Гаусса "
   ]
  },
  {
   "cell_type": "code",
   "execution_count": 21,
   "metadata": {
    "collapsed": true
   },
   "outputs": [],
   "source": [
    "def gaussian_elimination(A, b=None):\n",
    "    \n",
    "    n = A.shape[0]\n",
    "    if A.shape[1] != n or len(A.shape) != 2:\n",
    "        raise ValueError(\"Matrix is not square!\")\n",
    "        \n",
    "    if b is not None:\n",
    "        if b.shape[0] != n:\n",
    "            raise ValueError(\"Right-hand-side vector's shape does not match!\")\n",
    "        A = np.c_[A, b]\n",
    "    \n",
    "    for i in range(n):\n",
    "        if np.allclose(A[i, i], .0):\n",
    "            raise RuntimeError(\"Inappropriate matrix! Leading zero in row {}.\".format(i))    \n",
    "        A[i] = A[i] / A[i, i]\n",
    "        A[i+1:, i:] = A[i+1:, i:] - np.outer(A[i+1:, i], A[i, i:])\n",
    "        \n",
    "    if b is None:\n",
    "        return A\n",
    "    return A[:, :-1], A[:, -1]"
   ]
  },
  {
   "cell_type": "code",
   "execution_count": 24,
   "metadata": {
    "collapsed": true
   },
   "outputs": [],
   "source": [
    "def gaussian_elimination_solve(A, b):\n",
    "    \n",
    "    A, b = gaussian_elimination(A, b)\n",
    "    x = solve_triangular(A, b)\n",
    "    return x"
   ]
  },
  {
   "cell_type": "code",
   "execution_count": 25,
   "metadata": {},
   "outputs": [
    {
     "data": {
      "text/plain": [
       "array([ 0.426 , -0.8658, -1.4467, -9.8102])"
      ]
     },
     "execution_count": 25,
     "metadata": {},
     "output_type": "execute_result"
    }
   ],
   "source": [
    "gaussian_elimination_solve(A, b)"
   ]
  },
  {
   "cell_type": "markdown",
   "metadata": {},
   "source": [
    "### Метод Жордана-Гаусса "
   ]
  },
  {
   "cell_type": "code",
   "execution_count": null,
   "metadata": {
    "collapsed": true
   },
   "outputs": [],
   "source": []
  },
  {
   "cell_type": "code",
   "execution_count": null,
   "metadata": {
    "collapsed": true
   },
   "outputs": [],
   "source": []
  },
  {
   "cell_type": "code",
   "execution_count": null,
   "metadata": {
    "collapsed": true
   },
   "outputs": [],
   "source": []
  },
  {
   "cell_type": "code",
   "execution_count": null,
   "metadata": {
    "collapsed": true
   },
   "outputs": [],
   "source": []
  },
  {
   "cell_type": "markdown",
   "metadata": {},
   "source": [
    "### Метод Гаусса с выбором главного элемента "
   ]
  },
  {
   "cell_type": "code",
   "execution_count": null,
   "metadata": {
    "collapsed": true
   },
   "outputs": [],
   "source": [
    "def selective_gauss_elimination(A):\n",
    "    pass"
   ]
  },
  {
   "cell_type": "code",
   "execution_count": 13,
   "metadata": {
    "collapsed": true
   },
   "outputs": [],
   "source": [
    "M = array([\n",
    "    [0.46, 1.72, 2.53, 2.44],\n",
    "    [1.53, -2.32, -1.83, 2.83],\n",
    "    [0.75, 0.86, 3.72, 1.06]\n",
    "])"
   ]
  },
  {
   "cell_type": "markdown",
   "metadata": {},
   "source": [
    "### Метод LU-разложения "
   ]
  },
  {
   "cell_type": "code",
   "execution_count": null,
   "metadata": {
    "collapsed": true
   },
   "outputs": [],
   "source": [
    "def LU_decomposition(A):\n",
    "    pass\n",
    "\n",
    "def LU_solution(A, b):\n",
    "    L, U = LU_decomposition(A)\n",
    "    y = solve_triangular(L, b)\n",
    "    x = solve_triangular(U, y)\n",
    "    return x"
   ]
  },
  {
   "cell_type": "code",
   "execution_count": 3,
   "metadata": {},
   "outputs": [
    {
     "data": {
      "text/plain": [
       "array([-4.78963255,  0.63174262, -1.92956212])"
      ]
     },
     "execution_count": 3,
     "metadata": {},
     "output_type": "execute_result"
    }
   ],
   "source": [
    "A = array([\n",
    "    [0.18, 2.11, 0.13],\n",
    "    [0.33, -0.22, -1.0],\n",
    "    [-1.0, 0.11, 2.0]\n",
    "])\n",
    "\n",
    "b = array([0.22, 0.21, 1])\n",
    "\n",
    "dot(inv(A), b)"
   ]
  },
  {
   "cell_type": "code",
   "execution_count": 16,
   "metadata": {
    "collapsed": true
   },
   "outputs": [],
   "source": [
    "A_u = np.triu(A)"
   ]
  },
  {
   "cell_type": "code",
   "execution_count": 17,
   "metadata": {},
   "outputs": [
    {
     "name": "stdout",
     "output_type": "stream",
     "text": [
      "Wall time: 2 ms\n"
     ]
    },
    {
     "data": {
      "text/plain": [
       "array([[  5.65384109e+00,  -4.78908306e+00,  -1.85124089e+00, ...,\n",
       "          1.05769429e+18,   4.94506710e+16,   2.63534382e+18],\n",
       "       [  0.00000000e+00,   1.08587507e+00,  -1.52882997e+00, ...,\n",
       "          6.48022148e+16,   3.02971565e+15,   1.61460755e+17],\n",
       "       [  0.00000000e+00,   0.00000000e+00,   1.65273361e+00, ...,\n",
       "         -1.99178656e+17,  -9.31225420e+15,  -4.96272176e+17],\n",
       "       ..., \n",
       "       [  0.00000000e+00,   0.00000000e+00,   0.00000000e+00, ...,\n",
       "          1.29839247e+00,  -1.75929030e+00,   1.96188596e+00],\n",
       "       [  0.00000000e+00,   0.00000000e+00,   0.00000000e+00, ...,\n",
       "          0.00000000e+00,   2.06116542e+00,  -2.71576479e+00],\n",
       "       [  0.00000000e+00,   0.00000000e+00,   0.00000000e+00, ...,\n",
       "          0.00000000e+00,   0.00000000e+00,   2.00762100e+00]])"
      ]
     },
     "execution_count": 17,
     "metadata": {},
     "output_type": "execute_result"
    }
   ],
   "source": [
    "%time inv(A_u)"
   ]
  },
  {
   "cell_type": "code",
   "execution_count": 43,
   "metadata": {},
   "outputs": [
    {
     "data": {
      "text/plain": [
       "-3.791843999999999"
      ]
     },
     "execution_count": 43,
     "metadata": {},
     "output_type": "execute_result"
    }
   ],
   "source": [
    "14.667 - 11.722 * 1.632 + 0.722 * 0.93"
   ]
  },
  {
   "cell_type": "code",
   "execution_count": 37,
   "metadata": {},
   "outputs": [
    {
     "data": {
      "text/plain": [
       "array([ 2.64, -0.68,  2.11])"
      ]
     },
     "execution_count": 37,
     "metadata": {},
     "output_type": "execute_result"
    }
   ],
   "source": [
    "A.sum(axis=1) + b"
   ]
  },
  {
   "cell_type": "code",
   "execution_count": 35,
   "metadata": {},
   "outputs": [
    {
     "data": {
      "text/plain": [
       "-0.8630960000000001"
      ]
     },
     "execution_count": 35,
     "metadata": {},
     "output_type": "execute_result"
    }
   ],
   "source": [
    "2 + 0.722 - 11.832 * 0.303"
   ]
  },
  {
   "cell_type": "code",
   "execution_count": 33,
   "metadata": {},
   "outputs": [
    {
     "data": {
      "text/plain": [
       "(array([[ 0.,  1.,  0.],\n",
       "        [ 0.,  0.,  1.],\n",
       "        [ 1.,  0.,  0.]]), array([[ 1.        ,  0.        ,  0.        ],\n",
       "        [-0.18      ,  1.        ,  0.        ],\n",
       "        [-0.33      , -0.08625223,  1.        ]]), array([[-1.        ,  0.11      ,  2.        ],\n",
       "        [ 0.        ,  2.1298    ,  0.49      ],\n",
       "        [ 0.        ,  0.        , -0.29773641]]))"
      ]
     },
     "execution_count": 33,
     "metadata": {},
     "output_type": "execute_result"
    }
   ],
   "source": [
    "scipy.linalg.lu(A)"
   ]
  },
  {
   "cell_type": "markdown",
   "metadata": {},
   "source": [
    "### Метод Холецкого "
   ]
  },
  {
   "cell_type": "code",
   "execution_count": 75,
   "metadata": {},
   "outputs": [
    {
     "data": {
      "text/plain": [
       "array([ 0.44678991,  0.27564738, -0.38535207])"
      ]
     },
     "execution_count": 75,
     "metadata": {},
     "output_type": "execute_result"
    }
   ],
   "source": [
    "A = array([\n",
    "    [3.77, 0.56, 1.45],\n",
    "    [0.56, 9.56, 5.23],\n",
    "    [1.45, 5.23, 12.87]\n",
    "])\n",
    "\n",
    "b = np.array([1.28, 0.87, -2.87])\n",
    "\n",
    "dot(inv(A), b)"
   ]
  },
  {
   "cell_type": "code",
   "execution_count": 83,
   "metadata": {},
   "outputs": [
    {
     "data": {
      "text/plain": [
       "1.4462234809474768"
      ]
     },
     "execution_count": 83,
     "metadata": {},
     "output_type": "execute_result"
    }
   ],
   "source": [
    "(3.635 - 0.288 * 1.277 - 0.747 * 0.614) / 1.942"
   ]
  },
  {
   "cell_type": "code",
   "execution_count": 65,
   "metadata": {},
   "outputs": [
    {
     "data": {
      "text/plain": [
       "array([  7.06,  16.22,  16.68])"
      ]
     },
     "execution_count": 65,
     "metadata": {},
     "output_type": "execute_result"
    }
   ],
   "source": [
    "A.sum(axis=1) + b"
   ]
  },
  {
   "cell_type": "code",
   "execution_count": 74,
   "metadata": {},
   "outputs": [
    {
     "data": {
      "text/plain": [
       "1.9100000000000001"
      ]
     },
     "execution_count": 74,
     "metadata": {},
     "output_type": "execute_result"
    }
   ],
   "source": [
    "3.108 - 1.198"
   ]
  },
  {
   "cell_type": "code",
   "execution_count": 73,
   "metadata": {},
   "outputs": [
    {
     "data": {
      "text/plain": [
       "1.909165057915058"
      ]
     },
     "execution_count": 73,
     "metadata": {},
     "output_type": "execute_result"
    }
   ],
   "source": [
    "1 / 3.108 * (16.68 - 0.747 * 3.635 - 1.629 * 4.93)"
   ]
  },
  {
   "cell_type": "code",
   "execution_count": 71,
   "metadata": {},
   "outputs": [
    {
     "data": {
      "text/plain": [
       "4.928"
      ]
     },
     "execution_count": 71,
     "metadata": {},
     "output_type": "execute_result"
    }
   ],
   "source": [
    "3.078 + 1.629 + 0.221"
   ]
  },
  {
   "cell_type": "code",
   "execution_count": 67,
   "metadata": {},
   "outputs": [
    {
     "data": {
      "text/plain": [
       "3.635427394438723"
      ]
     },
     "execution_count": 67,
     "metadata": {},
     "output_type": "execute_result"
    }
   ],
   "source": [
    "7.06 / 1.942"
   ]
  },
  {
   "cell_type": "code",
   "execution_count": 57,
   "metadata": {},
   "outputs": [
    {
     "data": {
      "text/plain": [
       "1.9416487838947598"
      ]
     },
     "execution_count": 57,
     "metadata": {},
     "output_type": "execute_result"
    }
   ],
   "source": [
    "np.sqrt(3.77)"
   ]
  },
  {
   "cell_type": "code",
   "execution_count": 63,
   "metadata": {},
   "outputs": [
    {
     "data": {
      "text/plain": [
       "3.1077886028492991"
      ]
     },
     "execution_count": 63,
     "metadata": {},
     "output_type": "execute_result"
    }
   ],
   "source": [
    "np.sqrt(12.87 - 0.747**2 - 1.629**2)"
   ]
  },
  {
   "cell_type": "code",
   "execution_count": 62,
   "metadata": {},
   "outputs": [
    {
     "data": {
      "text/plain": [
       "1.6292605588044187"
      ]
     },
     "execution_count": 62,
     "metadata": {},
     "output_type": "execute_result"
    }
   ],
   "source": [
    "1 / 3.078 * (5.23 - 0.288 * 0.747)"
   ]
  },
  {
   "cell_type": "code",
   "execution_count": 59,
   "metadata": {},
   "outputs": [
    {
     "data": {
      "text/plain": [
       "0.7466529351184346"
      ]
     },
     "execution_count": 59,
     "metadata": {},
     "output_type": "execute_result"
    }
   ],
   "source": [
    "1.45 / 1.942"
   ]
  },
  {
   "cell_type": "code",
   "execution_count": null,
   "metadata": {
    "collapsed": true
   },
   "outputs": [],
   "source": []
  },
  {
   "cell_type": "markdown",
   "metadata": {
    "collapsed": true
   },
   "source": [
    "### Метод прогонки"
   ]
  },
  {
   "cell_type": "code",
   "execution_count": 44,
   "metadata": {
    "collapsed": true
   },
   "outputs": [],
   "source": [
    "A = array([\n",
    "    [15, 8, 0, 0, 0],\n",
    "    [2, -15, 4, 0, 0],\n",
    "    [0, 4, 11, 5, 0],\n",
    "    [0, 0, -3, 16, -7],\n",
    "    [0, 0, 0, 3, 8]\n",
    "])\n",
    "\n",
    "f = array([92, -84, -77, 15, -11])"
   ]
  },
  {
   "cell_type": "code",
   "execution_count": 56,
   "metadata": {},
   "outputs": [
    {
     "data": {
      "text/plain": [
       "-1.0"
      ]
     },
     "execution_count": 56,
     "metadata": {},
     "output_type": "execute_result"
    }
   ],
   "source": [
    "(-11 + 3 * 0.594) / (8 + 3 * 0.406)"
   ]
  },
  {
   "cell_type": "code",
   "execution_count": 45,
   "metadata": {},
   "outputs": [
    {
     "data": {
      "text/plain": [
       "array([ 4.,  4., -8., -1., -1.])"
      ]
     },
     "execution_count": 45,
     "metadata": {},
     "output_type": "execute_result"
    }
   ],
   "source": [
    "dot(inv(A), f)"
   ]
  }
 ],
 "metadata": {
  "kernelspec": {
   "display_name": "Python 3",
   "language": "python",
   "name": "python3"
  },
  "language_info": {
   "codemirror_mode": {
    "name": "ipython",
    "version": 3
   },
   "file_extension": ".py",
   "mimetype": "text/x-python",
   "name": "python",
   "nbconvert_exporter": "python",
   "pygments_lexer": "ipython3",
   "version": "3.6.0"
  }
 },
 "nbformat": 4,
 "nbformat_minor": 2
}
