{
 "cells": [
  {
   "cell_type": "code",
   "execution_count": 45,
   "metadata": {
    "collapsed": true
   },
   "outputs": [],
   "source": [
    "%matplotlib notebook\n",
    "import time\n",
    "import numpy as np\n",
    "import matplotlib.pyplot as plt\n",
    "from IPython.display import display, HTML\n",
    "from scipy.optimize import minimize_scalar\n",
    "from sympy import Symbol, Derivative, cot\n",
    "import sympy.solvers\n",
    "from sympy import init_printing\n",
    "\n",
    "init_printing(use_latex=True)\n",
    "x = Symbol('x')"
   ]
  },
  {
   "cell_type": "markdown",
   "metadata": {},
   "source": [
    "### Метод бисекции \n",
    "\n",
    "\n",
    "Скорость сходимости\n",
    "\n",
    "Особенности\n",
    "\n",
    "И так далее"
   ]
  },
  {
   "cell_type": "code",
   "execution_count": 61,
   "metadata": {},
   "outputs": [],
   "source": [
    "def bisection_solve(func, a, b, eps, show_history=False):\n",
    "    try:\n",
    "        func.subs(x, a);  \n",
    "    except AttributeError:\n",
    "        print('Incorrect type of given function!')\n",
    "    else:\n",
    "        f = lambda val: func.subs(x, val)\n",
    "        \n",
    "    if a >= b:\n",
    "        raise ValueError(\"Inappropriate domain is given: a >= b.\")\n",
    "    if f(a) * f(b) >= 0:\n",
    "        raise ValueError(\"Cannot solve such equation with this method: func(a)*func(b)>=0.\")\n",
    "    \n",
    "    k = 0\n",
    "    while True:\n",
    "        x0 = (a + b) / 2\n",
    "        if show_history:\n",
    "            display(HTML(\"a<sub>{ind}</sub> = %.5f,\\\n",
    "            b<sub>{ind}</sub> = %.5f,\\\n",
    "            b<sub>{ind}</sub>-a<sub>{ind}</sub> = %.5f.\".format(ind=k) % (a, b, b-a)))\n",
    "            k = k + 1\n",
    "        if (b-a)/2 < eps:\n",
    "            return x0\n",
    "        if f(a) * f(x0) < 0:\n",
    "            b = x0\n",
    "        else:\n",
    "            a = x0"
   ]
  },
  {
   "cell_type": "markdown",
   "metadata": {},
   "source": [
    "### Метод хорд \n",
    "\n",
    "Отрезок делится не пополам, а в соотношении $\\rvert{f(a)}\\rvert:\\rvert{f(b)}\\rvert$\n",
    "\n",
    "Рассчётная формула: $x_{k+1} = x_k - \\frac{f(x_k)}{f(x_k)- f(c)} (x_k - c)$"
   ]
  },
  {
   "cell_type": "code",
   "execution_count": 3,
   "metadata": {
    "collapsed": true
   },
   "outputs": [],
   "source": [
    "def chords_method_solve(func, a, b, fixed, eps, show_history=False):\n",
    "    \n",
    "    if fixed == 'left':\n",
    "        c = a\n",
    "        x_curr = b\n",
    "    elif fixed == 'right': \n",
    "        c = b\n",
    "        x_curr = a\n",
    "    else:\n",
    "        raise ValueError(\"Inappropriate value for argument 'fixed'!\")\n",
    "    k = 1\n",
    "    while True:\n",
    "        x_next = x_curr - func(x_curr) * (x_curr - c) / (func(x_curr) - func(c))\n",
    "        if show_history:\n",
    "            print(\"%2d. x\\u2096 = %.5f, |x\\u2096-x\\u2096\\u208b\\u2081| = %.6f.\" % (k, x_next, abs(x_next-x_curr)))\n",
    "            k = k + 1\n",
    "        if abs(x_next - x_curr) <= eps:\n",
    "            return x_next\n",
    "        x_curr = x_next"
   ]
  },
  {
   "cell_type": "markdown",
   "metadata": {},
   "source": [
    "### Метод релаксации"
   ]
  },
  {
   "cell_type": "code",
   "execution_count": 93,
   "metadata": {
    "collapsed": true
   },
   "outputs": [],
   "source": [
    "def relaxation_method_solve(func, a, b, tau0, eps, show_history=False):\n",
    "    \n",
    "    x_curr = (a + b) / 2\n",
    "    x_next = x_curr + tau0 * func(x_curr)\n",
    "    if show_history:\n",
    "        print(\"%2d. x\\u2096 = %.5f, |x\\u2096-x\\u2096\\u208b\\u2081| = %.6f.\" % (1, x_next, abs(x_next-x_curr)))\n",
    "        k = 2\n",
    "    while np.abs(x_curr - x_next) >= eps:\n",
    "        x_curr = x_next\n",
    "        x_next = x_curr + tau0 * func(x_curr)\n",
    "        if show_history:\n",
    "            print(\"%2d. x\\u2096 = %.5f, |x\\u2096-x\\u2096\\u208b\\u2081| = %.6f.\" % (k, x_next, abs(x_next-x_curr)))\n",
    "            k = k + 1\n",
    "    \n",
    "    return x_next"
   ]
  },
  {
   "cell_type": "markdown",
   "metadata": {},
   "source": [
    "### Метод Ньютона "
   ]
  },
  {
   "cell_type": "code",
   "execution_count": 5,
   "metadata": {
    "collapsed": true
   },
   "outputs": [],
   "source": [
    "def newton_method_solve(func, a, b, fixed, eps, show_history=False):\n",
    "    \"\"\"func - sympy function\"\"\"\n",
    "    if fixed == 'left':\n",
    "        x_curr = b\n",
    "    elif fixed == 'right': \n",
    "        x_curr = a\n",
    "    else:\n",
    "        raise ValueError(\"Inappropriate value for argument 'fixed'!\")\n",
    "        \n",
    "    x_next = float(x_curr - func.subs(x, x_curr) / func.diff(x).subs(x, x_curr))\n",
    "    if show_history:\n",
    "        k = 1\n",
    "        print(\"%2d. x\\u2096 = %.6f, |x\\u2096-x\\u2096\\u208b\\u2081| = %.6f.\" % (k, x_next, abs(x_next-x_curr)))\n",
    "    while np.abs(x_next - x_curr) >= eps:\n",
    "        x_curr = x_next\n",
    "        x_next = float(x_curr - func.subs(x, x_curr) / func.diff(x).subs(x, x_curr))\n",
    "        if show_history:\n",
    "            k = k + 1\n",
    "            print(\"%2d. x\\u2096 = %.6f, |x\\u2096-x\\u2096\\u208b\\u2081| = %.6f.\" % (k, x_next, abs(x_next-x_curr)))\n",
    "    return x_next"
   ]
  },
  {
   "cell_type": "markdown",
   "metadata": {},
   "source": [
    "### Комбинированный метод (хорд и Ньютона) "
   ]
  },
  {
   "cell_type": "code",
   "execution_count": 6,
   "metadata": {
    "collapsed": true
   },
   "outputs": [],
   "source": [
    "def combined_chord_newton_solve(func, a, b, newt, eps, show_history=False):\n",
    "    if newt == 'left':\n",
    "        x_newt = a - func.subs(x, a) / func.diff(x).subs(x, a)\n",
    "    elif newt == 'right':\n",
    "        x_newt = b - func.subs(x, b) / func.diff(x).subs(x, b)\n",
    "    else:\n",
    "        raise ValueError(\"Inappropriate value for argument 'chord'!\")    \n",
    "    x_chord = (a * func.subs(x, b) - b * func.subs(x, a)) / (func.subs(x, b) - func.subs(x, a))\n",
    "    if show_history:\n",
    "        k = 0\n",
    "        print(\"%2d. x_newt = %.6f, x_chord = %.6f, |x_newt - x_chord| =  %.7f.\" % (k, x_newt, x_chord, abs(x_newt-x_chord)))\n",
    "    while True:\n",
    "        x_chord = float( x_chord - func.subs(x, x_chord) * ( x_newt - x_chord ) /\n",
    "                        ( func.subs(x, x_newt) - func.subs(x, x_chord) ) )\n",
    "        x_newt = float( x_newt - func.subs(x, x_newt) / func.diff(x).subs(x, x_newt) )\n",
    "        if show_history:\n",
    "            k = k + 1\n",
    "            print(\"%2d. x_newt = %.6f, x_chord = %.6f, |x_newt - x_chord| =  %.7f.\" % (k, x_newt, x_chord, abs(x_newt-x_chord)))\n",
    "        if np.abs(x_chord - x_newt) <= eps:\n",
    "            return (x_chord + x_newt) / 2        "
   ]
  },
  {
   "cell_type": "markdown",
   "metadata": {},
   "source": [
    "### Метод секущих "
   ]
  },
  {
   "cell_type": "code",
   "execution_count": 7,
   "metadata": {
    "collapsed": true
   },
   "outputs": [],
   "source": [
    "def secant_method_solve(func, a, b, fixed, delta, eps, show_history=False):\n",
    "    if fixed == 'left':\n",
    "        x_curr = b\n",
    "    elif fixed == 'right': \n",
    "        x_curr = a\n",
    "    else:\n",
    "        raise ValueError(\"Inappropriate value for argument 'fixed'!\")\n",
    "        \n",
    "    x_next = x_curr - delta / (func(x_curr) - func(x_curr - delta)) * func(x_curr)\n",
    "    if show_history:\n",
    "        k = 1\n",
    "        print(\"%2d. x\\u2096 = %.5f, |x\\u2096-x\\u2096\\u208b\\u2081| = %.6f.\" % (k, x_next, abs(x_next-x_curr)))\n",
    "        \n",
    "    while np.abs(x_next - x_curr) >= eps:\n",
    "        x_prev = x_curr\n",
    "        x_curr = x_next\n",
    "        x_next = x_curr - (x_curr - x_prev) / (func(x_curr) - func(x_prev)) * func(x_curr)\n",
    "        if show_history:\n",
    "            k = k + 1\n",
    "            print(\"%2d. x\\u2096 = %.5f, |x\\u2096-x\\u2096\\u208b\\u2081| = %.6f.\" % (k, x_next, abs(x_next-x_curr)))\n",
    "    \n",
    "    return x_next    "
   ]
  },
  {
   "cell_type": "markdown",
   "metadata": {
    "collapsed": true
   },
   "source": [
    "### Примеры "
   ]
  },
  {
   "cell_type": "markdown",
   "metadata": {},
   "source": [
    "#### Полином 3й степени"
   ]
  },
  {
   "cell_type": "code",
   "execution_count": 6,
   "metadata": {},
   "outputs": [
    {
     "data": {
      "image/png": "[encoded data removed]",
      "text/latex": [
       "$$x^{3} - 3 x^{2} + 12 x - 9$$"
      ],
      "text/plain": [
       " 3      2           \n",
       "x  - 3⋅x  + 12⋅x - 9"
      ]
     },
     "execution_count": 6,
     "metadata": {},
     "output_type": "execute_result"
    }
   ],
   "source": [
    "a0, a1, a2, a3 = 1, -3, 12, -9\n",
    "P3 = a0* x**3 + a1 * x**2 + a2 * x + a3\n",
    "P3"
   ]
  },
  {
   "cell_type": "code",
   "execution_count": 9,
   "metadata": {},
   "outputs": [
    {
     "data": {
      "application/javascript": [
       "/* Put everything inside the global mpl namespace */\n",
       "window.mpl = {};\n",
       "\n",
       "\n",
       "mpl.get_websocket_type = function() {\n",
       "    if (typeof(WebSocket) !== 'undefined') {\n",
       "        return WebSocket;\n",
       "    } else if (typeof(MozWebSocket) !== 'undefined') {\n",
       "        return MozWebSocket;\n",
       "    } else {\n",
       "        alert('Your browser does not have WebSocket support.' +\n",
       "              'Please try Chrome, Safari or Firefox ≥ 6. ' +\n",
       "              'Firefox 4 and 5 are also supported but you ' +\n",
       "              'have to enable WebSockets in about:config.');\n",
       "    };\n",
       "}\n",
       "\n",
       "mpl.figure = function(figure_id, websocket, ondownload, parent_element) {\n",
       "    this.id = figure_id;\n",
       "\n",
       "    this.ws = websocket;\n",
       "\n",
       "    this.supports_binary = (this.ws.binaryType != undefined);\n",
       "\n",
       "    if (!this.supports_binary) {\n",
       "        var warnings = document.getElementById(\"mpl-warnings\");\n",
       "        if (warnings) {\n",
       "            warnings.style.display = 'block';\n",
       "            warnings.textContent = (\n",
       "                \"This browser does not support binary websocket messages. \" +\n",
       "                    \"Performance may be slow.\");\n",
       "        }\n",
       "    }\n",
       "\n",
       "    this.imageObj = new Image();\n",
       "\n",
       "    this.context = undefined;\n",
       "    this.message = undefined;\n",
       "    this.canvas = undefined;\n",
       "    this.rubberband_canvas = undefined;\n",
       "    this.rubberband_context = undefined;\n",
       "    this.format_dropdown = undefined;\n",
       "\n",
       "    this.image_mode = 'full';\n",
       "\n",
       "    this.root = $('<div/>');\n",
       "    this._root_extra_style(this.root)\n",
       "    this.root.attr('style', 'display: inline-block');\n",
       "\n",
       "    $(parent_element).append(this.root);\n",
       "\n",
       "    this._init_header(this);\n",
       "    this._init_canvas(this);\n",
       "    this._init_toolbar(this);\n",
       "\n",
       "    var fig = this;\n",
       "\n",
       "    this.waiting = false;\n",
       "\n",
       "    this.ws.onopen =  function () {\n",
       "            fig.send_message(\"supports_binary\", {value: fig.supports_binary});\n",
       "            fig.send_message(\"send_image_mode\", {});\n",
       "            if (mpl.ratio != 1) {\n",
       "                fig.send_message(\"set_dpi_ratio\", {'dpi_ratio': mpl.ratio});\n",
       "            }\n",
       "            fig.send_message(\"refresh\", {});\n",
       "        }\n",
       "\n",
       "    this.imageObj.onload = function() {\n",
       "            if (fig.image_mode == 'full') {\n",
       "                // Full images could contain transparency (where diff images\n",
       "                // almost always do), so we need to clear the canvas so that\n",
       "                // there is no ghosting.\n",
       "                fig.context.clearRect(0, 0, fig.canvas.width, fig.canvas.height);\n",
       "            }\n",
       "            fig.context.drawImage(fig.imageObj, 0, 0);\n",
       "        };\n",
       "\n",
       "    this.imageObj.onunload = function() {\n",
       "        this.ws.close();\n",
       "    }\n",
       "\n",
       "    this.ws.onmessage = this._make_on_message_function(this);\n",
       "\n",
       "    this.ondownload = ondownload;\n",
       "}\n",
       "\n",
       "mpl.figure.prototype._init_header = function() {\n",
       "    var titlebar = $(\n",
       "        '<div class=\"ui-dialog-titlebar ui-widget-header ui-corner-all ' +\n",
       "        'ui-helper-clearfix\"/>');\n",
       "    var titletext = $(\n",
       "        '<div class=\"ui-dialog-title\" style=\"width: 100%; ' +\n",
       "        'text-align: center; padding: 3px;\"/>');\n",
       "    titlebar.append(titletext)\n",
       "    this.root.append(titlebar);\n",
       "    this.header = titletext[0];\n",
       "}\n",
       "\n",
       "\n",
       "\n",
       "mpl.figure.prototype._canvas_extra_style = function(canvas_div) {\n",
       "\n",
       "}\n",
       "\n",
       "\n",
       "mpl.figure.prototype._root_extra_style = function(canvas_div) {\n",
       "\n",
       "}\n",
       "\n",
       "mpl.figure.prototype._init_canvas = function() {\n",
       "    var fig = this;\n",
       "\n",
       "    var canvas_div = $('<div/>');\n",
       "\n",
       "    canvas_div.attr('style', 'position: relative; clear: both; outline: 0');\n",
       "\n",
       "    function canvas_keyboard_event(event) {\n",
       "        return fig.key_event(event, event['data']);\n",
       "    }\n",
       "\n",
       "    canvas_div.keydown('key_press', canvas_keyboard_event);\n",
       "    canvas_div.keyup('key_release', canvas_keyboard_event);\n",
       "    this.canvas_div = canvas_div\n",
       "    this._canvas_extra_style(canvas_div)\n",
       "    this.root.append(canvas_div);\n",
       "\n",
       "    var canvas = $('<canvas/>');\n",
       "    canvas.addClass('mpl-canvas');\n",
       "    canvas.attr('style', \"left: 0; top: 0; z-index: 0; outline: 0\")\n",
       "\n",
       "    this.canvas = canvas[0];\n",
       "    this.context = canvas[0].getContext(\"2d\");\n",
       "\n",
       "    var backingStore = this.context.backingStorePixelRatio ||\n",
       "\tthis.context.webkitBackingStorePixelRatio ||\n",
       "\tthis.context.mozBackingStorePixelRatio ||\n",
       "\tthis.context.msBackingStorePixelRatio ||\n",
       "\tthis.context.oBackingStorePixelRatio ||\n",
       "\tthis.context.backingStorePixelRatio || 1;\n",
       "\n",
       "    mpl.ratio = (window.devicePixelRatio || 1) / backingStore;\n",
       "\n",
       "    var rubberband = $('<canvas/>');\n",
       "    rubberband.attr('style', \"position: absolute; left: 0; top: 0; z-index: 1;\")\n",
       "\n",
       "    var pass_mouse_events = true;\n",
       "\n",
       "    canvas_div.resizable({\n",
       "        start: function(event, ui) {\n",
       "            pass_mouse_events = false;\n",
       "        },\n",
       "        resize: function(event, ui) {\n",
       "            fig.request_resize(ui.size.width, ui.size.height);\n",
       "        },\n",
       "        stop: function(event, ui) {\n",
       "            pass_mouse_events = true;\n",
       "            fig.request_resize(ui.size.width, ui.size.height);\n",
       "        },\n",
       "    });\n",
       "\n",
       "    function mouse_event_fn(event) {\n",
       "        if (pass_mouse_events)\n",
       "            return fig.mouse_event(event, event['data']);\n",
       "    }\n",
       "\n",
       "    rubberband.mousedown('button_press', mouse_event_fn);\n",
       "    rubberband.mouseup('button_release', mouse_event_fn);\n",
       "    // Throttle sequential mouse events to 1 every 20ms.\n",
       "    rubberband.mousemove('motion_notify', mouse_event_fn);\n",
       "\n",
       "    rubberband.mouseenter('figure_enter', mouse_event_fn);\n",
       "    rubberband.mouseleave('figure_leave', mouse_event_fn);\n",
       "\n",
       "    canvas_div.on(\"wheel\", function (event) {\n",
       "        event = event.originalEvent;\n",
       "        event['data'] = 'scroll'\n",
       "        if (event.deltaY < 0) {\n",
       "            event.step = 1;\n",
       "        } else {\n",
       "            event.step = -1;\n",
       "        }\n",
       "        mouse_event_fn(event);\n",
       "    });\n",
       "\n",
       "    canvas_div.append(canvas);\n",
       "    canvas_div.append(rubberband);\n",
       "\n",
       "    this.rubberband = rubberband;\n",
       "    this.rubberband_canvas = rubberband[0];\n",
       "    this.rubberband_context = rubberband[0].getContext(\"2d\");\n",
       "    this.rubberband_context.strokeStyle = \"#000000\";\n",
       "\n",
       "    this._resize_canvas = function(width, height) {\n",
       "        // Keep the size of the canvas, canvas container, and rubber band\n",
       "        // canvas in synch.\n",
       "        canvas_div.css('width', width)\n",
       "        canvas_div.css('height', height)\n",
       "\n",
       "        canvas.attr('width', width * mpl.ratio);\n",
       "        canvas.attr('height', height * mpl.ratio);\n",
       "        canvas.attr('style', 'width: ' + width + 'px; height: ' + height + 'px;');\n",
       "\n",
       "        rubberband.attr('width', width);\n",
       "        rubberband.attr('height', height);\n",
       "    }\n",
       "\n",
       "    // Set the figure to an initial 600x600px, this will subsequently be updated\n",
       "    // upon first draw.\n",
       "    this._resize_canvas(600, 600);\n",
       "\n",
       "    // Disable right mouse context menu.\n",
       "    $(this.rubberband_canvas).bind(\"contextmenu\",function(e){\n",
       "        return false;\n",
       "    });\n",
       "\n",
       "    function set_focus () {\n",
       "        canvas.focus();\n",
       "        canvas_div.focus();\n",
       "    }\n",
       "\n",
       "    window.setTimeout(set_focus, 100);\n",
       "}\n",
       "\n",
       "mpl.figure.prototype._init_toolbar = function() {\n",
       "    var fig = this;\n",
       "\n",
       "    var nav_element = $('<div/>')\n",
       "    nav_element.attr('style', 'width: 100%');\n",
       "    this.root.append(nav_element);\n",
       "\n",
       "    // Define a callback function for later on.\n",
       "    function toolbar_event(event) {\n",
       "        return fig.toolbar_button_onclick(event['data']);\n",
       "    }\n",
       "    function toolbar_mouse_event(event) {\n",
       "        return fig.toolbar_button_onmouseover(event['data']);\n",
       "    }\n",
       "\n",
       "    for(var toolbar_ind in mpl.toolbar_items) {\n",
       "        var name = mpl.toolbar_items[toolbar_ind][0];\n",
       "        var tooltip = mpl.toolbar_items[toolbar_ind][1];\n",
       "        var image = mpl.toolbar_items[toolbar_ind][2];\n",
       "        var method_name = mpl.toolbar_items[toolbar_ind][3];\n",
       "\n",
       "        if (!name) {\n",
       "            // put a spacer in here.\n",
       "            continue;\n",
       "        }\n",
       "        var button = $('<button/>');\n",
       "        button.addClass('ui-button ui-widget ui-state-default ui-corner-all ' +\n",
       "                        'ui-button-icon-only');\n",
       "        button.attr('role', 'button');\n",
       "        button.attr('aria-disabled', 'false');\n",
       "        button.click(method_name, toolbar_event);\n",
       "        button.mouseover(tooltip, toolbar_mouse_event);\n",
       "\n",
       "        var icon_img = $('<span/>');\n",
       "        icon_img.addClass('ui-button-icon-primary ui-icon');\n",
       "        icon_img.addClass(image);\n",
       "        icon_img.addClass('ui-corner-all');\n",
       "\n",
       "        var tooltip_span = $('<span/>');\n",
       "        tooltip_span.addClass('ui-button-text');\n",
       "        tooltip_span.html(tooltip);\n",
       "\n",
       "        button.append(icon_img);\n",
       "        button.append(tooltip_span);\n",
       "\n",
       "        nav_element.append(button);\n",
       "    }\n",
       "\n",
       "    var fmt_picker_span = $('<span/>');\n",
       "\n",
       "    var fmt_picker = $('<select/>');\n",
       "    fmt_picker.addClass('mpl-toolbar-option ui-widget ui-widget-content');\n",
       "    fmt_picker_span.append(fmt_picker);\n",
       "    nav_element.append(fmt_picker_span);\n",
       "    this.format_dropdown = fmt_picker[0];\n",
       "\n",
       "    for (var ind in mpl.extensions) {\n",
       "        var fmt = mpl.extensions[ind];\n",
       "        var option = $(\n",
       "            '<option/>', {selected: fmt === mpl.default_extension}).html(fmt);\n",
       "        fmt_picker.append(option)\n",
       "    }\n",
       "\n",
       "    // Add hover states to the ui-buttons\n",
       "    $( \".ui-button\" ).hover(\n",
       "        function() { $(this).addClass(\"ui-state-hover\");},\n",
       "        function() { $(this).removeClass(\"ui-state-hover\");}\n",
       "    );\n",
       "\n",
       "    var status_bar = $('<span class=\"mpl-message\"/>');\n",
       "    nav_element.append(status_bar);\n",
       "    this.message = status_bar[0];\n",
       "}\n",
       "\n",
       "mpl.figure.prototype.request_resize = function(x_pixels, y_pixels) {\n",
       "    // Request matplotlib to resize the figure. Matplotlib will then trigger a resize in the client,\n",
       "    // which will in turn request a refresh of the image.\n",
       "    this.send_message('resize', {'width': x_pixels, 'height': y_pixels});\n",
       "}\n",
       "\n",
       "mpl.figure.prototype.send_message = function(type, properties) {\n",
       "    properties['type'] = type;\n",
       "    properties['figure_id'] = this.id;\n",
       "    this.ws.send(JSON.stringify(properties));\n",
       "}\n",
       "\n",
       "mpl.figure.prototype.send_draw_message = function() {\n",
       "    if (!this.waiting) {\n",
       "        this.waiting = true;\n",
       "        this.ws.send(JSON.stringify({type: \"draw\", figure_id: this.id}));\n",
       "    }\n",
       "}\n",
       "\n",
       "\n",
       "mpl.figure.prototype.handle_save = function(fig, msg) {\n",
       "    var format_dropdown = fig.format_dropdown;\n",
       "    var format = format_dropdown.options[format_dropdown.selectedIndex].value;\n",
       "    fig.ondownload(fig, format);\n",
       "}\n",
       "\n",
       "\n",
       "mpl.figure.prototype.handle_resize = function(fig, msg) {\n",
       "    var size = msg['size'];\n",
       "    if (size[0] != fig.canvas.width || size[1] != fig.canvas.height) {\n",
       "        fig._resize_canvas(size[0], size[1]);\n",
       "        fig.send_message(\"refresh\", {});\n",
       "    };\n",
       "}\n",
       "\n",
       "mpl.figure.prototype.handle_rubberband = function(fig, msg) {\n",
       "    var x0 = msg['x0'] / mpl.ratio;\n",
       "    var y0 = (fig.canvas.height - msg['y0']) / mpl.ratio;\n",
       "    var x1 = msg['x1'] / mpl.ratio;\n",
       "    var y1 = (fig.canvas.height - msg['y1']) / mpl.ratio;\n",
       "    x0 = Math.floor(x0) + 0.5;\n",
       "    y0 = Math.floor(y0) + 0.5;\n",
       "    x1 = Math.floor(x1) + 0.5;\n",
       "    y1 = Math.floor(y1) + 0.5;\n",
       "    var min_x = Math.min(x0, x1);\n",
       "    var min_y = Math.min(y0, y1);\n",
       "    var width = Math.abs(x1 - x0);\n",
       "    var height = Math.abs(y1 - y0);\n",
       "\n",
       "    fig.rubberband_context.clearRect(\n",
       "        0, 0, fig.canvas.width, fig.canvas.height);\n",
       "\n",
       "    fig.rubberband_context.strokeRect(min_x, min_y, width, height);\n",
       "}\n",
       "\n",
       "mpl.figure.prototype.handle_figure_label = function(fig, msg) {\n",
       "    // Updates the figure title.\n",
       "    fig.header.textContent = msg['label'];\n",
       "}\n",
       "\n",
       "mpl.figure.prototype.handle_cursor = function(fig, msg) {\n",
       "    var cursor = msg['cursor'];\n",
       "    switch(cursor)\n",
       "    {\n",
       "    case 0:\n",
       "        cursor = 'pointer';\n",
       "        break;\n",
       "    case 1:\n",
       "        cursor = 'default';\n",
       "        break;\n",
       "    case 2:\n",
       "        cursor = 'crosshair';\n",
       "        break;\n",
       "    case 3:\n",
       "        cursor = 'move';\n",
       "        break;\n",
       "    }\n",
       "    fig.rubberband_canvas.style.cursor = cursor;\n",
       "}\n",
       "\n",
       "mpl.figure.prototype.handle_message = function(fig, msg) {\n",
       "    fig.message.textContent = msg['message'];\n",
       "}\n",
       "\n",
       "mpl.figure.prototype.handle_draw = function(fig, msg) {\n",
       "    // Request the server to send over a new figure.\n",
       "    fig.send_draw_message();\n",
       "}\n",
       "\n",
       "mpl.figure.prototype.handle_image_mode = function(fig, msg) {\n",
       "    fig.image_mode = msg['mode'];\n",
       "}\n",
       "\n",
       "mpl.figure.prototype.updated_canvas_event = function() {\n",
       "    // Called whenever the canvas gets updated.\n",
       "    this.send_message(\"ack\", {});\n",
       "}\n",
       "\n",
       "// A function to construct a web socket function for onmessage handling.\n",
       "// Called in the figure constructor.\n",
       "mpl.figure.prototype._make_on_message_function = function(fig) {\n",
       "    return function socket_on_message(evt) {\n",
       "        if (evt.data instanceof Blob) {\n",
       "            /* FIXME: We get \"Resource interpreted as Image but\n",
       "             * transferred with MIME type text/plain:\" errors on\n",
       "             * Chrome.  But how to set the MIME type?  It doesn't seem\n",
       "             * to be part of the websocket stream */\n",
       "            evt.data.type = \"image/png\";\n",
       "\n",
       "            /* Free the memory for the previous frames */\n",
       "            if (fig.imageObj.src) {\n",
       "                (window.URL || window.webkitURL).revokeObjectURL(\n",
       "                    fig.imageObj.src);\n",
       "            }\n",
       "\n",
       "            fig.imageObj.src = (window.URL || window.webkitURL).createObjectURL(\n",
       "                evt.data);\n",
       "            fig.updated_canvas_event();\n",
       "            fig.waiting = false;\n",
       "            return;\n",
       "        }\n",
       "        else if (typeof evt.data === 'string' && evt.data.slice(0, 21) == \"data:image/png;base64\") {\n",
       "            fig.imageObj.src = evt.data;\n",
       "            fig.updated_canvas_event();\n",
       "            fig.waiting = false;\n",
       "            return;\n",
       "        }\n",
       "\n",
       "        var msg = JSON.parse(evt.data);\n",
       "        var msg_type = msg['type'];\n",
       "\n",
       "        // Call the  \"handle_{type}\" callback, which takes\n",
       "        // the figure and JSON message as its only arguments.\n",
       "        try {\n",
       "            var callback = fig[\"handle_\" + msg_type];\n",
       "        } catch (e) {\n",
       "            console.log(\"No handler for the '\" + msg_type + \"' message type: \", msg);\n",
       "            return;\n",
       "        }\n",
       "\n",
       "        if (callback) {\n",
       "            try {\n",
       "                // console.log(\"Handling '\" + msg_type + \"' message: \", msg);\n",
       "                callback(fig, msg);\n",
       "            } catch (e) {\n",
       "                console.log(\"Exception inside the 'handler_\" + msg_type + \"' callback:\", e, e.stack, msg);\n",
       "            }\n",
       "        }\n",
       "    };\n",
       "}\n",
       "\n",
       "// from http://stackoverflow.com/questions/1114465/getting-mouse-location-in-canvas\n",
       "mpl.findpos = function(e) {\n",
       "    //this section is from http://www.quirksmode.org/js/events_properties.html\n",
       "    var targ;\n",
       "    if (!e)\n",
       "        e = window.event;\n",
       "    if (e.target)\n",
       "        targ = e.target;\n",
       "    else if (e.srcElement)\n",
       "        targ = e.srcElement;\n",
       "    if (targ.nodeType == 3) // defeat Safari bug\n",
       "        targ = targ.parentNode;\n",
       "\n",
       "    // jQuery normalizes the pageX and pageY\n",
       "    // pageX,Y are the mouse positions relative to the document\n",
       "    // offset() returns the position of the element relative to the document\n",
       "    var x = e.pageX - $(targ).offset().left;\n",
       "    var y = e.pageY - $(targ).offset().top;\n",
       "\n",
       "    return {\"x\": x, \"y\": y};\n",
       "};\n",
       "\n",
       "/*\n",
       " * return a copy of an object with only non-object keys\n",
       " * we need this to avoid circular references\n",
       " * http://stackoverflow.com/a/24161582/3208463\n",
       " */\n",
       "function simpleKeys (original) {\n",
       "  return Object.keys(original).reduce(function (obj, key) {\n",
       "    if (typeof original[key] !== 'object')\n",
       "        obj[key] = original[key]\n",
       "    return obj;\n",
       "  }, {});\n",
       "}\n",
       "\n",
       "mpl.figure.prototype.mouse_event = function(event, name) {\n",
       "    var canvas_pos = mpl.findpos(event)\n",
       "\n",
       "    if (name === 'button_press')\n",
       "    {\n",
       "        this.canvas.focus();\n",
       "        this.canvas_div.focus();\n",
       "    }\n",
       "\n",
       "    var x = canvas_pos.x * mpl.ratio;\n",
       "    var y = canvas_pos.y * mpl.ratio;\n",
       "\n",
       "    this.send_message(name, {x: x, y: y, button: event.button,\n",
       "                             step: event.step,\n",
       "                             guiEvent: simpleKeys(event)});\n",
       "\n",
       "    /* This prevents the web browser from automatically changing to\n",
       "     * the text insertion cursor when the button is pressed.  We want\n",
       "     * to control all of the cursor setting manually through the\n",
       "     * 'cursor' event from matplotlib */\n",
       "    event.preventDefault();\n",
       "    return false;\n",
       "}\n",
       "\n",
       "mpl.figure.prototype._key_event_extra = function(event, name) {\n",
       "    // Handle any extra behaviour associated with a key event\n",
       "}\n",
       "\n",
       "mpl.figure.prototype.key_event = function(event, name) {\n",
       "\n",
       "    // Prevent repeat events\n",
       "    if (name == 'key_press')\n",
       "    {\n",
       "        if (event.which === this._key)\n",
       "            return;\n",
       "        else\n",
       "            this._key = event.which;\n",
       "    }\n",
       "    if (name == 'key_release')\n",
       "        this._key = null;\n",
       "\n",
       "    var value = '';\n",
       "    if (event.ctrlKey && event.which != 17)\n",
       "        value += \"ctrl+\";\n",
       "    if (event.altKey && event.which != 18)\n",
       "        value += \"alt+\";\n",
       "    if (event.shiftKey && event.which != 16)\n",
       "        value += \"shift+\";\n",
       "\n",
       "    value += 'k';\n",
       "    value += event.which.toString();\n",
       "\n",
       "    this._key_event_extra(event, name);\n",
       "\n",
       "    this.send_message(name, {key: value,\n",
       "                             guiEvent: simpleKeys(event)});\n",
       "    return false;\n",
       "}\n",
       "\n",
       "mpl.figure.prototype.toolbar_button_onclick = function(name) {\n",
       "    if (name == 'download') {\n",
       "        this.handle_save(this, null);\n",
       "    } else {\n",
       "        this.send_message(\"toolbar_button\", {name: name});\n",
       "    }\n",
       "};\n",
       "\n",
       "mpl.figure.prototype.toolbar_button_onmouseover = function(tooltip) {\n",
       "    this.message.textContent = tooltip;\n",
       "};\n",
       "mpl.toolbar_items = [[\"Home\", \"Reset original view\", \"fa fa-home icon-home\", \"home\"], [\"Back\", \"Back to  previous view\", \"fa fa-arrow-left icon-arrow-left\", \"back\"], [\"Forward\", \"Forward to next view\", \"fa fa-arrow-right icon-arrow-right\", \"forward\"], [\"\", \"\", \"\", \"\"], [\"Pan\", \"Pan axes with left mouse, zoom with right\", \"fa fa-arrows icon-move\", \"pan\"], [\"Zoom\", \"Zoom to rectangle\", \"fa fa-square-o icon-check-empty\", \"zoom\"], [\"\", \"\", \"\", \"\"], [\"Download\", \"Download plot\", \"fa fa-floppy-o icon-save\", \"download\"]];\n",
       "\n",
       "mpl.extensions = [\"eps\", \"jpeg\", \"pdf\", \"png\", \"ps\", \"raw\", \"svg\", \"tif\"];\n",
       "\n",
       "mpl.default_extension = \"png\";var comm_websocket_adapter = function(comm) {\n",
       "    // Create a \"websocket\"-like object which calls the given IPython comm\n",
       "    // object with the appropriate methods. Currently this is a non binary\n",
       "    // socket, so there is still some room for performance tuning.\n",
       "    var ws = {};\n",
       "\n",
       "    ws.close = function() {\n",
       "        comm.close()\n",
       "    };\n",
       "    ws.send = function(m) {\n",
       "        //console.log('sending', m);\n",
       "        comm.send(m);\n",
       "    };\n",
       "    // Register the callback with on_msg.\n",
       "    comm.on_msg(function(msg) {\n",
       "        //console.log('receiving', msg['content']['data'], msg);\n",
       "        // Pass the mpl event to the overriden (by mpl) onmessage function.\n",
       "        ws.onmessage(msg['content']['data'])\n",
       "    });\n",
       "    return ws;\n",
       "}\n",
       "\n",
       "mpl.mpl_figure_comm = function(comm, msg) {\n",
       "    // This is the function which gets called when the mpl process\n",
       "    // starts-up an IPython Comm through the \"matplotlib\" channel.\n",
       "\n",
       "    var id = msg.content.data.id;\n",
       "    // Get hold of the div created by the display call when the Comm\n",
       "    // socket was opened in Python.\n",
       "    var element = $(\"#\" + id);\n",
       "    var ws_proxy = comm_websocket_adapter(comm)\n",
       "\n",
       "    function ondownload(figure, format) {\n",
       "        window.open(figure.imageObj.src);\n",
       "    }\n",
       "\n",
       "    var fig = new mpl.figure(id, ws_proxy,\n",
       "                           ondownload,\n",
       "                           element.get(0));\n",
       "\n",
       "    // Call onopen now - mpl needs it, as it is assuming we've passed it a real\n",
       "    // web socket which is closed, not our websocket->open comm proxy.\n",
       "    ws_proxy.onopen();\n",
       "\n",
       "    fig.parent_element = element.get(0);\n",
       "    fig.cell_info = mpl.find_output_cell(\"<div id='\" + id + \"'></div>\");\n",
       "    if (!fig.cell_info) {\n",
       "        console.error(\"Failed to find cell for figure\", id, fig);\n",
       "        return;\n",
       "    }\n",
       "\n",
       "    var output_index = fig.cell_info[2]\n",
       "    var cell = fig.cell_info[0];\n",
       "\n",
       "};\n",
       "\n",
       "mpl.figure.prototype.handle_close = function(fig, msg) {\n",
       "    var width = fig.canvas.width/mpl.ratio\n",
       "    fig.root.unbind('remove')\n",
       "\n",
       "    // Update the output cell to use the data from the current canvas.\n",
       "    fig.push_to_output();\n",
       "    var dataURL = fig.canvas.toDataURL();\n",
       "    // Re-enable the keyboard manager in IPython - without this line, in FF,\n",
       "    // the notebook keyboard shortcuts fail.\n",
       "    IPython.keyboard_manager.enable()\n",
       "    $(fig.parent_element).html('<img src=\"' + dataURL + '\" width=\"' + width + '\">');\n",
       "    fig.close_ws(fig, msg);\n",
       "}\n",
       "\n",
       "mpl.figure.prototype.close_ws = function(fig, msg){\n",
       "    fig.send_message('closing', msg);\n",
       "    // fig.ws.close()\n",
       "}\n",
       "\n",
       "mpl.figure.prototype.push_to_output = function(remove_interactive) {\n",
       "    // Turn the data on the canvas into data in the output cell.\n",
       "    var width = this.canvas.width/mpl.ratio\n",
       "    var dataURL = this.canvas.toDataURL();\n",
       "    this.cell_info[1]['text/html'] = '<img src=\"' + dataURL + '\" width=\"' + width + '\">';\n",
       "}\n",
       "\n",
       "mpl.figure.prototype.updated_canvas_event = function() {\n",
       "    // Tell IPython that the notebook contents must change.\n",
       "    IPython.notebook.set_dirty(true);\n",
       "    this.send_message(\"ack\", {});\n",
       "    var fig = this;\n",
       "    // Wait a second, then push the new image to the DOM so\n",
       "    // that it is saved nicely (might be nice to debounce this).\n",
       "    setTimeout(function () { fig.push_to_output() }, 1000);\n",
       "}\n",
       "\n",
       "mpl.figure.prototype._init_toolbar = function() {\n",
       "    var fig = this;\n",
       "\n",
       "    var nav_element = $('<div/>')\n",
       "    nav_element.attr('style', 'width: 100%');\n",
       "    this.root.append(nav_element);\n",
       "\n",
       "    // Define a callback function for later on.\n",
       "    function toolbar_event(event) {\n",
       "        return fig.toolbar_button_onclick(event['data']);\n",
       "    }\n",
       "    function toolbar_mouse_event(event) {\n",
       "        return fig.toolbar_button_onmouseover(event['data']);\n",
       "    }\n",
       "\n",
       "    for(var toolbar_ind in mpl.toolbar_items){\n",
       "        var name = mpl.toolbar_items[toolbar_ind][0];\n",
       "        var tooltip = mpl.toolbar_items[toolbar_ind][1];\n",
       "        var image = mpl.toolbar_items[toolbar_ind][2];\n",
       "        var method_name = mpl.toolbar_items[toolbar_ind][3];\n",
       "\n",
       "        if (!name) { continue; };\n",
       "\n",
       "        var button = $('<button class=\"btn btn-default\" href=\"#\" title=\"' + name + '\"><i class=\"fa ' + image + ' fa-lg\"></i></button>');\n",
       "        button.click(method_name, toolbar_event);\n",
       "        button.mouseover(tooltip, toolbar_mouse_event);\n",
       "        nav_element.append(button);\n",
       "    }\n",
       "\n",
       "    // Add the status bar.\n",
       "    var status_bar = $('<span class=\"mpl-message\" style=\"text-align:right; float: right;\"/>');\n",
       "    nav_element.append(status_bar);\n",
       "    this.message = status_bar[0];\n",
       "\n",
       "    // Add the close button to the window.\n",
       "    var buttongrp = $('<div class=\"btn-group inline pull-right\"></div>');\n",
       "    var button = $('<button class=\"btn btn-mini btn-primary\" href=\"#\" title=\"Stop Interaction\"><i class=\"fa fa-power-off icon-remove icon-large\"></i></button>');\n",
       "    button.click(function (evt) { fig.handle_close(fig, {}); } );\n",
       "    button.mouseover('Stop Interaction', toolbar_mouse_event);\n",
       "    buttongrp.append(button);\n",
       "    var titlebar = this.root.find($('.ui-dialog-titlebar'));\n",
       "    titlebar.prepend(buttongrp);\n",
       "}\n",
       "\n",
       "mpl.figure.prototype._root_extra_style = function(el){\n",
       "    var fig = this\n",
       "    el.on(\"remove\", function(){\n",
       "\tfig.close_ws(fig, {});\n",
       "    });\n",
       "}\n",
       "\n",
       "mpl.figure.prototype._canvas_extra_style = function(el){\n",
       "    // this is important to make the div 'focusable\n",
       "    el.attr('tabindex', 0)\n",
       "    // reach out to IPython and tell the keyboard manager to turn it's self\n",
       "    // off when our div gets focus\n",
       "\n",
       "    // location in version 3\n",
       "    if (IPython.notebook.keyboard_manager) {\n",
       "        IPython.notebook.keyboard_manager.register_events(el);\n",
       "    }\n",
       "    else {\n",
       "        // location in version 2\n",
       "        IPython.keyboard_manager.register_events(el);\n",
       "    }\n",
       "\n",
       "}\n",
       "\n",
       "mpl.figure.prototype._key_event_extra = function(event, name) {\n",
       "    var manager = IPython.notebook.keyboard_manager;\n",
       "    if (!manager)\n",
       "        manager = IPython.keyboard_manager;\n",
       "\n",
       "    // Check for shift+enter\n",
       "    if (event.shiftKey && event.which == 13) {\n",
       "        this.canvas_div.blur();\n",
       "        // select the cell after this one\n",
       "        var index = IPython.notebook.find_cell_index(this.cell_info[0]);\n",
       "        IPython.notebook.select(index + 1);\n",
       "    }\n",
       "}\n",
       "\n",
       "mpl.figure.prototype.handle_save = function(fig, msg) {\n",
       "    fig.ondownload(fig, null);\n",
       "}\n",
       "\n",
       "\n",
       "mpl.find_output_cell = function(html_output) {\n",
       "    // Return the cell and output element which can be found *uniquely* in the notebook.\n",
       "    // Note - this is a bit hacky, but it is done because the \"notebook_saving.Notebook\"\n",
       "    // IPython event is triggered only after the cells have been serialised, which for\n",
       "    // our purposes (turning an active figure into a static one), is too late.\n",
       "    var cells = IPython.notebook.get_cells();\n",
       "    var ncells = cells.length;\n",
       "    for (var i=0; i<ncells; i++) {\n",
       "        var cell = cells[i];\n",
       "        if (cell.cell_type === 'code'){\n",
       "            for (var j=0; j<cell.output_area.outputs.length; j++) {\n",
       "                var data = cell.output_area.outputs[j];\n",
       "                if (data.data) {\n",
       "                    // IPython >= 3 moved mimebundle to data attribute of output\n",
       "                    data = data.data;\n",
       "                }\n",
       "                if (data['text/html'] == html_output) {\n",
       "                    return [cell, data, j];\n",
       "                }\n",
       "            }\n",
       "        }\n",
       "    }\n",
       "}\n",
       "\n",
       "// Register the function which deals with the matplotlib target/channel.\n",
       "// The kernel may be null if the page has been refreshed.\n",
       "if (IPython.notebook.kernel != null) {\n",
       "    IPython.notebook.kernel.comm_manager.register_target('matplotlib', mpl.mpl_figure_comm);\n",
       "}\n"
      ],
      "text/plain": [
       "<IPython.core.display.Javascript object>"
      ]
     },
     "metadata": {},
     "output_type": "display_data"
    },
    {
     "data": {
      "text/html": [
       "<img src=\"data:image/png;base64,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\" width=\"640\">"
      ],
      "text/plain": [
       "<IPython.core.display.HTML object>"
      ]
     },
     "metadata": {},
     "output_type": "display_data"
    }
   ],
   "source": [
    "plot = sympy.plot(P3, (x, -2, 2));\n",
    "fig = plt.gcf()\n",
    "fig.patch.set_facecolor('white')\n",
    "fig.patch.set_alpha(1)\n",
    "fig.show('f1.png')"
   ]
  },
  {
   "cell_type": "code",
   "execution_count": 123,
   "metadata": {},
   "outputs": [
    {
     "data": {
      "image/png": "[encoded data removed]",
      "text/latex": [
       "$$\\left [ 1 + \\frac{9}{\\left(- \\frac{1}{2} - \\frac{\\sqrt{3} i}{2}\\right) \\sqrt[3]{\\frac{27}{2} + \\frac{27 \\sqrt{109}}{2}}} - \\frac{1}{3} \\left(- \\frac{1}{2} - \\frac{\\sqrt{3} i}{2}\\right) \\sqrt[3]{\\frac{27}{2} + \\frac{27 \\sqrt{109}}{2}}, \\quad 1 - \\frac{1}{3} \\left(- \\frac{1}{2} + \\frac{\\sqrt{3} i}{2}\\right) \\sqrt[3]{\\frac{27}{2} + \\frac{27 \\sqrt{109}}{2}} + \\frac{9}{\\left(- \\frac{1}{2} + \\frac{\\sqrt{3} i}{2}\\right) \\sqrt[3]{\\frac{27}{2} + \\frac{27 \\sqrt{109}}{2}}}, \\quad - \\frac{1}{3} \\sqrt[3]{\\frac{27}{2} + \\frac{27 \\sqrt{109}}{2}} + 1 + \\frac{9}{\\sqrt[3]{\\frac{27}{2} + \\frac{27 \\sqrt{109}}{2}}}\\right ]$$"
      ],
      "text/plain": [
       "⎡                                                       ______________        \n",
       "⎢                                      ⎛  1   √3⋅ⅈ⎞    ╱ 27   27⋅√109       ⎛ \n",
       "⎢                                      ⎜- ─ - ────⎟⋅3 ╱  ── + ───────       ⎜-\n",
       "⎢                   9                  ⎝  2    2  ⎠ ╲╱   2       2          ⎝ \n",
       "⎢1 + ─────────────────────────────── - ───────────────────────────────, 1 - ──\n",
       "⎢                     ______________                  3                       \n",
       "⎢    ⎛  1   √3⋅ⅈ⎞    ╱ 27   27⋅√109                                           \n",
       "⎢    ⎜- ─ - ────⎟⋅3 ╱  ── + ───────                                           \n",
       "⎣    ⎝  2    2  ⎠ ╲╱   2       2                                              \n",
       "\n",
       "               ______________                                          _______\n",
       " 1   √3⋅ⅈ⎞    ╱ 27   27⋅√109                                          ╱ 27   2\n",
       " ─ + ────⎟⋅3 ╱  ── + ───────                                       3 ╱  ── + ─\n",
       " 2    2  ⎠ ╲╱   2       2                      9                   ╲╱   2     \n",
       "───────────────────────────── + ───────────────────────────────, - ───────────\n",
       "             3                                   ______________            3  \n",
       "                                ⎛  1   √3⋅ⅈ⎞    ╱ 27   27⋅√109                \n",
       "                                ⎜- ─ + ────⎟⋅3 ╱  ── + ───────                \n",
       "                                ⎝  2    2  ⎠ ╲╱   2       2                   \n",
       "\n",
       "_______                         ⎤\n",
       "7⋅√109                          ⎥\n",
       "──────                          ⎥\n",
       "  2                   9         ⎥\n",
       "─────── + 1 + ──────────────────⎥\n",
       "                  ______________⎥\n",
       "                 ╱ 27   27⋅√109 ⎥\n",
       "              3 ╱  ── + ─────── ⎥\n",
       "              ╲╱   2       2    ⎦"
      ]
     },
     "execution_count": 123,
     "metadata": {},
     "output_type": "execute_result"
    }
   ],
   "source": [
    "sympy.solve(P3, x)"
   ]
  },
  {
   "cell_type": "code",
   "execution_count": 122,
   "metadata": {},
   "outputs": [
    {
     "data": {
      "image/png": "[encoded data removed]",
      "text/latex": [
       "$$0.889040680874$$"
      ],
      "text/plain": [
       "0.889040680874"
      ]
     },
     "execution_count": 122,
     "metadata": {},
     "output_type": "execute_result"
    }
   ],
   "source": [
    "u1 + v1 + 1"
   ]
  },
  {
   "cell_type": "markdown",
   "metadata": {},
   "source": [
    "#### Локализация корней "
   ]
  },
  {
   "cell_type": "code",
   "execution_count": 11,
   "metadata": {},
   "outputs": [
    {
     "name": "stdout",
     "output_type": "stream",
     "text": [
      "0.42857142857142855 <= |z| <= 13.0.\n"
     ]
    }
   ],
   "source": [
    "A = max([a1, a2, a3])\n",
    "B = max([a0, a1, a2])\n",
    "\n",
    "r, R = abs(a3) / (B + abs(a3)), 1 + A / abs(a0)\n",
    "print(\"{} <= |z| <= {}.\".format(r, R))"
   ]
  },
  {
   "cell_type": "code",
   "execution_count": 12,
   "metadata": {},
   "outputs": [
    {
     "data": {
      "image/png": "[encoded data removed]",
      "text/latex": [
       "$$\\left ( x^{3} - 3 x^{2} + 12 x - 9, \\quad - 9 x^{3} + 12 x^{2} - 3 x + 1, \\quad - x^{3} - 3 x^{2} - 12 x - 9, \\quad - 9 x^{3} - 12 x^{2} - 3 x - 1\\right )$$"
      ],
      "text/plain": [
       "⎛ 3      2                  3       2               3      2                  \n",
       "⎝x  - 3⋅x  + 12⋅x - 9, - 9⋅x  + 12⋅x  - 3⋅x + 1, - x  - 3⋅x  - 12⋅x - 9, - 9⋅x\n",
       "\n",
       "3       2          ⎞\n",
       "  - 12⋅x  - 3⋅x - 1⎠"
      ]
     },
     "execution_count": 12,
     "metadata": {},
     "output_type": "execute_result"
    }
   ],
   "source": [
    "# по следствию из теоремы Лагранжа о верхней грани положительных корней\n",
    "p = []\n",
    "\n",
    "g1 = (P3.subs(x, 1/x) * x**3).simplify()\n",
    "g2 = (P3.subs(x, -x)).simplify()\n",
    "g3 = (P3.subs(x, -1/x) * x**3).simplify()\n",
    "P3, g1, g2, g3"
   ]
  },
  {
   "cell_type": "code",
   "execution_count": 13,
   "metadata": {
    "collapsed": true
   },
   "outputs": [],
   "source": [
    "#p0 = 10\n",
    "#p1 = ?\n",
    "# p2 = 0, p3 = 0"
   ]
  },
  {
   "cell_type": "code",
   "execution_count": 14,
   "metadata": {
    "collapsed": true
   },
   "outputs": [],
   "source": [
    "# for poly in [P3, g1, g2, g3]:\n",
    "#     pass"
   ]
  },
  {
   "cell_type": "code",
   "execution_count": 15,
   "metadata": {
    "collapsed": true
   },
   "outputs": [],
   "source": [
    "a, b = 0.0, 1.0 \n",
    "eps = 1e-4\n",
    "\n",
    "func = lambda val: P3.subs(x, val)"
   ]
  },
  {
   "cell_type": "markdown",
   "metadata": {},
   "source": [
    "#### Метод бисекции "
   ]
  },
  {
   "cell_type": "code",
   "execution_count": 16,
   "metadata": {},
   "outputs": [
    {
     "name": "stdout",
     "output_type": "stream",
     "text": [
      "12.2877123795\n"
     ]
    },
    {
     "data": {
      "image/png": "[encoded data removed]",
      "text/latex": [
       "$$\\left ( -9, \\quad -3.625, \\quad 1.0\\right )$$"
      ],
      "text/plain": [
       "(-9, -3.625, 1.0)"
      ]
     },
     "metadata": {},
     "output_type": "display_data"
    },
    {
     "data": {
      "image/png": "[encoded data removed]",
      "text/latex": [
       "$$\\left ( -3.625, \\quad -1.265625, \\quad 1.0\\right )$$"
      ],
      "text/plain": [
       "(-3.625, -1.265625, 1.0)"
      ]
     },
     "metadata": {},
     "output_type": "display_data"
    }
   ],
   "source": [
    "x0 = (a + b) / 2\n",
    "# оценка количества итераций\n",
    "print(np.log2(1 / (2*eps)))\n",
    "# 1я итерация\n",
    "display((func(a), func(x0), func(b)))\n",
    "# 2я итерация\n",
    "display((func(x0), func((x0 + b)/2), func(b)))"
   ]
  },
  {
   "cell_type": "code",
   "execution_count": 17,
   "metadata": {},
   "outputs": [
    {
     "name": "stdout",
     "output_type": "stream",
     "text": [
      " 0. a = 0.00000, b = 1.00000, b-a = 1.00000.\n",
      " 1. a = 0.50000, b = 1.00000, b-a = 0.50000.\n",
      " 2. a = 0.75000, b = 1.00000, b-a = 0.25000.\n",
      " 3. a = 0.87500, b = 1.00000, b-a = 0.12500.\n",
      " 4. a = 0.87500, b = 0.93750, b-a = 0.06250.\n",
      " 5. a = 0.87500, b = 0.90625, b-a = 0.03125.\n",
      " 6. a = 0.87500, b = 0.89062, b-a = 0.01562.\n",
      " 7. a = 0.88281, b = 0.89062, b-a = 0.00781.\n",
      " 8. a = 0.88672, b = 0.89062, b-a = 0.00391.\n",
      " 9. a = 0.88867, b = 0.89062, b-a = 0.00195.\n",
      "10. a = 0.88867, b = 0.88965, b-a = 0.00098.\n",
      "11. a = 0.88867, b = 0.88916, b-a = 0.00049.\n",
      "12. a = 0.88892, b = 0.88916, b-a = 0.00024.\n",
      "13. a = 0.88904, b = 0.88916, b-a = 0.00012.\n"
     ]
    },
    {
     "data": {
      "image/png": "[encoded data removed]",
      "text/latex": [
       "$$\\left ( 0.88909912109375, \\quad 0.000528119385990067\\right )$$"
      ],
      "text/plain": [
       "(0.88909912109375, 0.000528119385990067)"
      ]
     },
     "execution_count": 17,
     "metadata": {},
     "output_type": "execute_result"
    }
   ],
   "source": [
    "x_bis = bisection_solve(func, a, b, eps, show_history=True)\n",
    "x_bis, func(x_bis)"
   ]
  },
  {
   "cell_type": "markdown",
   "metadata": {},
   "source": [
    "#### Метод хорд"
   ]
  },
  {
   "cell_type": "code",
   "execution_count": 18,
   "metadata": {},
   "outputs": [
    {
     "data": {
      "image/png": "[encoded data removed]",
      "text/latex": [
       "$$\\left ( 6 \\left(x - 1\\right), \\quad -6.0\\right )$$"
      ],
      "text/plain": [
       "(6⋅(x - 1), -6.0)"
      ]
     },
     "execution_count": 18,
     "metadata": {},
     "output_type": "execute_result"
    }
   ],
   "source": [
    "sec_deriv = P3.diff(x, 2)\n",
    "sec_deriv, sec_deriv.subs(x, a)"
   ]
  },
  {
   "cell_type": "code",
   "execution_count": 19,
   "metadata": {},
   "outputs": [
    {
     "name": "stdout",
     "output_type": "stream",
     "text": [
      " 1. xₖ = 0.90000, |xₖ-xₖ₋₁| = 0.100000.\n",
      " 2. xₖ = 0.89021, |xₖ-xₖ₋₁| = 0.009792.\n",
      " 3. xₖ = 0.88917, |xₖ-xₖ₋₁| = 0.001042.\n",
      " 4. xₖ = 0.88905, |xₖ-xₖ₋₁| = 0.000112.\n",
      " 5. xₖ = 0.88904, |xₖ-xₖ₋₁| = 0.000012.\n"
     ]
    },
    {
     "data": {
      "image/png": "[encoded data removed]",
      "text/latex": [
       "$$\\left ( 0.889042121717557, \\quad 1.30208123110265 \\cdot 10^{-5}\\right )$$"
      ],
      "text/plain": [
       "(0.889042121717557, 1.30208123110265e-5)"
      ]
     },
     "execution_count": 19,
     "metadata": {},
     "output_type": "execute_result"
    }
   ],
   "source": [
    "x_chords = chords_method_solve(func, a, b, 'left', eps, show_history=True)\n",
    "x_chords, func(x_chords)"
   ]
  },
  {
   "cell_type": "markdown",
   "metadata": {},
   "source": [
    "#### Метод релаксации"
   ]
  },
  {
   "cell_type": "code",
   "execution_count": 20,
   "metadata": {},
   "outputs": [
    {
     "data": {
      "image/png": "[encoded data removed]",
      "text/latex": [
       "$$3 x^{2} - 6 x + 12$$"
      ],
      "text/plain": [
       "   2           \n",
       "3⋅x  - 6⋅x + 12"
      ]
     },
     "execution_count": 20,
     "metadata": {},
     "output_type": "execute_result"
    }
   ],
   "source": [
    "first_div = P3.diff(x)\n",
    "first_div # f'(x) < 0 на [0; 1], поэтому рассматриваем функцию -f(x)"
   ]
  },
  {
   "cell_type": "code",
   "execution_count": 21,
   "metadata": {
    "scrolled": true
   },
   "outputs": [
    {
     "name": "stdout",
     "output_type": "stream",
     "text": [
      " 1. xₖ = 0.84524, |xₖ-xₖ₋₁| = 0.345238.\n",
      " 2. xₖ = 0.88301, |xₖ-xₖ₋₁| = 0.037768.\n",
      " 3. xₖ = 0.88820, |xₖ-xₖ₋₁| = 0.005195.\n",
      " 4. xₖ = 0.88892, |xₖ-xₖ₋₁| = 0.000723.\n",
      " 5. xₖ = 0.88902, |xₖ-xₖ₋₁| = 0.000101.\n",
      " 6. xₖ = 0.88904, |xₖ-xₖ₋₁| = 0.000014.\n"
     ]
    },
    {
     "data": {
      "image/png": "[encoded data removed]",
      "text/latex": [
       "$$\\left ( 0.88903840975117, \\quad -2.05239910595623 \\cdot 10^{-5}\\right )$$"
      ],
      "text/plain": [
       "(0.88903840975117, -2.05239910595623e-5)"
      ]
     },
     "execution_count": 21,
     "metadata": {},
     "output_type": "execute_result"
    }
   ],
   "source": [
    "M1, m1 = 12, 9 # => tau0 = 2/21\n",
    "func_ = lambda val: -func(val)\n",
    "x_relax = relaxation_method_solve(func_, a, b, 2/(m1+M1) , eps, show_history=True)\n",
    "x_relax, func(x_relax)"
   ]
  },
  {
   "cell_type": "markdown",
   "metadata": {},
   "source": [
    "#### Метод Ньютона"
   ]
  },
  {
   "cell_type": "code",
   "execution_count": 22,
   "metadata": {},
   "outputs": [
    {
     "data": {
      "image/png": "[encoded data removed]",
      "text/latex": [
       "$$\\mathrm{True}$$"
      ],
      "text/plain": [
       "True"
      ]
     },
     "execution_count": 22,
     "metadata": {},
     "output_type": "execute_result"
    }
   ],
   "source": [
    "P3.subs(x, a) * sec_deriv.subs(x, a) > 0 # => fixed = 'right'"
   ]
  },
  {
   "cell_type": "code",
   "execution_count": 23,
   "metadata": {},
   "outputs": [
    {
     "name": "stdout",
     "output_type": "stream",
     "text": [
      " 1. xₖ = 0.750000, |xₖ-xₖ₋₁| = 0.750000.\n",
      " 2. xₖ = 0.887755, |xₖ-xₖ₋₁| = 0.137755.\n",
      " 3. xₖ = 0.889041, |xₖ-xₖ₋₁| = 0.001286.\n",
      " 4. xₖ = 0.889041, |xₖ-xₖ₋₁| = 0.000000.\n"
     ]
    },
    {
     "data": {
      "image/png": "[encoded data removed]",
      "text/latex": [
       "$$\\left ( 0.8890406808737653, \\quad -1.77635683940025 \\cdot 10^{-15}\\right )$$"
      ],
      "text/plain": [
       "(0.8890406808737653, -1.77635683940025e-15)"
      ]
     },
     "execution_count": 23,
     "metadata": {},
     "output_type": "execute_result"
    }
   ],
   "source": [
    "x_newt = newton_method_solve(P3, a, b, 'right', eps, show_history=True)\n",
    "x_newt, func(x_newt)"
   ]
  },
  {
   "cell_type": "markdown",
   "metadata": {},
   "source": [
    "#### Комбинированный метод (хорд и Ньютона)  "
   ]
  },
  {
   "cell_type": "code",
   "execution_count": 24,
   "metadata": {},
   "outputs": [
    {
     "data": {
      "image/png": "[encoded data removed]",
      "text/latex": [
       "$$\\mathrm{True}$$"
      ],
      "text/plain": [
       "True"
      ]
     },
     "execution_count": 24,
     "metadata": {},
     "output_type": "execute_result"
    }
   ],
   "source": [
    "P3.subs(x, a) * sec_deriv.subs(x, a) > 0 # => newt = 'left'"
   ]
  },
  {
   "cell_type": "code",
   "execution_count": 25,
   "metadata": {},
   "outputs": [
    {
     "data": {
      "image/png": "[encoded data removed]",
      "text/latex": [
       "$$\\left ( 0.887755102040816, \\quad 0.889117889530091\\right )$$"
      ],
      "text/plain": [
       "(0.887755102040816, 0.889117889530091)"
      ]
     },
     "execution_count": 25,
     "metadata": {},
     "output_type": "execute_result"
    }
   ],
   "source": [
    "x01 = 0.75\n",
    "x02 = 0.9\n",
    "x01 - P3.subs(x, x01) / P3.diff(x).subs(x, x01), x02 - P3.subs(x, x02) / (P3.subs(x, x01) - P3.subs(x, x02)) * (x01 - x02)"
   ]
  },
  {
   "cell_type": "code",
   "execution_count": 26,
   "metadata": {},
   "outputs": [
    {
     "name": "stdout",
     "output_type": "stream",
     "text": [
      " 0. x_newt = 0.750000, x_chord = 0.900000, |x_newt - x_chord| =  0.1500000.\n",
      " 1. x_newt = 0.887755, x_chord = 0.889118, |x_newt - x_chord| =  0.0013628.\n",
      " 2. x_newt = 0.889041, x_chord = 0.889041, |x_newt - x_chord| =  0.0000001.\n"
     ]
    },
    {
     "data": {
      "image/png": "[encoded data removed]",
      "text/latex": [
       "$$\\left ( 0.8890406520371612, \\quad -2.60594545054005 \\cdot 10^{-7}\\right )$$"
      ],
      "text/plain": [
       "(0.8890406520371612, -2.60594545054005e-7)"
      ]
     },
     "execution_count": 26,
     "metadata": {},
     "output_type": "execute_result"
    }
   ],
   "source": [
    "x_comb = combined_chord_newton_solve(P3, 0, 1, 'left', 1e-4, show_history=True)\n",
    "x_comb, func(x_comb)"
   ]
  },
  {
   "cell_type": "markdown",
   "metadata": {},
   "source": [
    "#### Метод секущих"
   ]
  },
  {
   "cell_type": "code",
   "execution_count": 27,
   "metadata": {},
   "outputs": [
    {
     "name": "stdout",
     "output_type": "stream",
     "text": [
      " 1. xₖ = 0.73111, |xₖ-xₖ₋₁| = 0.731113.\n",
      " 2. xₖ = 0.87031, |xₖ-xₖ₋₁| = 0.139193.\n",
      " 3. xₖ = 0.88888, |xₖ-xₖ₋₁| = 0.018569.\n",
      " 4. xₖ = 0.88904, |xₖ-xₖ₋₁| = 0.000165.\n",
      " 5. xₖ = 0.88904, |xₖ-xₖ₋₁| = 0.000000.\n"
     ]
    },
    {
     "data": {
      "image/png": "[encoded data removed]",
      "text/latex": [
       "$$\\left ( 0.889040680873032, \\quad -6.62581101096293 \\cdot 10^{-12}\\right )$$"
      ],
      "text/plain": [
       "(0.889040680873032, -6.62581101096293e-12)"
      ]
     },
     "execution_count": 27,
     "metadata": {},
     "output_type": "execute_result"
    }
   ],
   "source": [
    "x_sec = secant_method_solve(func, 0, 1, 'right', 0.1, 1e-4, show_history=True)\n",
    "x_sec, func(x_sec)"
   ]
  },
  {
   "cell_type": "markdown",
   "metadata": {},
   "source": [
    "#### Неявно заданная функция\n",
    "\n",
    "$$ctg{x} = - \\frac{1}{2x}$$"
   ]
  },
  {
   "cell_type": "code",
   "execution_count": 29,
   "metadata": {},
   "outputs": [
    {
     "data": {
      "application/javascript": [
       "/* Put everything inside the global mpl namespace */\n",
       "window.mpl = {};\n",
       "\n",
       "\n",
       "mpl.get_websocket_type = function() {\n",
       "    if (typeof(WebSocket) !== 'undefined') {\n",
       "        return WebSocket;\n",
       "    } else if (typeof(MozWebSocket) !== 'undefined') {\n",
       "        return MozWebSocket;\n",
       "    } else {\n",
       "        alert('Your browser does not have WebSocket support.' +\n",
       "              'Please try Chrome, Safari or Firefox ≥ 6. ' +\n",
       "              'Firefox 4 and 5 are also supported but you ' +\n",
       "              'have to enable WebSockets in about:config.');\n",
       "    };\n",
       "}\n",
       "\n",
       "mpl.figure = function(figure_id, websocket, ondownload, parent_element) {\n",
       "    this.id = figure_id;\n",
       "\n",
       "    this.ws = websocket;\n",
       "\n",
       "    this.supports_binary = (this.ws.binaryType != undefined);\n",
       "\n",
       "    if (!this.supports_binary) {\n",
       "        var warnings = document.getElementById(\"mpl-warnings\");\n",
       "        if (warnings) {\n",
       "            warnings.style.display = 'block';\n",
       "            warnings.textContent = (\n",
       "                \"This browser does not support binary websocket messages. \" +\n",
       "                    \"Performance may be slow.\");\n",
       "        }\n",
       "    }\n",
       "\n",
       "    this.imageObj = new Image();\n",
       "\n",
       "    this.context = undefined;\n",
       "    this.message = undefined;\n",
       "    this.canvas = undefined;\n",
       "    this.rubberband_canvas = undefined;\n",
       "    this.rubberband_context = undefined;\n",
       "    this.format_dropdown = undefined;\n",
       "\n",
       "    this.image_mode = 'full';\n",
       "\n",
       "    this.root = $('<div/>');\n",
       "    this._root_extra_style(this.root)\n",
       "    this.root.attr('style', 'display: inline-block');\n",
       "\n",
       "    $(parent_element).append(this.root);\n",
       "\n",
       "    this._init_header(this);\n",
       "    this._init_canvas(this);\n",
       "    this._init_toolbar(this);\n",
       "\n",
       "    var fig = this;\n",
       "\n",
       "    this.waiting = false;\n",
       "\n",
       "    this.ws.onopen =  function () {\n",
       "            fig.send_message(\"supports_binary\", {value: fig.supports_binary});\n",
       "            fig.send_message(\"send_image_mode\", {});\n",
       "            if (mpl.ratio != 1) {\n",
       "                fig.send_message(\"set_dpi_ratio\", {'dpi_ratio': mpl.ratio});\n",
       "            }\n",
       "            fig.send_message(\"refresh\", {});\n",
       "        }\n",
       "\n",
       "    this.imageObj.onload = function() {\n",
       "            if (fig.image_mode == 'full') {\n",
       "                // Full images could contain transparency (where diff images\n",
       "                // almost always do), so we need to clear the canvas so that\n",
       "                // there is no ghosting.\n",
       "                fig.context.clearRect(0, 0, fig.canvas.width, fig.canvas.height);\n",
       "            }\n",
       "            fig.context.drawImage(fig.imageObj, 0, 0);\n",
       "        };\n",
       "\n",
       "    this.imageObj.onunload = function() {\n",
       "        this.ws.close();\n",
       "    }\n",
       "\n",
       "    this.ws.onmessage = this._make_on_message_function(this);\n",
       "\n",
       "    this.ondownload = ondownload;\n",
       "}\n",
       "\n",
       "mpl.figure.prototype._init_header = function() {\n",
       "    var titlebar = $(\n",
       "        '<div class=\"ui-dialog-titlebar ui-widget-header ui-corner-all ' +\n",
       "        'ui-helper-clearfix\"/>');\n",
       "    var titletext = $(\n",
       "        '<div class=\"ui-dialog-title\" style=\"width: 100%; ' +\n",
       "        'text-align: center; padding: 3px;\"/>');\n",
       "    titlebar.append(titletext)\n",
       "    this.root.append(titlebar);\n",
       "    this.header = titletext[0];\n",
       "}\n",
       "\n",
       "\n",
       "\n",
       "mpl.figure.prototype._canvas_extra_style = function(canvas_div) {\n",
       "\n",
       "}\n",
       "\n",
       "\n",
       "mpl.figure.prototype._root_extra_style = function(canvas_div) {\n",
       "\n",
       "}\n",
       "\n",
       "mpl.figure.prototype._init_canvas = function() {\n",
       "    var fig = this;\n",
       "\n",
       "    var canvas_div = $('<div/>');\n",
       "\n",
       "    canvas_div.attr('style', 'position: relative; clear: both; outline: 0');\n",
       "\n",
       "    function canvas_keyboard_event(event) {\n",
       "        return fig.key_event(event, event['data']);\n",
       "    }\n",
       "\n",
       "    canvas_div.keydown('key_press', canvas_keyboard_event);\n",
       "    canvas_div.keyup('key_release', canvas_keyboard_event);\n",
       "    this.canvas_div = canvas_div\n",
       "    this._canvas_extra_style(canvas_div)\n",
       "    this.root.append(canvas_div);\n",
       "\n",
       "    var canvas = $('<canvas/>');\n",
       "    canvas.addClass('mpl-canvas');\n",
       "    canvas.attr('style', \"left: 0; top: 0; z-index: 0; outline: 0\")\n",
       "\n",
       "    this.canvas = canvas[0];\n",
       "    this.context = canvas[0].getContext(\"2d\");\n",
       "\n",
       "    var backingStore = this.context.backingStorePixelRatio ||\n",
       "\tthis.context.webkitBackingStorePixelRatio ||\n",
       "\tthis.context.mozBackingStorePixelRatio ||\n",
       "\tthis.context.msBackingStorePixelRatio ||\n",
       "\tthis.context.oBackingStorePixelRatio ||\n",
       "\tthis.context.backingStorePixelRatio || 1;\n",
       "\n",
       "    mpl.ratio = (window.devicePixelRatio || 1) / backingStore;\n",
       "\n",
       "    var rubberband = $('<canvas/>');\n",
       "    rubberband.attr('style', \"position: absolute; left: 0; top: 0; z-index: 1;\")\n",
       "\n",
       "    var pass_mouse_events = true;\n",
       "\n",
       "    canvas_div.resizable({\n",
       "        start: function(event, ui) {\n",
       "            pass_mouse_events = false;\n",
       "        },\n",
       "        resize: function(event, ui) {\n",
       "            fig.request_resize(ui.size.width, ui.size.height);\n",
       "        },\n",
       "        stop: function(event, ui) {\n",
       "            pass_mouse_events = true;\n",
       "            fig.request_resize(ui.size.width, ui.size.height);\n",
       "        },\n",
       "    });\n",
       "\n",
       "    function mouse_event_fn(event) {\n",
       "        if (pass_mouse_events)\n",
       "            return fig.mouse_event(event, event['data']);\n",
       "    }\n",
       "\n",
       "    rubberband.mousedown('button_press', mouse_event_fn);\n",
       "    rubberband.mouseup('button_release', mouse_event_fn);\n",
       "    // Throttle sequential mouse events to 1 every 20ms.\n",
       "    rubberband.mousemove('motion_notify', mouse_event_fn);\n",
       "\n",
       "    rubberband.mouseenter('figure_enter', mouse_event_fn);\n",
       "    rubberband.mouseleave('figure_leave', mouse_event_fn);\n",
       "\n",
       "    canvas_div.on(\"wheel\", function (event) {\n",
       "        event = event.originalEvent;\n",
       "        event['data'] = 'scroll'\n",
       "        if (event.deltaY < 0) {\n",
       "            event.step = 1;\n",
       "        } else {\n",
       "            event.step = -1;\n",
       "        }\n",
       "        mouse_event_fn(event);\n",
       "    });\n",
       "\n",
       "    canvas_div.append(canvas);\n",
       "    canvas_div.append(rubberband);\n",
       "\n",
       "    this.rubberband = rubberband;\n",
       "    this.rubberband_canvas = rubberband[0];\n",
       "    this.rubberband_context = rubberband[0].getContext(\"2d\");\n",
       "    this.rubberband_context.strokeStyle = \"#000000\";\n",
       "\n",
       "    this._resize_canvas = function(width, height) {\n",
       "        // Keep the size of the canvas, canvas container, and rubber band\n",
       "        // canvas in synch.\n",
       "        canvas_div.css('width', width)\n",
       "        canvas_div.css('height', height)\n",
       "\n",
       "        canvas.attr('width', width * mpl.ratio);\n",
       "        canvas.attr('height', height * mpl.ratio);\n",
       "        canvas.attr('style', 'width: ' + width + 'px; height: ' + height + 'px;');\n",
       "\n",
       "        rubberband.attr('width', width);\n",
       "        rubberband.attr('height', height);\n",
       "    }\n",
       "\n",
       "    // Set the figure to an initial 600x600px, this will subsequently be updated\n",
       "    // upon first draw.\n",
       "    this._resize_canvas(600, 600);\n",
       "\n",
       "    // Disable right mouse context menu.\n",
       "    $(this.rubberband_canvas).bind(\"contextmenu\",function(e){\n",
       "        return false;\n",
       "    });\n",
       "\n",
       "    function set_focus () {\n",
       "        canvas.focus();\n",
       "        canvas_div.focus();\n",
       "    }\n",
       "\n",
       "    window.setTimeout(set_focus, 100);\n",
       "}\n",
       "\n",
       "mpl.figure.prototype._init_toolbar = function() {\n",
       "    var fig = this;\n",
       "\n",
       "    var nav_element = $('<div/>')\n",
       "    nav_element.attr('style', 'width: 100%');\n",
       "    this.root.append(nav_element);\n",
       "\n",
       "    // Define a callback function for later on.\n",
       "    function toolbar_event(event) {\n",
       "        return fig.toolbar_button_onclick(event['data']);\n",
       "    }\n",
       "    function toolbar_mouse_event(event) {\n",
       "        return fig.toolbar_button_onmouseover(event['data']);\n",
       "    }\n",
       "\n",
       "    for(var toolbar_ind in mpl.toolbar_items) {\n",
       "        var name = mpl.toolbar_items[toolbar_ind][0];\n",
       "        var tooltip = mpl.toolbar_items[toolbar_ind][1];\n",
       "        var image = mpl.toolbar_items[toolbar_ind][2];\n",
       "        var method_name = mpl.toolbar_items[toolbar_ind][3];\n",
       "\n",
       "        if (!name) {\n",
       "            // put a spacer in here.\n",
       "            continue;\n",
       "        }\n",
       "        var button = $('<button/>');\n",
       "        button.addClass('ui-button ui-widget ui-state-default ui-corner-all ' +\n",
       "                        'ui-button-icon-only');\n",
       "        button.attr('role', 'button');\n",
       "        button.attr('aria-disabled', 'false');\n",
       "        button.click(method_name, toolbar_event);\n",
       "        button.mouseover(tooltip, toolbar_mouse_event);\n",
       "\n",
       "        var icon_img = $('<span/>');\n",
       "        icon_img.addClass('ui-button-icon-primary ui-icon');\n",
       "        icon_img.addClass(image);\n",
       "        icon_img.addClass('ui-corner-all');\n",
       "\n",
       "        var tooltip_span = $('<span/>');\n",
       "        tooltip_span.addClass('ui-button-text');\n",
       "        tooltip_span.html(tooltip);\n",
       "\n",
       "        button.append(icon_img);\n",
       "        button.append(tooltip_span);\n",
       "\n",
       "        nav_element.append(button);\n",
       "    }\n",
       "\n",
       "    var fmt_picker_span = $('<span/>');\n",
       "\n",
       "    var fmt_picker = $('<select/>');\n",
       "    fmt_picker.addClass('mpl-toolbar-option ui-widget ui-widget-content');\n",
       "    fmt_picker_span.append(fmt_picker);\n",
       "    nav_element.append(fmt_picker_span);\n",
       "    this.format_dropdown = fmt_picker[0];\n",
       "\n",
       "    for (var ind in mpl.extensions) {\n",
       "        var fmt = mpl.extensions[ind];\n",
       "        var option = $(\n",
       "            '<option/>', {selected: fmt === mpl.default_extension}).html(fmt);\n",
       "        fmt_picker.append(option)\n",
       "    }\n",
       "\n",
       "    // Add hover states to the ui-buttons\n",
       "    $( \".ui-button\" ).hover(\n",
       "        function() { $(this).addClass(\"ui-state-hover\");},\n",
       "        function() { $(this).removeClass(\"ui-state-hover\");}\n",
       "    );\n",
       "\n",
       "    var status_bar = $('<span class=\"mpl-message\"/>');\n",
       "    nav_element.append(status_bar);\n",
       "    this.message = status_bar[0];\n",
       "}\n",
       "\n",
       "mpl.figure.prototype.request_resize = function(x_pixels, y_pixels) {\n",
       "    // Request matplotlib to resize the figure. Matplotlib will then trigger a resize in the client,\n",
       "    // which will in turn request a refresh of the image.\n",
       "    this.send_message('resize', {'width': x_pixels, 'height': y_pixels});\n",
       "}\n",
       "\n",
       "mpl.figure.prototype.send_message = function(type, properties) {\n",
       "    properties['type'] = type;\n",
       "    properties['figure_id'] = this.id;\n",
       "    this.ws.send(JSON.stringify(properties));\n",
       "}\n",
       "\n",
       "mpl.figure.prototype.send_draw_message = function() {\n",
       "    if (!this.waiting) {\n",
       "        this.waiting = true;\n",
       "        this.ws.send(JSON.stringify({type: \"draw\", figure_id: this.id}));\n",
       "    }\n",
       "}\n",
       "\n",
       "\n",
       "mpl.figure.prototype.handle_save = function(fig, msg) {\n",
       "    var format_dropdown = fig.format_dropdown;\n",
       "    var format = format_dropdown.options[format_dropdown.selectedIndex].value;\n",
       "    fig.ondownload(fig, format);\n",
       "}\n",
       "\n",
       "\n",
       "mpl.figure.prototype.handle_resize = function(fig, msg) {\n",
       "    var size = msg['size'];\n",
       "    if (size[0] != fig.canvas.width || size[1] != fig.canvas.height) {\n",
       "        fig._resize_canvas(size[0], size[1]);\n",
       "        fig.send_message(\"refresh\", {});\n",
       "    };\n",
       "}\n",
       "\n",
       "mpl.figure.prototype.handle_rubberband = function(fig, msg) {\n",
       "    var x0 = msg['x0'] / mpl.ratio;\n",
       "    var y0 = (fig.canvas.height - msg['y0']) / mpl.ratio;\n",
       "    var x1 = msg['x1'] / mpl.ratio;\n",
       "    var y1 = (fig.canvas.height - msg['y1']) / mpl.ratio;\n",
       "    x0 = Math.floor(x0) + 0.5;\n",
       "    y0 = Math.floor(y0) + 0.5;\n",
       "    x1 = Math.floor(x1) + 0.5;\n",
       "    y1 = Math.floor(y1) + 0.5;\n",
       "    var min_x = Math.min(x0, x1);\n",
       "    var min_y = Math.min(y0, y1);\n",
       "    var width = Math.abs(x1 - x0);\n",
       "    var height = Math.abs(y1 - y0);\n",
       "\n",
       "    fig.rubberband_context.clearRect(\n",
       "        0, 0, fig.canvas.width, fig.canvas.height);\n",
       "\n",
       "    fig.rubberband_context.strokeRect(min_x, min_y, width, height);\n",
       "}\n",
       "\n",
       "mpl.figure.prototype.handle_figure_label = function(fig, msg) {\n",
       "    // Updates the figure title.\n",
       "    fig.header.textContent = msg['label'];\n",
       "}\n",
       "\n",
       "mpl.figure.prototype.handle_cursor = function(fig, msg) {\n",
       "    var cursor = msg['cursor'];\n",
       "    switch(cursor)\n",
       "    {\n",
       "    case 0:\n",
       "        cursor = 'pointer';\n",
       "        break;\n",
       "    case 1:\n",
       "        cursor = 'default';\n",
       "        break;\n",
       "    case 2:\n",
       "        cursor = 'crosshair';\n",
       "        break;\n",
       "    case 3:\n",
       "        cursor = 'move';\n",
       "        break;\n",
       "    }\n",
       "    fig.rubberband_canvas.style.cursor = cursor;\n",
       "}\n",
       "\n",
       "mpl.figure.prototype.handle_message = function(fig, msg) {\n",
       "    fig.message.textContent = msg['message'];\n",
       "}\n",
       "\n",
       "mpl.figure.prototype.handle_draw = function(fig, msg) {\n",
       "    // Request the server to send over a new figure.\n",
       "    fig.send_draw_message();\n",
       "}\n",
       "\n",
       "mpl.figure.prototype.handle_image_mode = function(fig, msg) {\n",
       "    fig.image_mode = msg['mode'];\n",
       "}\n",
       "\n",
       "mpl.figure.prototype.updated_canvas_event = function() {\n",
       "    // Called whenever the canvas gets updated.\n",
       "    this.send_message(\"ack\", {});\n",
       "}\n",
       "\n",
       "// A function to construct a web socket function for onmessage handling.\n",
       "// Called in the figure constructor.\n",
       "mpl.figure.prototype._make_on_message_function = function(fig) {\n",
       "    return function socket_on_message(evt) {\n",
       "        if (evt.data instanceof Blob) {\n",
       "            /* FIXME: We get \"Resource interpreted as Image but\n",
       "             * transferred with MIME type text/plain:\" errors on\n",
       "             * Chrome.  But how to set the MIME type?  It doesn't seem\n",
       "             * to be part of the websocket stream */\n",
       "            evt.data.type = \"image/png\";\n",
       "\n",
       "            /* Free the memory for the previous frames */\n",
       "            if (fig.imageObj.src) {\n",
       "                (window.URL || window.webkitURL).revokeObjectURL(\n",
       "                    fig.imageObj.src);\n",
       "            }\n",
       "\n",
       "            fig.imageObj.src = (window.URL || window.webkitURL).createObjectURL(\n",
       "                evt.data);\n",
       "            fig.updated_canvas_event();\n",
       "            fig.waiting = false;\n",
       "            return;\n",
       "        }\n",
       "        else if (typeof evt.data === 'string' && evt.data.slice(0, 21) == \"data:image/png;base64\") {\n",
       "            fig.imageObj.src = evt.data;\n",
       "            fig.updated_canvas_event();\n",
       "            fig.waiting = false;\n",
       "            return;\n",
       "        }\n",
       "\n",
       "        var msg = JSON.parse(evt.data);\n",
       "        var msg_type = msg['type'];\n",
       "\n",
       "        // Call the  \"handle_{type}\" callback, which takes\n",
       "        // the figure and JSON message as its only arguments.\n",
       "        try {\n",
       "            var callback = fig[\"handle_\" + msg_type];\n",
       "        } catch (e) {\n",
       "            console.log(\"No handler for the '\" + msg_type + \"' message type: \", msg);\n",
       "            return;\n",
       "        }\n",
       "\n",
       "        if (callback) {\n",
       "            try {\n",
       "                // console.log(\"Handling '\" + msg_type + \"' message: \", msg);\n",
       "                callback(fig, msg);\n",
       "            } catch (e) {\n",
       "                console.log(\"Exception inside the 'handler_\" + msg_type + \"' callback:\", e, e.stack, msg);\n",
       "            }\n",
       "        }\n",
       "    };\n",
       "}\n",
       "\n",
       "// from http://stackoverflow.com/questions/1114465/getting-mouse-location-in-canvas\n",
       "mpl.findpos = function(e) {\n",
       "    //this section is from http://www.quirksmode.org/js/events_properties.html\n",
       "    var targ;\n",
       "    if (!e)\n",
       "        e = window.event;\n",
       "    if (e.target)\n",
       "        targ = e.target;\n",
       "    else if (e.srcElement)\n",
       "        targ = e.srcElement;\n",
       "    if (targ.nodeType == 3) // defeat Safari bug\n",
       "        targ = targ.parentNode;\n",
       "\n",
       "    // jQuery normalizes the pageX and pageY\n",
       "    // pageX,Y are the mouse positions relative to the document\n",
       "    // offset() returns the position of the element relative to the document\n",
       "    var x = e.pageX - $(targ).offset().left;\n",
       "    var y = e.pageY - $(targ).offset().top;\n",
       "\n",
       "    return {\"x\": x, \"y\": y};\n",
       "};\n",
       "\n",
       "/*\n",
       " * return a copy of an object with only non-object keys\n",
       " * we need this to avoid circular references\n",
       " * http://stackoverflow.com/a/24161582/3208463\n",
       " */\n",
       "function simpleKeys (original) {\n",
       "  return Object.keys(original).reduce(function (obj, key) {\n",
       "    if (typeof original[key] !== 'object')\n",
       "        obj[key] = original[key]\n",
       "    return obj;\n",
       "  }, {});\n",
       "}\n",
       "\n",
       "mpl.figure.prototype.mouse_event = function(event, name) {\n",
       "    var canvas_pos = mpl.findpos(event)\n",
       "\n",
       "    if (name === 'button_press')\n",
       "    {\n",
       "        this.canvas.focus();\n",
       "        this.canvas_div.focus();\n",
       "    }\n",
       "\n",
       "    var x = canvas_pos.x * mpl.ratio;\n",
       "    var y = canvas_pos.y * mpl.ratio;\n",
       "\n",
       "    this.send_message(name, {x: x, y: y, button: event.button,\n",
       "                             step: event.step,\n",
       "                             guiEvent: simpleKeys(event)});\n",
       "\n",
       "    /* This prevents the web browser from automatically changing to\n",
       "     * the text insertion cursor when the button is pressed.  We want\n",
       "     * to control all of the cursor setting manually through the\n",
       "     * 'cursor' event from matplotlib */\n",
       "    event.preventDefault();\n",
       "    return false;\n",
       "}\n",
       "\n",
       "mpl.figure.prototype._key_event_extra = function(event, name) {\n",
       "    // Handle any extra behaviour associated with a key event\n",
       "}\n",
       "\n",
       "mpl.figure.prototype.key_event = function(event, name) {\n",
       "\n",
       "    // Prevent repeat events\n",
       "    if (name == 'key_press')\n",
       "    {\n",
       "        if (event.which === this._key)\n",
       "            return;\n",
       "        else\n",
       "            this._key = event.which;\n",
       "    }\n",
       "    if (name == 'key_release')\n",
       "        this._key = null;\n",
       "\n",
       "    var value = '';\n",
       "    if (event.ctrlKey && event.which != 17)\n",
       "        value += \"ctrl+\";\n",
       "    if (event.altKey && event.which != 18)\n",
       "        value += \"alt+\";\n",
       "    if (event.shiftKey && event.which != 16)\n",
       "        value += \"shift+\";\n",
       "\n",
       "    value += 'k';\n",
       "    value += event.which.toString();\n",
       "\n",
       "    this._key_event_extra(event, name);\n",
       "\n",
       "    this.send_message(name, {key: value,\n",
       "                             guiEvent: simpleKeys(event)});\n",
       "    return false;\n",
       "}\n",
       "\n",
       "mpl.figure.prototype.toolbar_button_onclick = function(name) {\n",
       "    if (name == 'download') {\n",
       "        this.handle_save(this, null);\n",
       "    } else {\n",
       "        this.send_message(\"toolbar_button\", {name: name});\n",
       "    }\n",
       "};\n",
       "\n",
       "mpl.figure.prototype.toolbar_button_onmouseover = function(tooltip) {\n",
       "    this.message.textContent = tooltip;\n",
       "};\n",
       "mpl.toolbar_items = [[\"Home\", \"Reset original view\", \"fa fa-home icon-home\", \"home\"], [\"Back\", \"Back to  previous view\", \"fa fa-arrow-left icon-arrow-left\", \"back\"], [\"Forward\", \"Forward to next view\", \"fa fa-arrow-right icon-arrow-right\", \"forward\"], [\"\", \"\", \"\", \"\"], [\"Pan\", \"Pan axes with left mouse, zoom with right\", \"fa fa-arrows icon-move\", \"pan\"], [\"Zoom\", \"Zoom to rectangle\", \"fa fa-square-o icon-check-empty\", \"zoom\"], [\"\", \"\", \"\", \"\"], [\"Download\", \"Download plot\", \"fa fa-floppy-o icon-save\", \"download\"]];\n",
       "\n",
       "mpl.extensions = [\"eps\", \"jpeg\", \"pdf\", \"png\", \"ps\", \"raw\", \"svg\", \"tif\"];\n",
       "\n",
       "mpl.default_extension = \"png\";var comm_websocket_adapter = function(comm) {\n",
       "    // Create a \"websocket\"-like object which calls the given IPython comm\n",
       "    // object with the appropriate methods. Currently this is a non binary\n",
       "    // socket, so there is still some room for performance tuning.\n",
       "    var ws = {};\n",
       "\n",
       "    ws.close = function() {\n",
       "        comm.close()\n",
       "    };\n",
       "    ws.send = function(m) {\n",
       "        //console.log('sending', m);\n",
       "        comm.send(m);\n",
       "    };\n",
       "    // Register the callback with on_msg.\n",
       "    comm.on_msg(function(msg) {\n",
       "        //console.log('receiving', msg['content']['data'], msg);\n",
       "        // Pass the mpl event to the overriden (by mpl) onmessage function.\n",
       "        ws.onmessage(msg['content']['data'])\n",
       "    });\n",
       "    return ws;\n",
       "}\n",
       "\n",
       "mpl.mpl_figure_comm = function(comm, msg) {\n",
       "    // This is the function which gets called when the mpl process\n",
       "    // starts-up an IPython Comm through the \"matplotlib\" channel.\n",
       "\n",
       "    var id = msg.content.data.id;\n",
       "    // Get hold of the div created by the display call when the Comm\n",
       "    // socket was opened in Python.\n",
       "    var element = $(\"#\" + id);\n",
       "    var ws_proxy = comm_websocket_adapter(comm)\n",
       "\n",
       "    function ondownload(figure, format) {\n",
       "        window.open(figure.imageObj.src);\n",
       "    }\n",
       "\n",
       "    var fig = new mpl.figure(id, ws_proxy,\n",
       "                           ondownload,\n",
       "                           element.get(0));\n",
       "\n",
       "    // Call onopen now - mpl needs it, as it is assuming we've passed it a real\n",
       "    // web socket which is closed, not our websocket->open comm proxy.\n",
       "    ws_proxy.onopen();\n",
       "\n",
       "    fig.parent_element = element.get(0);\n",
       "    fig.cell_info = mpl.find_output_cell(\"<div id='\" + id + \"'></div>\");\n",
       "    if (!fig.cell_info) {\n",
       "        console.error(\"Failed to find cell for figure\", id, fig);\n",
       "        return;\n",
       "    }\n",
       "\n",
       "    var output_index = fig.cell_info[2]\n",
       "    var cell = fig.cell_info[0];\n",
       "\n",
       "};\n",
       "\n",
       "mpl.figure.prototype.handle_close = function(fig, msg) {\n",
       "    var width = fig.canvas.width/mpl.ratio\n",
       "    fig.root.unbind('remove')\n",
       "\n",
       "    // Update the output cell to use the data from the current canvas.\n",
       "    fig.push_to_output();\n",
       "    var dataURL = fig.canvas.toDataURL();\n",
       "    // Re-enable the keyboard manager in IPython - without this line, in FF,\n",
       "    // the notebook keyboard shortcuts fail.\n",
       "    IPython.keyboard_manager.enable()\n",
       "    $(fig.parent_element).html('<img src=\"' + dataURL + '\" width=\"' + width + '\">');\n",
       "    fig.close_ws(fig, msg);\n",
       "}\n",
       "\n",
       "mpl.figure.prototype.close_ws = function(fig, msg){\n",
       "    fig.send_message('closing', msg);\n",
       "    // fig.ws.close()\n",
       "}\n",
       "\n",
       "mpl.figure.prototype.push_to_output = function(remove_interactive) {\n",
       "    // Turn the data on the canvas into data in the output cell.\n",
       "    var width = this.canvas.width/mpl.ratio\n",
       "    var dataURL = this.canvas.toDataURL();\n",
       "    this.cell_info[1]['text/html'] = '<img src=\"' + dataURL + '\" width=\"' + width + '\">';\n",
       "}\n",
       "\n",
       "mpl.figure.prototype.updated_canvas_event = function() {\n",
       "    // Tell IPython that the notebook contents must change.\n",
       "    IPython.notebook.set_dirty(true);\n",
       "    this.send_message(\"ack\", {});\n",
       "    var fig = this;\n",
       "    // Wait a second, then push the new image to the DOM so\n",
       "    // that it is saved nicely (might be nice to debounce this).\n",
       "    setTimeout(function () { fig.push_to_output() }, 1000);\n",
       "}\n",
       "\n",
       "mpl.figure.prototype._init_toolbar = function() {\n",
       "    var fig = this;\n",
       "\n",
       "    var nav_element = $('<div/>')\n",
       "    nav_element.attr('style', 'width: 100%');\n",
       "    this.root.append(nav_element);\n",
       "\n",
       "    // Define a callback function for later on.\n",
       "    function toolbar_event(event) {\n",
       "        return fig.toolbar_button_onclick(event['data']);\n",
       "    }\n",
       "    function toolbar_mouse_event(event) {\n",
       "        return fig.toolbar_button_onmouseover(event['data']);\n",
       "    }\n",
       "\n",
       "    for(var toolbar_ind in mpl.toolbar_items){\n",
       "        var name = mpl.toolbar_items[toolbar_ind][0];\n",
       "        var tooltip = mpl.toolbar_items[toolbar_ind][1];\n",
       "        var image = mpl.toolbar_items[toolbar_ind][2];\n",
       "        var method_name = mpl.toolbar_items[toolbar_ind][3];\n",
       "\n",
       "        if (!name) { continue; };\n",
       "\n",
       "        var button = $('<button class=\"btn btn-default\" href=\"#\" title=\"' + name + '\"><i class=\"fa ' + image + ' fa-lg\"></i></button>');\n",
       "        button.click(method_name, toolbar_event);\n",
       "        button.mouseover(tooltip, toolbar_mouse_event);\n",
       "        nav_element.append(button);\n",
       "    }\n",
       "\n",
       "    // Add the status bar.\n",
       "    var status_bar = $('<span class=\"mpl-message\" style=\"text-align:right; float: right;\"/>');\n",
       "    nav_element.append(status_bar);\n",
       "    this.message = status_bar[0];\n",
       "\n",
       "    // Add the close button to the window.\n",
       "    var buttongrp = $('<div class=\"btn-group inline pull-right\"></div>');\n",
       "    var button = $('<button class=\"btn btn-mini btn-primary\" href=\"#\" title=\"Stop Interaction\"><i class=\"fa fa-power-off icon-remove icon-large\"></i></button>');\n",
       "    button.click(function (evt) { fig.handle_close(fig, {}); } );\n",
       "    button.mouseover('Stop Interaction', toolbar_mouse_event);\n",
       "    buttongrp.append(button);\n",
       "    var titlebar = this.root.find($('.ui-dialog-titlebar'));\n",
       "    titlebar.prepend(buttongrp);\n",
       "}\n",
       "\n",
       "mpl.figure.prototype._root_extra_style = function(el){\n",
       "    var fig = this\n",
       "    el.on(\"remove\", function(){\n",
       "\tfig.close_ws(fig, {});\n",
       "    });\n",
       "}\n",
       "\n",
       "mpl.figure.prototype._canvas_extra_style = function(el){\n",
       "    // this is important to make the div 'focusable\n",
       "    el.attr('tabindex', 0)\n",
       "    // reach out to IPython and tell the keyboard manager to turn it's self\n",
       "    // off when our div gets focus\n",
       "\n",
       "    // location in version 3\n",
       "    if (IPython.notebook.keyboard_manager) {\n",
       "        IPython.notebook.keyboard_manager.register_events(el);\n",
       "    }\n",
       "    else {\n",
       "        // location in version 2\n",
       "        IPython.keyboard_manager.register_events(el);\n",
       "    }\n",
       "\n",
       "}\n",
       "\n",
       "mpl.figure.prototype._key_event_extra = function(event, name) {\n",
       "    var manager = IPython.notebook.keyboard_manager;\n",
       "    if (!manager)\n",
       "        manager = IPython.keyboard_manager;\n",
       "\n",
       "    // Check for shift+enter\n",
       "    if (event.shiftKey && event.which == 13) {\n",
       "        this.canvas_div.blur();\n",
       "        // select the cell after this one\n",
       "        var index = IPython.notebook.find_cell_index(this.cell_info[0]);\n",
       "        IPython.notebook.select(index + 1);\n",
       "    }\n",
       "}\n",
       "\n",
       "mpl.figure.prototype.handle_save = function(fig, msg) {\n",
       "    fig.ondownload(fig, null);\n",
       "}\n",
       "\n",
       "\n",
       "mpl.find_output_cell = function(html_output) {\n",
       "    // Return the cell and output element which can be found *uniquely* in the notebook.\n",
       "    // Note - this is a bit hacky, but it is done because the \"notebook_saving.Notebook\"\n",
       "    // IPython event is triggered only after the cells have been serialised, which for\n",
       "    // our purposes (turning an active figure into a static one), is too late.\n",
       "    var cells = IPython.notebook.get_cells();\n",
       "    var ncells = cells.length;\n",
       "    for (var i=0; i<ncells; i++) {\n",
       "        var cell = cells[i];\n",
       "        if (cell.cell_type === 'code'){\n",
       "            for (var j=0; j<cell.output_area.outputs.length; j++) {\n",
       "                var data = cell.output_area.outputs[j];\n",
       "                if (data.data) {\n",
       "                    // IPython >= 3 moved mimebundle to data attribute of output\n",
       "                    data = data.data;\n",
       "                }\n",
       "                if (data['text/html'] == html_output) {\n",
       "                    return [cell, data, j];\n",
       "                }\n",
       "            }\n",
       "        }\n",
       "    }\n",
       "}\n",
       "\n",
       "// Register the function which deals with the matplotlib target/channel.\n",
       "// The kernel may be null if the page has been refreshed.\n",
       "if (IPython.notebook.kernel != null) {\n",
       "    IPython.notebook.kernel.comm_manager.register_target('matplotlib', mpl.mpl_figure_comm);\n",
       "}\n"
      ],
      "text/plain": [
       "<IPython.core.display.Javascript object>"
      ]
     },
     "metadata": {},
     "output_type": "display_data"
    },
    {
     "data": {
      "text/html": [
       "<img src=\"data:image/png;base64,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\" width=\"640\">"
      ],
      "text/plain": [
       "<IPython.core.display.HTML object>"
      ]
     },
     "metadata": {},
     "output_type": "display_data"
    }
   ],
   "source": [
    "phi = cot(x)\n",
    "psi = - 1 / (2*x)\n",
    "\n",
    "plot = sympy.plot(phi, (x, 1, 2), show=False)\n",
    "p = sympy.plot(psi, (x, 1, 2), show=False)\n",
    "plot.append(p[0])\n",
    "plot.show()\n",
    "\n",
    "fig = plt.gcf()\n",
    "fig.patch.set_facecolor('white')\n",
    "fig.patch.set_alpha(1)\n",
    "fig.show();"
   ]
  },
  {
   "cell_type": "code",
   "execution_count": 64,
   "metadata": {
    "collapsed": true
   },
   "outputs": [],
   "source": [
    "a = 1.6\n",
    "b = 2.0\n",
    "\n",
    "f = phi - psi\n",
    "func = lambda val: f.subs(x, val)"
   ]
  },
  {
   "cell_type": "code",
   "execution_count": 44,
   "metadata": {},
   "outputs": [
    {
     "name": "stdout",
     "output_type": "stream",
     "text": [
      "10.9657842847\n",
      "0.283288021800055 0.0444742429237667 -0.207657554360286\n",
      " 0. a = 1.60000, b = 2.00000, b-a = 0.40000.\n",
      " 1. a = 1.80000, b = 2.00000, b-a = 0.20000.\n",
      " 2. a = 1.80000, b = 1.90000, b-a = 0.10000.\n",
      " 3. a = 1.80000, b = 1.85000, b-a = 0.05000.\n",
      " 4. a = 1.82500, b = 1.85000, b-a = 0.02500.\n",
      " 5. a = 1.82500, b = 1.83750, b-a = 0.01250.\n",
      " 6. a = 1.83125, b = 1.83750, b-a = 0.00625.\n",
      " 7. a = 1.83438, b = 1.83750, b-a = 0.00313.\n",
      " 8. a = 1.83594, b = 1.83750, b-a = 0.00156.\n",
      " 9. a = 1.83594, b = 1.83672, b-a = 0.00078.\n",
      "10. a = 1.83633, b = 1.83672, b-a = 0.00039.\n",
      "11. a = 1.83652, b = 1.83672, b-a = 0.00020.\n"
     ]
    },
    {
     "data": {
      "image/png": "[encoded data removed]",
      "text/latex": [
       "$$\\left ( 1.8366210937500003, \\quad -2.92027478045465 \\cdot 10^{-5}\\right )$$"
      ],
      "text/plain": [
       "(1.8366210937500003, -2.92027478045465e-5)"
      ]
     },
     "execution_count": 44,
     "metadata": {},
     "output_type": "execute_result"
    }
   ],
   "source": [
    "print(np.log2((b-a)/2/eps))\n",
    "print(func(a), func(1.8), func(b))\n",
    "x_bis = bisection_solve(func, a, b, eps, True)\n",
    "x_bis, func(x_bis)"
   ]
  },
  {
   "cell_type": "code",
   "execution_count": 45,
   "metadata": {},
   "outputs": [
    {
     "data": {
      "image/png": "[encoded data removed]",
      "text/latex": [
       "$$2 \\left(\\cot^{2}{\\left (x \\right )} + 1\\right) \\cot{\\left (x \\right )} + \\frac{1}{x^{3}}$$"
      ],
      "text/plain": [
       "  ⎛   2       ⎞          1 \n",
       "2⋅⎝cot (x) + 1⎠⋅cot(x) + ──\n",
       "                          3\n",
       "                         x "
      ]
     },
     "execution_count": 45,
     "metadata": {},
     "output_type": "execute_result"
    }
   ],
   "source": [
    "f.diff(x, 2)"
   ]
  },
  {
   "cell_type": "code",
   "execution_count": 32,
   "metadata": {},
   "outputs": [
    {
     "data": {
      "image/png": "[encoded data removed]",
      "text/latex": [
       "$$\\left ( 0.283288021800055, \\quad 0.185666813120415\\right )$$"
      ],
      "text/plain": [
       "(0.283288021800055, 0.185666813120415)"
      ]
     },
     "execution_count": 32,
     "metadata": {},
     "output_type": "execute_result"
    }
   ],
   "source": [
    "func(a), f.diff(x, 2).subs(x, a) # одинаковый знак, поэтому фиксируем левый конец"
   ]
  },
  {
   "cell_type": "code",
   "execution_count": 38,
   "metadata": {},
   "outputs": [
    {
     "name": "stdout",
     "output_type": "stream",
     "text": [
      " 1. xₖ = 1.83081, |xₖ-xₖ₋₁| = 0.169190.\n",
      " 2. xₖ = 1.83672, |xₖ-xₖ₋₁| = 0.005905.\n",
      " 3. xₖ = 1.83659, |xₖ-xₖ₋₁| = 0.000120.\n",
      " 4. xₖ = 1.83660, |xₖ-xₖ₋₁| = 0.000003.\n"
     ]
    },
    {
     "data": {
      "image/png": "[encoded data removed]",
      "text/latex": [
       "$$\\left ( 1.83659725462054, \\quad -6.29123147466437 \\cdot 10^{-8}\\right )$$"
      ],
      "text/plain": [
       "(1.83659725462054, -6.29123147466437e-8)"
      ]
     },
     "execution_count": 38,
     "metadata": {},
     "output_type": "execute_result"
    }
   ],
   "source": [
    "x_chord = chords_method_solve(func, a, b, 'left', eps, True)\n",
    "x_chord, func(x_chord)"
   ]
  },
  {
   "cell_type": "code",
   "execution_count": 81,
   "metadata": {},
   "outputs": [
    {
     "data": {
      "image/png": "[encoded data removed]",
      "text/latex": [
       "$$- \\frac{1}{\\sin^{2}{\\left (x \\right )}} - \\frac{1}{2 x^{2}}$$"
      ],
      "text/plain": [
       "     1       1  \n",
       "- ─────── - ────\n",
       "     2         2\n",
       "  sin (x)   2⋅x "
      ]
     },
     "execution_count": 81,
     "metadata": {},
     "output_type": "execute_result"
    }
   ],
   "source": [
    "f.diff(x).simplify() # => f'(x) < 0 => рассматриваем исходное уравнение"
   ]
  },
  {
   "cell_type": "code",
   "execution_count": 87,
   "metadata": {},
   "outputs": [
    {
     "data": {
      "image/png": "[encoded data removed]",
      "text/latex": [
       "$$0.15384615384615385$$"
      ],
      "text/plain": [
       "0.15384615384615385"
      ]
     },
     "execution_count": 87,
     "metadata": {},
     "output_type": "execute_result"
    }
   ],
   "source": [
    "2 / 13"
   ]
  },
  {
   "cell_type": "code",
   "execution_count": 35,
   "metadata": {},
   "outputs": [
    {
     "data": {
      "image/png": "[encoded data removed]",
      "text/latex": [
       "$$\\left ( 1.18915054253835, \\quad 1.33444430703367, \\quad 0.792520241646231\\right )$$"
      ],
      "text/plain": [
       "(1.18915054253835, 1.33444430703367, 0.792520241646231)"
      ]
     },
     "execution_count": 35,
     "metadata": {},
     "output_type": "execute_result"
    }
   ],
   "source": [
    "deriv = lambda val: f.diff(x).subs(x, val)\n",
    "res1 = minimize_scalar(deriv, bounds=(1.6, 2), method='bounded')\n",
    "M1 = abs(deriv(res1.x))\n",
    "neg_deriv = lambda val: -deriv(val)\n",
    "res2 = minimize_scalar(neg_deriv, bounds=(1.6, 2), method='bounded')\n",
    "m1 = abs(deriv(res2.x))\n",
    "m1, M1, 2 / (m1+M1)"
   ]
  },
  {
   "cell_type": "code",
   "execution_count": 39,
   "metadata": {},
   "outputs": [
    {
     "name": "stdout",
     "output_type": "stream",
     "text": [
      " 1. xₖ = 1.83525, |xₖ-xₖ₋₁| = 0.035247.\n",
      " 2. xₖ = 1.83655, |xₖ-xₖ₋₁| = 0.001308.\n",
      " 3. xₖ = 1.83660, |xₖ-xₖ₋₁| = 0.000041.\n"
     ]
    },
    {
     "data": {
      "image/png": "[encoded data removed]",
      "text/latex": [
       "$$\\left ( 1.83659587328278, \\quad 1.62556289939886 \\cdot 10^{-6}\\right )$$"
      ],
      "text/plain": [
       "(1.83659587328278, 1.62556289939886e-6)"
      ]
     },
     "execution_count": 39,
     "metadata": {},
     "output_type": "execute_result"
    }
   ],
   "source": [
    "x_relax = relaxation_method_solve(func, a, b, 2 / (m1 + M1), eps, True)\n",
    "x_relax, func(x_relax)"
   ]
  },
  {
   "cell_type": "code",
   "execution_count": 40,
   "metadata": {},
   "outputs": [
    {
     "name": "stdout",
     "output_type": "stream",
     "text": [
      " 1. xₖ = 1.836830, |xₖ-xₖ₋₁| = 0.236830.\n",
      " 2. xₖ = 1.836597, |xₖ-xₖ₋₁| = 0.000233.\n",
      " 3. xₖ = 1.836597, |xₖ-xₖ₋₁| = 0.000000.\n"
     ]
    },
    {
     "data": {
      "image/png": "[encoded data removed]",
      "text/latex": [
       "$$\\left ( 1.8365972031521258, \\quad -1.11022302462516 \\cdot 10^{-16}\\right )$$"
      ],
      "text/plain": [
       "(1.8365972031521258, -1.11022302462516e-16)"
      ]
     },
     "execution_count": 40,
     "metadata": {},
     "output_type": "execute_result"
    }
   ],
   "source": [
    "# фиксируем противоположный методу хорд знак\n",
    "x_newt = newton_method_solve(f, a, b, 'right', eps, True)\n",
    "x_newt, func(x_newt)"
   ]
  },
  {
   "cell_type": "code",
   "execution_count": 41,
   "metadata": {},
   "outputs": [
    {
     "name": "stdout",
     "output_type": "stream",
     "text": [
      " 0. x_newt = 1.836830, x_chord = 1.830810, |x_newt - x_chord| =  0.0060199.\n",
      " 1. x_newt = 1.836597, x_chord = 1.836597, |x_newt - x_chord| =  0.0000002.\n"
     ]
    },
    {
     "data": {
      "image/png": "[encoded data removed]",
      "text/latex": [
       "$$\\left ( 1.8365970925176969, \\quad 1.35233781506372 \\cdot 10^{-7}\\right )$$"
      ],
      "text/plain": [
       "(1.8365970925176969, 1.35233781506372e-7)"
      ]
     },
     "execution_count": 41,
     "metadata": {},
     "output_type": "execute_result"
    }
   ],
   "source": [
    "# фиксируем, с какой стороны будет находиться последовательность метода Ньютона\n",
    "x_comb = combined_chord_newton_solve(f, a, b, 'left', eps, True)\n",
    "x_comb, func(x_comb)"
   ]
  },
  {
   "cell_type": "code",
   "execution_count": 42,
   "metadata": {},
   "outputs": [
    {
     "name": "stdout",
     "output_type": "stream",
     "text": [
      " 1. xₖ = 1.83420, |xₖ-xₖ₋₁| = 0.234199.\n",
      " 2. xₖ = 1.83665, |xₖ-xₖ₋₁| = 0.002447.\n",
      " 3. xₖ = 1.83660, |xₖ-xₖ₋₁| = 0.000050.\n"
     ]
    },
    {
     "data": {
      "image/png": "[encoded data removed]",
      "text/latex": [
       "$$\\left ( 1.83659718266543, \\quad 2.50418681901898 \\cdot 10^{-8}\\right )$$"
      ],
      "text/plain": [
       "(1.83659718266543, 2.50418681901898e-8)"
      ]
     },
     "execution_count": 42,
     "metadata": {},
     "output_type": "execute_result"
    }
   ],
   "source": [
    "# фиксируем тот же конец, что и в методе Ньютона\n",
    "x_sec = secant_method_solve(func, a, b, 'right', 0.1, eps, True)\n",
    "x_sec, func(x_sec)"
   ]
  },
  {
   "cell_type": "code",
   "execution_count": null,
   "metadata": {
    "collapsed": true
   },
   "outputs": [],
   "source": []
  },
  {
   "cell_type": "code",
   "execution_count": null,
   "metadata": {
    "collapsed": true
   },
   "outputs": [],
   "source": []
  },
  {
   "cell_type": "code",
   "execution_count": null,
   "metadata": {
    "collapsed": true
   },
   "outputs": [],
   "source": []
  },
  {
   "cell_type": "code",
   "execution_count": null,
   "metadata": {
    "collapsed": true
   },
   "outputs": [],
   "source": []
  },
  {
   "cell_type": "code",
   "execution_count": null,
   "metadata": {
    "collapsed": true
   },
   "outputs": [],
   "source": []
  },
  {
   "cell_type": "code",
   "execution_count": null,
   "metadata": {
    "collapsed": true
   },
   "outputs": [],
   "source": []
  },
  {
   "cell_type": "code",
   "execution_count": null,
   "metadata": {
    "collapsed": true
   },
   "outputs": [],
   "source": []
  },
  {
   "cell_type": "code",
   "execution_count": null,
   "metadata": {
    "collapsed": true
   },
   "outputs": [],
   "source": []
  },
  {
   "cell_type": "code",
   "execution_count": null,
   "metadata": {
    "collapsed": true
   },
   "outputs": [],
   "source": []
  },
  {
   "cell_type": "code",
   "execution_count": null,
   "metadata": {
    "collapsed": true
   },
   "outputs": [],
   "source": [
    "\"\"\"\n",
    "    Решает уравнение 'func(x) == 0' методом хорд. \n",
    "    Возвращает один из корней.\n",
    "    Вызывающий код должен гарантировать выполнение необходимых \n",
    "    предположений (в частности, что хотя бы в одном конце отрезка\n",
    "    знак второй производной совпадает со знаком функции)\n",
    "    \n",
    "    Параметры\n",
    "    ----------\n",
    "    func : callable\n",
    "        функция, корни которой необходимо найти\n",
    "    left, right : float\n",
    "        концы отрезка, в котором ищется корень\n",
    "    fixed : 'left' | 'right'\n",
    "        какой из концов отрезка фиксируется\n",
    "    eps : float\n",
    "        точность\n",
    "    \n",
    "    Возвращаемое значение\n",
    "    -------\n",
    "    x0 : float\n",
    "        корень уравнения с точностью до eps\n",
    "    \"\"\""
   ]
  },
  {
   "cell_type": "code",
   "execution_count": null,
   "metadata": {
    "collapsed": true
   },
   "outputs": [],
   "source": [
    "def plot_coord_system(ax):\n",
    "    ax.spines['left'].set_position('zero')\n",
    "    ax.spines['bottom'].set_position('zero')\n",
    "    ax.xaxis.set_ticks_position('bottom')\n",
    "    ax.yaxis.set_ticks_position('left')\n",
    "    ax.spines['right'].set_color('none')\n",
    "    ax.spines['top'].set_color('none')"
   ]
  },
  {
   "cell_type": "code",
   "execution_count": null,
   "metadata": {
    "collapsed": true
   },
   "outputs": [],
   "source": [
    "def chords_method_solve(func, left, right, fixed, eps, axes=None):\n",
    "    \n",
    "    if fixed == 'left':\n",
    "        c = left\n",
    "        x_curr = right\n",
    "    elif fixed == 'right': \n",
    "        c = right\n",
    "        x_curr = left\n",
    "    else:\n",
    "        raise ValueError(\"Inappropriate value for argument 'fixed'!\")\n",
    "    \n",
    "    if axes is not None:\n",
    "        x_grid = np.linspace(left, right, 1001)\n",
    "        axes.plot(x_grid, list(map(func, x_grid)))\n",
    "        l = plt.Line2D([c, x_curr], [func(c), func(x_curr)])\n",
    "        axes.grid(alpha=0.5)\n",
    "        axes.add_line(l)\n",
    "        plot_coord_system(axes)\n",
    "        plt.show()\n",
    "    \n",
    "    while True:\n",
    "        x_next = x_curr - func(x_curr) * (x_curr - c) / (func(x_curr) - func(c))\n",
    "        if abs(x_next - x_curr) <= eps:\n",
    "            return x_next\n",
    "        x_curr = x_next\n",
    "        if axes is not None:\n",
    "            time.sleep(2)\n",
    "            l.set_xdata([c, x_curr])\n",
    "            l.set_ydata([func(c), func(x_curr)])\n",
    "            plt.show()"
   ]
  }
 ],
 "metadata": {
  "kernelspec": {
   "display_name": "Python 3",
   "language": "python",
   "name": "python3"
  },
  "language_info": {
   "codemirror_mode": {
    "name": "ipython",
    "version": 3
   },
   "file_extension": ".py",
   "mimetype": "text/x-python",
   "name": "python",
   "nbconvert_exporter": "python",
   "pygments_lexer": "ipython3",
   "version": "3.6.0"
  }
 },
 "nbformat": 4,
 "nbformat_minor": 2
}
