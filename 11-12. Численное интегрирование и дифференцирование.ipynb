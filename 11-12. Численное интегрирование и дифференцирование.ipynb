{
 "cells": [
  {
   "cell_type": "code",
   "execution_count": 1,
   "metadata": {
    "collapsed": true
   },
   "outputs": [],
   "source": [
    "%matplotlib notebook\n",
    "import seaborn as sns\n",
    "import numpy as np\n",
    "import pandas as pd\n",
    "import matplotlib.pyplot as plt\n",
    "from numpy import array, linspace\n",
    "from IPython.display import display_latex, Latex, display\n",
    "\n",
    "from sympy import Symbol, init_printing, integrate, sqrt, atan, latex\n",
    "from scipy.optimize import minimize_scalar\n",
    "init_printing()"
   ]
  },
  {
   "cell_type": "markdown",
   "metadata": {},
   "source": [
    "$$\\newcommand{\\eps}{\\varepsilon}$$\n",
    "\n",
    "# План \n",
    "\n",
    "1. Численное интегрироване:\n",
    "    - Постановка задачи;\n",
    "    - Формулы Ньютона-Котеса;\n",
    "    - Формулы Гаусса (наивысшей степени точности для единичного веса);\n",
    "    - Правила апостериорной оценки погрешности и уточнения результата;\n",
    "    - [Формулы Гаусса-Кристофеля, Чебышева, Филона];\n",
    "2. Численное дифференцирование:\n",
    "    - Постановка задачи;\n",
    "    - [Дифференцирование с помощью полиномов Лагранжа и Ньютона];\n",
    "    - Дифференцирование с помощью рядов Тейлора."
   ]
  },
  {
   "cell_type": "markdown",
   "metadata": {},
   "source": [
    "## Численное интегрирование"
   ]
  },
  {
   "cell_type": "markdown",
   "metadata": {},
   "source": [
    "### Интерполяционное интегрирование\n",
    "\n",
    "Численное интегрирование имеет довольно интуитивную аналогию с интегральными суммами Римана со специальным образом выбранными особыми точками.\n",
    "\n",
    "Согласно с формулой Ньютона-Котеса первого порядка, интеграл приближенно равен \n",
    "$$\\int_a^b{f(x)dx} \\approx (b-a) f\\left(\\frac{a+b}{2}\\right).$$\n",
    "\n",
    "Пользоваться ей в таком виде не очень хорошо: куда более высокие результаты показывает применение этой формулы на частичных отрезках, на которые разбивается исходный промежуток. Если шаг фиксирован и равен $h$, формула примет такой вид:\n",
    "$$\\int_a^b{f(x)dx} \\approx h \\sum_{i=1}^n f\\left( \\frac{x_{i-1} + x_i}{2} \\right) $$\n",
    "Похоже ведь на интегральную сумму Римана, в которой положили частичные отрезки  равными, а в качестве особых точек взяли середины этих отрезков. Погрешность такого вычисления имеет порядок $O(h^2)$. Более точно, оценка погрешности имеет вид\n",
    "$$\\rvert R_1^N[f]\\rvert \\leq \\frac{b-a}{24}h^2 M_2.$$ "
   ]
  },
  {
   "cell_type": "code",
   "execution_count": 2,
   "metadata": {
    "collapsed": true
   },
   "outputs": [],
   "source": [
    "def integrate_nc(func, a, b, n, method, return_evalueted_func=False):\n",
    "    \n",
    "    x = linspace(a, b, n+1)\n",
    "    h = (b - a) / n\n",
    "    \n",
    "    if method == 'left_rect':\n",
    "        f = array(list(map(func, x[:-1])))\n",
    "    elif method == 'right_rect':\n",
    "        f = array(list(map(func, x[1:])))\n",
    "    elif method == 'mid_rect':\n",
    "        f = array(list(map(func, 0.5*x[:-1] + 0.5*x[1:])))\n",
    "    elif method == 'trapeze':\n",
    "        f = array(list(map(func, x)))\n",
    "        f = 0.5 * (f[:-1] + f[1:])\n",
    "    elif method == 'simpson' or method == 'parabola':\n",
    "        if n % 2 != 0:\n",
    "            raise ValueError(\"Simpson's method only works for even number of nodes!\")\n",
    "        f = array(list(map(func, x))) / 3\n",
    "        f[1:-1:2] *= 4\n",
    "        f[2:-2:2] *= 2\n",
    "    \n",
    "    if return_evalueted_func:\n",
    "        return h*f.sum(), f\n",
    "    \n",
    "    return h*f.sum()"
   ]
  },
  {
   "cell_type": "markdown",
   "metadata": {},
   "source": [
    "Оценка погрешности по правилу Рунге (здесь $n_1 = \\frac{n_2}{2}$, а $p$ - алгебраическая точность метода):\n",
    "$$\\Delta I_{n_1}=\\frac{I_{n_2}-I_{n_1}}{1-2^{-p}}, \\Delta I_{n_2}=\\frac{I_{n_2}-I_{n_1}}{2^p-1}.$$\n",
    "\n",
    "Уточнение интеграла методом экстраполяции Ричардсона (можем повысить степень метода на единицу):\n",
    "$$ I_{n_1, n_2} = I_{n_2} + \\frac{n_1^p}{n_2^p-n_1^p}(I_{n_2}-I_{n_1}) .$$"
   ]
  },
  {
   "cell_type": "markdown",
   "metadata": {},
   "source": [
    "### Задача 1\n",
    "\n",
    "Сперва нам нужно посчитать значение интеграла $\\int\\limits_{-2}^2 \\frac{dx}{3x^2+4x+2}$ разными методами и для разного количества частей, на которые разбивается исходный отрезок ($n_1=4, n_2=8$). \n",
    "Затем нужно оценить погрешность с помощью метода Рунге и также необходимо уточнить интеграл $I_{n_2}$ с помощью экстраполяции Ричардсона."
   ]
  },
  {
   "cell_type": "code",
   "execution_count": 3,
   "metadata": {},
   "outputs": [
    {
     "data": {
      "image/png": "[encoded data removed]",
      "text/latex": [
       "$$\\frac{1}{3 x^{2} + 4 x + 2}$$"
      ],
      "text/plain": [
       "      1       \n",
       "──────────────\n",
       "   2          \n",
       "3⋅x  + 4⋅x + 2"
      ]
     },
     "execution_count": 3,
     "metadata": {},
     "output_type": "execute_result"
    }
   ],
   "source": [
    "x = Symbol('x')\n",
    "f = 1 / (3*x**2 + 4*x + 2)\n",
    "f"
   ]
  },
  {
   "cell_type": "code",
   "execution_count": 4,
   "metadata": {},
   "outputs": [
    {
     "name": "stdout",
     "output_type": "stream",
     "text": [
      "Precise value of integral: 1.85742\n",
      "Approximation results:\n",
      "- Method = left_rect, p = 1"
     ]
    },
    {
     "data": {
      "text/latex": [
       "$I_4 = 1.7778, I_8 = 1.8765$"
      ],
      "text/plain": [
       "<IPython.core.display.Latex object>"
      ]
     },
     "metadata": {},
     "output_type": "display_data"
    },
    {
     "data": {
      "text/latex": [
       "$\\Delta I_4 = 0.1975, \\lvert I_4 - I \\rvert = 0.0796.$"
      ],
      "text/plain": [
       "<IPython.core.display.Latex object>"
      ]
     },
     "metadata": {},
     "output_type": "display_data"
    },
    {
     "data": {
      "text/latex": [
       "$\\Delta I_8 = 0.0988, \\lvert I_8 - I \\rvert = 0.0191.$"
      ],
      "text/plain": [
       "<IPython.core.display.Latex object>"
      ]
     },
     "metadata": {},
     "output_type": "display_data"
    },
    {
     "data": {
      "text/latex": [
       "$I_{4, 8} = 1.9753, \\lvert I_{4, 8} - I \\rvert = 0.1179.$"
      ],
      "text/plain": [
       "<IPython.core.display.Latex object>"
      ]
     },
     "metadata": {},
     "output_type": "display_data"
    },
    {
     "name": "stdout",
     "output_type": "stream",
     "text": [
      "- Method = mid_rect, p = 2"
     ]
    },
    {
     "data": {
      "text/latex": [
       "$I_4 = 1.9753, I_8 = 1.8659$"
      ],
      "text/plain": [
       "<IPython.core.display.Latex object>"
      ]
     },
     "metadata": {},
     "output_type": "display_data"
    },
    {
     "data": {
      "text/latex": [
       "$\\Delta I_4 = -0.1458, \\lvert I_4 - I \\rvert = 0.1179.$"
      ],
      "text/plain": [
       "<IPython.core.display.Latex object>"
      ]
     },
     "metadata": {},
     "output_type": "display_data"
    },
    {
     "data": {
      "text/latex": [
       "$\\Delta I_8 = -0.0365, \\lvert I_8 - I \\rvert = 0.0085.$"
      ],
      "text/plain": [
       "<IPython.core.display.Latex object>"
      ]
     },
     "metadata": {},
     "output_type": "display_data"
    },
    {
     "data": {
      "text/latex": [
       "$I_{4, 8} = 1.8295, \\lvert I_{4, 8} - I \\rvert = 0.0279.$"
      ],
      "text/plain": [
       "<IPython.core.display.Latex object>"
      ]
     },
     "metadata": {},
     "output_type": "display_data"
    },
    {
     "name": "stdout",
     "output_type": "stream",
     "text": [
      "- Method = right_rect, p = 1"
     ]
    },
    {
     "data": {
      "text/latex": [
       "$I_4 = 1.6566, I_8 = 1.8159$"
      ],
      "text/plain": [
       "<IPython.core.display.Latex object>"
      ]
     },
     "metadata": {},
     "output_type": "display_data"
    },
    {
     "data": {
      "text/latex": [
       "$\\Delta I_4 = 0.3187, \\lvert I_4 - I \\rvert = 0.2009.$"
      ],
      "text/plain": [
       "<IPython.core.display.Latex object>"
      ]
     },
     "metadata": {},
     "output_type": "display_data"
    },
    {
     "data": {
      "text/latex": [
       "$\\Delta I_8 = 0.1594, \\lvert I_8 - I \\rvert = 0.0415.$"
      ],
      "text/plain": [
       "<IPython.core.display.Latex object>"
      ]
     },
     "metadata": {},
     "output_type": "display_data"
    },
    {
     "data": {
      "text/latex": [
       "$I_{4, 8} = 1.9753, \\lvert I_{4, 8} - I \\rvert = 0.1179.$"
      ],
      "text/plain": [
       "<IPython.core.display.Latex object>"
      ]
     },
     "metadata": {},
     "output_type": "display_data"
    },
    {
     "name": "stdout",
     "output_type": "stream",
     "text": [
      "- Method = trapeze, p = 2"
     ]
    },
    {
     "data": {
      "text/latex": [
       "$I_4 = 1.7172, I_8 = 1.8462$"
      ],
      "text/plain": [
       "<IPython.core.display.Latex object>"
      ]
     },
     "metadata": {},
     "output_type": "display_data"
    },
    {
     "data": {
      "text/latex": [
       "$\\Delta I_4 = 0.1721, \\lvert I_4 - I \\rvert = 0.1402.$"
      ],
      "text/plain": [
       "<IPython.core.display.Latex object>"
      ]
     },
     "metadata": {},
     "output_type": "display_data"
    },
    {
     "data": {
      "text/latex": [
       "$\\Delta I_8 = 0.0430, \\lvert I_8 - I \\rvert = 0.0112.$"
      ],
      "text/plain": [
       "<IPython.core.display.Latex object>"
      ]
     },
     "metadata": {},
     "output_type": "display_data"
    },
    {
     "data": {
      "text/latex": [
       "$I_{4, 8} = 1.8893, \\lvert I_{4, 8} - I \\rvert = 0.0318.$"
      ],
      "text/plain": [
       "<IPython.core.display.Latex object>"
      ]
     },
     "metadata": {},
     "output_type": "display_data"
    },
    {
     "name": "stdout",
     "output_type": "stream",
     "text": [
      "- Method = simpson, p = 4"
     ]
    },
    {
     "data": {
      "text/latex": [
       "$I_4 = 1.8855, I_8 = 1.8893$"
      ],
      "text/plain": [
       "<IPython.core.display.Latex object>"
      ]
     },
     "metadata": {},
     "output_type": "display_data"
    },
    {
     "data": {
      "text/latex": [
       "$\\Delta I_4 = 0.0040, \\lvert I_4 - I \\rvert = 0.0281.$"
      ],
      "text/plain": [
       "<IPython.core.display.Latex object>"
      ]
     },
     "metadata": {},
     "output_type": "display_data"
    },
    {
     "data": {
      "text/latex": [
       "$\\Delta I_8 = 0.0002, \\lvert I_8 - I \\rvert = 0.0318.$"
      ],
      "text/plain": [
       "<IPython.core.display.Latex object>"
      ]
     },
     "metadata": {},
     "output_type": "display_data"
    },
    {
     "data": {
      "text/latex": [
       "$I_{4, 8} = 1.8895, \\lvert I_{4, 8} - I \\rvert = 0.0321.$"
      ],
      "text/plain": [
       "<IPython.core.display.Latex object>"
      ]
     },
     "metadata": {},
     "output_type": "display_data"
    }
   ],
   "source": [
    "I = integrate(f, (x, -2, 2)).evalf()\n",
    "print('Precise value of integral: %.5f' % I)\n",
    "print('Approximation results:')\n",
    "for method, p in zip(['left_rect', 'mid_rect', 'right_rect', 'trapeze', 'simpson'], [1, 2, 1, 2, 4]):\n",
    "    print('- Method = %s, p = %d' % (method, p), end='')\n",
    "    \n",
    "    I4 = integrate_nc(lambda x0: f.subs(x, x0), -2, 2, 4, method)\n",
    "    I8 = integrate_nc(lambda x0: f.subs(x, x0), -2, 2, 8, method)\n",
    "    display(Latex(\"$I_4 = %.4f, I_8 = %.4f$\" % (I4, I8)))\n",
    "    \n",
    "    delta_I4 = (I8 - I4) / (1 - 2**(-p))\n",
    "    delta_I8 = delta_I4 / 2**p   \n",
    "    display(Latex(\"$\\Delta I_4 = %.4f, \\\\lvert I_4 - I \\\\rvert = %.4f.$\" % (delta_I4, np.abs(I4 - I) ) ))\n",
    "    display(Latex(\"$\\Delta I_8 = %.4f, \\\\lvert I_8 - I \\\\rvert = %.4f.$\" % (delta_I8, np.abs(I8 - I) ) ))\n",
    "    \n",
    "    I_rich = I8 + 4**p / (8**p - 4**p) * (I8 - I4)\n",
    "    display(Latex(\"$I_{4, 8} = %.4f, \\\\lvert I_{4, 8} - I \\\\rvert = %.4f.$\" % (I_rich, np.abs(I_rich-I))))"
   ]
  },
  {
   "cell_type": "markdown",
   "metadata": {},
   "source": [
    "### Задача 2\n",
    "\n",
    "Теперь посчитаем численное значение интеграла $\\int\\limits_{1,4}^{2,1} \\frac{dx}{\\sqrt{3x^2-1}}$ так, чтобы абсолютная погрешность не превышала $\\eps = 0,5 \\cdot 10^{-3}$."
   ]
  },
  {
   "cell_type": "code",
   "execution_count": 5,
   "metadata": {},
   "outputs": [
    {
     "data": {
      "text/latex": [
       "$f(x)=\\frac{1}{\\sqrt{3 x^{2} - 1}}$"
      ],
      "text/plain": [
       "<IPython.core.display.Latex object>"
      ]
     },
     "metadata": {},
     "output_type": "display_data"
    },
    {
     "data": {
      "text/latex": [
       "$f''(x)=\\frac{18 x^{2} + 3}{\\left(3 x^{2} - 1\\right)^{\\frac{5}{2}}}$"
      ],
      "text/plain": [
       "<IPython.core.display.Latex object>"
      ]
     },
     "metadata": {},
     "output_type": "display_data"
    }
   ],
   "source": [
    "f = 1 / sqrt(3*x**2 - 1)\n",
    "display(Latex(\"$f(x)=\"+latex(f)+\"$\"))\n",
    "f_sec_deriv = f.diff(x, 2).simplify()\n",
    "display(Latex(\"$f''(x)=\"+latex(f_sec_deriv)+\"$\"))"
   ]
  },
  {
   "cell_type": "markdown",
   "metadata": {
    "collapsed": true
   },
   "source": [
    "Учитывая, что наша функция дважды непрерывно дифференцируема в области определения, для нахождения длины шага можем воспользоваться оценкой остаточного члена, которая указана выше. Итак, $h$ найдём из неравенства \n",
    "$h \\leq \\sqrt{ \\frac{24\\eps}{(b-a)M_2} }$, где $M_2$ - максимум модуля второй производной в области определения. "
   ]
  },
  {
   "cell_type": "code",
   "execution_count": 6,
   "metadata": {},
   "outputs": [
    {
     "data": {
      "text/latex": [
       "$M_2 = 0.728.$"
      ],
      "text/plain": [
       "<IPython.core.display.Latex object>"
      ]
     },
     "metadata": {},
     "output_type": "display_data"
    },
    {
     "name": "stdout",
     "output_type": "stream",
     "text": [
      "Desired step value: 0.153, requiered number of steps: 5.\n",
      "\n"
     ]
    }
   ],
   "source": [
    "res = minimize_scalar(lambda v: -f_sec_deriv.subs(x, v), bounds=(1.4, 2.1), method='Bounded')\n",
    "display(Latex(\"$M_2 = %.3f.$\" % (-res.fun)))\n",
    "\n",
    "h = np.sqrt(24 * 0.5e-3 / 0.7 / 0.728)\n",
    "print(\"Desired step value: %.3f, requiered number of steps: %d.\\n\" % (h, int(np.ceil(0.7 / h))))"
   ]
  },
  {
   "cell_type": "markdown",
   "metadata": {},
   "source": [
    "В нашем случае получаем, что шаг должен быть не больше, чем $0.153$, поэтому посчитаем интеграл, разбив отрезок на $5$ частей.\n",
    "В итоге получили действительно довольно близкое к точному значение интеграла."
   ]
  },
  {
   "cell_type": "code",
   "execution_count": 7,
   "metadata": {},
   "outputs": [
    {
     "name": "stdout",
     "output_type": "stream",
     "text": [
      "Approximate value of integral: 0.24901.\n",
      "Integration error: 0.00014 < 0,5·10⁻³\n"
     ]
    }
   ],
   "source": [
    "int_approx = integrate_nc(lambda v: f.subs(x, v), 1.4, 2.1, 6, method='mid_rect')\n",
    "int_precise = integrate(f, (x, 1.4, 2.1)).evalf()\n",
    "\n",
    "print(\"Approximate value of integral: %.5f.\" % int_approx)\n",
    "print(\"Integration error: %.5f < 0,5\\u00B710\\u207B\\u00B3\" % np.abs(int_approx - int_precise))"
   ]
  },
  {
   "cell_type": "markdown",
   "metadata": {},
   "source": [
    "### Формулы наивысшей степени алгебраической точности (в т.ч., формула Гаусса)\n",
    "\n"
   ]
  },
  {
   "cell_type": "code",
   "execution_count": 8,
   "metadata": {
    "collapsed": true
   },
   "outputs": [],
   "source": [
    "def integrate_gauss(func, a, b, n):\n",
    "    from numpy.polynomial import Legendre\n",
    "    \n",
    "    t = Legendre([0]*n+[1]).roots()\n",
    "    x = Legendre([0]*n+[1], domain=[a, b]).roots()\n",
    "    f = array(list(map(lambda x0: func(x0), x)))\n",
    "    P = Legendre([0]*(n-1)+[1])\n",
    "    A = np.zeros(n)\n",
    "    \n",
    "    for k in range(n):\n",
    "        A[k] = 2 * (1 - t[k]**2) / (n**2 * P(t[k])**2)\n",
    "    \n",
    "    return (b - a) * np.dot(A, f) / 2"
   ]
  },
  {
   "cell_type": "markdown",
   "metadata": {},
   "source": [
    "### Задача 3 \n",
    "\n",
    "По формуле Гаусса необходимо вычислить интеграл $\\int\\limits_{-0,5}^{1,3} \\frac{x^2 dx}{\\sqrt{x^2+1}}$ используя для оценки точности двойной пересчёт при  $n_1=4$ и $n_2=5$."
   ]
  },
  {
   "cell_type": "code",
   "execution_count": 9,
   "metadata": {},
   "outputs": [
    {
     "name": "stdout",
     "output_type": "stream",
     "text": [
      "Approximation with Gauss formula for n=4: 0.565516.\n",
      "Approximation with Gauss formula for n=5: 0.565793.\n",
      "Precise value of integral: 0.565756.\n"
     ]
    }
   ],
   "source": [
    "f = x**2 / sqrt(x**2 + 1)\n",
    "[a, b] = [-0.5, 1.3]\n",
    "[n1, n2] = [4, 5]\n",
    "\n",
    "In1 = integrate_gauss(lambda x0: f.subs(x, x0), a, b, n1)\n",
    "In2 = integrate_gauss(lambda x0: f.subs(x, x0), a, b, n2)\n",
    "print(\"Approximation with Gauss formula for n=4: %.6f.\" % In1)\n",
    "print(\"Approximation with Gauss formula for n=5: %.6f.\" % In2)\n",
    "\n",
    "I = integrate(f, (x, a, b))\n",
    "print(\"Precise value of integral: %.6f.\" % I)"
   ]
  },
  {
   "cell_type": "markdown",
   "metadata": {},
   "source": [
    "Будем считать верными те цифры, которые совпали для обоих способов. Итак, заключаем, что $\\hat{I}=0,565$. Как видим, значение достаточно близко к истинному."
   ]
  },
  {
   "cell_type": "markdown",
   "metadata": {},
   "source": [
    "## Численное дифференцирование\n",
    "\n",
    "\n",
    "Такие формулы можно получить с помощью разложения функции $f(x)$ по формуле Тейлора до 2-го или до 3-го порядка.\n",
    "Левая производная (в лекциях $y_{\\overline{x},i}$): $$f_i' ^{-} \\approx\\frac{f_{i+1}-f_i}{h}.$$\n",
    "Правая производная (в лекциях $y_{x, i})$: $$f_i' ^{+}\\approx\\frac{f_i - f_{i-1}}{h}.$$\n",
    "Эти производные имеют порядок погрешности $O(h)$.\n",
    "\n",
    "Центральная производная (в лекциях  $y_{\\overset{\\circ}{x}, i}$) уже имеет порядок погрешности $O(h^2)$:  $$f_i' ^{\\circ}\\approx\\frac{f_{i+1} - f_{i-1}}{2h}.$$\n",
    "\n",
    "Формула для второй производной (в лекциях $y_{\\overline{x}x, i}$): $$f_i'' ^{\\circ}\\approx\\frac{f_{i+1}-2f_i + f_{i-1}}{h^2}$$"
   ]
  },
  {
   "cell_type": "code",
   "execution_count": 10,
   "metadata": {
    "collapsed": true
   },
   "outputs": [],
   "source": [
    "def ndiff(func, a, b, h, how='mid'):\n",
    "    \n",
    "    x = linspace(a, b, int((b-a)/h + 1))\n",
    "    f = array(list(map(func, x)))\n",
    "    \n",
    "    if how == 'left':\n",
    "        return np.r_[f[1:] - f[:-1], np.nan] / h\n",
    "    elif how == 'right':\n",
    "        return np.r_[np.nan, f[1:] - f[:-1]] / h\n",
    "    elif how == 'mid':\n",
    "        return np.r_[np.nan, f[2:] - f[:-2], np.nan] / 2 / h\n",
    "    else:\n",
    "        raise ValueError('Incorrect value for \"how\" parameter.')\n",
    "\n",
    "def ndiff2(func, a, b, h):\n",
    "    \n",
    "    x = linspace(a, b, int((b-a)/h + 1))\n",
    "    f = array(list(map(func, x)))\n",
    "    return np.r_[np.nan, f[2:] - 2*f[1:-1] + f[:-2], np.nan] / h**2\n",
    "\n",
    "def ndiff_results(func, a, b, h):\n",
    "    from pandas import DataFrame, Series\n",
    "    \n",
    "    res = DataFrame(columns=['$x_i$', '$f_i$',\n",
    "                             \"$f_i' ^{-}$\", \"$f_i' ^{+}$\", \n",
    "                             \"$f_i' ^{\\circ}$\", \"$f_i'' ^{\\circ}$\"])\n",
    "    \n",
    "    x = linspace(a, b, int((b-a)/h + 1))\n",
    "    res.iloc[:, 0] = x\n",
    "    res.iloc[:, 1] = array(list(map(func, x)))\n",
    "    res.iloc[:, 2] = ndiff(func, a, b, h, 'left')\n",
    "    res.iloc[:, 3] = ndiff(func, a, b, h, 'right')\n",
    "    res.iloc[:, 4] = ndiff(func, a, b, h, 'mid')\n",
    "    res.iloc[:, 5] = ndiff2(func, a, b, h)\n",
    "    return res"
   ]
  },
  {
   "cell_type": "markdown",
   "metadata": {},
   "source": [
    "### Задача 4\n",
    "\n",
    "Составить таблицу производных $f_i' ^{-}$, $f_i' ^{+}$, $f_i' ^{\\circ}$, $f_i'' ^{\\circ}$ для функци $f(x) = \\arctan{\\frac{1}{x^2}} - x$ на отрезке $x\\in [-1,5; -0,5]$, положив шаг равным $0,1$."
   ]
  },
  {
   "cell_type": "code",
   "execution_count": 11,
   "metadata": {},
   "outputs": [
    {
     "data": {
      "text/latex": [
       "$f(x) = - x + \\operatorname{atan}{\\left (\\frac{1}{x^{2}} \\right )}.$"
      ],
      "text/plain": [
       "<IPython.core.display.Latex object>"
      ]
     },
     "metadata": {},
     "output_type": "display_data"
    },
    {
     "data": {
      "text/html": [
       "<div>\n",
       "<style>\n",
       "    .dataframe thead tr:only-child th {\n",
       "        text-align: right;\n",
       "    }\n",
       "\n",
       "    .dataframe thead th {\n",
       "        text-align: left;\n",
       "    }\n",
       "\n",
       "    .dataframe tbody tr th {\n",
       "        vertical-align: top;\n",
       "    }\n",
       "</style>\n",
       "<table border=\"1\" class=\"dataframe\">\n",
       "  <thead>\n",
       "    <tr style=\"text-align: right;\">\n",
       "      <th></th>\n",
       "      <th>$x_i$</th>\n",
       "      <th>$f_i$</th>\n",
       "      <th>$f_i' ^{-}$</th>\n",
       "      <th>$f_i' ^{+}$</th>\n",
       "      <th>$f_i' ^{\\circ}$</th>\n",
       "      <th>$f_i'' ^{\\circ}$</th>\n",
       "    </tr>\n",
       "  </thead>\n",
       "  <tbody>\n",
       "    <tr>\n",
       "      <th>0</th>\n",
       "      <td>-1.5</td>\n",
       "      <td>1.91822432957923</td>\n",
       "      <td>-0.464468183984792</td>\n",
       "      <td>NaN</td>\n",
       "      <td>NaN</td>\n",
       "      <td>NaN</td>\n",
       "    </tr>\n",
       "    <tr>\n",
       "      <th>1</th>\n",
       "      <td>-1.4</td>\n",
       "      <td>1.87177751118075</td>\n",
       "      <td>-0.374714718646096</td>\n",
       "      <td>-0.464468183984792</td>\n",
       "      <td>-0.419591451315444</td>\n",
       "      <td>0.897534653386955</td>\n",
       "    </tr>\n",
       "    <tr>\n",
       "      <th>2</th>\n",
       "      <td>-1.3</td>\n",
       "      <td>1.83430603931614</td>\n",
       "      <td>-0.273183752697324</td>\n",
       "      <td>-0.374714718646096</td>\n",
       "      <td>-0.323949235671710</td>\n",
       "      <td>1.01530965948773</td>\n",
       "    </tr>\n",
       "    <tr>\n",
       "      <th>3</th>\n",
       "      <td>-1.2</td>\n",
       "      <td>1.80698766404641</td>\n",
       "      <td>-0.163276686648315</td>\n",
       "      <td>-0.273183752697324</td>\n",
       "      <td>-0.218230219672819</td>\n",
       "      <td>1.09907066049009</td>\n",
       "    </tr>\n",
       "    <tr>\n",
       "      <th>4</th>\n",
       "      <td>-1.1</td>\n",
       "      <td>1.79065999538158</td>\n",
       "      <td>-0.0526183198412822</td>\n",
       "      <td>-0.163276686648315</td>\n",
       "      <td>-0.107947503244799</td>\n",
       "      <td>1.10658366807033</td>\n",
       "    </tr>\n",
       "    <tr>\n",
       "      <th>5</th>\n",
       "      <td>-1.0</td>\n",
       "      <td>1.78539816339745</td>\n",
       "      <td>0.0458933448162080</td>\n",
       "      <td>-0.0526183198412822</td>\n",
       "      <td>-0.00336248751253709</td>\n",
       "      <td>0.985116646574901</td>\n",
       "    </tr>\n",
       "    <tr>\n",
       "      <th>6</th>\n",
       "      <td>-0.9</td>\n",
       "      <td>1.78998749787907</td>\n",
       "      <td>0.114956378151656</td>\n",
       "      <td>0.0458933448162080</td>\n",
       "      <td>0.0804248614839320</td>\n",
       "      <td>0.690630333354480</td>\n",
       "    </tr>\n",
       "    <tr>\n",
       "      <th>7</th>\n",
       "      <td>-0.8</td>\n",
       "      <td>1.80148313569423</td>\n",
       "      <td>0.136975378894375</td>\n",
       "      <td>0.114956378151656</td>\n",
       "      <td>0.125965878523016</td>\n",
       "      <td>0.220190007427190</td>\n",
       "    </tr>\n",
       "    <tr>\n",
       "      <th>8</th>\n",
       "      <td>-0.7</td>\n",
       "      <td>1.81518067358367</td>\n",
       "      <td>0.100600726295124</td>\n",
       "      <td>0.136975378894375</td>\n",
       "      <td>0.118788052594749</td>\n",
       "      <td>-0.363746525992514</td>\n",
       "    </tr>\n",
       "    <tr>\n",
       "      <th>9</th>\n",
       "      <td>-0.6</td>\n",
       "      <td>1.82524074621318</td>\n",
       "      <td>0.00576917454848003</td>\n",
       "      <td>0.100600726295124</td>\n",
       "      <td>0.0531849504218018</td>\n",
       "      <td>-0.948315517466436</td>\n",
       "    </tr>\n",
       "    <tr>\n",
       "      <th>10</th>\n",
       "      <td>-0.5</td>\n",
       "      <td>1.82581766366803</td>\n",
       "      <td>NaN</td>\n",
       "      <td>0.00576917454848003</td>\n",
       "      <td>NaN</td>\n",
       "      <td>NaN</td>\n",
       "    </tr>\n",
       "  </tbody>\n",
       "</table>\n",
       "</div>"
      ],
      "text/plain": [
       "    $x_i$             $f_i$          $f_i' ^{-}$          $f_i' ^{+}$  \\\n",
       "0    -1.5  1.91822432957923   -0.464468183984792                  NaN   \n",
       "1    -1.4  1.87177751118075   -0.374714718646096   -0.464468183984792   \n",
       "2    -1.3  1.83430603931614   -0.273183752697324   -0.374714718646096   \n",
       "3    -1.2  1.80698766404641   -0.163276686648315   -0.273183752697324   \n",
       "4    -1.1  1.79065999538158  -0.0526183198412822   -0.163276686648315   \n",
       "5    -1.0  1.78539816339745   0.0458933448162080  -0.0526183198412822   \n",
       "6    -0.9  1.78998749787907    0.114956378151656   0.0458933448162080   \n",
       "7    -0.8  1.80148313569423    0.136975378894375    0.114956378151656   \n",
       "8    -0.7  1.81518067358367    0.100600726295124    0.136975378894375   \n",
       "9    -0.6  1.82524074621318  0.00576917454848003    0.100600726295124   \n",
       "10   -0.5  1.82581766366803                  NaN  0.00576917454848003   \n",
       "\n",
       "         $f_i' ^{\\circ}$    $f_i'' ^{\\circ}$  \n",
       "0                    NaN                 NaN  \n",
       "1     -0.419591451315444   0.897534653386955  \n",
       "2     -0.323949235671710    1.01530965948773  \n",
       "3     -0.218230219672819    1.09907066049009  \n",
       "4     -0.107947503244799    1.10658366807033  \n",
       "5   -0.00336248751253709   0.985116646574901  \n",
       "6     0.0804248614839320   0.690630333354480  \n",
       "7      0.125965878523016   0.220190007427190  \n",
       "8      0.118788052594749  -0.363746525992514  \n",
       "9     0.0531849504218018  -0.948315517466436  \n",
       "10                   NaN                 NaN  "
      ]
     },
     "execution_count": 11,
     "metadata": {},
     "output_type": "execute_result"
    }
   ],
   "source": [
    "f = atan(1 / x**2) - x\n",
    "display(Latex(\"$f(x) = {}.$\".format(latex(f))))\n",
    "res = ndiff_results(lambda x0: f.subs(x, x0), -1.5, -0.5, 0.1)\n",
    "res"
   ]
  },
  {
   "cell_type": "code",
   "execution_count": 20,
   "metadata": {},
   "outputs": [
    {
     "data": {
      "application/javascript": [
       "/* Put everything inside the global mpl namespace */\n",
       "window.mpl = {};\n",
       "\n",
       "\n",
       "mpl.get_websocket_type = function() {\n",
       "    if (typeof(WebSocket) !== 'undefined') {\n",
       "        return WebSocket;\n",
       "    } else if (typeof(MozWebSocket) !== 'undefined') {\n",
       "        return MozWebSocket;\n",
       "    } else {\n",
       "        alert('Your browser does not have WebSocket support.' +\n",
       "              'Please try Chrome, Safari or Firefox ≥ 6. ' +\n",
       "              'Firefox 4 and 5 are also supported but you ' +\n",
       "              'have to enable WebSockets in about:config.');\n",
       "    };\n",
       "}\n",
       "\n",
       "mpl.figure = function(figure_id, websocket, ondownload, parent_element) {\n",
       "    this.id = figure_id;\n",
       "\n",
       "    this.ws = websocket;\n",
       "\n",
       "    this.supports_binary = (this.ws.binaryType != undefined);\n",
       "\n",
       "    if (!this.supports_binary) {\n",
       "        var warnings = document.getElementById(\"mpl-warnings\");\n",
       "        if (warnings) {\n",
       "            warnings.style.display = 'block';\n",
       "            warnings.textContent = (\n",
       "                \"This browser does not support binary websocket messages. \" +\n",
       "                    \"Performance may be slow.\");\n",
       "        }\n",
       "    }\n",
       "\n",
       "    this.imageObj = new Image();\n",
       "\n",
       "    this.context = undefined;\n",
       "    this.message = undefined;\n",
       "    this.canvas = undefined;\n",
       "    this.rubberband_canvas = undefined;\n",
       "    this.rubberband_context = undefined;\n",
       "    this.format_dropdown = undefined;\n",
       "\n",
       "    this.image_mode = 'full';\n",
       "\n",
       "    this.root = $('<div/>');\n",
       "    this._root_extra_style(this.root)\n",
       "    this.root.attr('style', 'display: inline-block');\n",
       "\n",
       "    $(parent_element).append(this.root);\n",
       "\n",
       "    this._init_header(this);\n",
       "    this._init_canvas(this);\n",
       "    this._init_toolbar(this);\n",
       "\n",
       "    var fig = this;\n",
       "\n",
       "    this.waiting = false;\n",
       "\n",
       "    this.ws.onopen =  function () {\n",
       "            fig.send_message(\"supports_binary\", {value: fig.supports_binary});\n",
       "            fig.send_message(\"send_image_mode\", {});\n",
       "            if (mpl.ratio != 1) {\n",
       "                fig.send_message(\"set_dpi_ratio\", {'dpi_ratio': mpl.ratio});\n",
       "            }\n",
       "            fig.send_message(\"refresh\", {});\n",
       "        }\n",
       "\n",
       "    this.imageObj.onload = function() {\n",
       "            if (fig.image_mode == 'full') {\n",
       "                // Full images could contain transparency (where diff images\n",
       "                // almost always do), so we need to clear the canvas so that\n",
       "                // there is no ghosting.\n",
       "                fig.context.clearRect(0, 0, fig.canvas.width, fig.canvas.height);\n",
       "            }\n",
       "            fig.context.drawImage(fig.imageObj, 0, 0);\n",
       "        };\n",
       "\n",
       "    this.imageObj.onunload = function() {\n",
       "        this.ws.close();\n",
       "    }\n",
       "\n",
       "    this.ws.onmessage = this._make_on_message_function(this);\n",
       "\n",
       "    this.ondownload = ondownload;\n",
       "}\n",
       "\n",
       "mpl.figure.prototype._init_header = function() {\n",
       "    var titlebar = $(\n",
       "        '<div class=\"ui-dialog-titlebar ui-widget-header ui-corner-all ' +\n",
       "        'ui-helper-clearfix\"/>');\n",
       "    var titletext = $(\n",
       "        '<div class=\"ui-dialog-title\" style=\"width: 100%; ' +\n",
       "        'text-align: center; padding: 3px;\"/>');\n",
       "    titlebar.append(titletext)\n",
       "    this.root.append(titlebar);\n",
       "    this.header = titletext[0];\n",
       "}\n",
       "\n",
       "\n",
       "\n",
       "mpl.figure.prototype._canvas_extra_style = function(canvas_div) {\n",
       "\n",
       "}\n",
       "\n",
       "\n",
       "mpl.figure.prototype._root_extra_style = function(canvas_div) {\n",
       "\n",
       "}\n",
       "\n",
       "mpl.figure.prototype._init_canvas = function() {\n",
       "    var fig = this;\n",
       "\n",
       "    var canvas_div = $('<div/>');\n",
       "\n",
       "    canvas_div.attr('style', 'position: relative; clear: both; outline: 0');\n",
       "\n",
       "    function canvas_keyboard_event(event) {\n",
       "        return fig.key_event(event, event['data']);\n",
       "    }\n",
       "\n",
       "    canvas_div.keydown('key_press', canvas_keyboard_event);\n",
       "    canvas_div.keyup('key_release', canvas_keyboard_event);\n",
       "    this.canvas_div = canvas_div\n",
       "    this._canvas_extra_style(canvas_div)\n",
       "    this.root.append(canvas_div);\n",
       "\n",
       "    var canvas = $('<canvas/>');\n",
       "    canvas.addClass('mpl-canvas');\n",
       "    canvas.attr('style', \"left: 0; top: 0; z-index: 0; outline: 0\")\n",
       "\n",
       "    this.canvas = canvas[0];\n",
       "    this.context = canvas[0].getContext(\"2d\");\n",
       "\n",
       "    var backingStore = this.context.backingStorePixelRatio ||\n",
       "\tthis.context.webkitBackingStorePixelRatio ||\n",
       "\tthis.context.mozBackingStorePixelRatio ||\n",
       "\tthis.context.msBackingStorePixelRatio ||\n",
       "\tthis.context.oBackingStorePixelRatio ||\n",
       "\tthis.context.backingStorePixelRatio || 1;\n",
       "\n",
       "    mpl.ratio = (window.devicePixelRatio || 1) / backingStore;\n",
       "\n",
       "    var rubberband = $('<canvas/>');\n",
       "    rubberband.attr('style', \"position: absolute; left: 0; top: 0; z-index: 1;\")\n",
       "\n",
       "    var pass_mouse_events = true;\n",
       "\n",
       "    canvas_div.resizable({\n",
       "        start: function(event, ui) {\n",
       "            pass_mouse_events = false;\n",
       "        },\n",
       "        resize: function(event, ui) {\n",
       "            fig.request_resize(ui.size.width, ui.size.height);\n",
       "        },\n",
       "        stop: function(event, ui) {\n",
       "            pass_mouse_events = true;\n",
       "            fig.request_resize(ui.size.width, ui.size.height);\n",
       "        },\n",
       "    });\n",
       "\n",
       "    function mouse_event_fn(event) {\n",
       "        if (pass_mouse_events)\n",
       "            return fig.mouse_event(event, event['data']);\n",
       "    }\n",
       "\n",
       "    rubberband.mousedown('button_press', mouse_event_fn);\n",
       "    rubberband.mouseup('button_release', mouse_event_fn);\n",
       "    // Throttle sequential mouse events to 1 every 20ms.\n",
       "    rubberband.mousemove('motion_notify', mouse_event_fn);\n",
       "\n",
       "    rubberband.mouseenter('figure_enter', mouse_event_fn);\n",
       "    rubberband.mouseleave('figure_leave', mouse_event_fn);\n",
       "\n",
       "    canvas_div.on(\"wheel\", function (event) {\n",
       "        event = event.originalEvent;\n",
       "        event['data'] = 'scroll'\n",
       "        if (event.deltaY < 0) {\n",
       "            event.step = 1;\n",
       "        } else {\n",
       "            event.step = -1;\n",
       "        }\n",
       "        mouse_event_fn(event);\n",
       "    });\n",
       "\n",
       "    canvas_div.append(canvas);\n",
       "    canvas_div.append(rubberband);\n",
       "\n",
       "    this.rubberband = rubberband;\n",
       "    this.rubberband_canvas = rubberband[0];\n",
       "    this.rubberband_context = rubberband[0].getContext(\"2d\");\n",
       "    this.rubberband_context.strokeStyle = \"#000000\";\n",
       "\n",
       "    this._resize_canvas = function(width, height) {\n",
       "        // Keep the size of the canvas, canvas container, and rubber band\n",
       "        // canvas in synch.\n",
       "        canvas_div.css('width', width)\n",
       "        canvas_div.css('height', height)\n",
       "\n",
       "        canvas.attr('width', width * mpl.ratio);\n",
       "        canvas.attr('height', height * mpl.ratio);\n",
       "        canvas.attr('style', 'width: ' + width + 'px; height: ' + height + 'px;');\n",
       "\n",
       "        rubberband.attr('width', width);\n",
       "        rubberband.attr('height', height);\n",
       "    }\n",
       "\n",
       "    // Set the figure to an initial 600x600px, this will subsequently be updated\n",
       "    // upon first draw.\n",
       "    this._resize_canvas(600, 600);\n",
       "\n",
       "    // Disable right mouse context menu.\n",
       "    $(this.rubberband_canvas).bind(\"contextmenu\",function(e){\n",
       "        return false;\n",
       "    });\n",
       "\n",
       "    function set_focus () {\n",
       "        canvas.focus();\n",
       "        canvas_div.focus();\n",
       "    }\n",
       "\n",
       "    window.setTimeout(set_focus, 100);\n",
       "}\n",
       "\n",
       "mpl.figure.prototype._init_toolbar = function() {\n",
       "    var fig = this;\n",
       "\n",
       "    var nav_element = $('<div/>')\n",
       "    nav_element.attr('style', 'width: 100%');\n",
       "    this.root.append(nav_element);\n",
       "\n",
       "    // Define a callback function for later on.\n",
       "    function toolbar_event(event) {\n",
       "        return fig.toolbar_button_onclick(event['data']);\n",
       "    }\n",
       "    function toolbar_mouse_event(event) {\n",
       "        return fig.toolbar_button_onmouseover(event['data']);\n",
       "    }\n",
       "\n",
       "    for(var toolbar_ind in mpl.toolbar_items) {\n",
       "        var name = mpl.toolbar_items[toolbar_ind][0];\n",
       "        var tooltip = mpl.toolbar_items[toolbar_ind][1];\n",
       "        var image = mpl.toolbar_items[toolbar_ind][2];\n",
       "        var method_name = mpl.toolbar_items[toolbar_ind][3];\n",
       "\n",
       "        if (!name) {\n",
       "            // put a spacer in here.\n",
       "            continue;\n",
       "        }\n",
       "        var button = $('<button/>');\n",
       "        button.addClass('ui-button ui-widget ui-state-default ui-corner-all ' +\n",
       "                        'ui-button-icon-only');\n",
       "        button.attr('role', 'button');\n",
       "        button.attr('aria-disabled', 'false');\n",
       "        button.click(method_name, toolbar_event);\n",
       "        button.mouseover(tooltip, toolbar_mouse_event);\n",
       "\n",
       "        var icon_img = $('<span/>');\n",
       "        icon_img.addClass('ui-button-icon-primary ui-icon');\n",
       "        icon_img.addClass(image);\n",
       "        icon_img.addClass('ui-corner-all');\n",
       "\n",
       "        var tooltip_span = $('<span/>');\n",
       "        tooltip_span.addClass('ui-button-text');\n",
       "        tooltip_span.html(tooltip);\n",
       "\n",
       "        button.append(icon_img);\n",
       "        button.append(tooltip_span);\n",
       "\n",
       "        nav_element.append(button);\n",
       "    }\n",
       "\n",
       "    var fmt_picker_span = $('<span/>');\n",
       "\n",
       "    var fmt_picker = $('<select/>');\n",
       "    fmt_picker.addClass('mpl-toolbar-option ui-widget ui-widget-content');\n",
       "    fmt_picker_span.append(fmt_picker);\n",
       "    nav_element.append(fmt_picker_span);\n",
       "    this.format_dropdown = fmt_picker[0];\n",
       "\n",
       "    for (var ind in mpl.extensions) {\n",
       "        var fmt = mpl.extensions[ind];\n",
       "        var option = $(\n",
       "            '<option/>', {selected: fmt === mpl.default_extension}).html(fmt);\n",
       "        fmt_picker.append(option)\n",
       "    }\n",
       "\n",
       "    // Add hover states to the ui-buttons\n",
       "    $( \".ui-button\" ).hover(\n",
       "        function() { $(this).addClass(\"ui-state-hover\");},\n",
       "        function() { $(this).removeClass(\"ui-state-hover\");}\n",
       "    );\n",
       "\n",
       "    var status_bar = $('<span class=\"mpl-message\"/>');\n",
       "    nav_element.append(status_bar);\n",
       "    this.message = status_bar[0];\n",
       "}\n",
       "\n",
       "mpl.figure.prototype.request_resize = function(x_pixels, y_pixels) {\n",
       "    // Request matplotlib to resize the figure. Matplotlib will then trigger a resize in the client,\n",
       "    // which will in turn request a refresh of the image.\n",
       "    this.send_message('resize', {'width': x_pixels, 'height': y_pixels});\n",
       "}\n",
       "\n",
       "mpl.figure.prototype.send_message = function(type, properties) {\n",
       "    properties['type'] = type;\n",
       "    properties['figure_id'] = this.id;\n",
       "    this.ws.send(JSON.stringify(properties));\n",
       "}\n",
       "\n",
       "mpl.figure.prototype.send_draw_message = function() {\n",
       "    if (!this.waiting) {\n",
       "        this.waiting = true;\n",
       "        this.ws.send(JSON.stringify({type: \"draw\", figure_id: this.id}));\n",
       "    }\n",
       "}\n",
       "\n",
       "\n",
       "mpl.figure.prototype.handle_save = function(fig, msg) {\n",
       "    var format_dropdown = fig.format_dropdown;\n",
       "    var format = format_dropdown.options[format_dropdown.selectedIndex].value;\n",
       "    fig.ondownload(fig, format);\n",
       "}\n",
       "\n",
       "\n",
       "mpl.figure.prototype.handle_resize = function(fig, msg) {\n",
       "    var size = msg['size'];\n",
       "    if (size[0] != fig.canvas.width || size[1] != fig.canvas.height) {\n",
       "        fig._resize_canvas(size[0], size[1]);\n",
       "        fig.send_message(\"refresh\", {});\n",
       "    };\n",
       "}\n",
       "\n",
       "mpl.figure.prototype.handle_rubberband = function(fig, msg) {\n",
       "    var x0 = msg['x0'] / mpl.ratio;\n",
       "    var y0 = (fig.canvas.height - msg['y0']) / mpl.ratio;\n",
       "    var x1 = msg['x1'] / mpl.ratio;\n",
       "    var y1 = (fig.canvas.height - msg['y1']) / mpl.ratio;\n",
       "    x0 = Math.floor(x0) + 0.5;\n",
       "    y0 = Math.floor(y0) + 0.5;\n",
       "    x1 = Math.floor(x1) + 0.5;\n",
       "    y1 = Math.floor(y1) + 0.5;\n",
       "    var min_x = Math.min(x0, x1);\n",
       "    var min_y = Math.min(y0, y1);\n",
       "    var width = Math.abs(x1 - x0);\n",
       "    var height = Math.abs(y1 - y0);\n",
       "\n",
       "    fig.rubberband_context.clearRect(\n",
       "        0, 0, fig.canvas.width, fig.canvas.height);\n",
       "\n",
       "    fig.rubberband_context.strokeRect(min_x, min_y, width, height);\n",
       "}\n",
       "\n",
       "mpl.figure.prototype.handle_figure_label = function(fig, msg) {\n",
       "    // Updates the figure title.\n",
       "    fig.header.textContent = msg['label'];\n",
       "}\n",
       "\n",
       "mpl.figure.prototype.handle_cursor = function(fig, msg) {\n",
       "    var cursor = msg['cursor'];\n",
       "    switch(cursor)\n",
       "    {\n",
       "    case 0:\n",
       "        cursor = 'pointer';\n",
       "        break;\n",
       "    case 1:\n",
       "        cursor = 'default';\n",
       "        break;\n",
       "    case 2:\n",
       "        cursor = 'crosshair';\n",
       "        break;\n",
       "    case 3:\n",
       "        cursor = 'move';\n",
       "        break;\n",
       "    }\n",
       "    fig.rubberband_canvas.style.cursor = cursor;\n",
       "}\n",
       "\n",
       "mpl.figure.prototype.handle_message = function(fig, msg) {\n",
       "    fig.message.textContent = msg['message'];\n",
       "}\n",
       "\n",
       "mpl.figure.prototype.handle_draw = function(fig, msg) {\n",
       "    // Request the server to send over a new figure.\n",
       "    fig.send_draw_message();\n",
       "}\n",
       "\n",
       "mpl.figure.prototype.handle_image_mode = function(fig, msg) {\n",
       "    fig.image_mode = msg['mode'];\n",
       "}\n",
       "\n",
       "mpl.figure.prototype.updated_canvas_event = function() {\n",
       "    // Called whenever the canvas gets updated.\n",
       "    this.send_message(\"ack\", {});\n",
       "}\n",
       "\n",
       "// A function to construct a web socket function for onmessage handling.\n",
       "// Called in the figure constructor.\n",
       "mpl.figure.prototype._make_on_message_function = function(fig) {\n",
       "    return function socket_on_message(evt) {\n",
       "        if (evt.data instanceof Blob) {\n",
       "            /* FIXME: We get \"Resource interpreted as Image but\n",
       "             * transferred with MIME type text/plain:\" errors on\n",
       "             * Chrome.  But how to set the MIME type?  It doesn't seem\n",
       "             * to be part of the websocket stream */\n",
       "            evt.data.type = \"image/png\";\n",
       "\n",
       "            /* Free the memory for the previous frames */\n",
       "            if (fig.imageObj.src) {\n",
       "                (window.URL || window.webkitURL).revokeObjectURL(\n",
       "                    fig.imageObj.src);\n",
       "            }\n",
       "\n",
       "            fig.imageObj.src = (window.URL || window.webkitURL).createObjectURL(\n",
       "                evt.data);\n",
       "            fig.updated_canvas_event();\n",
       "            fig.waiting = false;\n",
       "            return;\n",
       "        }\n",
       "        else if (typeof evt.data === 'string' && evt.data.slice(0, 21) == \"data:image/png;base64\") {\n",
       "            fig.imageObj.src = evt.data;\n",
       "            fig.updated_canvas_event();\n",
       "            fig.waiting = false;\n",
       "            return;\n",
       "        }\n",
       "\n",
       "        var msg = JSON.parse(evt.data);\n",
       "        var msg_type = msg['type'];\n",
       "\n",
       "        // Call the  \"handle_{type}\" callback, which takes\n",
       "        // the figure and JSON message as its only arguments.\n",
       "        try {\n",
       "            var callback = fig[\"handle_\" + msg_type];\n",
       "        } catch (e) {\n",
       "            console.log(\"No handler for the '\" + msg_type + \"' message type: \", msg);\n",
       "            return;\n",
       "        }\n",
       "\n",
       "        if (callback) {\n",
       "            try {\n",
       "                // console.log(\"Handling '\" + msg_type + \"' message: \", msg);\n",
       "                callback(fig, msg);\n",
       "            } catch (e) {\n",
       "                console.log(\"Exception inside the 'handler_\" + msg_type + \"' callback:\", e, e.stack, msg);\n",
       "            }\n",
       "        }\n",
       "    };\n",
       "}\n",
       "\n",
       "// from http://stackoverflow.com/questions/1114465/getting-mouse-location-in-canvas\n",
       "mpl.findpos = function(e) {\n",
       "    //this section is from http://www.quirksmode.org/js/events_properties.html\n",
       "    var targ;\n",
       "    if (!e)\n",
       "        e = window.event;\n",
       "    if (e.target)\n",
       "        targ = e.target;\n",
       "    else if (e.srcElement)\n",
       "        targ = e.srcElement;\n",
       "    if (targ.nodeType == 3) // defeat Safari bug\n",
       "        targ = targ.parentNode;\n",
       "\n",
       "    // jQuery normalizes the pageX and pageY\n",
       "    // pageX,Y are the mouse positions relative to the document\n",
       "    // offset() returns the position of the element relative to the document\n",
       "    var x = e.pageX - $(targ).offset().left;\n",
       "    var y = e.pageY - $(targ).offset().top;\n",
       "\n",
       "    return {\"x\": x, \"y\": y};\n",
       "};\n",
       "\n",
       "/*\n",
       " * return a copy of an object with only non-object keys\n",
       " * we need this to avoid circular references\n",
       " * http://stackoverflow.com/a/24161582/3208463\n",
       " */\n",
       "function simpleKeys (original) {\n",
       "  return Object.keys(original).reduce(function (obj, key) {\n",
       "    if (typeof original[key] !== 'object')\n",
       "        obj[key] = original[key]\n",
       "    return obj;\n",
       "  }, {});\n",
       "}\n",
       "\n",
       "mpl.figure.prototype.mouse_event = function(event, name) {\n",
       "    var canvas_pos = mpl.findpos(event)\n",
       "\n",
       "    if (name === 'button_press')\n",
       "    {\n",
       "        this.canvas.focus();\n",
       "        this.canvas_div.focus();\n",
       "    }\n",
       "\n",
       "    var x = canvas_pos.x * mpl.ratio;\n",
       "    var y = canvas_pos.y * mpl.ratio;\n",
       "\n",
       "    this.send_message(name, {x: x, y: y, button: event.button,\n",
       "                             step: event.step,\n",
       "                             guiEvent: simpleKeys(event)});\n",
       "\n",
       "    /* This prevents the web browser from automatically changing to\n",
       "     * the text insertion cursor when the button is pressed.  We want\n",
       "     * to control all of the cursor setting manually through the\n",
       "     * 'cursor' event from matplotlib */\n",
       "    event.preventDefault();\n",
       "    return false;\n",
       "}\n",
       "\n",
       "mpl.figure.prototype._key_event_extra = function(event, name) {\n",
       "    // Handle any extra behaviour associated with a key event\n",
       "}\n",
       "\n",
       "mpl.figure.prototype.key_event = function(event, name) {\n",
       "\n",
       "    // Prevent repeat events\n",
       "    if (name == 'key_press')\n",
       "    {\n",
       "        if (event.which === this._key)\n",
       "            return;\n",
       "        else\n",
       "            this._key = event.which;\n",
       "    }\n",
       "    if (name == 'key_release')\n",
       "        this._key = null;\n",
       "\n",
       "    var value = '';\n",
       "    if (event.ctrlKey && event.which != 17)\n",
       "        value += \"ctrl+\";\n",
       "    if (event.altKey && event.which != 18)\n",
       "        value += \"alt+\";\n",
       "    if (event.shiftKey && event.which != 16)\n",
       "        value += \"shift+\";\n",
       "\n",
       "    value += 'k';\n",
       "    value += event.which.toString();\n",
       "\n",
       "    this._key_event_extra(event, name);\n",
       "\n",
       "    this.send_message(name, {key: value,\n",
       "                             guiEvent: simpleKeys(event)});\n",
       "    return false;\n",
       "}\n",
       "\n",
       "mpl.figure.prototype.toolbar_button_onclick = function(name) {\n",
       "    if (name == 'download') {\n",
       "        this.handle_save(this, null);\n",
       "    } else {\n",
       "        this.send_message(\"toolbar_button\", {name: name});\n",
       "    }\n",
       "};\n",
       "\n",
       "mpl.figure.prototype.toolbar_button_onmouseover = function(tooltip) {\n",
       "    this.message.textContent = tooltip;\n",
       "};\n",
       "mpl.toolbar_items = [[\"Home\", \"Reset original view\", \"fa fa-home icon-home\", \"home\"], [\"Back\", \"Back to  previous view\", \"fa fa-arrow-left icon-arrow-left\", \"back\"], [\"Forward\", \"Forward to next view\", \"fa fa-arrow-right icon-arrow-right\", \"forward\"], [\"\", \"\", \"\", \"\"], [\"Pan\", \"Pan axes with left mouse, zoom with right\", \"fa fa-arrows icon-move\", \"pan\"], [\"Zoom\", \"Zoom to rectangle\", \"fa fa-square-o icon-check-empty\", \"zoom\"], [\"\", \"\", \"\", \"\"], [\"Download\", \"Download plot\", \"fa fa-floppy-o icon-save\", \"download\"]];\n",
       "\n",
       "mpl.extensions = [\"eps\", \"jpeg\", \"pdf\", \"png\", \"ps\", \"raw\", \"svg\", \"tif\"];\n",
       "\n",
       "mpl.default_extension = \"png\";var comm_websocket_adapter = function(comm) {\n",
       "    // Create a \"websocket\"-like object which calls the given IPython comm\n",
       "    // object with the appropriate methods. Currently this is a non binary\n",
       "    // socket, so there is still some room for performance tuning.\n",
       "    var ws = {};\n",
       "\n",
       "    ws.close = function() {\n",
       "        comm.close()\n",
       "    };\n",
       "    ws.send = function(m) {\n",
       "        //console.log('sending', m);\n",
       "        comm.send(m);\n",
       "    };\n",
       "    // Register the callback with on_msg.\n",
       "    comm.on_msg(function(msg) {\n",
       "        //console.log('receiving', msg['content']['data'], msg);\n",
       "        // Pass the mpl event to the overriden (by mpl) onmessage function.\n",
       "        ws.onmessage(msg['content']['data'])\n",
       "    });\n",
       "    return ws;\n",
       "}\n",
       "\n",
       "mpl.mpl_figure_comm = function(comm, msg) {\n",
       "    // This is the function which gets called when the mpl process\n",
       "    // starts-up an IPython Comm through the \"matplotlib\" channel.\n",
       "\n",
       "    var id = msg.content.data.id;\n",
       "    // Get hold of the div created by the display call when the Comm\n",
       "    // socket was opened in Python.\n",
       "    var element = $(\"#\" + id);\n",
       "    var ws_proxy = comm_websocket_adapter(comm)\n",
       "\n",
       "    function ondownload(figure, format) {\n",
       "        window.open(figure.imageObj.src);\n",
       "    }\n",
       "\n",
       "    var fig = new mpl.figure(id, ws_proxy,\n",
       "                           ondownload,\n",
       "                           element.get(0));\n",
       "\n",
       "    // Call onopen now - mpl needs it, as it is assuming we've passed it a real\n",
       "    // web socket which is closed, not our websocket->open comm proxy.\n",
       "    ws_proxy.onopen();\n",
       "\n",
       "    fig.parent_element = element.get(0);\n",
       "    fig.cell_info = mpl.find_output_cell(\"<div id='\" + id + \"'></div>\");\n",
       "    if (!fig.cell_info) {\n",
       "        console.error(\"Failed to find cell for figure\", id, fig);\n",
       "        return;\n",
       "    }\n",
       "\n",
       "    var output_index = fig.cell_info[2]\n",
       "    var cell = fig.cell_info[0];\n",
       "\n",
       "};\n",
       "\n",
       "mpl.figure.prototype.handle_close = function(fig, msg) {\n",
       "    var width = fig.canvas.width/mpl.ratio\n",
       "    fig.root.unbind('remove')\n",
       "\n",
       "    // Update the output cell to use the data from the current canvas.\n",
       "    fig.push_to_output();\n",
       "    var dataURL = fig.canvas.toDataURL();\n",
       "    // Re-enable the keyboard manager in IPython - without this line, in FF,\n",
       "    // the notebook keyboard shortcuts fail.\n",
       "    IPython.keyboard_manager.enable()\n",
       "    $(fig.parent_element).html('<img src=\"' + dataURL + '\" width=\"' + width + '\">');\n",
       "    fig.close_ws(fig, msg);\n",
       "}\n",
       "\n",
       "mpl.figure.prototype.close_ws = function(fig, msg){\n",
       "    fig.send_message('closing', msg);\n",
       "    // fig.ws.close()\n",
       "}\n",
       "\n",
       "mpl.figure.prototype.push_to_output = function(remove_interactive) {\n",
       "    // Turn the data on the canvas into data in the output cell.\n",
       "    var width = this.canvas.width/mpl.ratio\n",
       "    var dataURL = this.canvas.toDataURL();\n",
       "    this.cell_info[1]['text/html'] = '<img src=\"' + dataURL + '\" width=\"' + width + '\">';\n",
       "}\n",
       "\n",
       "mpl.figure.prototype.updated_canvas_event = function() {\n",
       "    // Tell IPython that the notebook contents must change.\n",
       "    IPython.notebook.set_dirty(true);\n",
       "    this.send_message(\"ack\", {});\n",
       "    var fig = this;\n",
       "    // Wait a second, then push the new image to the DOM so\n",
       "    // that it is saved nicely (might be nice to debounce this).\n",
       "    setTimeout(function () { fig.push_to_output() }, 1000);\n",
       "}\n",
       "\n",
       "mpl.figure.prototype._init_toolbar = function() {\n",
       "    var fig = this;\n",
       "\n",
       "    var nav_element = $('<div/>')\n",
       "    nav_element.attr('style', 'width: 100%');\n",
       "    this.root.append(nav_element);\n",
       "\n",
       "    // Define a callback function for later on.\n",
       "    function toolbar_event(event) {\n",
       "        return fig.toolbar_button_onclick(event['data']);\n",
       "    }\n",
       "    function toolbar_mouse_event(event) {\n",
       "        return fig.toolbar_button_onmouseover(event['data']);\n",
       "    }\n",
       "\n",
       "    for(var toolbar_ind in mpl.toolbar_items){\n",
       "        var name = mpl.toolbar_items[toolbar_ind][0];\n",
       "        var tooltip = mpl.toolbar_items[toolbar_ind][1];\n",
       "        var image = mpl.toolbar_items[toolbar_ind][2];\n",
       "        var method_name = mpl.toolbar_items[toolbar_ind][3];\n",
       "\n",
       "        if (!name) { continue; };\n",
       "\n",
       "        var button = $('<button class=\"btn btn-default\" href=\"#\" title=\"' + name + '\"><i class=\"fa ' + image + ' fa-lg\"></i></button>');\n",
       "        button.click(method_name, toolbar_event);\n",
       "        button.mouseover(tooltip, toolbar_mouse_event);\n",
       "        nav_element.append(button);\n",
       "    }\n",
       "\n",
       "    // Add the status bar.\n",
       "    var status_bar = $('<span class=\"mpl-message\" style=\"text-align:right; float: right;\"/>');\n",
       "    nav_element.append(status_bar);\n",
       "    this.message = status_bar[0];\n",
       "\n",
       "    // Add the close button to the window.\n",
       "    var buttongrp = $('<div class=\"btn-group inline pull-right\"></div>');\n",
       "    var button = $('<button class=\"btn btn-mini btn-primary\" href=\"#\" title=\"Stop Interaction\"><i class=\"fa fa-power-off icon-remove icon-large\"></i></button>');\n",
       "    button.click(function (evt) { fig.handle_close(fig, {}); } );\n",
       "    button.mouseover('Stop Interaction', toolbar_mouse_event);\n",
       "    buttongrp.append(button);\n",
       "    var titlebar = this.root.find($('.ui-dialog-titlebar'));\n",
       "    titlebar.prepend(buttongrp);\n",
       "}\n",
       "\n",
       "mpl.figure.prototype._root_extra_style = function(el){\n",
       "    var fig = this\n",
       "    el.on(\"remove\", function(){\n",
       "\tfig.close_ws(fig, {});\n",
       "    });\n",
       "}\n",
       "\n",
       "mpl.figure.prototype._canvas_extra_style = function(el){\n",
       "    // this is important to make the div 'focusable\n",
       "    el.attr('tabindex', 0)\n",
       "    // reach out to IPython and tell the keyboard manager to turn it's self\n",
       "    // off when our div gets focus\n",
       "\n",
       "    // location in version 3\n",
       "    if (IPython.notebook.keyboard_manager) {\n",
       "        IPython.notebook.keyboard_manager.register_events(el);\n",
       "    }\n",
       "    else {\n",
       "        // location in version 2\n",
       "        IPython.keyboard_manager.register_events(el);\n",
       "    }\n",
       "\n",
       "}\n",
       "\n",
       "mpl.figure.prototype._key_event_extra = function(event, name) {\n",
       "    var manager = IPython.notebook.keyboard_manager;\n",
       "    if (!manager)\n",
       "        manager = IPython.keyboard_manager;\n",
       "\n",
       "    // Check for shift+enter\n",
       "    if (event.shiftKey && event.which == 13) {\n",
       "        this.canvas_div.blur();\n",
       "        // select the cell after this one\n",
       "        var index = IPython.notebook.find_cell_index(this.cell_info[0]);\n",
       "        IPython.notebook.select(index + 1);\n",
       "    }\n",
       "}\n",
       "\n",
       "mpl.figure.prototype.handle_save = function(fig, msg) {\n",
       "    fig.ondownload(fig, null);\n",
       "}\n",
       "\n",
       "\n",
       "mpl.find_output_cell = function(html_output) {\n",
       "    // Return the cell and output element which can be found *uniquely* in the notebook.\n",
       "    // Note - this is a bit hacky, but it is done because the \"notebook_saving.Notebook\"\n",
       "    // IPython event is triggered only after the cells have been serialised, which for\n",
       "    // our purposes (turning an active figure into a static one), is too late.\n",
       "    var cells = IPython.notebook.get_cells();\n",
       "    var ncells = cells.length;\n",
       "    for (var i=0; i<ncells; i++) {\n",
       "        var cell = cells[i];\n",
       "        if (cell.cell_type === 'code'){\n",
       "            for (var j=0; j<cell.output_area.outputs.length; j++) {\n",
       "                var data = cell.output_area.outputs[j];\n",
       "                if (data.data) {\n",
       "                    // IPython >= 3 moved mimebundle to data attribute of output\n",
       "                    data = data.data;\n",
       "                }\n",
       "                if (data['text/html'] == html_output) {\n",
       "                    return [cell, data, j];\n",
       "                }\n",
       "            }\n",
       "        }\n",
       "    }\n",
       "}\n",
       "\n",
       "// Register the function which deals with the matplotlib target/channel.\n",
       "// The kernel may be null if the page has been refreshed.\n",
       "if (IPython.notebook.kernel != null) {\n",
       "    IPython.notebook.kernel.comm_manager.register_target('matplotlib', mpl.mpl_figure_comm);\n",
       "}\n"
      ],
      "text/plain": [
       "<IPython.core.display.Javascript object>"
      ]
     },
     "metadata": {},
     "output_type": "display_data"
    },
    {
     "data": {
      "text/html": [
       "<img src=\"data:image/png;base64,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\" width=\"800\">"
      ],
      "text/plain": [
       "<IPython.core.display.HTML object>"
      ]
     },
     "metadata": {},
     "output_type": "display_data"
    }
   ],
   "source": [
    "fig, axes = plt.subplots(1, 2, sharex=True, figsize=(8, 3))\n",
    "x_grid = linspace(-1.5, -0.5, 101)\n",
    "axes[0].set_xlim(-1.6, -0.4);\n",
    "for ax in axes:\n",
    "    ax.set_xticklabels(res.iloc[:, 0], rotation=45)\n",
    "    ax.set_xticks(res.iloc[:, 0])\n",
    "    \n",
    "axes[0].scatter(res.iloc[:, 0], res.iloc[:, 2], label=\"$f_i' ^{-}$\", s=10)\n",
    "axes[0].scatter(res.iloc[:, 0], res.iloc[:, 3], label=\"$f_i' ^{+}$\", s=10, c='r')\n",
    "axes[0].scatter(res.iloc[:, 0], res.iloc[:, 4], label=\"$f_i' ^{\\circ}$\", s=10, c='g')\n",
    "axes[0].plot(x_grid, list(map(lambda v: f.diff(x).subs(x, v), x_grid)), linewidth=1, c='black', label=\"$f'(x)$\")\n",
    "axes[0].legend()\n",
    "\n",
    "axes[1].scatter(res.iloc[:, 0], res.iloc[:, -1], label=\"$f_i'' ^{\\circ}$\", s=10, c='r')\n",
    "axes[1].plot(x_grid, list(map(lambda v: f.diff(x, 2).subs(x, v), x_grid)), linewidth=1, c='black', label=\"$f''(x)$\")\n",
    "axes[1].legend();"
   ]
  }
 ],
 "metadata": {
  "kernelspec": {
   "display_name": "Python 3",
   "language": "python",
   "name": "python3"
  },
  "language_info": {
   "codemirror_mode": {
    "name": "ipython",
    "version": 3
   },
   "file_extension": ".py",
   "mimetype": "text/x-python",
   "name": "python",
   "nbconvert_exporter": "python",
   "pygments_lexer": "ipython3",
   "version": "3.6.0"
  }
 },
 "nbformat": 4,
 "nbformat_minor": 2
}
