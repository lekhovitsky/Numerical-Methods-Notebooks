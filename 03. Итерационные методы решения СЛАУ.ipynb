{
 "cells": [
  {
   "cell_type": "code",
   "execution_count": 1,
   "metadata": {
    "collapsed": true
   },
   "outputs": [],
   "source": [
    "import numpy as np\n",
    "import scipy as sp\n",
    "from numpy import array, dot\n",
    "from numpy.linalg import inv, norm"
   ]
  },
  {
   "cell_type": "markdown",
   "metadata": {},
   "source": [
    "## Общие сведения\n",
    "\n",
    "Итерационные методы полезно применять в случае, если не выполняются условия эффективного применения прямых, например, если размерность задачи достаточно велика. Общая идея заключается в том, что вместо поиска самого решения системы $A\\mathbf{x}=\\mathbf{b}$ строится последовательность векторов $\\mathbf{x}^{(0)}, \\mathbf{x}^{(1)}, ..., \\mathbf{x}^{(k)}...$, о которой заранее известно, что она сходится к истинному решению. Когда элементы последовательности начинают находится достаточно близко друг к другу, итерационный процесс прекращают и в качестве решения системы принимают один из последних элементов построенной последовательности.\n",
    "\n",
    "Мы будем рассматривать _однослойные_ итерационные методы, т.е. такие, что значение нового элемента последовательности вычисляется с использованием только одного последнего элемента построенной последовательности ($\\mathbf{x}^{(k+1)}=F(\\mathbf{x}^{(k)})$). Однослойные итерационные методы можно записывать в двух формах:\n",
    "\n",
    "1) Каноническая: $$B_{k+1}\\frac{\\mathbf{x}^{(k+1)}-\\mathbf{x}^{(k)}}{\\tau_{k+1}}+A\\mathbf{x}^{(k)}=\\mathbf{b}$$\n",
    "\n",
    "2) Метод последовательных приближений\n",
    "\n",
    "\n",
    "\n",
    "Здесь можем обозначить $S=E-\\tau A$, $\\mathbf{f}=\\tau \\mathbf{b}$\n",
    "\n"
   ]
  },
  {
   "cell_type": "markdown",
   "metadata": {},
   "source": [
    "Условия сходимости в общем случае: $\\rho(I-\\tau A)<1$, удовлетворяется при \n",
    "$$ 0 < \\tau < \\min_i{\\frac{2Re\\lambda_i(A)}{|\\lambda_i(A)|^2}}$$"
   ]
  },
  {
   "cell_type": "code",
   "execution_count": 2,
   "metadata": {
    "collapsed": true
   },
   "outputs": [],
   "source": [
    "def run_method(A, b, next_iter, x0, eps, history=False, return_num_iter=False):\n",
    "    \"\"\"\n",
    "    Вспомогательная функция, которая прогоняет метод решения СЛАУ до сходимости.\n",
    "    При указании параметров, печатает результаты на каждой промежуточной итерации\n",
    "    или возвращает кол-во итераций.\n",
    "    \"\"\"\n",
    "    x_prev = x0\n",
    "    x_curr = next_iter(x_prev)\n",
    "    if history:\n",
    "        print(\"k=1. Current approximation: \", x_curr, end='. ')\n",
    "        print(\"Error = {}.\".format(norm(x_curr - x_prev)))\n",
    "    k = 1\n",
    "    while norm(x_curr - x_prev) >= eps:   \n",
    "        k = k + 1\n",
    "        x_prev = x_curr\n",
    "        x_curr = next_iter(x_curr)  \n",
    "        if history:\n",
    "            print(\"k={}. Current approximation: \".format(k), x_curr, end='. ')\n",
    "            print(\"Error = {}.\".format(norm(x_curr - x_prev)))\n",
    "    else:\n",
    "        if history: print('')\n",
    "    \n",
    "    if return_num_iter: return x_curr, k\n",
    "    return x_curr"
   ]
  },
  {
   "cell_type": "markdown",
   "metadata": {},
   "source": [
    "### Метод простой итерации\n",
    "\n",
    "Самый простой из всех методов, является прямым (итерационная матрица - единичная) и стационарным.\n",
    "\n",
    "В классической форме имеет следующий вид:\n",
    "$$\\frac{\\mathbf{x}^{(k+1)}-\\mathbf{x}^{(k)}}{\\tau}+ A \\mathbf{x}^{(k)}=\\mathbf{b}.$$\n",
    "\n",
    "\n",
    "В форме метода последовательных приближений:\n",
    "$$\\mathbf{x}^{(k+1)}=(E-\\tau A)\\mathbf{x}^{(k)}+\\tau \\mathbf{b}.$$"
   ]
  },
  {
   "cell_type": "code",
   "execution_count": 3,
   "metadata": {
    "collapsed": true
   },
   "outputs": [],
   "source": [
    "def simple_iteration_solution(A, b, eps, history=False, return_num_iter=False):\n",
    "    \n",
    "    n = A.shape[0]  \n",
    "\n",
    "    def next_iter(xk):\n",
    "        from numpy import identity as E\n",
    "        nonlocal n, A, b\n",
    "        return dot((E(n)-tau0*A), xk) + tau0*b\n",
    "    \n",
    "    return run_method(A, b, next_iter, tau0*b, eps, history, return_num_iter)"
   ]
  },
  {
   "cell_type": "markdown",
   "metadata": {},
   "source": [
    "### Метод Якоби"
   ]
  },
  {
   "cell_type": "code",
   "execution_count": 4,
   "metadata": {
    "collapsed": true
   },
   "outputs": [],
   "source": [
    "def jacobi_solution(A, b, eps, history=False, return_num_iter=False):\n",
    "    AL = np.tril(A, k=-1)\n",
    "    D = np.where(np.identity(len(A))==1, A, 0)\n",
    "    AU = np.triu(A, k=1)\n",
    "    D_inv = np.diag(1 / np.diag(D))\n",
    "\n",
    "    def next_iter(xk):\n",
    "        nonlocal AL, AU, D_inv, A, b\n",
    "        return -np.dot(np.dot(D_inv, AL+AU), xk) + np.dot(D_inv, b)\n",
    "        \n",
    "    return run_method(A, b, next_iter, tau0*b, eps, history, return_num_iter)"
   ]
  },
  {
   "cell_type": "markdown",
   "metadata": {},
   "source": [
    "### Метод Зейделя"
   ]
  },
  {
   "cell_type": "code",
   "execution_count": 5,
   "metadata": {
    "collapsed": true
   },
   "outputs": [],
   "source": [
    "def seidel_solution(A, b, eps, history=False, return_num_iter=False):\n",
    "    # initialize tau0\n",
    "    AL_plus_D = np.tril(A)\n",
    "    AU = np.triu(A, k=1)\n",
    "    AL_plus_D_inv = inv(AL_plus_D)\n",
    "    \n",
    "    def  next_iter(xk):\n",
    "        nonlocal AL_plus_D_inv, AU, b\n",
    "        return -np.dot(np.dot(AL_plus_D_inv, AU), xk) + np.dot(AL_plus_D_inv, b)\n",
    "        \n",
    "    return run_method(A, b, next_iter, tau0*b, eps, history, return_num_iter)"
   ]
  },
  {
   "cell_type": "markdown",
   "metadata": {},
   "source": [
    "### Метод минимальных невязок "
   ]
  },
  {
   "cell_type": "code",
   "execution_count": 6,
   "metadata": {
    "collapsed": true
   },
   "outputs": [],
   "source": [
    "def min_residuals_solution(A, b, eps, history=False, return_num_iter=False):\n",
    "    \n",
    "    def next_iter(xk):\n",
    "        nonlocal A, b\n",
    "        rk = dot(A, xk) - b\n",
    "        Ark = dot(A, rk)\n",
    "        return xk - dot(Ark, rk) / dot(Ark, Ark) * rk        \n",
    "        \n",
    "    return run_method(A, b, next_iter, tau0*b, eps, history, return_num_iter)   "
   ]
  },
  {
   "cell_type": "markdown",
   "metadata": {},
   "source": [
    "### Метод минимальных поправок "
   ]
  },
  {
   "cell_type": "code",
   "execution_count": 7,
   "metadata": {
    "collapsed": true
   },
   "outputs": [],
   "source": [
    "def min_correction_solution(A, b, eps, history=False, return_num_iter=False):\n",
    "    \n",
    "    B_inv = np.diag(1 / np.diag(A))\n",
    "    \n",
    "    def next_iter(xk):\n",
    "        nonlocal A, b, B_inv\n",
    "        rk = dot(A, xk) - b\n",
    "        wk = np.dot(B_inv, rk)\n",
    "        Awk = np.dot(A, wk)\n",
    "        vk = np.dot(B_inv, Awk)\n",
    "        return xk - np.dot(Awk, wk) / np.dot(vk, Awk) * wk\n",
    "        \n",
    "    return run_method(A, b, next_iter, tau0*b, eps, history, return_num_iter)  "
   ]
  },
  {
   "cell_type": "markdown",
   "metadata": {},
   "source": [
    "### Метод наискорейшего спуска "
   ]
  },
  {
   "cell_type": "code",
   "execution_count": 8,
   "metadata": {
    "collapsed": true
   },
   "outputs": [],
   "source": [
    "def fastest_descent_solution(A, b, eps, history=False, return_num_iter=False):\n",
    "    \n",
    "    def next_iter(xk):\n",
    "        nonlocal A, b\n",
    "        rk = dot(A, xk) - b\n",
    "        Ark = dot(A, rk)\n",
    "        return xk - np.dot(rk, rk) / np.dot(Ark, rk) * rk\n",
    "    \n",
    "    return run_method(A, b, next_iter, tau0*b, eps, history, return_num_iter) "
   ]
  },
  {
   "cell_type": "markdown",
   "metadata": {},
   "source": [
    "### Пример и сравнение скорости сходимости методов "
   ]
  },
  {
   "cell_type": "code",
   "execution_count": 9,
   "metadata": {},
   "outputs": [
    {
     "name": "stdout",
     "output_type": "stream",
     "text": [
      "The exact solution:  [ 3.22167612 -2.08251357  1.94807228  0.4730081 ]\n"
     ]
    }
   ],
   "source": [
    "A = array([\n",
    "    [ 3.77, 0.56, -1.45, 1.66],\n",
    "    [ 0.56, 9.56,  5.23, 1.62],\n",
    "    [-1.45, 5.23, 12.87, 1.99],\n",
    "    [ 1.66, 1.62,  1.99, 6.89] \n",
    "])\n",
    " \n",
    "b = array([8.94, -7.15, 10.45, 9.11])\n",
    "\n",
    "x_true = dot(inv(A), b)\n",
    "print(\"The exact solution: \", x_true)"
   ]
  },
  {
   "cell_type": "code",
   "execution_count": 14,
   "metadata": {},
   "outputs": [
    {
     "name": "stderr",
     "output_type": "stream",
     "text": [
      "C:\\Users\\lekho\\Anaconda3\\lib\\site-packages\\ipykernel\\__main__.py:2: RuntimeWarning: divide by zero encountered in double_scalars\n",
      "  from ipykernel import kernelapp as app\n"
     ]
    }
   ],
   "source": [
    "import numpy as np\n",
    "phi = np.arctan(2*A[0, 1] / (A[0, 0] - A[1, 1])) / 2"
   ]
  },
  {
   "cell_type": "code",
   "execution_count": 8,
   "metadata": {},
   "outputs": [
    {
     "data": {
      "text/plain": [
       "array([[ 0.96371493,  0.26693358],\n",
       "       [-0.26693358,  0.96371493]])"
      ]
     },
     "execution_count": 8,
     "metadata": {},
     "output_type": "execute_result"
    }
   ],
   "source": [
    "U0 = np.array([\n",
    "    [np.cos(phi), -np.sin(phi)],\n",
    "    [np.sin(phi),  np.cos(phi)]\n",
    "])\n",
    "U0"
   ]
  },
  {
   "cell_type": "code",
   "execution_count": 15,
   "metadata": {},
   "outputs": [
    {
     "data": {
      "text/plain": [
       "array([[  4.08309519e+00,   0.00000000e+00],\n",
       "       [ -2.22044605e-16,   2.91690481e+00]])"
      ]
     },
     "execution_count": 15,
     "metadata": {},
     "output_type": "execute_result"
    }
   ],
   "source": [
    "A = np.array([\n",
    "    [4, -0.3],\n",
    "    [-0.3, 3]\n",
    "])\n",
    "\n",
    "np.dot(U0.T, np.dot(A, U0))"
   ]
  },
  {
   "cell_type": "code",
   "execution_count": 13,
   "metadata": {},
   "outputs": [
    {
     "data": {
      "text/plain": [
       "(array([ 4.3,  3.7]), array([[ 0.70710678,  0.70710678],\n",
       "        [-0.70710678,  0.70710678]]))"
      ]
     },
     "execution_count": 13,
     "metadata": {},
     "output_type": "execute_result"
    }
   ],
   "source": [
    "np.linalg.eig(A)"
   ]
  },
  {
   "cell_type": "code",
   "execution_count": 10,
   "metadata": {},
   "outputs": [
    {
     "name": "stdout",
     "output_type": "stream",
     "text": [
      "7.14258701334\n",
      "[ 300.77669139    5.89566907   56.90744652   33.35389302]\n",
      "[ 0.16961603  0.02998151  0.01757239  0.00332473]\n",
      "7.14258701334\n",
      "[ 17.34291473   2.42809989   7.54370244   5.77528294]\n",
      "7.14258701334\n"
     ]
    },
    {
     "data": {
      "text/plain": [
       "(0.14000529473883958, 0.75437781669090764)"
      ]
     },
     "execution_count": 10,
     "metadata": {},
     "output_type": "execute_result"
    }
   ],
   "source": [
    "# число обусловленности матрицы\n",
    "# по умолчанию - отношение максимального\n",
    "# и минимального собственных значений\n",
    "print(np.linalg.cond(A))\n",
    "\n",
    "# если считать самим по норме\n",
    "# print(dot(A.T, A))\n",
    "ev = np.linalg.eigvals(dot(A.T, A))\n",
    "print(ev)\n",
    "R = np.sqrt(ev.max())\n",
    "#print(R)\n",
    "ev_inv = np.linalg.eigvals(dot(inv(A).T, inv(A)))\n",
    "print(ev_inv)\n",
    "r = np.sqrt(ev_inv.max())\n",
    "#print(r)\n",
    "print(R * r)\n",
    "\n",
    "# тоже самим, но как отношение максимального и минимального с.ч.\n",
    "evA = np.linalg.eigvals(A)\n",
    "print(evA)\n",
    "lmax = evA.max()\n",
    "lmin = evA.min()\n",
    "print(lmax / lmin)\n",
    "xi = lmin / lmax\n",
    "rho = (1 - xi) / (1 + xi)\n",
    "xi, rho"
   ]
  },
  {
   "cell_type": "code",
   "execution_count": 11,
   "metadata": {},
   "outputs": [
    {
     "data": {
      "text/plain": [
       "32.676777632324061"
      ]
     },
     "execution_count": 11,
     "metadata": {},
     "output_type": "execute_result"
    }
   ],
   "source": [
    "np.log(10**4) / np.log(1 / rho)"
   ]
  },
  {
   "cell_type": "code",
   "execution_count": 12,
   "metadata": {
    "collapsed": true
   },
   "outputs": [],
   "source": [
    "tau_max = 2 / lmax\n",
    "tau0 = 2 / (lmax + lmin)"
   ]
  },
  {
   "cell_type": "code",
   "execution_count": 13,
   "metadata": {},
   "outputs": [
    {
     "data": {
      "text/plain": [
       "array([ 0.90435419, -0.72328104,  1.05710306,  0.92155109])"
      ]
     },
     "execution_count": 13,
     "metadata": {},
     "output_type": "execute_result"
    }
   ],
   "source": [
    "tau0 * b"
   ]
  },
  {
   "cell_type": "code",
   "execution_count": 14,
   "metadata": {
    "collapsed": true
   },
   "outputs": [],
   "source": [
    "def print_method_results(A, b, eps, meth):\n",
    "    x_true = dot(inv(A), b)\n",
    "    x_appr, k = meth(A, b, 1e-4, history=False, return_num_iter=True)\n",
    "    print(\"{} method, # of iterations = {}.\".format(meth.__name__, k))\n",
    "    print(\"Aproximate solution: {}.\".format(x_appr))\n",
    "    print(\"Error = {}.\".format(norm(x_appr - x_true)))\n",
    "    print(\"Residual = {}.\\n\".format(norm(dot(A, x_appr)-b)))"
   ]
  },
  {
   "cell_type": "code",
   "execution_count": 15,
   "metadata": {},
   "outputs": [
    {
     "name": "stdout",
     "output_type": "stream",
     "text": [
      "simple_iteration_solution method, # of iterations = 33.\n",
      "Aproximate solution: [ 3.22146697 -2.08248003  1.94798345  0.47309496].\n",
      "Error = 0.00024556693354028014.\n",
      "Residual = 0.0007208550017071671.\n",
      "\n",
      "jacobi_solution method, # of iterations = 20.\n",
      "Aproximate solution: [ 3.22161433 -2.08246354  1.94803144  0.47304974].\n",
      "Error = 9.861052004139195e-05.\n",
      "Residual = 0.0003697627714193037.\n",
      "\n",
      "seidel_solution method, # of iterations = 11.\n",
      "Aproximate solution: [ 3.22163792 -2.08248917  1.9480545   0.4730167 ].\n",
      "Error = 4.944317771032854e-05.\n",
      "Residual = 0.00016315883345091386.\n",
      "\n",
      "min_residuals_solution method, # of iterations = 33.\n",
      "Aproximate solution: [ 3.2214591  -2.08247186  1.94798979  0.4731009 ].\n",
      "Error = 0.000253482970391598.\n",
      "Residual = 0.0006506547249753918.\n",
      "\n",
      "min_correction_solution method, # of iterations = 17.\n",
      "Aproximate solution: [ 3.22156126 -2.08245048  1.94798348  0.47305894].\n",
      "Error = 0.00016626367303081824.\n",
      "Residual = 0.0006025590479273847.\n",
      "\n",
      "fastest_descent_solution method, # of iterations = 28.\n",
      "Aproximate solution: [ 3.22148501 -2.08246002  1.94802326  0.47309634].\n",
      "Error = 0.00022266679760359718.\n",
      "Residual = 0.0006304426142427183.\n",
      "\n"
     ]
    }
   ],
   "source": [
    "for meth in [simple_iteration_solution, jacobi_solution, \n",
    "             seidel_solution, min_residuals_solution, \n",
    "             min_correction_solution, fastest_descent_solution]:\n",
    "    \n",
    "    print_method_results(A, b, 1e-4, meth)"
   ]
  }
 ],
 "metadata": {
  "kernelspec": {
   "display_name": "Python 3",
   "language": "python",
   "name": "python3"
  },
  "language_info": {
   "codemirror_mode": {
    "name": "ipython",
    "version": 3
   },
   "file_extension": ".py",
   "mimetype": "text/x-python",
   "name": "python",
   "nbconvert_exporter": "python",
   "pygments_lexer": "ipython3",
   "version": "3.6.0"
  }
 },
 "nbformat": 4,
 "nbformat_minor": 2
}
