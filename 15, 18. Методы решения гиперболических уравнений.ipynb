{
 "cells": [
  {
   "cell_type": "code",
   "execution_count": null,
   "metadata": {
    "collapsed": true
   },
   "outputs": [],
   "source": [
    "%matplotlib notebook\n",
    "import numpy as np\n",
    "from numpy import array, dot, sin, cos, pi, exp\n",
    "from scipy.linalg import solve_banded\n",
    "import matplotlib.pyplot as plt\n",
    "from mpl_toolkits.mplot3d import Axes3D\n",
    "from matplotlib import rc\n",
    "rc('font',**{'family':'sans-serif','sans-serif':['Helvetica']})\n",
    "rc('text', usetex=True)\n",
    "np.set_printoptions(\n",
    "    precision=4, suppress=True)"
   ]
  },
  {
   "cell_type": "markdown",
   "metadata": {},
   "source": [
    "<h1 align='center'>Методы решения начально-краевых задач <br>для гиперболических уравнений</h1>"
   ]
  },
  {
   "cell_type": "markdown",
   "metadata": {},
   "source": [
    "## План\n",
    "\n",
    "1. Постановка задачи\n",
    "2. Точное решение методом Фурье\n",
    "3. Сеточные методы\n",
    "    - Идеи и основные понятия\n",
    "    - Аппроксимация первых слоёв\n",
    "        1. Двухслойная разностная схема\n",
    "        2. Двухслойная разностная схема с применением самого уравнения\n",
    "        3. Метод фиктивной точки\n",
    "    - Аппроксимация уравнения с помощью разностных схем\n",
    "        1. Явная трёхслойная схема\n",
    "        2. Неявная трёхслойная схема"
   ]
  },
  {
   "cell_type": "markdown",
   "metadata": {},
   "source": [
    "## Постановка задачи \n",
    "\n",
    "Рассмотриваем задачу о колебании струны с заданной динамикой на концах, а также с заданными начальным отклонением и скоростью:\n",
    "\n",
    "$$ \\frac{\\partial^2 u}{\\partial t^2} = a^2 \\frac{\\partial^2 u}{\\partial x^2} + f(x, t),\n",
    "   \\text{ }x\\in(0; l),\\text{ }t > 0,\\\\ u\\rvert_{t=0}=\\varphi(x),\\text{ }\\frac{\\partial u}{\\partial t}\\Big\\rvert_{t=0}=\\psi(x),\\\\\n",
    "   u\\rvert_{x=0}=\\mu_1(t),\\text{ }u\\rvert_{x=l}=\\mu_2(t).$$\n",
    "   \n",
    "В нашем случае задача имеет следующий вид (концы закреплены):\n",
    "\n",
    "$$ \\frac{\\partial^2 u}{\\partial t^2} = \\frac{\\partial^2 u}{\\partial x^2} + 2 e^{-3t} \\sin{\\pi x},\n",
    "   \\text{ }x\\in(0; 1),\\text{ }t > 0,\\\\ u\\rvert_{t=0}=-4 \\sin{2\\pi x}+2-3x,\\text{ }\\frac{\\partial u}{\\partial t}\\Big\\rvert_{t=0}=2\\pi\\sin{2\\pi x},\\\\\n",
    "   u\\rvert_{x=0}=2,\\text{ }u\\rvert_{x=l}=-1.$$"
   ]
  },
  {
   "cell_type": "code",
   "execution_count": null,
   "metadata": {
    "collapsed": true
   },
   "outputs": [],
   "source": [
    "a, l, T = 1, 1, 1\n",
    "f   = lambda x, t: 2*exp(-3*t) * sin(pi*x)\n",
    "phi = lambda x: -4*sin(2*pi*x) + 2 - 3*x\n",
    "psi = lambda x: 2*pi*sin(2*pi*x)\n",
    "mu1 = lambda t: 2\n",
    "mu2 = lambda t: -1"
   ]
  },
  {
   "cell_type": "markdown",
   "metadata": {},
   "source": [
    "## Точное решение методом Фурье "
   ]
  },
  {
   "cell_type": "code",
   "execution_count": null,
   "metadata": {
    "collapsed": true
   },
   "outputs": [],
   "source": []
  },
  {
   "cell_type": "markdown",
   "metadata": {},
   "source": [
    "## Сеточные методы "
   ]
  },
  {
   "cell_type": "markdown",
   "metadata": {},
   "source": [
    "### Аппроксимация первых слоёв "
   ]
  },
  {
   "cell_type": "markdown",
   "metadata": {},
   "source": [
    "#### 1-й способ: двухслойная разностная схема ($O(\\tau)$) "
   ]
  },
  {
   "cell_type": "code",
   "execution_count": null,
   "metadata": {
    "collapsed": true
   },
   "outputs": [],
   "source": []
  },
  {
   "cell_type": "markdown",
   "metadata": {},
   "source": [
    "#### 2-й способ: двухслойная разностная схема  с использованием самого уравнения ($O(\\tau^2)$)"
   ]
  },
  {
   "cell_type": "code",
   "execution_count": null,
   "metadata": {
    "collapsed": true
   },
   "outputs": [],
   "source": []
  },
  {
   "cell_type": "markdown",
   "metadata": {},
   "source": [
    "#### 3-й способ: метод фиктивной точки ($O(\\tau^2)$)"
   ]
  },
  {
   "cell_type": "code",
   "execution_count": null,
   "metadata": {
    "collapsed": true
   },
   "outputs": [],
   "source": []
  },
  {
   "cell_type": "markdown",
   "metadata": {},
   "source": [
    "### Аппроксимация уравнения на старших слоях"
   ]
  },
  {
   "cell_type": "markdown",
   "metadata": {},
   "source": [
    "#### A. Явная трёхслойная схема"
   ]
  },
  {
   "cell_type": "code",
   "execution_count": null,
   "metadata": {
    "collapsed": true
   },
   "outputs": [],
   "source": []
  },
  {
   "cell_type": "markdown",
   "metadata": {},
   "source": [
    "#### В. Неявная трёхслойная схема "
   ]
  },
  {
   "cell_type": "code",
   "execution_count": null,
   "metadata": {
    "collapsed": true
   },
   "outputs": [],
   "source": []
  },
  {
   "cell_type": "code",
   "execution_count": null,
   "metadata": {
    "collapsed": true
   },
   "outputs": [],
   "source": []
  }
 ],
 "metadata": {
  "kernelspec": {
   "display_name": "Python 3",
   "language": "python",
   "name": "python3"
  },
  "language_info": {
   "codemirror_mode": {
    "name": "ipython",
    "version": 3
   },
   "file_extension": ".py",
   "mimetype": "text/x-python",
   "name": "python",
   "nbconvert_exporter": "python",
   "pygments_lexer": "ipython3",
   "version": "3.6.0"
  }
 },
 "nbformat": 4,
 "nbformat_minor": 2
}
