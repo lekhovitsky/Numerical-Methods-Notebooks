{
 "cells": [
  {
   "cell_type": "code",
   "execution_count": 1,
   "metadata": {
    "collapsed": true
   },
   "outputs": [],
   "source": [
    "import numpy as np\n",
    "import scipy.linalg\n",
    "\n",
    "from IPython.display import display, HTML, Latex\n",
    "from numpy import array, dot, cos, sin, pi"
   ]
  },
  {
   "cell_type": "markdown",
   "metadata": {},
   "source": [
    "### Метод вращений Якоби \n",
    "\n",
    "#### Когда работает: \n",
    "\n",
    "Матрица $A$ является симметрической (отсюда следует существование полного спектра).\n",
    "\n",
    "#### Идея алгоритма: \n",
    "\n",
    "Поскольку матрица имеет полный спектр, его можно представить как исходный базис пространства столбцов матрицы, который повёрнут на определённый угол. Значит, мы можем поочерёдно поворачивать отдельные пары базисных векторов, пока не повернём все как надо. Каждый поворот пары базисных векторов будет выражаться в обнулении двух соответствующих внедиагональных элементов матрицы $A$.\n",
    "\n",
    "#### Формальное описание алгоритма:\n",
    "\n",
    "Поворот пары базисных векторов $i_k, j_k$ формально выражается таким итерационным шагом: $A^{(k+1)}=U^{(k)T}A^{(k)}U^{(k)}$, где матрица $U^{(k)}$ является матрицей поворота вдоль базисных векторов с номерами $i_k, j_k$ на угол $\\varphi$ (её подматрица в $i$х и $j$х строках и столбцах является обычной матрицей поворота в двухмерном пространстве) а угол $\\varphi_k$ находится из условия $a_{i_k j_k} \\approx 0$ по формуле...\n",
    "\n",
    "Повторять такой шаг мы будем до момента выполнения критерия сходимости - приблизительного обнуления всех внедиагональных элементов, что, ввиду симметричности матрицы на каждом шагу, выразится в таком условии: \n",
    "$$t(A^{(k)}) = \\sqrt{\\sum_{i=1}^{n}\\sum_{j=i+1}^{n} (A^{(k)}_{ij})^2} < \\varepsilon.$$\n",
    "\n",
    "_(На самом деле более корректно было бы называть матрицу, в которой мы зануляем элементы, не $A^{(k)}$, а $\\Lambda^{(k)}$, поскольку именно её мы и примем за диагональную матрицу с собственными значениями)._\n",
    "\n",
    "В момент, когда алгоритм сойдётся, мы полагаем \n",
    "$\\Lambda = A^{(k)}$, в частности, $\\lambda_i = A_{ii} \\forall i = \\overline{1, n}$, а в качестве матрицы собственных векторов возьмём матрицу $U = U^{(0)}U^{(1)}...U^{(k-1)}$.\n",
    "\n",
    "\n",
    "#### Свойства алгоритма:\n"
   ]
  },
  {
   "cell_type": "code",
   "execution_count": 2,
   "metadata": {
    "collapsed": true
   },
   "outputs": [],
   "source": [
    "def Jacobi_method(A, eps, show_history=False):\n",
    "    \n",
    "    n = A.shape[0]\n",
    "    \n",
    "    def get_Uk(Ak):\n",
    "        nonlocal n\n",
    "        Uk = np.identity(n)\n",
    "        ind = np.argmax(np.abs(np.triu(Ak, k=1)))\n",
    "        ik, jk = ind // n, ind % n\n",
    "        phi_k = pi / 4 if Ak[ik, ik] == Ak[jk, jk] else 0.5 * np.arctan(2*Ak[ik, jk] / (Ak[ik, ik] - Ak[jk, jk]))\n",
    "        Uk[[ik, ik, jk, jk], [ik, jk, ik, jk]] = array([cos(phi_k), -sin(phi_k), sin(phi_k), cos(phi_k)])\n",
    "        return Uk\n",
    "    \n",
    "    def t(Ak):\n",
    "        return np.linalg.norm(np.triu(np.abs(Ak), k=1))\n",
    "    \n",
    "    Ak = A.copy()\n",
    "    U = np.identity(n)\n",
    "    if show_history:\n",
    "        k = 0\n",
    "        display(HTML('t(A<sub>0</sub>) = {}'.format(t(Ak))))\n",
    "        \n",
    "    while t(Ak) >= eps:\n",
    "        Uk = get_Uk(Ak)\n",
    "        U = dot(U, Uk)\n",
    "        Ak = dot(dot(Uk.T, Ak), Uk)\n",
    "        if show_history:\n",
    "            k = k + 1\n",
    "            display(HTML('A<sub>{ind}</sub>:'.format(ind=k)))\n",
    "            print(Ak)\n",
    "            display(HTML('U<sub>{ind}</sub>:'.format(ind=k-1)))\n",
    "            print(Uk)\n",
    "            display(HTML('t(A<sub>{ind}</sub>) = {t}'.format(ind=k, t=t(Ak))))\n",
    "            print('_'*50)\n",
    "            \n",
    "    return np.diag(Ak), U   "
   ]
  },
  {
   "cell_type": "markdown",
   "metadata": {},
   "source": [
    "### Степенной метод "
   ]
  },
  {
   "cell_type": "code",
   "execution_count": 3,
   "metadata": {
    "collapsed": true
   },
   "outputs": [],
   "source": [
    "def power_method(A, eps, full_eigenproblem=False, show_history=False, random_state=0):\n",
    "    \n",
    "    n = A.shape[0]\n",
    "    np.random.seed(random_state)\n",
    "    k = 0\n",
    "    \n",
    "    x_curr = np.random.rand(n) # x_0\n",
    "    x_next = dot(A, x_curr)\n",
    "    lambda_prev = dot(x_next, x_curr) / dot(x_curr, x_curr)\n",
    "    if show_history:\n",
    "        e1_curr = x_curr / np.linalg.norm(x_curr)\n",
    "        display(Latex('$x^{(0)} = (' + ', '.join(map(str, x_curr.round(4))) + ')^{T}$')) # x_0\n",
    "        display(Latex('$x^{(1)} = (' + ', '.join(map(str, x_next.round(4))) + ')^{T}$'))  # x_1\n",
    "        display(Latex('$\\lambda_1^{(0)} = ' + str(round(lambda_prev, 4)) + '$')) # lambda_0\n",
    "        display(Latex('$\\mathbf{e}_1^{(0)} = (' + ', '.join(map(str, e1_curr.round(4))) + ')^{T}$')) # e_0\n",
    "        \n",
    "    while True:\n",
    "        k = k + 1\n",
    "        x_curr = x_next / np.linalg.norm(x_next)\n",
    "        x_next = dot(A, x_curr)\n",
    "        lambda_curr = dot(x_next, x_curr) / dot(x_curr, x_curr)\n",
    "        if show_history:\n",
    "            print('-'*50)\n",
    "            e1_curr = x_curr / np.linalg.norm(x_curr)\n",
    "            display(Latex('$x^{(%d)} = (' % (k+1) + ', '.join(map(str, x_next.round(4))) + ')^{T}$')) # x_{k+1}\n",
    "            display(Latex('$\\lambda_1^{(%d)} = ' % k + str(round(lambda_curr, 4)) + '$')) # lambda_k\n",
    "            display(Latex('$\\mathbf{e}_1^{(%d)} = (' % k + ', '.join(map(str, e1_curr.round(4))) + ')^{T}$')) # e_k\n",
    "            \n",
    "        if np.abs(lambda_curr - lambda_prev) < eps:\n",
    "            break    \n",
    "        lambda_prev = lambda_curr\n",
    "    \n",
    "    return lambda_curr, x_next / np.linalg.norm(x_next)"
   ]
  },
  {
   "cell_type": "markdown",
   "metadata": {},
   "source": [
    "### QR-алгоритм\n",
    "\n",
    "#### Когда работает: \n",
    "Для произвольной матрицы $A$. Позволяет найти собственные значения (даже, если они комплексны, однако в таком случае появляются свои детали).\n",
    "\n",
    "#### Идея алгоритма: \n",
    "Алгоритм основан на том факте, что подобные матрицы имеют одинаковые наборы собственных значений. Так почему бы не найти матрицу $A'$, подобную матрице $A$ (т.е., $A'=Q^{*}AQ$), но имеющую удобный вид, например, верхний диагональный? Тогда собственные значения просто будут совпадать с диагональными элементами. \n",
    "\n",
    "Найти её просто так, конечно, не получается, однако легко построить последовательность матриц $A^{(k)}$, сходящихся по форме к верхней треугольной. Делается это, при том, достаточно просто, с применением $QR$-разложения: всякая очередная матрица $A^{(k)}$ представляется в виде $$A^{(k)}=Q^{(k)}R^{(k)},$$ где $Q^{(k)}$ - ортогональная матрица, а $R^{(k)}$ - верхняя треугольная. Следующая же матрица просто получается путем перемножения двух последних в другом порядке: \n",
    "$$A^{(k+1)}=R^{(k)}Q^{(k)}=Q^{(k)*}Q^{(k)}R^{(k)}Q^{(k)}= Q^{(k)*}A^{(k)}Q^{(k)}.$$\n",
    "Как видим, если развернуть эту цепочку, получим, что все матрицы последовательности подобны исходной, и можно показать, что они сходятся к верхней треугольной. \n",
    "\n",
    "Критерий остановки можем выбрать такой же, как и в первом методе (только вместо верхней части матрицы рассматривать лишь элеметы _под_ главной диагональю).\n",
    "\n",
    "$QR$-разложение можно производить с помощью процедуры Грамма-Шмидта, или, например, с помощью преобразований отражения Хаусхолдера и преобразования вращения Гивенса. Мы же воспользуемся встроенной реализацией.\n",
    "\n",
    "\n",
    "\n",
    "### Проблема: как работать с квази-треугольной матрицей-то? "
   ]
  },
  {
   "cell_type": "code",
   "execution_count": 17,
   "metadata": {
    "collapsed": true
   },
   "outputs": [],
   "source": [
    "def r_hessenberg(A):\n",
    "    \n",
    "    B = A\n",
    "    n = A.shape[0]\n",
    "    for i in range(n-2):\n",
    "        s = np.sign(-B[i+1, i]) * np.linalg.norm(B[i+1:, i])\n",
    "        mu = 1 / np.sqrt(2 * s * (s - B[i+1, i]))\n",
    "        w = np.zeros(n)\n",
    "        w[:i+1] = 0; w[i+1] = B[i+1, i] - s; w[i+2:]=B[i+2:, i]\n",
    "        w = mu * w\n",
    "        H = np.identity(n) - 2 * np.outer(w, w)\n",
    "        B = dot(H, dot(B, H))\n",
    "    \n",
    "    return B"
   ]
  },
  {
   "cell_type": "code",
   "execution_count": 4,
   "metadata": {
    "collapsed": true
   },
   "outputs": [],
   "source": [
    "# в данный момент сработает только для матриц с полным действительным спектром.\n",
    "\n",
    "def QR(A, eps, show_history=False):\n",
    "    \n",
    "    def t(Ak):\n",
    "        return np.linalg.norm(np.tril(Ak, k=-1)) \n",
    "    \n",
    "    Ak = A.copy()\n",
    "    k = 0\n",
    "    while t(Ak) >= eps:\n",
    "        input()\n",
    "        Qk, Rk = np.linalg.qr(Ak)\n",
    "        Ak = dot(Rk, Qk)\n",
    "        if show_history: \n",
    "            k = k + 1\n",
    "            display(HTML('Q<sub>{ind}</sub>:'.format(ind=k)), )\n",
    "            print(Qk)\n",
    "            display(HTML('R<sub>{ind}</sub>:'.format(ind=k)), )\n",
    "            print(Rk)\n",
    "            display(HTML('A<sub>{ind}</sub>:'.format(ind=k+1)), )\n",
    "            print(Ak)\n",
    "            print('_'*50)\n",
    "    \n",
    "    return np.diag(Ak)    "
   ]
  },
  {
   "cell_type": "code",
   "execution_count": 5,
   "metadata": {
    "collapsed": true
   },
   "outputs": [],
   "source": [
    "def plot_gershgorin_circles(A, ranges=(-5, 25, -10, 10), with_real_eigv=False):\n",
    "    %matplotlib notebook\n",
    "    import matplotlib.pyplot as plt\n",
    "    from matplotlib.patches import Circle\n",
    "    \n",
    "    fig, ax = plt.subplots(figsize=(6, 5))\n",
    "    fig.patch.set_facecolor('white')\n",
    "    fig.patch.set_alpha(1)\n",
    "    ax.set_aspect('equal')\n",
    "    \n",
    "    # Move left y-axis and bottim x-axis to centre, passing through (0,0)\n",
    "    ax.spines['left'].set_position('zero')\n",
    "    ax.spines['bottom'].set_position('zero')\n",
    "\n",
    "    # Eliminate upper and right axes\n",
    "    ax.spines['right'].set_color('none')\n",
    "    ax.spines['top'].set_color('none')\n",
    "\n",
    "    # Show ticks in the left and lower axes only\n",
    "    ax.xaxis.set_ticks_position('bottom')\n",
    "    ax.yaxis.set_ticks_position('left')\n",
    "    #ax.xaxis.arrow()\n",
    "    \n",
    "    n = A.shape[0]\n",
    "    sums = np.abs(A).sum(axis=1)\n",
    "    for i in range(n):\n",
    "        ax.add_patch(Circle((A[i, i], 0), radius=sums[i]-abs(A[i, i]), edgecolor='black', facecolor=\"None\"))\n",
    "        \n",
    "    ax.axis(ranges)\n",
    "    \n",
    "    if with_real_eigv:\n",
    "        l = np.linalg.eigvals(A)\n",
    "        ax.scatter(l.real, l.imag, c='red')\n",
    "\n",
    "    plt.show()\n",
    "    return fig, ax"
   ]
  },
  {
   "cell_type": "markdown",
   "metadata": {
    "collapsed": true
   },
   "source": [
    "## Пример применения \n",
    "\n",
    "## Часть 1: Степенной метод и метод Якоби, матрица 4х4"
   ]
  },
  {
   "cell_type": "code",
   "execution_count": 7,
   "metadata": {
    "collapsed": true
   },
   "outputs": [],
   "source": [
    "A1 = array([\n",
    "    [ 3.77, 0.56, -1.45, 1.66],\n",
    "    [ 0.56, 9.56,  5.23, 1.62],\n",
    "    [-1.45, 5.23, 12.87, 1.99],\n",
    "    [ 1.66, 1.62,  1.99, 6.89] \n",
    "])"
   ]
  },
  {
   "cell_type": "code",
   "execution_count": 8,
   "metadata": {},
   "outputs": [
    {
     "name": "stdout",
     "output_type": "stream",
     "text": [
      "[ 17.34291473   2.42809989   7.54370244   5.77528294]\n"
     ]
    }
   ],
   "source": [
    "l_true, U_true = np.linalg.eig(A1)\n",
    "print(l_true)"
   ]
  },
  {
   "cell_type": "code",
   "execution_count": 9,
   "metadata": {},
   "outputs": [
    {
     "name": "stdout",
     "output_type": "stream",
     "text": [
      "[[ 0.03163384  0.8586932  -0.505117   -0.08063564]\n",
      " [-0.57353621 -0.1925787  -0.24221756 -0.75848554]\n",
      " [-0.78463647  0.28771043  0.37608455  0.40016088]\n",
      " [-0.2332405  -0.37786524 -0.73807038  0.50800477]]\n"
     ]
    }
   ],
   "source": [
    "print(U_true)"
   ]
  },
  {
   "cell_type": "code",
   "execution_count": 10,
   "metadata": {},
   "outputs": [
    {
     "data": {
      "application/javascript": [
       "/* Put everything inside the global mpl namespace */\n",
       "window.mpl = {};\n",
       "\n",
       "\n",
       "mpl.get_websocket_type = function() {\n",
       "    if (typeof(WebSocket) !== 'undefined') {\n",
       "        return WebSocket;\n",
       "    } else if (typeof(MozWebSocket) !== 'undefined') {\n",
       "        return MozWebSocket;\n",
       "    } else {\n",
       "        alert('Your browser does not have WebSocket support.' +\n",
       "              'Please try Chrome, Safari or Firefox ≥ 6. ' +\n",
       "              'Firefox 4 and 5 are also supported but you ' +\n",
       "              'have to enable WebSockets in about:config.');\n",
       "    };\n",
       "}\n",
       "\n",
       "mpl.figure = function(figure_id, websocket, ondownload, parent_element) {\n",
       "    this.id = figure_id;\n",
       "\n",
       "    this.ws = websocket;\n",
       "\n",
       "    this.supports_binary = (this.ws.binaryType != undefined);\n",
       "\n",
       "    if (!this.supports_binary) {\n",
       "        var warnings = document.getElementById(\"mpl-warnings\");\n",
       "        if (warnings) {\n",
       "            warnings.style.display = 'block';\n",
       "            warnings.textContent = (\n",
       "                \"This browser does not support binary websocket messages. \" +\n",
       "                    \"Performance may be slow.\");\n",
       "        }\n",
       "    }\n",
       "\n",
       "    this.imageObj = new Image();\n",
       "\n",
       "    this.context = undefined;\n",
       "    this.message = undefined;\n",
       "    this.canvas = undefined;\n",
       "    this.rubberband_canvas = undefined;\n",
       "    this.rubberband_context = undefined;\n",
       "    this.format_dropdown = undefined;\n",
       "\n",
       "    this.image_mode = 'full';\n",
       "\n",
       "    this.root = $('<div/>');\n",
       "    this._root_extra_style(this.root)\n",
       "    this.root.attr('style', 'display: inline-block');\n",
       "\n",
       "    $(parent_element).append(this.root);\n",
       "\n",
       "    this._init_header(this);\n",
       "    this._init_canvas(this);\n",
       "    this._init_toolbar(this);\n",
       "\n",
       "    var fig = this;\n",
       "\n",
       "    this.waiting = false;\n",
       "\n",
       "    this.ws.onopen =  function () {\n",
       "            fig.send_message(\"supports_binary\", {value: fig.supports_binary});\n",
       "            fig.send_message(\"send_image_mode\", {});\n",
       "            if (mpl.ratio != 1) {\n",
       "                fig.send_message(\"set_dpi_ratio\", {'dpi_ratio': mpl.ratio});\n",
       "            }\n",
       "            fig.send_message(\"refresh\", {});\n",
       "        }\n",
       "\n",
       "    this.imageObj.onload = function() {\n",
       "            if (fig.image_mode == 'full') {\n",
       "                // Full images could contain transparency (where diff images\n",
       "                // almost always do), so we need to clear the canvas so that\n",
       "                // there is no ghosting.\n",
       "                fig.context.clearRect(0, 0, fig.canvas.width, fig.canvas.height);\n",
       "            }\n",
       "            fig.context.drawImage(fig.imageObj, 0, 0);\n",
       "        };\n",
       "\n",
       "    this.imageObj.onunload = function() {\n",
       "        this.ws.close();\n",
       "    }\n",
       "\n",
       "    this.ws.onmessage = this._make_on_message_function(this);\n",
       "\n",
       "    this.ondownload = ondownload;\n",
       "}\n",
       "\n",
       "mpl.figure.prototype._init_header = function() {\n",
       "    var titlebar = $(\n",
       "        '<div class=\"ui-dialog-titlebar ui-widget-header ui-corner-all ' +\n",
       "        'ui-helper-clearfix\"/>');\n",
       "    var titletext = $(\n",
       "        '<div class=\"ui-dialog-title\" style=\"width: 100%; ' +\n",
       "        'text-align: center; padding: 3px;\"/>');\n",
       "    titlebar.append(titletext)\n",
       "    this.root.append(titlebar);\n",
       "    this.header = titletext[0];\n",
       "}\n",
       "\n",
       "\n",
       "\n",
       "mpl.figure.prototype._canvas_extra_style = function(canvas_div) {\n",
       "\n",
       "}\n",
       "\n",
       "\n",
       "mpl.figure.prototype._root_extra_style = function(canvas_div) {\n",
       "\n",
       "}\n",
       "\n",
       "mpl.figure.prototype._init_canvas = function() {\n",
       "    var fig = this;\n",
       "\n",
       "    var canvas_div = $('<div/>');\n",
       "\n",
       "    canvas_div.attr('style', 'position: relative; clear: both; outline: 0');\n",
       "\n",
       "    function canvas_keyboard_event(event) {\n",
       "        return fig.key_event(event, event['data']);\n",
       "    }\n",
       "\n",
       "    canvas_div.keydown('key_press', canvas_keyboard_event);\n",
       "    canvas_div.keyup('key_release', canvas_keyboard_event);\n",
       "    this.canvas_div = canvas_div\n",
       "    this._canvas_extra_style(canvas_div)\n",
       "    this.root.append(canvas_div);\n",
       "\n",
       "    var canvas = $('<canvas/>');\n",
       "    canvas.addClass('mpl-canvas');\n",
       "    canvas.attr('style', \"left: 0; top: 0; z-index: 0; outline: 0\")\n",
       "\n",
       "    this.canvas = canvas[0];\n",
       "    this.context = canvas[0].getContext(\"2d\");\n",
       "\n",
       "    var backingStore = this.context.backingStorePixelRatio ||\n",
       "\tthis.context.webkitBackingStorePixelRatio ||\n",
       "\tthis.context.mozBackingStorePixelRatio ||\n",
       "\tthis.context.msBackingStorePixelRatio ||\n",
       "\tthis.context.oBackingStorePixelRatio ||\n",
       "\tthis.context.backingStorePixelRatio || 1;\n",
       "\n",
       "    mpl.ratio = (window.devicePixelRatio || 1) / backingStore;\n",
       "\n",
       "    var rubberband = $('<canvas/>');\n",
       "    rubberband.attr('style', \"position: absolute; left: 0; top: 0; z-index: 1;\")\n",
       "\n",
       "    var pass_mouse_events = true;\n",
       "\n",
       "    canvas_div.resizable({\n",
       "        start: function(event, ui) {\n",
       "            pass_mouse_events = false;\n",
       "        },\n",
       "        resize: function(event, ui) {\n",
       "            fig.request_resize(ui.size.width, ui.size.height);\n",
       "        },\n",
       "        stop: function(event, ui) {\n",
       "            pass_mouse_events = true;\n",
       "            fig.request_resize(ui.size.width, ui.size.height);\n",
       "        },\n",
       "    });\n",
       "\n",
       "    function mouse_event_fn(event) {\n",
       "        if (pass_mouse_events)\n",
       "            return fig.mouse_event(event, event['data']);\n",
       "    }\n",
       "\n",
       "    rubberband.mousedown('button_press', mouse_event_fn);\n",
       "    rubberband.mouseup('button_release', mouse_event_fn);\n",
       "    // Throttle sequential mouse events to 1 every 20ms.\n",
       "    rubberband.mousemove('motion_notify', mouse_event_fn);\n",
       "\n",
       "    rubberband.mouseenter('figure_enter', mouse_event_fn);\n",
       "    rubberband.mouseleave('figure_leave', mouse_event_fn);\n",
       "\n",
       "    canvas_div.on(\"wheel\", function (event) {\n",
       "        event = event.originalEvent;\n",
       "        event['data'] = 'scroll'\n",
       "        if (event.deltaY < 0) {\n",
       "            event.step = 1;\n",
       "        } else {\n",
       "            event.step = -1;\n",
       "        }\n",
       "        mouse_event_fn(event);\n",
       "    });\n",
       "\n",
       "    canvas_div.append(canvas);\n",
       "    canvas_div.append(rubberband);\n",
       "\n",
       "    this.rubberband = rubberband;\n",
       "    this.rubberband_canvas = rubberband[0];\n",
       "    this.rubberband_context = rubberband[0].getContext(\"2d\");\n",
       "    this.rubberband_context.strokeStyle = \"#000000\";\n",
       "\n",
       "    this._resize_canvas = function(width, height) {\n",
       "        // Keep the size of the canvas, canvas container, and rubber band\n",
       "        // canvas in synch.\n",
       "        canvas_div.css('width', width)\n",
       "        canvas_div.css('height', height)\n",
       "\n",
       "        canvas.attr('width', width * mpl.ratio);\n",
       "        canvas.attr('height', height * mpl.ratio);\n",
       "        canvas.attr('style', 'width: ' + width + 'px; height: ' + height + 'px;');\n",
       "\n",
       "        rubberband.attr('width', width);\n",
       "        rubberband.attr('height', height);\n",
       "    }\n",
       "\n",
       "    // Set the figure to an initial 600x600px, this will subsequently be updated\n",
       "    // upon first draw.\n",
       "    this._resize_canvas(600, 600);\n",
       "\n",
       "    // Disable right mouse context menu.\n",
       "    $(this.rubberband_canvas).bind(\"contextmenu\",function(e){\n",
       "        return false;\n",
       "    });\n",
       "\n",
       "    function set_focus () {\n",
       "        canvas.focus();\n",
       "        canvas_div.focus();\n",
       "    }\n",
       "\n",
       "    window.setTimeout(set_focus, 100);\n",
       "}\n",
       "\n",
       "mpl.figure.prototype._init_toolbar = function() {\n",
       "    var fig = this;\n",
       "\n",
       "    var nav_element = $('<div/>')\n",
       "    nav_element.attr('style', 'width: 100%');\n",
       "    this.root.append(nav_element);\n",
       "\n",
       "    // Define a callback function for later on.\n",
       "    function toolbar_event(event) {\n",
       "        return fig.toolbar_button_onclick(event['data']);\n",
       "    }\n",
       "    function toolbar_mouse_event(event) {\n",
       "        return fig.toolbar_button_onmouseover(event['data']);\n",
       "    }\n",
       "\n",
       "    for(var toolbar_ind in mpl.toolbar_items) {\n",
       "        var name = mpl.toolbar_items[toolbar_ind][0];\n",
       "        var tooltip = mpl.toolbar_items[toolbar_ind][1];\n",
       "        var image = mpl.toolbar_items[toolbar_ind][2];\n",
       "        var method_name = mpl.toolbar_items[toolbar_ind][3];\n",
       "\n",
       "        if (!name) {\n",
       "            // put a spacer in here.\n",
       "            continue;\n",
       "        }\n",
       "        var button = $('<button/>');\n",
       "        button.addClass('ui-button ui-widget ui-state-default ui-corner-all ' +\n",
       "                        'ui-button-icon-only');\n",
       "        button.attr('role', 'button');\n",
       "        button.attr('aria-disabled', 'false');\n",
       "        button.click(method_name, toolbar_event);\n",
       "        button.mouseover(tooltip, toolbar_mouse_event);\n",
       "\n",
       "        var icon_img = $('<span/>');\n",
       "        icon_img.addClass('ui-button-icon-primary ui-icon');\n",
       "        icon_img.addClass(image);\n",
       "        icon_img.addClass('ui-corner-all');\n",
       "\n",
       "        var tooltip_span = $('<span/>');\n",
       "        tooltip_span.addClass('ui-button-text');\n",
       "        tooltip_span.html(tooltip);\n",
       "\n",
       "        button.append(icon_img);\n",
       "        button.append(tooltip_span);\n",
       "\n",
       "        nav_element.append(button);\n",
       "    }\n",
       "\n",
       "    var fmt_picker_span = $('<span/>');\n",
       "\n",
       "    var fmt_picker = $('<select/>');\n",
       "    fmt_picker.addClass('mpl-toolbar-option ui-widget ui-widget-content');\n",
       "    fmt_picker_span.append(fmt_picker);\n",
       "    nav_element.append(fmt_picker_span);\n",
       "    this.format_dropdown = fmt_picker[0];\n",
       "\n",
       "    for (var ind in mpl.extensions) {\n",
       "        var fmt = mpl.extensions[ind];\n",
       "        var option = $(\n",
       "            '<option/>', {selected: fmt === mpl.default_extension}).html(fmt);\n",
       "        fmt_picker.append(option)\n",
       "    }\n",
       "\n",
       "    // Add hover states to the ui-buttons\n",
       "    $( \".ui-button\" ).hover(\n",
       "        function() { $(this).addClass(\"ui-state-hover\");},\n",
       "        function() { $(this).removeClass(\"ui-state-hover\");}\n",
       "    );\n",
       "\n",
       "    var status_bar = $('<span class=\"mpl-message\"/>');\n",
       "    nav_element.append(status_bar);\n",
       "    this.message = status_bar[0];\n",
       "}\n",
       "\n",
       "mpl.figure.prototype.request_resize = function(x_pixels, y_pixels) {\n",
       "    // Request matplotlib to resize the figure. Matplotlib will then trigger a resize in the client,\n",
       "    // which will in turn request a refresh of the image.\n",
       "    this.send_message('resize', {'width': x_pixels, 'height': y_pixels});\n",
       "}\n",
       "\n",
       "mpl.figure.prototype.send_message = function(type, properties) {\n",
       "    properties['type'] = type;\n",
       "    properties['figure_id'] = this.id;\n",
       "    this.ws.send(JSON.stringify(properties));\n",
       "}\n",
       "\n",
       "mpl.figure.prototype.send_draw_message = function() {\n",
       "    if (!this.waiting) {\n",
       "        this.waiting = true;\n",
       "        this.ws.send(JSON.stringify({type: \"draw\", figure_id: this.id}));\n",
       "    }\n",
       "}\n",
       "\n",
       "\n",
       "mpl.figure.prototype.handle_save = function(fig, msg) {\n",
       "    var format_dropdown = fig.format_dropdown;\n",
       "    var format = format_dropdown.options[format_dropdown.selectedIndex].value;\n",
       "    fig.ondownload(fig, format);\n",
       "}\n",
       "\n",
       "\n",
       "mpl.figure.prototype.handle_resize = function(fig, msg) {\n",
       "    var size = msg['size'];\n",
       "    if (size[0] != fig.canvas.width || size[1] != fig.canvas.height) {\n",
       "        fig._resize_canvas(size[0], size[1]);\n",
       "        fig.send_message(\"refresh\", {});\n",
       "    };\n",
       "}\n",
       "\n",
       "mpl.figure.prototype.handle_rubberband = function(fig, msg) {\n",
       "    var x0 = msg['x0'] / mpl.ratio;\n",
       "    var y0 = (fig.canvas.height - msg['y0']) / mpl.ratio;\n",
       "    var x1 = msg['x1'] / mpl.ratio;\n",
       "    var y1 = (fig.canvas.height - msg['y1']) / mpl.ratio;\n",
       "    x0 = Math.floor(x0) + 0.5;\n",
       "    y0 = Math.floor(y0) + 0.5;\n",
       "    x1 = Math.floor(x1) + 0.5;\n",
       "    y1 = Math.floor(y1) + 0.5;\n",
       "    var min_x = Math.min(x0, x1);\n",
       "    var min_y = Math.min(y0, y1);\n",
       "    var width = Math.abs(x1 - x0);\n",
       "    var height = Math.abs(y1 - y0);\n",
       "\n",
       "    fig.rubberband_context.clearRect(\n",
       "        0, 0, fig.canvas.width, fig.canvas.height);\n",
       "\n",
       "    fig.rubberband_context.strokeRect(min_x, min_y, width, height);\n",
       "}\n",
       "\n",
       "mpl.figure.prototype.handle_figure_label = function(fig, msg) {\n",
       "    // Updates the figure title.\n",
       "    fig.header.textContent = msg['label'];\n",
       "}\n",
       "\n",
       "mpl.figure.prototype.handle_cursor = function(fig, msg) {\n",
       "    var cursor = msg['cursor'];\n",
       "    switch(cursor)\n",
       "    {\n",
       "    case 0:\n",
       "        cursor = 'pointer';\n",
       "        break;\n",
       "    case 1:\n",
       "        cursor = 'default';\n",
       "        break;\n",
       "    case 2:\n",
       "        cursor = 'crosshair';\n",
       "        break;\n",
       "    case 3:\n",
       "        cursor = 'move';\n",
       "        break;\n",
       "    }\n",
       "    fig.rubberband_canvas.style.cursor = cursor;\n",
       "}\n",
       "\n",
       "mpl.figure.prototype.handle_message = function(fig, msg) {\n",
       "    fig.message.textContent = msg['message'];\n",
       "}\n",
       "\n",
       "mpl.figure.prototype.handle_draw = function(fig, msg) {\n",
       "    // Request the server to send over a new figure.\n",
       "    fig.send_draw_message();\n",
       "}\n",
       "\n",
       "mpl.figure.prototype.handle_image_mode = function(fig, msg) {\n",
       "    fig.image_mode = msg['mode'];\n",
       "}\n",
       "\n",
       "mpl.figure.prototype.updated_canvas_event = function() {\n",
       "    // Called whenever the canvas gets updated.\n",
       "    this.send_message(\"ack\", {});\n",
       "}\n",
       "\n",
       "// A function to construct a web socket function for onmessage handling.\n",
       "// Called in the figure constructor.\n",
       "mpl.figure.prototype._make_on_message_function = function(fig) {\n",
       "    return function socket_on_message(evt) {\n",
       "        if (evt.data instanceof Blob) {\n",
       "            /* FIXME: We get \"Resource interpreted as Image but\n",
       "             * transferred with MIME type text/plain:\" errors on\n",
       "             * Chrome.  But how to set the MIME type?  It doesn't seem\n",
       "             * to be part of the websocket stream */\n",
       "            evt.data.type = \"image/png\";\n",
       "\n",
       "            /* Free the memory for the previous frames */\n",
       "            if (fig.imageObj.src) {\n",
       "                (window.URL || window.webkitURL).revokeObjectURL(\n",
       "                    fig.imageObj.src);\n",
       "            }\n",
       "\n",
       "            fig.imageObj.src = (window.URL || window.webkitURL).createObjectURL(\n",
       "                evt.data);\n",
       "            fig.updated_canvas_event();\n",
       "            fig.waiting = false;\n",
       "            return;\n",
       "        }\n",
       "        else if (typeof evt.data === 'string' && evt.data.slice(0, 21) == \"data:image/png;base64\") {\n",
       "            fig.imageObj.src = evt.data;\n",
       "            fig.updated_canvas_event();\n",
       "            fig.waiting = false;\n",
       "            return;\n",
       "        }\n",
       "\n",
       "        var msg = JSON.parse(evt.data);\n",
       "        var msg_type = msg['type'];\n",
       "\n",
       "        // Call the  \"handle_{type}\" callback, which takes\n",
       "        // the figure and JSON message as its only arguments.\n",
       "        try {\n",
       "            var callback = fig[\"handle_\" + msg_type];\n",
       "        } catch (e) {\n",
       "            console.log(\"No handler for the '\" + msg_type + \"' message type: \", msg);\n",
       "            return;\n",
       "        }\n",
       "\n",
       "        if (callback) {\n",
       "            try {\n",
       "                // console.log(\"Handling '\" + msg_type + \"' message: \", msg);\n",
       "                callback(fig, msg);\n",
       "            } catch (e) {\n",
       "                console.log(\"Exception inside the 'handler_\" + msg_type + \"' callback:\", e, e.stack, msg);\n",
       "            }\n",
       "        }\n",
       "    };\n",
       "}\n",
       "\n",
       "// from http://stackoverflow.com/questions/1114465/getting-mouse-location-in-canvas\n",
       "mpl.findpos = function(e) {\n",
       "    //this section is from http://www.quirksmode.org/js/events_properties.html\n",
       "    var targ;\n",
       "    if (!e)\n",
       "        e = window.event;\n",
       "    if (e.target)\n",
       "        targ = e.target;\n",
       "    else if (e.srcElement)\n",
       "        targ = e.srcElement;\n",
       "    if (targ.nodeType == 3) // defeat Safari bug\n",
       "        targ = targ.parentNode;\n",
       "\n",
       "    // jQuery normalizes the pageX and pageY\n",
       "    // pageX,Y are the mouse positions relative to the document\n",
       "    // offset() returns the position of the element relative to the document\n",
       "    var x = e.pageX - $(targ).offset().left;\n",
       "    var y = e.pageY - $(targ).offset().top;\n",
       "\n",
       "    return {\"x\": x, \"y\": y};\n",
       "};\n",
       "\n",
       "/*\n",
       " * return a copy of an object with only non-object keys\n",
       " * we need this to avoid circular references\n",
       " * http://stackoverflow.com/a/24161582/3208463\n",
       " */\n",
       "function simpleKeys (original) {\n",
       "  return Object.keys(original).reduce(function (obj, key) {\n",
       "    if (typeof original[key] !== 'object')\n",
       "        obj[key] = original[key]\n",
       "    return obj;\n",
       "  }, {});\n",
       "}\n",
       "\n",
       "mpl.figure.prototype.mouse_event = function(event, name) {\n",
       "    var canvas_pos = mpl.findpos(event)\n",
       "\n",
       "    if (name === 'button_press')\n",
       "    {\n",
       "        this.canvas.focus();\n",
       "        this.canvas_div.focus();\n",
       "    }\n",
       "\n",
       "    var x = canvas_pos.x * mpl.ratio;\n",
       "    var y = canvas_pos.y * mpl.ratio;\n",
       "\n",
       "    this.send_message(name, {x: x, y: y, button: event.button,\n",
       "                             step: event.step,\n",
       "                             guiEvent: simpleKeys(event)});\n",
       "\n",
       "    /* This prevents the web browser from automatically changing to\n",
       "     * the text insertion cursor when the button is pressed.  We want\n",
       "     * to control all of the cursor setting manually through the\n",
       "     * 'cursor' event from matplotlib */\n",
       "    event.preventDefault();\n",
       "    return false;\n",
       "}\n",
       "\n",
       "mpl.figure.prototype._key_event_extra = function(event, name) {\n",
       "    // Handle any extra behaviour associated with a key event\n",
       "}\n",
       "\n",
       "mpl.figure.prototype.key_event = function(event, name) {\n",
       "\n",
       "    // Prevent repeat events\n",
       "    if (name == 'key_press')\n",
       "    {\n",
       "        if (event.which === this._key)\n",
       "            return;\n",
       "        else\n",
       "            this._key = event.which;\n",
       "    }\n",
       "    if (name == 'key_release')\n",
       "        this._key = null;\n",
       "\n",
       "    var value = '';\n",
       "    if (event.ctrlKey && event.which != 17)\n",
       "        value += \"ctrl+\";\n",
       "    if (event.altKey && event.which != 18)\n",
       "        value += \"alt+\";\n",
       "    if (event.shiftKey && event.which != 16)\n",
       "        value += \"shift+\";\n",
       "\n",
       "    value += 'k';\n",
       "    value += event.which.toString();\n",
       "\n",
       "    this._key_event_extra(event, name);\n",
       "\n",
       "    this.send_message(name, {key: value,\n",
       "                             guiEvent: simpleKeys(event)});\n",
       "    return false;\n",
       "}\n",
       "\n",
       "mpl.figure.prototype.toolbar_button_onclick = function(name) {\n",
       "    if (name == 'download') {\n",
       "        this.handle_save(this, null);\n",
       "    } else {\n",
       "        this.send_message(\"toolbar_button\", {name: name});\n",
       "    }\n",
       "};\n",
       "\n",
       "mpl.figure.prototype.toolbar_button_onmouseover = function(tooltip) {\n",
       "    this.message.textContent = tooltip;\n",
       "};\n",
       "mpl.toolbar_items = [[\"Home\", \"Reset original view\", \"fa fa-home icon-home\", \"home\"], [\"Back\", \"Back to  previous view\", \"fa fa-arrow-left icon-arrow-left\", \"back\"], [\"Forward\", \"Forward to next view\", \"fa fa-arrow-right icon-arrow-right\", \"forward\"], [\"\", \"\", \"\", \"\"], [\"Pan\", \"Pan axes with left mouse, zoom with right\", \"fa fa-arrows icon-move\", \"pan\"], [\"Zoom\", \"Zoom to rectangle\", \"fa fa-square-o icon-check-empty\", \"zoom\"], [\"\", \"\", \"\", \"\"], [\"Download\", \"Download plot\", \"fa fa-floppy-o icon-save\", \"download\"]];\n",
       "\n",
       "mpl.extensions = [\"eps\", \"jpeg\", \"pdf\", \"png\", \"ps\", \"raw\", \"svg\", \"tif\"];\n",
       "\n",
       "mpl.default_extension = \"png\";var comm_websocket_adapter = function(comm) {\n",
       "    // Create a \"websocket\"-like object which calls the given IPython comm\n",
       "    // object with the appropriate methods. Currently this is a non binary\n",
       "    // socket, so there is still some room for performance tuning.\n",
       "    var ws = {};\n",
       "\n",
       "    ws.close = function() {\n",
       "        comm.close()\n",
       "    };\n",
       "    ws.send = function(m) {\n",
       "        //console.log('sending', m);\n",
       "        comm.send(m);\n",
       "    };\n",
       "    // Register the callback with on_msg.\n",
       "    comm.on_msg(function(msg) {\n",
       "        //console.log('receiving', msg['content']['data'], msg);\n",
       "        // Pass the mpl event to the overriden (by mpl) onmessage function.\n",
       "        ws.onmessage(msg['content']['data'])\n",
       "    });\n",
       "    return ws;\n",
       "}\n",
       "\n",
       "mpl.mpl_figure_comm = function(comm, msg) {\n",
       "    // This is the function which gets called when the mpl process\n",
       "    // starts-up an IPython Comm through the \"matplotlib\" channel.\n",
       "\n",
       "    var id = msg.content.data.id;\n",
       "    // Get hold of the div created by the display call when the Comm\n",
       "    // socket was opened in Python.\n",
       "    var element = $(\"#\" + id);\n",
       "    var ws_proxy = comm_websocket_adapter(comm)\n",
       "\n",
       "    function ondownload(figure, format) {\n",
       "        window.open(figure.imageObj.src);\n",
       "    }\n",
       "\n",
       "    var fig = new mpl.figure(id, ws_proxy,\n",
       "                           ondownload,\n",
       "                           element.get(0));\n",
       "\n",
       "    // Call onopen now - mpl needs it, as it is assuming we've passed it a real\n",
       "    // web socket which is closed, not our websocket->open comm proxy.\n",
       "    ws_proxy.onopen();\n",
       "\n",
       "    fig.parent_element = element.get(0);\n",
       "    fig.cell_info = mpl.find_output_cell(\"<div id='\" + id + \"'></div>\");\n",
       "    if (!fig.cell_info) {\n",
       "        console.error(\"Failed to find cell for figure\", id, fig);\n",
       "        return;\n",
       "    }\n",
       "\n",
       "    var output_index = fig.cell_info[2]\n",
       "    var cell = fig.cell_info[0];\n",
       "\n",
       "};\n",
       "\n",
       "mpl.figure.prototype.handle_close = function(fig, msg) {\n",
       "    var width = fig.canvas.width/mpl.ratio\n",
       "    fig.root.unbind('remove')\n",
       "\n",
       "    // Update the output cell to use the data from the current canvas.\n",
       "    fig.push_to_output();\n",
       "    var dataURL = fig.canvas.toDataURL();\n",
       "    // Re-enable the keyboard manager in IPython - without this line, in FF,\n",
       "    // the notebook keyboard shortcuts fail.\n",
       "    IPython.keyboard_manager.enable()\n",
       "    $(fig.parent_element).html('<img src=\"' + dataURL + '\" width=\"' + width + '\">');\n",
       "    fig.close_ws(fig, msg);\n",
       "}\n",
       "\n",
       "mpl.figure.prototype.close_ws = function(fig, msg){\n",
       "    fig.send_message('closing', msg);\n",
       "    // fig.ws.close()\n",
       "}\n",
       "\n",
       "mpl.figure.prototype.push_to_output = function(remove_interactive) {\n",
       "    // Turn the data on the canvas into data in the output cell.\n",
       "    var width = this.canvas.width/mpl.ratio\n",
       "    var dataURL = this.canvas.toDataURL();\n",
       "    this.cell_info[1]['text/html'] = '<img src=\"' + dataURL + '\" width=\"' + width + '\">';\n",
       "}\n",
       "\n",
       "mpl.figure.prototype.updated_canvas_event = function() {\n",
       "    // Tell IPython that the notebook contents must change.\n",
       "    IPython.notebook.set_dirty(true);\n",
       "    this.send_message(\"ack\", {});\n",
       "    var fig = this;\n",
       "    // Wait a second, then push the new image to the DOM so\n",
       "    // that it is saved nicely (might be nice to debounce this).\n",
       "    setTimeout(function () { fig.push_to_output() }, 1000);\n",
       "}\n",
       "\n",
       "mpl.figure.prototype._init_toolbar = function() {\n",
       "    var fig = this;\n",
       "\n",
       "    var nav_element = $('<div/>')\n",
       "    nav_element.attr('style', 'width: 100%');\n",
       "    this.root.append(nav_element);\n",
       "\n",
       "    // Define a callback function for later on.\n",
       "    function toolbar_event(event) {\n",
       "        return fig.toolbar_button_onclick(event['data']);\n",
       "    }\n",
       "    function toolbar_mouse_event(event) {\n",
       "        return fig.toolbar_button_onmouseover(event['data']);\n",
       "    }\n",
       "\n",
       "    for(var toolbar_ind in mpl.toolbar_items){\n",
       "        var name = mpl.toolbar_items[toolbar_ind][0];\n",
       "        var tooltip = mpl.toolbar_items[toolbar_ind][1];\n",
       "        var image = mpl.toolbar_items[toolbar_ind][2];\n",
       "        var method_name = mpl.toolbar_items[toolbar_ind][3];\n",
       "\n",
       "        if (!name) { continue; };\n",
       "\n",
       "        var button = $('<button class=\"btn btn-default\" href=\"#\" title=\"' + name + '\"><i class=\"fa ' + image + ' fa-lg\"></i></button>');\n",
       "        button.click(method_name, toolbar_event);\n",
       "        button.mouseover(tooltip, toolbar_mouse_event);\n",
       "        nav_element.append(button);\n",
       "    }\n",
       "\n",
       "    // Add the status bar.\n",
       "    var status_bar = $('<span class=\"mpl-message\" style=\"text-align:right; float: right;\"/>');\n",
       "    nav_element.append(status_bar);\n",
       "    this.message = status_bar[0];\n",
       "\n",
       "    // Add the close button to the window.\n",
       "    var buttongrp = $('<div class=\"btn-group inline pull-right\"></div>');\n",
       "    var button = $('<button class=\"btn btn-mini btn-primary\" href=\"#\" title=\"Stop Interaction\"><i class=\"fa fa-power-off icon-remove icon-large\"></i></button>');\n",
       "    button.click(function (evt) { fig.handle_close(fig, {}); } );\n",
       "    button.mouseover('Stop Interaction', toolbar_mouse_event);\n",
       "    buttongrp.append(button);\n",
       "    var titlebar = this.root.find($('.ui-dialog-titlebar'));\n",
       "    titlebar.prepend(buttongrp);\n",
       "}\n",
       "\n",
       "mpl.figure.prototype._root_extra_style = function(el){\n",
       "    var fig = this\n",
       "    el.on(\"remove\", function(){\n",
       "\tfig.close_ws(fig, {});\n",
       "    });\n",
       "}\n",
       "\n",
       "mpl.figure.prototype._canvas_extra_style = function(el){\n",
       "    // this is important to make the div 'focusable\n",
       "    el.attr('tabindex', 0)\n",
       "    // reach out to IPython and tell the keyboard manager to turn it's self\n",
       "    // off when our div gets focus\n",
       "\n",
       "    // location in version 3\n",
       "    if (IPython.notebook.keyboard_manager) {\n",
       "        IPython.notebook.keyboard_manager.register_events(el);\n",
       "    }\n",
       "    else {\n",
       "        // location in version 2\n",
       "        IPython.keyboard_manager.register_events(el);\n",
       "    }\n",
       "\n",
       "}\n",
       "\n",
       "mpl.figure.prototype._key_event_extra = function(event, name) {\n",
       "    var manager = IPython.notebook.keyboard_manager;\n",
       "    if (!manager)\n",
       "        manager = IPython.keyboard_manager;\n",
       "\n",
       "    // Check for shift+enter\n",
       "    if (event.shiftKey && event.which == 13) {\n",
       "        this.canvas_div.blur();\n",
       "        // select the cell after this one\n",
       "        var index = IPython.notebook.find_cell_index(this.cell_info[0]);\n",
       "        IPython.notebook.select(index + 1);\n",
       "    }\n",
       "}\n",
       "\n",
       "mpl.figure.prototype.handle_save = function(fig, msg) {\n",
       "    fig.ondownload(fig, null);\n",
       "}\n",
       "\n",
       "\n",
       "mpl.find_output_cell = function(html_output) {\n",
       "    // Return the cell and output element which can be found *uniquely* in the notebook.\n",
       "    // Note - this is a bit hacky, but it is done because the \"notebook_saving.Notebook\"\n",
       "    // IPython event is triggered only after the cells have been serialised, which for\n",
       "    // our purposes (turning an active figure into a static one), is too late.\n",
       "    var cells = IPython.notebook.get_cells();\n",
       "    var ncells = cells.length;\n",
       "    for (var i=0; i<ncells; i++) {\n",
       "        var cell = cells[i];\n",
       "        if (cell.cell_type === 'code'){\n",
       "            for (var j=0; j<cell.output_area.outputs.length; j++) {\n",
       "                var data = cell.output_area.outputs[j];\n",
       "                if (data.data) {\n",
       "                    // IPython >= 3 moved mimebundle to data attribute of output\n",
       "                    data = data.data;\n",
       "                }\n",
       "                if (data['text/html'] == html_output) {\n",
       "                    return [cell, data, j];\n",
       "                }\n",
       "            }\n",
       "        }\n",
       "    }\n",
       "}\n",
       "\n",
       "// Register the function which deals with the matplotlib target/channel.\n",
       "// The kernel may be null if the page has been refreshed.\n",
       "if (IPython.notebook.kernel != null) {\n",
       "    IPython.notebook.kernel.comm_manager.register_target('matplotlib', mpl.mpl_figure_comm);\n",
       "}\n"
      ],
      "text/plain": [
       "<IPython.core.display.Javascript object>"
      ]
     },
     "metadata": {},
     "output_type": "display_data"
    },
    {
     "data": {
      "text/html": [
       "<img src=\"data:image/png;base64,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\" width=\"600\">"
      ],
      "text/plain": [
       "<IPython.core.display.HTML object>"
      ]
     },
     "metadata": {},
     "output_type": "display_data"
    }
   ],
   "source": [
    "fig, ax = plot_gershgorin_circles(A1, with_real_eigv=True);"
   ]
  },
  {
   "cell_type": "code",
   "execution_count": 11,
   "metadata": {},
   "outputs": [
    {
     "data": {
      "text/html": [
       "t(A<sub>0</sub>) = 6.253726888823976"
      ],
      "text/plain": [
       "<IPython.core.display.HTML object>"
      ]
     },
     "metadata": {},
     "output_type": "display_data"
    },
    {
     "data": {
      "text/html": [
       "A<sub>1</sub>:"
      ],
      "text/plain": [
       "<IPython.core.display.HTML object>"
      ]
     },
     "metadata": {},
     "output_type": "display_data"
    },
    {
     "name": "stdout",
     "output_type": "stream",
     "text": [
      "[[  3.77000000e+00   1.30857153e+00  -8.38892463e-01   1.66000000e+00]\n",
      " [  1.30857153e+00   5.72938928e+00   0.00000000e+00   1.31067881e-01]\n",
      " [ -8.38892463e-01  -8.88178420e-16   1.67006107e+01   2.56267852e+00]\n",
      " [  1.66000000e+00   1.31067881e-01   2.56267852e+00   6.89000000e+00]]\n"
     ]
    },
    {
     "data": {
      "text/html": [
       "U<sub>0</sub>:"
      ],
      "text/plain": [
       "<IPython.core.display.HTML object>"
      ]
     },
     "metadata": {},
     "output_type": "display_data"
    },
    {
     "name": "stdout",
     "output_type": "stream",
     "text": [
      "[[ 1.          0.          0.          0.        ]\n",
      " [ 0.          0.80675226  0.59088984  0.        ]\n",
      " [ 0.         -0.59088984  0.80675226  0.        ]\n",
      " [ 0.          0.          0.          1.        ]]\n"
     ]
    },
    {
     "data": {
      "text/html": [
       "t(A<sub>1</sub>) = 3.4287315438803314"
      ],
      "text/plain": [
       "<IPython.core.display.HTML object>"
      ]
     },
     "metadata": {},
     "output_type": "display_data"
    },
    {
     "name": "stdout",
     "output_type": "stream",
     "text": [
      "__________________________________________________\n"
     ]
    },
    {
     "data": {
      "text/html": [
       "A<sub>2</sub>:"
      ],
      "text/plain": [
       "<IPython.core.display.HTML object>"
      ]
     },
     "metadata": {},
     "output_type": "display_data"
    },
    {
     "name": "stdout",
     "output_type": "stream",
     "text": [
      "[[  3.77000000e+00   1.30857153e+00  -4.18966048e-01   1.81212803e+00]\n",
      " [  1.30857153e+00   5.72938928e+00   3.12462085e-02   1.27288899e-01]\n",
      " [ -4.18966048e-01   3.12462085e-02   1.73296835e+01   8.88178420e-16]\n",
      " [  1.81212803e+00   1.27288899e-01   0.00000000e+00   6.26092718e+00]]\n"
     ]
    },
    {
     "data": {
      "text/html": [
       "U<sub>1</sub>:"
      ],
      "text/plain": [
       "<IPython.core.display.HTML object>"
      ]
     },
     "metadata": {},
     "output_type": "display_data"
    },
    {
     "name": "stdout",
     "output_type": "stream",
     "text": [
      "[[ 1.          0.          0.          0.        ]\n",
      " [ 0.          1.          0.          0.        ]\n",
      " [ 0.          0.          0.97116775 -0.23839714]\n",
      " [ 0.          0.          0.23839714  0.97116775]]\n"
     ]
    },
    {
     "data": {
      "text/html": [
       "t(A<sub>2</sub>) = 2.2779110582794537"
      ],
      "text/plain": [
       "<IPython.core.display.HTML object>"
      ]
     },
     "metadata": {},
     "output_type": "display_data"
    },
    {
     "name": "stdout",
     "output_type": "stream",
     "text": [
      "__________________________________________________\n"
     ]
    },
    {
     "data": {
      "text/html": [
       "A<sub>3</sub>:"
      ],
      "text/plain": [
       "<IPython.core.display.HTML object>"
      ]
     },
     "metadata": {},
     "output_type": "display_data"
    },
    {
     "name": "stdout",
     "output_type": "stream",
     "text": [
      "[[  2.81660307e+00   1.09880511e+00  -3.70780596e-01   0.00000000e+00]\n",
      " [  1.09880511e+00   5.72938928e+00   3.12462085e-02   7.21934373e-01]\n",
      " [ -3.70780596e-01   3.12462085e-02   1.73296835e+01  -1.95075113e-01]\n",
      " [  4.44089210e-16   7.21934373e-01  -1.95075113e-01   7.21432410e+00]]\n"
     ]
    },
    {
     "data": {
      "text/html": [
       "U<sub>2</sub>:"
      ],
      "text/plain": [
       "<IPython.core.display.HTML object>"
      ]
     },
     "metadata": {},
     "output_type": "display_data"
    },
    {
     "name": "stdout",
     "output_type": "stream",
     "text": [
      "[[ 0.8849896   0.          0.          0.46561079]\n",
      " [ 0.          1.          0.          0.        ]\n",
      " [ 0.          0.          1.          0.        ]\n",
      " [-0.46561079  0.          0.          0.8849896 ]]\n"
     ]
    },
    {
     "data": {
      "text/html": [
       "t(A<sub>3</sub>) = 1.3802430130530645"
      ],
      "text/plain": [
       "<IPython.core.display.HTML object>"
      ]
     },
     "metadata": {},
     "output_type": "display_data"
    },
    {
     "name": "stdout",
     "output_type": "stream",
     "text": [
      "__________________________________________________\n"
     ]
    },
    {
     "data": {
      "text/html": [
       "A<sub>4</sub>:"
      ],
      "text/plain": [
       "<IPython.core.display.HTML object>"
      ]
     },
     "metadata": {},
     "output_type": "display_data"
    },
    {
     "name": "stdout",
     "output_type": "stream",
     "text": [
      "[[  2.44859120e+00   0.00000000e+00  -3.61508858e-01  -2.29273054e-01]\n",
      " [ -2.22044605e-16   6.09740115e+00  -8.81244627e-02   6.84560520e-01]\n",
      " [ -3.61508858e-01  -8.81244627e-02   1.73296835e+01  -1.95075113e-01]\n",
      " [ -2.29273054e-01   6.84560520e-01  -1.95075113e-01   7.21432410e+00]]\n"
     ]
    },
    {
     "data": {
      "text/html": [
       "U<sub>3</sub>:"
      ],
      "text/plain": [
       "<IPython.core.display.HTML object>"
      ]
     },
     "metadata": {},
     "output_type": "display_data"
    },
    {
     "name": "stdout",
     "output_type": "stream",
     "text": [
      "[[ 0.94823096  0.31758157  0.          0.        ]\n",
      " [-0.31758157  0.94823096  0.          0.        ]\n",
      " [ 0.          0.          1.          0.        ]\n",
      " [ 0.          0.          0.          1.        ]]\n"
     ]
    },
    {
     "data": {
      "text/html": [
       "t(A<sub>4</sub>) = 0.8352832538986865"
      ],
      "text/plain": [
       "<IPython.core.display.HTML object>"
      ]
     },
     "metadata": {},
     "output_type": "display_data"
    },
    {
     "name": "stdout",
     "output_type": "stream",
     "text": [
      "__________________________________________________\n"
     ]
    },
    {
     "data": {
      "text/html": [
       "A<sub>5</sub>:"
      ],
      "text/plain": [
       "<IPython.core.display.HTML object>"
      ]
     },
     "metadata": {},
     "output_type": "display_data"
    },
    {
     "name": "stdout",
     "output_type": "stream",
     "text": [
      "[[  2.44859120e+00   9.83298661e-02  -3.61508858e-01  -2.07116804e-01]\n",
      " [  9.83298661e-02   5.77240220e+00   4.05478354e-03   1.79049621e-16]\n",
      " [ -3.61508858e-01   4.05478354e-03   1.73296835e+01  -2.14018175e-01]\n",
      " [ -2.07116804e-01   5.00582027e-16  -2.14018175e-01   7.53932305e+00]]\n"
     ]
    },
    {
     "data": {
      "text/html": [
       "U<sub>4</sub>:"
      ],
      "text/plain": [
       "<IPython.core.display.HTML object>"
      ]
     },
     "metadata": {},
     "output_type": "display_data"
    },
    {
     "name": "stdout",
     "output_type": "stream",
     "text": [
      "[[ 1.          0.          0.          0.        ]\n",
      " [ 0.          0.90336305  0.          0.42887668]\n",
      " [ 0.          0.          1.          0.        ]\n",
      " [ 0.         -0.42887668  0.          0.90336305]]\n"
     ]
    },
    {
     "data": {
      "text/html": [
       "t(A<sub>5</sub>) = 0.478617810285561"
      ],
      "text/plain": [
       "<IPython.core.display.HTML object>"
      ]
     },
     "metadata": {},
     "output_type": "display_data"
    },
    {
     "name": "stdout",
     "output_type": "stream",
     "text": [
      "__________________________________________________\n"
     ]
    },
    {
     "data": {
      "text/html": [
       "A<sub>6</sub>:"
      ],
      "text/plain": [
       "<IPython.core.display.HTML object>"
      ]
     },
     "metadata": {},
     "output_type": "display_data"
    },
    {
     "name": "stdout",
     "output_type": "stream",
     "text": [
      "[[  2.43981418e+00   9.83993145e-02   4.93072158e-17  -2.12250371e-01]\n",
      " [  9.83993145e-02   5.77240220e+00   1.66695655e-03   1.79049621e-16]\n",
      " [ -3.07286480e-17   1.66695655e-03   1.73384606e+01  -2.08928049e-01]\n",
      " [ -2.12250371e-01   5.00582027e-16  -2.08928049e-01   7.53932305e+00]]\n"
     ]
    },
    {
     "data": {
      "text/html": [
       "U<sub>5</sub>:"
      ],
      "text/plain": [
       "<IPython.core.display.HTML object>"
      ]
     },
     "metadata": {},
     "output_type": "display_data"
    },
    {
     "name": "stdout",
     "output_type": "stream",
     "text": [
      "[[ 0.9997054   0.         -0.02427169  0.        ]\n",
      " [ 0.          1.          0.          0.        ]\n",
      " [ 0.02427169  0.          0.9997054   0.        ]\n",
      " [ 0.          0.          0.          1.        ]]\n"
     ]
    },
    {
     "data": {
      "text/html": [
       "t(A<sub>6</sub>) = 0.3136659905816588"
      ],
      "text/plain": [
       "<IPython.core.display.HTML object>"
      ]
     },
     "metadata": {},
     "output_type": "display_data"
    },
    {
     "name": "stdout",
     "output_type": "stream",
     "text": [
      "__________________________________________________\n"
     ]
    },
    {
     "data": {
      "text/html": [
       "A<sub>7</sub>:"
      ],
      "text/plain": [
       "<IPython.core.display.HTML object>"
      ]
     },
     "metadata": {},
     "output_type": "display_data"
    },
    {
     "name": "stdout",
     "output_type": "stream",
     "text": [
      "[[  2.43099520e+00   9.83144864e-02  -8.67345016e-03   1.38777878e-17]\n",
      " [  9.83144864e-02   5.77240220e+00   1.66695655e-03  -4.08495438e-03]\n",
      " [ -8.67345016e-03   1.66695655e-03   1.73384606e+01  -2.08747936e-01]\n",
      " [  2.77555756e-16  -4.08495438e-03  -2.08747936e-01   7.54814203e+00]]\n"
     ]
    },
    {
     "data": {
      "text/html": [
       "U<sub>6</sub>:"
      ],
      "text/plain": [
       "<IPython.core.display.HTML object>"
      ]
     },
     "metadata": {},
     "output_type": "display_data"
    },
    {
     "name": "stdout",
     "output_type": "stream",
     "text": [
      "[[ 0.99913792  0.          0.         -0.04151405]\n",
      " [ 0.          1.          0.          0.        ]\n",
      " [ 0.          0.          1.          0.        ]\n",
      " [ 0.04151405  0.          0.          0.99913792]]\n"
     ]
    },
    {
     "data": {
      "text/html": [
       "t(A<sub>7</sub>) = 0.23094617027298067"
      ],
      "text/plain": [
       "<IPython.core.display.HTML object>"
      ]
     },
     "metadata": {},
     "output_type": "display_data"
    },
    {
     "name": "stdout",
     "output_type": "stream",
     "text": [
      "__________________________________________________\n"
     ]
    },
    {
     "data": {
      "text/html": [
       "A<sub>8</sub>:"
      ],
      "text/plain": [
       "<IPython.core.display.HTML object>"
      ]
     },
     "metadata": {},
     "output_type": "display_data"
    },
    {
     "name": "stdout",
     "output_type": "stream",
     "text": [
      "[[  2.43099520e+00   9.83144864e-02  -8.67148105e-03  -1.84808245e-04]\n",
      " [  9.83144864e-02   5.77240220e+00   1.75361766e-03  -4.04850856e-03]\n",
      " [ -8.67148105e-03   1.75361766e-03   1.73429094e+01  -5.55111512e-17]\n",
      " [ -1.84808245e-04  -4.04850856e-03  -3.33066907e-16   7.54369315e+00]]\n"
     ]
    },
    {
     "data": {
      "text/html": [
       "U<sub>7</sub>:"
      ],
      "text/plain": [
       "<IPython.core.display.HTML object>"
      ]
     },
     "metadata": {},
     "output_type": "display_data"
    },
    {
     "name": "stdout",
     "output_type": "stream",
     "text": [
      "[[ 1.          0.          0.          0.        ]\n",
      " [ 0.          1.          0.          0.        ]\n",
      " [ 0.          0.          0.99977297  0.02130735]\n",
      " [ 0.          0.         -0.02130735  0.99977297]]\n"
     ]
    },
    {
     "data": {
      "text/html": [
       "t(A<sub>8</sub>) = 0.09879490155018442"
      ],
      "text/plain": [
       "<IPython.core.display.HTML object>"
      ]
     },
     "metadata": {},
     "output_type": "display_data"
    },
    {
     "name": "stdout",
     "output_type": "stream",
     "text": [
      "__________________________________________________\n"
     ]
    },
    {
     "data": {
      "text/html": [
       "A<sub>9</sub>:"
      ],
      "text/plain": [
       "<IPython.core.display.HTML object>"
      ]
     },
     "metadata": {},
     "output_type": "display_data"
    },
    {
     "name": "stdout",
     "output_type": "stream",
     "text": [
      "[[  2.42810499e+00   0.00000000e+00  -8.71926641e-03  -6.57631876e-05]\n",
      " [ -3.05311332e-16   5.77529242e+00   1.49804929e-03  -4.05219087e-03]\n",
      " [ -8.71926641e-03   1.49804929e-03   1.73429094e+01  -5.55111512e-17]\n",
      " [ -6.57631876e-05  -4.05219087e-03  -3.33066907e-16   7.54369315e+00]]\n"
     ]
    },
    {
     "data": {
      "text/html": [
       "U<sub>8</sub>:"
      ],
      "text/plain": [
       "<IPython.core.display.HTML object>"
      ]
     },
     "metadata": {},
     "output_type": "display_data"
    },
    {
     "name": "stdout",
     "output_type": "stream",
     "text": [
      "[[ 0.99956817  0.02938496  0.          0.        ]\n",
      " [-0.02938496  0.99956817  0.          0.        ]\n",
      " [ 0.          0.          1.          0.        ]\n",
      " [ 0.          0.          0.          1.        ]]\n"
     ]
    },
    {
     "data": {
      "text/html": [
       "t(A<sub>9</sub>) = 0.009731101379036919"
      ],
      "text/plain": [
       "<IPython.core.display.HTML object>"
      ]
     },
     "metadata": {},
     "output_type": "display_data"
    },
    {
     "name": "stdout",
     "output_type": "stream",
     "text": [
      "__________________________________________________\n"
     ]
    },
    {
     "data": {
      "text/html": [
       "A<sub>10</sub>:"
      ],
      "text/plain": [
       "<IPython.core.display.HTML object>"
      ]
     },
     "metadata": {},
     "output_type": "display_data"
    },
    {
     "name": "stdout",
     "output_type": "stream",
     "text": [
      "[[  2.42809989e+00   8.75766373e-07  -1.65410407e-18  -6.57631764e-05]\n",
      " [  8.75766372e-07   5.77529242e+00   1.49804904e-03  -4.05219087e-03]\n",
      " [ -3.58771027e-17   1.49804904e-03   1.73429145e+01   3.84454560e-08]\n",
      " [ -6.57631764e-05  -4.05219087e-03   3.84454557e-08   7.54369315e+00]]\n"
     ]
    },
    {
     "data": {
      "text/html": [
       "U<sub>9</sub>:"
      ],
      "text/plain": [
       "<IPython.core.display.HTML object>"
      ]
     },
     "metadata": {},
     "output_type": "display_data"
    },
    {
     "name": "stdout",
     "output_type": "stream",
     "text": [
      "[[  9.99999829e-01   0.00000000e+00  -5.84604509e-04   0.00000000e+00]\n",
      " [  0.00000000e+00   1.00000000e+00   0.00000000e+00   0.00000000e+00]\n",
      " [  5.84604509e-04   0.00000000e+00   9.99999829e-01   0.00000000e+00]\n",
      " [  0.00000000e+00   0.00000000e+00   0.00000000e+00   1.00000000e+00]]\n"
     ]
    },
    {
     "data": {
      "text/html": [
       "t(A<sub>10</sub>) = 0.0043207322644732956"
      ],
      "text/plain": [
       "<IPython.core.display.HTML object>"
      ]
     },
     "metadata": {},
     "output_type": "display_data"
    },
    {
     "name": "stdout",
     "output_type": "stream",
     "text": [
      "__________________________________________________\n"
     ]
    },
    {
     "data": {
      "text/html": [
       "A<sub>11</sub>:"
      ],
      "text/plain": [
       "<IPython.core.display.HTML object>"
      ]
     },
     "metadata": {},
     "output_type": "display_data"
    },
    {
     "name": "stdout",
     "output_type": "stream",
     "text": [
      "[[  2.42809989e+00   7.25072639e-07  -1.65410407e-18  -6.57650105e-05]\n",
      " [  7.25072639e-07   5.77528313e+00   1.49804519e-03  -1.69820860e-18]\n",
      " [ -3.58771027e-17   1.49804519e-03   1.73429145e+01  -3.39422276e-06]\n",
      " [ -6.57650105e-05   2.92092299e-16  -3.39422276e-06   7.54370244e+00]]\n"
     ]
    },
    {
     "data": {
      "text/html": [
       "U<sub>10</sub>:"
      ],
      "text/plain": [
       "<IPython.core.display.HTML object>"
      ]
     },
     "metadata": {},
     "output_type": "display_data"
    },
    {
     "name": "stdout",
     "output_type": "stream",
     "text": [
      "[[ 1.          0.          0.          0.        ]\n",
      " [ 0.          0.99999737  0.         -0.00229143]\n",
      " [ 0.          0.          1.          0.        ]\n",
      " [ 0.          0.00229143  0.          0.99999737]]\n"
     ]
    },
    {
     "data": {
      "text/html": [
       "t(A<sub>11</sub>) = 0.001499492075284109"
      ],
      "text/plain": [
       "<IPython.core.display.HTML object>"
      ]
     },
     "metadata": {},
     "output_type": "display_data"
    },
    {
     "name": "stdout",
     "output_type": "stream",
     "text": [
      "__________________________________________________\n"
     ]
    },
    {
     "data": {
      "text/html": [
       "A<sub>12</sub>:"
      ],
      "text/plain": [
       "<IPython.core.display.HTML object>"
      ]
     },
     "metadata": {},
     "output_type": "display_data"
    },
    {
     "name": "stdout",
     "output_type": "stream",
     "text": [
      "[[  2.42809989e+00   7.25072633e-07   9.38992173e-11  -6.57650105e-05]\n",
      " [  7.25072632e-07   5.77528294e+00  -3.25260652e-19   4.39562669e-10]\n",
      " [  9.38991830e-11  -1.19522447e-15   1.73429147e+01  -3.39422273e-06]\n",
      " [ -6.57650105e-05   4.39562963e-10  -3.39422273e-06   7.54370244e+00]]\n"
     ]
    },
    {
     "data": {
      "text/html": [
       "U<sub>11</sub>:"
      ],
      "text/plain": [
       "<IPython.core.display.HTML object>"
      ]
     },
     "metadata": {},
     "output_type": "display_data"
    },
    {
     "name": "stdout",
     "output_type": "stream",
     "text": [
      "[[  1.00000000e+00   0.00000000e+00   0.00000000e+00   0.00000000e+00]\n",
      " [  0.00000000e+00   9.99999992e-01   1.29503189e-04   0.00000000e+00]\n",
      " [  0.00000000e+00  -1.29503189e-04   9.99999992e-01   0.00000000e+00]\n",
      " [  0.00000000e+00   0.00000000e+00   0.00000000e+00   1.00000000e+00]]\n"
     ]
    },
    {
     "data": {
      "text/html": [
       "t(A<sub>12</sub>) = 6.585653411178078e-05"
      ],
      "text/plain": [
       "<IPython.core.display.HTML object>"
      ]
     },
     "metadata": {},
     "output_type": "display_data"
    },
    {
     "name": "stdout",
     "output_type": "stream",
     "text": [
      "__________________________________________________\n"
     ]
    }
   ],
   "source": [
    "l, U = Jacobi_method(A1, 1e-4, True)"
   ]
  },
  {
   "cell_type": "code",
   "execution_count": 12,
   "metadata": {},
   "outputs": [
    {
     "data": {
      "text/plain": [
       "array([[ 0.85868672,  0.08063545, -0.03163366,  0.50512805],\n",
       "       [-0.19258165,  0.75848558,  0.57353629,  0.24221488],\n",
       "       [ 0.28771518, -0.40016094,  0.78463634, -0.37608112],\n",
       "       [-0.37787484, -0.50800469,  0.23324076,  0.73806544]])"
      ]
     },
     "execution_count": 12,
     "metadata": {},
     "output_type": "execute_result"
    }
   ],
   "source": [
    "U"
   ]
  },
  {
   "cell_type": "code",
   "execution_count": 13,
   "metadata": {},
   "outputs": [
    {
     "data": {
      "text/latex": [
       "$x^{(0)} = (0.5488, 0.7152, 0.6028, 0.5449)^{T}$"
      ],
      "text/plain": [
       "<IPython.core.display.Latex object>"
      ]
     },
     "metadata": {},
     "output_type": "display_data"
    },
    {
     "data": {
      "text/latex": [
       "$x^{(1)} = (2.5, 11.1797, 11.7865, 7.0234)^{T}$"
      ],
      "text/plain": [
       "<IPython.core.display.Latex object>"
      ]
     },
     "metadata": {},
     "output_type": "display_data"
    },
    {
     "data": {
      "text/latex": [
       "$\\lambda_1^{(0)} = 13.7816$"
      ],
      "text/plain": [
       "<IPython.core.display.Latex object>"
      ]
     },
     "metadata": {},
     "output_type": "display_data"
    },
    {
     "data": {
      "text/latex": [
       "$\\mathbf{e}_1^{(0)} = (0.4522, 0.5893, 0.4967, 0.449)^{T}$"
      ],
      "text/plain": [
       "<IPython.core.display.Latex object>"
      ]
     },
     "metadata": {},
     "output_type": "display_data"
    },
    {
     "name": "stdout",
     "output_type": "stream",
     "text": [
      "--------------------------------------------------\n"
     ]
    },
    {
     "data": {
      "text/latex": [
       "$x^{(2)} = (0.5737, 10.1431, 12.337, 5.265)^{T}$"
      ],
      "text/plain": [
       "<IPython.core.display.Latex object>"
      ]
     },
     "metadata": {},
     "output_type": "display_data"
    },
    {
     "data": {
      "text/latex": [
       "$\\lambda_1^{(1)} = 16.6284$"
      ],
      "text/plain": [
       "<IPython.core.display.Latex object>"
      ]
     },
     "metadata": {},
     "output_type": "display_data"
    },
    {
     "data": {
      "text/latex": [
       "$\\mathbf{e}_1^{(1)} = (0.1399, 0.6255, 0.6594, 0.3929)^{T}$"
      ],
      "text/plain": [
       "<IPython.core.display.Latex object>"
      ]
     },
     "metadata": {},
     "output_type": "display_data"
    },
    {
     "name": "stdout",
     "output_type": "stream",
     "text": [
      "--------------------------------------------------\n"
     ]
    },
    {
     "data": {
      "text/latex": [
       "$x^{(3)} = (-0.0776, 10.1233, 13.162, 4.648)^{T}$"
      ],
      "text/plain": [
       "<IPython.core.display.Latex object>"
      ]
     },
     "metadata": {},
     "output_type": "display_data"
    },
    {
     "data": {
      "text/latex": [
       "$\\lambda_1^{(2)} = 17.2043$"
      ],
      "text/plain": [
       "<IPython.core.display.Latex object>"
      ]
     },
     "metadata": {},
     "output_type": "display_data"
    },
    {
     "data": {
      "text/latex": [
       "$\\mathbf{e}_1^{(2)} = (0.0341, 0.6028, 0.7332, 0.3129)^{T}$"
      ],
      "text/plain": [
       "<IPython.core.display.Latex object>"
      ]
     },
     "metadata": {},
     "output_type": "display_data"
    },
    {
     "name": "stdout",
     "output_type": "stream",
     "text": [
      "--------------------------------------------------\n"
     ]
    },
    {
     "data": {
      "text/latex": [
       "$x^{(4)} = (-0.3475, 10.0389, 13.4372, 4.3199)^{T}$"
      ],
      "text/plain": [
       "<IPython.core.display.Latex object>"
      ]
     },
     "metadata": {},
     "output_type": "display_data"
    },
    {
     "data": {
      "text/latex": [
       "$\\lambda_1^{(3)} = 17.3165$"
      ],
      "text/plain": [
       "<IPython.core.display.Latex object>"
      ]
     },
     "metadata": {},
     "output_type": "display_data"
    },
    {
     "data": {
      "text/latex": [
       "$\\mathbf{e}_1^{(3)} = (-0.0045, 0.5871, 0.7633, 0.2696)^{T}$"
      ],
      "text/plain": [
       "<IPython.core.display.Latex object>"
      ]
     },
     "metadata": {},
     "output_type": "display_data"
    },
    {
     "name": "stdout",
     "output_type": "stream",
     "text": [
      "--------------------------------------------------\n"
     ]
    },
    {
     "data": {
      "text/latex": [
       "$x^{(5)} = (-0.4619, 9.9892, 13.5385, 4.1671)^{T}$"
      ],
      "text/plain": [
       "<IPython.core.display.Latex object>"
      ]
     },
     "metadata": {},
     "output_type": "display_data"
    },
    {
     "data": {
      "text/latex": [
       "$\\lambda_1^{(4)} = 17.3379$"
      ],
      "text/plain": [
       "<IPython.core.display.Latex object>"
      ]
     },
     "metadata": {},
     "output_type": "display_data"
    },
    {
     "data": {
      "text/latex": [
       "$\\mathbf{e}_1^{(4)} = (-0.0201, 0.5795, 0.7756, 0.2494)^{T}$"
      ],
      "text/plain": [
       "<IPython.core.display.Latex object>"
      ]
     },
     "metadata": {},
     "output_type": "display_data"
    },
    {
     "name": "stdout",
     "output_type": "stream",
     "text": [
      "--------------------------------------------------\n"
     ]
    },
    {
     "data": {
      "text/latex": [
       "$x^{(6)} = (-0.511, 9.9655, 13.5787, 4.0987)^{T}$"
      ],
      "text/plain": [
       "<IPython.core.display.Latex object>"
      ]
     },
     "metadata": {},
     "output_type": "display_data"
    },
    {
     "data": {
      "text/latex": [
       "$\\lambda_1^{(5)} = 17.342$"
      ],
      "text/plain": [
       "<IPython.core.display.Latex object>"
      ]
     },
     "metadata": {},
     "output_type": "display_data"
    },
    {
     "data": {
      "text/latex": [
       "$\\mathbf{e}_1^{(5)} = (-0.0266, 0.5761, 0.7808, 0.2403)^{T}$"
      ],
      "text/plain": [
       "<IPython.core.display.Latex object>"
      ]
     },
     "metadata": {},
     "output_type": "display_data"
    },
    {
     "name": "stdout",
     "output_type": "stream",
     "text": [
      "--------------------------------------------------\n"
     ]
    },
    {
     "data": {
      "text/latex": [
       "$x^{(7)} = (-0.5323, 9.9549, 13.5954, 4.0685)^{T}$"
      ],
      "text/plain": [
       "<IPython.core.display.Latex object>"
      ]
     },
     "metadata": {},
     "output_type": "display_data"
    },
    {
     "data": {
      "text/latex": [
       "$\\lambda_1^{(6)} = 17.3427$"
      ],
      "text/plain": [
       "<IPython.core.display.Latex object>"
      ]
     },
     "metadata": {},
     "output_type": "display_data"
    },
    {
     "data": {
      "text/latex": [
       "$\\mathbf{e}_1^{(6)} = (-0.0295, 0.5746, 0.783, 0.2363)^{T}$"
      ],
      "text/plain": [
       "<IPython.core.display.Latex object>"
      ]
     },
     "metadata": {},
     "output_type": "display_data"
    },
    {
     "name": "stdout",
     "output_type": "stream",
     "text": [
      "--------------------------------------------------\n"
     ]
    },
    {
     "data": {
      "text/latex": [
       "$x^{(8)} = (-0.5415, 9.9503, 13.6025, 4.0553)^{T}$"
      ],
      "text/plain": [
       "<IPython.core.display.Latex object>"
      ]
     },
     "metadata": {},
     "output_type": "display_data"
    },
    {
     "data": {
      "text/latex": [
       "$\\lambda_1^{(7)} = 17.3429$"
      ],
      "text/plain": [
       "<IPython.core.display.Latex object>"
      ]
     },
     "metadata": {},
     "output_type": "display_data"
    },
    {
     "data": {
      "text/latex": [
       "$\\mathbf{e}_1^{(7)} = (-0.0307, 0.574, 0.7839, 0.2346)^{T}$"
      ],
      "text/plain": [
       "<IPython.core.display.Latex object>"
      ]
     },
     "metadata": {},
     "output_type": "display_data"
    },
    {
     "name": "stdout",
     "output_type": "stream",
     "text": [
      "--------------------------------------------------\n"
     ]
    },
    {
     "data": {
      "text/latex": [
       "$x^{(9)} = (-0.5455, 9.9483, 13.6056, 4.0495)^{T}$"
      ],
      "text/plain": [
       "<IPython.core.display.Latex object>"
      ]
     },
     "metadata": {},
     "output_type": "display_data"
    },
    {
     "data": {
      "text/latex": [
       "$\\lambda_1^{(8)} = 17.3429$"
      ],
      "text/plain": [
       "<IPython.core.display.Latex object>"
      ]
     },
     "metadata": {},
     "output_type": "display_data"
    },
    {
     "data": {
      "text/latex": [
       "$\\mathbf{e}_1^{(8)} = (-0.0312, 0.5737, 0.7843, 0.2338)^{T}$"
      ],
      "text/plain": [
       "<IPython.core.display.Latex object>"
      ]
     },
     "metadata": {},
     "output_type": "display_data"
    }
   ],
   "source": [
    "lambda_1, e_1 = power_method(A1, 1e-4, False, True)"
   ]
  },
  {
   "cell_type": "code",
   "execution_count": 14,
   "metadata": {},
   "outputs": [
    {
     "data": {
      "text/plain": [
       "array([-0.03145606,  0.57362393,  0.78450288,  0.23349806])"
      ]
     },
     "execution_count": 14,
     "metadata": {},
     "output_type": "execute_result"
    }
   ],
   "source": [
    "e_1"
   ]
  },
  {
   "cell_type": "code",
   "execution_count": 15,
   "metadata": {},
   "outputs": [
    {
     "data": {
      "text/plain": [
       "array([-0.03163366,  0.57353629,  0.78463634,  0.23324076])"
      ]
     },
     "execution_count": 15,
     "metadata": {},
     "output_type": "execute_result"
    }
   ],
   "source": [
    "U[:, 2]"
   ]
  },
  {
   "cell_type": "markdown",
   "metadata": {},
   "source": [
    "## Часть 2: применение QR-алгоритма, матрица 3х3"
   ]
  },
  {
   "cell_type": "code",
   "execution_count": 22,
   "metadata": {},
   "outputs": [
    {
     "name": "stdout",
     "output_type": "stream",
     "text": [
      "[ 10.02727470+0.j           3.98636265+6.09624525j   3.98636265-6.09624525j]\n"
     ]
    }
   ],
   "source": [
    "A2 = array([\n",
    "    [ 9,  0, 2],\n",
    "    [-6,  4, 4],\n",
    "    [-2, -7, 5]\n",
    "])\n",
    "\n",
    "l = np.linalg.eigvals(A2)\n",
    "print(l)"
   ]
  },
  {
   "cell_type": "code",
   "execution_count": 8,
   "metadata": {},
   "outputs": [
    {
     "data": {
      "application/javascript": [
       "/* Put everything inside the global mpl namespace */\n",
       "window.mpl = {};\n",
       "\n",
       "\n",
       "mpl.get_websocket_type = function() {\n",
       "    if (typeof(WebSocket) !== 'undefined') {\n",
       "        return WebSocket;\n",
       "    } else if (typeof(MozWebSocket) !== 'undefined') {\n",
       "        return MozWebSocket;\n",
       "    } else {\n",
       "        alert('Your browser does not have WebSocket support.' +\n",
       "              'Please try Chrome, Safari or Firefox ≥ 6. ' +\n",
       "              'Firefox 4 and 5 are also supported but you ' +\n",
       "              'have to enable WebSockets in about:config.');\n",
       "    };\n",
       "}\n",
       "\n",
       "mpl.figure = function(figure_id, websocket, ondownload, parent_element) {\n",
       "    this.id = figure_id;\n",
       "\n",
       "    this.ws = websocket;\n",
       "\n",
       "    this.supports_binary = (this.ws.binaryType != undefined);\n",
       "\n",
       "    if (!this.supports_binary) {\n",
       "        var warnings = document.getElementById(\"mpl-warnings\");\n",
       "        if (warnings) {\n",
       "            warnings.style.display = 'block';\n",
       "            warnings.textContent = (\n",
       "                \"This browser does not support binary websocket messages. \" +\n",
       "                    \"Performance may be slow.\");\n",
       "        }\n",
       "    }\n",
       "\n",
       "    this.imageObj = new Image();\n",
       "\n",
       "    this.context = undefined;\n",
       "    this.message = undefined;\n",
       "    this.canvas = undefined;\n",
       "    this.rubberband_canvas = undefined;\n",
       "    this.rubberband_context = undefined;\n",
       "    this.format_dropdown = undefined;\n",
       "\n",
       "    this.image_mode = 'full';\n",
       "\n",
       "    this.root = $('<div/>');\n",
       "    this._root_extra_style(this.root)\n",
       "    this.root.attr('style', 'display: inline-block');\n",
       "\n",
       "    $(parent_element).append(this.root);\n",
       "\n",
       "    this._init_header(this);\n",
       "    this._init_canvas(this);\n",
       "    this._init_toolbar(this);\n",
       "\n",
       "    var fig = this;\n",
       "\n",
       "    this.waiting = false;\n",
       "\n",
       "    this.ws.onopen =  function () {\n",
       "            fig.send_message(\"supports_binary\", {value: fig.supports_binary});\n",
       "            fig.send_message(\"send_image_mode\", {});\n",
       "            if (mpl.ratio != 1) {\n",
       "                fig.send_message(\"set_dpi_ratio\", {'dpi_ratio': mpl.ratio});\n",
       "            }\n",
       "            fig.send_message(\"refresh\", {});\n",
       "        }\n",
       "\n",
       "    this.imageObj.onload = function() {\n",
       "            if (fig.image_mode == 'full') {\n",
       "                // Full images could contain transparency (where diff images\n",
       "                // almost always do), so we need to clear the canvas so that\n",
       "                // there is no ghosting.\n",
       "                fig.context.clearRect(0, 0, fig.canvas.width, fig.canvas.height);\n",
       "            }\n",
       "            fig.context.drawImage(fig.imageObj, 0, 0);\n",
       "        };\n",
       "\n",
       "    this.imageObj.onunload = function() {\n",
       "        this.ws.close();\n",
       "    }\n",
       "\n",
       "    this.ws.onmessage = this._make_on_message_function(this);\n",
       "\n",
       "    this.ondownload = ondownload;\n",
       "}\n",
       "\n",
       "mpl.figure.prototype._init_header = function() {\n",
       "    var titlebar = $(\n",
       "        '<div class=\"ui-dialog-titlebar ui-widget-header ui-corner-all ' +\n",
       "        'ui-helper-clearfix\"/>');\n",
       "    var titletext = $(\n",
       "        '<div class=\"ui-dialog-title\" style=\"width: 100%; ' +\n",
       "        'text-align: center; padding: 3px;\"/>');\n",
       "    titlebar.append(titletext)\n",
       "    this.root.append(titlebar);\n",
       "    this.header = titletext[0];\n",
       "}\n",
       "\n",
       "\n",
       "\n",
       "mpl.figure.prototype._canvas_extra_style = function(canvas_div) {\n",
       "\n",
       "}\n",
       "\n",
       "\n",
       "mpl.figure.prototype._root_extra_style = function(canvas_div) {\n",
       "\n",
       "}\n",
       "\n",
       "mpl.figure.prototype._init_canvas = function() {\n",
       "    var fig = this;\n",
       "\n",
       "    var canvas_div = $('<div/>');\n",
       "\n",
       "    canvas_div.attr('style', 'position: relative; clear: both; outline: 0');\n",
       "\n",
       "    function canvas_keyboard_event(event) {\n",
       "        return fig.key_event(event, event['data']);\n",
       "    }\n",
       "\n",
       "    canvas_div.keydown('key_press', canvas_keyboard_event);\n",
       "    canvas_div.keyup('key_release', canvas_keyboard_event);\n",
       "    this.canvas_div = canvas_div\n",
       "    this._canvas_extra_style(canvas_div)\n",
       "    this.root.append(canvas_div);\n",
       "\n",
       "    var canvas = $('<canvas/>');\n",
       "    canvas.addClass('mpl-canvas');\n",
       "    canvas.attr('style', \"left: 0; top: 0; z-index: 0; outline: 0\")\n",
       "\n",
       "    this.canvas = canvas[0];\n",
       "    this.context = canvas[0].getContext(\"2d\");\n",
       "\n",
       "    var backingStore = this.context.backingStorePixelRatio ||\n",
       "\tthis.context.webkitBackingStorePixelRatio ||\n",
       "\tthis.context.mozBackingStorePixelRatio ||\n",
       "\tthis.context.msBackingStorePixelRatio ||\n",
       "\tthis.context.oBackingStorePixelRatio ||\n",
       "\tthis.context.backingStorePixelRatio || 1;\n",
       "\n",
       "    mpl.ratio = (window.devicePixelRatio || 1) / backingStore;\n",
       "\n",
       "    var rubberband = $('<canvas/>');\n",
       "    rubberband.attr('style', \"position: absolute; left: 0; top: 0; z-index: 1;\")\n",
       "\n",
       "    var pass_mouse_events = true;\n",
       "\n",
       "    canvas_div.resizable({\n",
       "        start: function(event, ui) {\n",
       "            pass_mouse_events = false;\n",
       "        },\n",
       "        resize: function(event, ui) {\n",
       "            fig.request_resize(ui.size.width, ui.size.height);\n",
       "        },\n",
       "        stop: function(event, ui) {\n",
       "            pass_mouse_events = true;\n",
       "            fig.request_resize(ui.size.width, ui.size.height);\n",
       "        },\n",
       "    });\n",
       "\n",
       "    function mouse_event_fn(event) {\n",
       "        if (pass_mouse_events)\n",
       "            return fig.mouse_event(event, event['data']);\n",
       "    }\n",
       "\n",
       "    rubberband.mousedown('button_press', mouse_event_fn);\n",
       "    rubberband.mouseup('button_release', mouse_event_fn);\n",
       "    // Throttle sequential mouse events to 1 every 20ms.\n",
       "    rubberband.mousemove('motion_notify', mouse_event_fn);\n",
       "\n",
       "    rubberband.mouseenter('figure_enter', mouse_event_fn);\n",
       "    rubberband.mouseleave('figure_leave', mouse_event_fn);\n",
       "\n",
       "    canvas_div.on(\"wheel\", function (event) {\n",
       "        event = event.originalEvent;\n",
       "        event['data'] = 'scroll'\n",
       "        if (event.deltaY < 0) {\n",
       "            event.step = 1;\n",
       "        } else {\n",
       "            event.step = -1;\n",
       "        }\n",
       "        mouse_event_fn(event);\n",
       "    });\n",
       "\n",
       "    canvas_div.append(canvas);\n",
       "    canvas_div.append(rubberband);\n",
       "\n",
       "    this.rubberband = rubberband;\n",
       "    this.rubberband_canvas = rubberband[0];\n",
       "    this.rubberband_context = rubberband[0].getContext(\"2d\");\n",
       "    this.rubberband_context.strokeStyle = \"#000000\";\n",
       "\n",
       "    this._resize_canvas = function(width, height) {\n",
       "        // Keep the size of the canvas, canvas container, and rubber band\n",
       "        // canvas in synch.\n",
       "        canvas_div.css('width', width)\n",
       "        canvas_div.css('height', height)\n",
       "\n",
       "        canvas.attr('width', width * mpl.ratio);\n",
       "        canvas.attr('height', height * mpl.ratio);\n",
       "        canvas.attr('style', 'width: ' + width + 'px; height: ' + height + 'px;');\n",
       "\n",
       "        rubberband.attr('width', width);\n",
       "        rubberband.attr('height', height);\n",
       "    }\n",
       "\n",
       "    // Set the figure to an initial 600x600px, this will subsequently be updated\n",
       "    // upon first draw.\n",
       "    this._resize_canvas(600, 600);\n",
       "\n",
       "    // Disable right mouse context menu.\n",
       "    $(this.rubberband_canvas).bind(\"contextmenu\",function(e){\n",
       "        return false;\n",
       "    });\n",
       "\n",
       "    function set_focus () {\n",
       "        canvas.focus();\n",
       "        canvas_div.focus();\n",
       "    }\n",
       "\n",
       "    window.setTimeout(set_focus, 100);\n",
       "}\n",
       "\n",
       "mpl.figure.prototype._init_toolbar = function() {\n",
       "    var fig = this;\n",
       "\n",
       "    var nav_element = $('<div/>')\n",
       "    nav_element.attr('style', 'width: 100%');\n",
       "    this.root.append(nav_element);\n",
       "\n",
       "    // Define a callback function for later on.\n",
       "    function toolbar_event(event) {\n",
       "        return fig.toolbar_button_onclick(event['data']);\n",
       "    }\n",
       "    function toolbar_mouse_event(event) {\n",
       "        return fig.toolbar_button_onmouseover(event['data']);\n",
       "    }\n",
       "\n",
       "    for(var toolbar_ind in mpl.toolbar_items) {\n",
       "        var name = mpl.toolbar_items[toolbar_ind][0];\n",
       "        var tooltip = mpl.toolbar_items[toolbar_ind][1];\n",
       "        var image = mpl.toolbar_items[toolbar_ind][2];\n",
       "        var method_name = mpl.toolbar_items[toolbar_ind][3];\n",
       "\n",
       "        if (!name) {\n",
       "            // put a spacer in here.\n",
       "            continue;\n",
       "        }\n",
       "        var button = $('<button/>');\n",
       "        button.addClass('ui-button ui-widget ui-state-default ui-corner-all ' +\n",
       "                        'ui-button-icon-only');\n",
       "        button.attr('role', 'button');\n",
       "        button.attr('aria-disabled', 'false');\n",
       "        button.click(method_name, toolbar_event);\n",
       "        button.mouseover(tooltip, toolbar_mouse_event);\n",
       "\n",
       "        var icon_img = $('<span/>');\n",
       "        icon_img.addClass('ui-button-icon-primary ui-icon');\n",
       "        icon_img.addClass(image);\n",
       "        icon_img.addClass('ui-corner-all');\n",
       "\n",
       "        var tooltip_span = $('<span/>');\n",
       "        tooltip_span.addClass('ui-button-text');\n",
       "        tooltip_span.html(tooltip);\n",
       "\n",
       "        button.append(icon_img);\n",
       "        button.append(tooltip_span);\n",
       "\n",
       "        nav_element.append(button);\n",
       "    }\n",
       "\n",
       "    var fmt_picker_span = $('<span/>');\n",
       "\n",
       "    var fmt_picker = $('<select/>');\n",
       "    fmt_picker.addClass('mpl-toolbar-option ui-widget ui-widget-content');\n",
       "    fmt_picker_span.append(fmt_picker);\n",
       "    nav_element.append(fmt_picker_span);\n",
       "    this.format_dropdown = fmt_picker[0];\n",
       "\n",
       "    for (var ind in mpl.extensions) {\n",
       "        var fmt = mpl.extensions[ind];\n",
       "        var option = $(\n",
       "            '<option/>', {selected: fmt === mpl.default_extension}).html(fmt);\n",
       "        fmt_picker.append(option)\n",
       "    }\n",
       "\n",
       "    // Add hover states to the ui-buttons\n",
       "    $( \".ui-button\" ).hover(\n",
       "        function() { $(this).addClass(\"ui-state-hover\");},\n",
       "        function() { $(this).removeClass(\"ui-state-hover\");}\n",
       "    );\n",
       "\n",
       "    var status_bar = $('<span class=\"mpl-message\"/>');\n",
       "    nav_element.append(status_bar);\n",
       "    this.message = status_bar[0];\n",
       "}\n",
       "\n",
       "mpl.figure.prototype.request_resize = function(x_pixels, y_pixels) {\n",
       "    // Request matplotlib to resize the figure. Matplotlib will then trigger a resize in the client,\n",
       "    // which will in turn request a refresh of the image.\n",
       "    this.send_message('resize', {'width': x_pixels, 'height': y_pixels});\n",
       "}\n",
       "\n",
       "mpl.figure.prototype.send_message = function(type, properties) {\n",
       "    properties['type'] = type;\n",
       "    properties['figure_id'] = this.id;\n",
       "    this.ws.send(JSON.stringify(properties));\n",
       "}\n",
       "\n",
       "mpl.figure.prototype.send_draw_message = function() {\n",
       "    if (!this.waiting) {\n",
       "        this.waiting = true;\n",
       "        this.ws.send(JSON.stringify({type: \"draw\", figure_id: this.id}));\n",
       "    }\n",
       "}\n",
       "\n",
       "\n",
       "mpl.figure.prototype.handle_save = function(fig, msg) {\n",
       "    var format_dropdown = fig.format_dropdown;\n",
       "    var format = format_dropdown.options[format_dropdown.selectedIndex].value;\n",
       "    fig.ondownload(fig, format);\n",
       "}\n",
       "\n",
       "\n",
       "mpl.figure.prototype.handle_resize = function(fig, msg) {\n",
       "    var size = msg['size'];\n",
       "    if (size[0] != fig.canvas.width || size[1] != fig.canvas.height) {\n",
       "        fig._resize_canvas(size[0], size[1]);\n",
       "        fig.send_message(\"refresh\", {});\n",
       "    };\n",
       "}\n",
       "\n",
       "mpl.figure.prototype.handle_rubberband = function(fig, msg) {\n",
       "    var x0 = msg['x0'] / mpl.ratio;\n",
       "    var y0 = (fig.canvas.height - msg['y0']) / mpl.ratio;\n",
       "    var x1 = msg['x1'] / mpl.ratio;\n",
       "    var y1 = (fig.canvas.height - msg['y1']) / mpl.ratio;\n",
       "    x0 = Math.floor(x0) + 0.5;\n",
       "    y0 = Math.floor(y0) + 0.5;\n",
       "    x1 = Math.floor(x1) + 0.5;\n",
       "    y1 = Math.floor(y1) + 0.5;\n",
       "    var min_x = Math.min(x0, x1);\n",
       "    var min_y = Math.min(y0, y1);\n",
       "    var width = Math.abs(x1 - x0);\n",
       "    var height = Math.abs(y1 - y0);\n",
       "\n",
       "    fig.rubberband_context.clearRect(\n",
       "        0, 0, fig.canvas.width, fig.canvas.height);\n",
       "\n",
       "    fig.rubberband_context.strokeRect(min_x, min_y, width, height);\n",
       "}\n",
       "\n",
       "mpl.figure.prototype.handle_figure_label = function(fig, msg) {\n",
       "    // Updates the figure title.\n",
       "    fig.header.textContent = msg['label'];\n",
       "}\n",
       "\n",
       "mpl.figure.prototype.handle_cursor = function(fig, msg) {\n",
       "    var cursor = msg['cursor'];\n",
       "    switch(cursor)\n",
       "    {\n",
       "    case 0:\n",
       "        cursor = 'pointer';\n",
       "        break;\n",
       "    case 1:\n",
       "        cursor = 'default';\n",
       "        break;\n",
       "    case 2:\n",
       "        cursor = 'crosshair';\n",
       "        break;\n",
       "    case 3:\n",
       "        cursor = 'move';\n",
       "        break;\n",
       "    }\n",
       "    fig.rubberband_canvas.style.cursor = cursor;\n",
       "}\n",
       "\n",
       "mpl.figure.prototype.handle_message = function(fig, msg) {\n",
       "    fig.message.textContent = msg['message'];\n",
       "}\n",
       "\n",
       "mpl.figure.prototype.handle_draw = function(fig, msg) {\n",
       "    // Request the server to send over a new figure.\n",
       "    fig.send_draw_message();\n",
       "}\n",
       "\n",
       "mpl.figure.prototype.handle_image_mode = function(fig, msg) {\n",
       "    fig.image_mode = msg['mode'];\n",
       "}\n",
       "\n",
       "mpl.figure.prototype.updated_canvas_event = function() {\n",
       "    // Called whenever the canvas gets updated.\n",
       "    this.send_message(\"ack\", {});\n",
       "}\n",
       "\n",
       "// A function to construct a web socket function for onmessage handling.\n",
       "// Called in the figure constructor.\n",
       "mpl.figure.prototype._make_on_message_function = function(fig) {\n",
       "    return function socket_on_message(evt) {\n",
       "        if (evt.data instanceof Blob) {\n",
       "            /* FIXME: We get \"Resource interpreted as Image but\n",
       "             * transferred with MIME type text/plain:\" errors on\n",
       "             * Chrome.  But how to set the MIME type?  It doesn't seem\n",
       "             * to be part of the websocket stream */\n",
       "            evt.data.type = \"image/png\";\n",
       "\n",
       "            /* Free the memory for the previous frames */\n",
       "            if (fig.imageObj.src) {\n",
       "                (window.URL || window.webkitURL).revokeObjectURL(\n",
       "                    fig.imageObj.src);\n",
       "            }\n",
       "\n",
       "            fig.imageObj.src = (window.URL || window.webkitURL).createObjectURL(\n",
       "                evt.data);\n",
       "            fig.updated_canvas_event();\n",
       "            fig.waiting = false;\n",
       "            return;\n",
       "        }\n",
       "        else if (typeof evt.data === 'string' && evt.data.slice(0, 21) == \"data:image/png;base64\") {\n",
       "            fig.imageObj.src = evt.data;\n",
       "            fig.updated_canvas_event();\n",
       "            fig.waiting = false;\n",
       "            return;\n",
       "        }\n",
       "\n",
       "        var msg = JSON.parse(evt.data);\n",
       "        var msg_type = msg['type'];\n",
       "\n",
       "        // Call the  \"handle_{type}\" callback, which takes\n",
       "        // the figure and JSON message as its only arguments.\n",
       "        try {\n",
       "            var callback = fig[\"handle_\" + msg_type];\n",
       "        } catch (e) {\n",
       "            console.log(\"No handler for the '\" + msg_type + \"' message type: \", msg);\n",
       "            return;\n",
       "        }\n",
       "\n",
       "        if (callback) {\n",
       "            try {\n",
       "                // console.log(\"Handling '\" + msg_type + \"' message: \", msg);\n",
       "                callback(fig, msg);\n",
       "            } catch (e) {\n",
       "                console.log(\"Exception inside the 'handler_\" + msg_type + \"' callback:\", e, e.stack, msg);\n",
       "            }\n",
       "        }\n",
       "    };\n",
       "}\n",
       "\n",
       "// from http://stackoverflow.com/questions/1114465/getting-mouse-location-in-canvas\n",
       "mpl.findpos = function(e) {\n",
       "    //this section is from http://www.quirksmode.org/js/events_properties.html\n",
       "    var targ;\n",
       "    if (!e)\n",
       "        e = window.event;\n",
       "    if (e.target)\n",
       "        targ = e.target;\n",
       "    else if (e.srcElement)\n",
       "        targ = e.srcElement;\n",
       "    if (targ.nodeType == 3) // defeat Safari bug\n",
       "        targ = targ.parentNode;\n",
       "\n",
       "    // jQuery normalizes the pageX and pageY\n",
       "    // pageX,Y are the mouse positions relative to the document\n",
       "    // offset() returns the position of the element relative to the document\n",
       "    var x = e.pageX - $(targ).offset().left;\n",
       "    var y = e.pageY - $(targ).offset().top;\n",
       "\n",
       "    return {\"x\": x, \"y\": y};\n",
       "};\n",
       "\n",
       "/*\n",
       " * return a copy of an object with only non-object keys\n",
       " * we need this to avoid circular references\n",
       " * http://stackoverflow.com/a/24161582/3208463\n",
       " */\n",
       "function simpleKeys (original) {\n",
       "  return Object.keys(original).reduce(function (obj, key) {\n",
       "    if (typeof original[key] !== 'object')\n",
       "        obj[key] = original[key]\n",
       "    return obj;\n",
       "  }, {});\n",
       "}\n",
       "\n",
       "mpl.figure.prototype.mouse_event = function(event, name) {\n",
       "    var canvas_pos = mpl.findpos(event)\n",
       "\n",
       "    if (name === 'button_press')\n",
       "    {\n",
       "        this.canvas.focus();\n",
       "        this.canvas_div.focus();\n",
       "    }\n",
       "\n",
       "    var x = canvas_pos.x * mpl.ratio;\n",
       "    var y = canvas_pos.y * mpl.ratio;\n",
       "\n",
       "    this.send_message(name, {x: x, y: y, button: event.button,\n",
       "                             step: event.step,\n",
       "                             guiEvent: simpleKeys(event)});\n",
       "\n",
       "    /* This prevents the web browser from automatically changing to\n",
       "     * the text insertion cursor when the button is pressed.  We want\n",
       "     * to control all of the cursor setting manually through the\n",
       "     * 'cursor' event from matplotlib */\n",
       "    event.preventDefault();\n",
       "    return false;\n",
       "}\n",
       "\n",
       "mpl.figure.prototype._key_event_extra = function(event, name) {\n",
       "    // Handle any extra behaviour associated with a key event\n",
       "}\n",
       "\n",
       "mpl.figure.prototype.key_event = function(event, name) {\n",
       "\n",
       "    // Prevent repeat events\n",
       "    if (name == 'key_press')\n",
       "    {\n",
       "        if (event.which === this._key)\n",
       "            return;\n",
       "        else\n",
       "            this._key = event.which;\n",
       "    }\n",
       "    if (name == 'key_release')\n",
       "        this._key = null;\n",
       "\n",
       "    var value = '';\n",
       "    if (event.ctrlKey && event.which != 17)\n",
       "        value += \"ctrl+\";\n",
       "    if (event.altKey && event.which != 18)\n",
       "        value += \"alt+\";\n",
       "    if (event.shiftKey && event.which != 16)\n",
       "        value += \"shift+\";\n",
       "\n",
       "    value += 'k';\n",
       "    value += event.which.toString();\n",
       "\n",
       "    this._key_event_extra(event, name);\n",
       "\n",
       "    this.send_message(name, {key: value,\n",
       "                             guiEvent: simpleKeys(event)});\n",
       "    return false;\n",
       "}\n",
       "\n",
       "mpl.figure.prototype.toolbar_button_onclick = function(name) {\n",
       "    if (name == 'download') {\n",
       "        this.handle_save(this, null);\n",
       "    } else {\n",
       "        this.send_message(\"toolbar_button\", {name: name});\n",
       "    }\n",
       "};\n",
       "\n",
       "mpl.figure.prototype.toolbar_button_onmouseover = function(tooltip) {\n",
       "    this.message.textContent = tooltip;\n",
       "};\n",
       "mpl.toolbar_items = [[\"Home\", \"Reset original view\", \"fa fa-home icon-home\", \"home\"], [\"Back\", \"Back to  previous view\", \"fa fa-arrow-left icon-arrow-left\", \"back\"], [\"Forward\", \"Forward to next view\", \"fa fa-arrow-right icon-arrow-right\", \"forward\"], [\"\", \"\", \"\", \"\"], [\"Pan\", \"Pan axes with left mouse, zoom with right\", \"fa fa-arrows icon-move\", \"pan\"], [\"Zoom\", \"Zoom to rectangle\", \"fa fa-square-o icon-check-empty\", \"zoom\"], [\"\", \"\", \"\", \"\"], [\"Download\", \"Download plot\", \"fa fa-floppy-o icon-save\", \"download\"]];\n",
       "\n",
       "mpl.extensions = [\"eps\", \"jpeg\", \"pdf\", \"png\", \"ps\", \"raw\", \"svg\", \"tif\"];\n",
       "\n",
       "mpl.default_extension = \"png\";var comm_websocket_adapter = function(comm) {\n",
       "    // Create a \"websocket\"-like object which calls the given IPython comm\n",
       "    // object with the appropriate methods. Currently this is a non binary\n",
       "    // socket, so there is still some room for performance tuning.\n",
       "    var ws = {};\n",
       "\n",
       "    ws.close = function() {\n",
       "        comm.close()\n",
       "    };\n",
       "    ws.send = function(m) {\n",
       "        //console.log('sending', m);\n",
       "        comm.send(m);\n",
       "    };\n",
       "    // Register the callback with on_msg.\n",
       "    comm.on_msg(function(msg) {\n",
       "        //console.log('receiving', msg['content']['data'], msg);\n",
       "        // Pass the mpl event to the overriden (by mpl) onmessage function.\n",
       "        ws.onmessage(msg['content']['data'])\n",
       "    });\n",
       "    return ws;\n",
       "}\n",
       "\n",
       "mpl.mpl_figure_comm = function(comm, msg) {\n",
       "    // This is the function which gets called when the mpl process\n",
       "    // starts-up an IPython Comm through the \"matplotlib\" channel.\n",
       "\n",
       "    var id = msg.content.data.id;\n",
       "    // Get hold of the div created by the display call when the Comm\n",
       "    // socket was opened in Python.\n",
       "    var element = $(\"#\" + id);\n",
       "    var ws_proxy = comm_websocket_adapter(comm)\n",
       "\n",
       "    function ondownload(figure, format) {\n",
       "        window.open(figure.imageObj.src);\n",
       "    }\n",
       "\n",
       "    var fig = new mpl.figure(id, ws_proxy,\n",
       "                           ondownload,\n",
       "                           element.get(0));\n",
       "\n",
       "    // Call onopen now - mpl needs it, as it is assuming we've passed it a real\n",
       "    // web socket which is closed, not our websocket->open comm proxy.\n",
       "    ws_proxy.onopen();\n",
       "\n",
       "    fig.parent_element = element.get(0);\n",
       "    fig.cell_info = mpl.find_output_cell(\"<div id='\" + id + \"'></div>\");\n",
       "    if (!fig.cell_info) {\n",
       "        console.error(\"Failed to find cell for figure\", id, fig);\n",
       "        return;\n",
       "    }\n",
       "\n",
       "    var output_index = fig.cell_info[2]\n",
       "    var cell = fig.cell_info[0];\n",
       "\n",
       "};\n",
       "\n",
       "mpl.figure.prototype.handle_close = function(fig, msg) {\n",
       "    var width = fig.canvas.width/mpl.ratio\n",
       "    fig.root.unbind('remove')\n",
       "\n",
       "    // Update the output cell to use the data from the current canvas.\n",
       "    fig.push_to_output();\n",
       "    var dataURL = fig.canvas.toDataURL();\n",
       "    // Re-enable the keyboard manager in IPython - without this line, in FF,\n",
       "    // the notebook keyboard shortcuts fail.\n",
       "    IPython.keyboard_manager.enable()\n",
       "    $(fig.parent_element).html('<img src=\"' + dataURL + '\" width=\"' + width + '\">');\n",
       "    fig.close_ws(fig, msg);\n",
       "}\n",
       "\n",
       "mpl.figure.prototype.close_ws = function(fig, msg){\n",
       "    fig.send_message('closing', msg);\n",
       "    // fig.ws.close()\n",
       "}\n",
       "\n",
       "mpl.figure.prototype.push_to_output = function(remove_interactive) {\n",
       "    // Turn the data on the canvas into data in the output cell.\n",
       "    var width = this.canvas.width/mpl.ratio\n",
       "    var dataURL = this.canvas.toDataURL();\n",
       "    this.cell_info[1]['text/html'] = '<img src=\"' + dataURL + '\" width=\"' + width + '\">';\n",
       "}\n",
       "\n",
       "mpl.figure.prototype.updated_canvas_event = function() {\n",
       "    // Tell IPython that the notebook contents must change.\n",
       "    IPython.notebook.set_dirty(true);\n",
       "    this.send_message(\"ack\", {});\n",
       "    var fig = this;\n",
       "    // Wait a second, then push the new image to the DOM so\n",
       "    // that it is saved nicely (might be nice to debounce this).\n",
       "    setTimeout(function () { fig.push_to_output() }, 1000);\n",
       "}\n",
       "\n",
       "mpl.figure.prototype._init_toolbar = function() {\n",
       "    var fig = this;\n",
       "\n",
       "    var nav_element = $('<div/>')\n",
       "    nav_element.attr('style', 'width: 100%');\n",
       "    this.root.append(nav_element);\n",
       "\n",
       "    // Define a callback function for later on.\n",
       "    function toolbar_event(event) {\n",
       "        return fig.toolbar_button_onclick(event['data']);\n",
       "    }\n",
       "    function toolbar_mouse_event(event) {\n",
       "        return fig.toolbar_button_onmouseover(event['data']);\n",
       "    }\n",
       "\n",
       "    for(var toolbar_ind in mpl.toolbar_items){\n",
       "        var name = mpl.toolbar_items[toolbar_ind][0];\n",
       "        var tooltip = mpl.toolbar_items[toolbar_ind][1];\n",
       "        var image = mpl.toolbar_items[toolbar_ind][2];\n",
       "        var method_name = mpl.toolbar_items[toolbar_ind][3];\n",
       "\n",
       "        if (!name) { continue; };\n",
       "\n",
       "        var button = $('<button class=\"btn btn-default\" href=\"#\" title=\"' + name + '\"><i class=\"fa ' + image + ' fa-lg\"></i></button>');\n",
       "        button.click(method_name, toolbar_event);\n",
       "        button.mouseover(tooltip, toolbar_mouse_event);\n",
       "        nav_element.append(button);\n",
       "    }\n",
       "\n",
       "    // Add the status bar.\n",
       "    var status_bar = $('<span class=\"mpl-message\" style=\"text-align:right; float: right;\"/>');\n",
       "    nav_element.append(status_bar);\n",
       "    this.message = status_bar[0];\n",
       "\n",
       "    // Add the close button to the window.\n",
       "    var buttongrp = $('<div class=\"btn-group inline pull-right\"></div>');\n",
       "    var button = $('<button class=\"btn btn-mini btn-primary\" href=\"#\" title=\"Stop Interaction\"><i class=\"fa fa-power-off icon-remove icon-large\"></i></button>');\n",
       "    button.click(function (evt) { fig.handle_close(fig, {}); } );\n",
       "    button.mouseover('Stop Interaction', toolbar_mouse_event);\n",
       "    buttongrp.append(button);\n",
       "    var titlebar = this.root.find($('.ui-dialog-titlebar'));\n",
       "    titlebar.prepend(buttongrp);\n",
       "}\n",
       "\n",
       "mpl.figure.prototype._root_extra_style = function(el){\n",
       "    var fig = this\n",
       "    el.on(\"remove\", function(){\n",
       "\tfig.close_ws(fig, {});\n",
       "    });\n",
       "}\n",
       "\n",
       "mpl.figure.prototype._canvas_extra_style = function(el){\n",
       "    // this is important to make the div 'focusable\n",
       "    el.attr('tabindex', 0)\n",
       "    // reach out to IPython and tell the keyboard manager to turn it's self\n",
       "    // off when our div gets focus\n",
       "\n",
       "    // location in version 3\n",
       "    if (IPython.notebook.keyboard_manager) {\n",
       "        IPython.notebook.keyboard_manager.register_events(el);\n",
       "    }\n",
       "    else {\n",
       "        // location in version 2\n",
       "        IPython.keyboard_manager.register_events(el);\n",
       "    }\n",
       "\n",
       "}\n",
       "\n",
       "mpl.figure.prototype._key_event_extra = function(event, name) {\n",
       "    var manager = IPython.notebook.keyboard_manager;\n",
       "    if (!manager)\n",
       "        manager = IPython.keyboard_manager;\n",
       "\n",
       "    // Check for shift+enter\n",
       "    if (event.shiftKey && event.which == 13) {\n",
       "        this.canvas_div.blur();\n",
       "        // select the cell after this one\n",
       "        var index = IPython.notebook.find_cell_index(this.cell_info[0]);\n",
       "        IPython.notebook.select(index + 1);\n",
       "    }\n",
       "}\n",
       "\n",
       "mpl.figure.prototype.handle_save = function(fig, msg) {\n",
       "    fig.ondownload(fig, null);\n",
       "}\n",
       "\n",
       "\n",
       "mpl.find_output_cell = function(html_output) {\n",
       "    // Return the cell and output element which can be found *uniquely* in the notebook.\n",
       "    // Note - this is a bit hacky, but it is done because the \"notebook_saving.Notebook\"\n",
       "    // IPython event is triggered only after the cells have been serialised, which for\n",
       "    // our purposes (turning an active figure into a static one), is too late.\n",
       "    var cells = IPython.notebook.get_cells();\n",
       "    var ncells = cells.length;\n",
       "    for (var i=0; i<ncells; i++) {\n",
       "        var cell = cells[i];\n",
       "        if (cell.cell_type === 'code'){\n",
       "            for (var j=0; j<cell.output_area.outputs.length; j++) {\n",
       "                var data = cell.output_area.outputs[j];\n",
       "                if (data.data) {\n",
       "                    // IPython >= 3 moved mimebundle to data attribute of output\n",
       "                    data = data.data;\n",
       "                }\n",
       "                if (data['text/html'] == html_output) {\n",
       "                    return [cell, data, j];\n",
       "                }\n",
       "            }\n",
       "        }\n",
       "    }\n",
       "}\n",
       "\n",
       "// Register the function which deals with the matplotlib target/channel.\n",
       "// The kernel may be null if the page has been refreshed.\n",
       "if (IPython.notebook.kernel != null) {\n",
       "    IPython.notebook.kernel.comm_manager.register_target('matplotlib', mpl.mpl_figure_comm);\n",
       "}\n"
      ],
      "text/plain": [
       "<IPython.core.display.Javascript object>"
      ]
     },
     "metadata": {},
     "output_type": "display_data"
    },
    {
     "data": {
      "text/html": [
       "<img src=\"data:image/png;base64,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\" width=\"600\">"
      ],
      "text/plain": [
       "<IPython.core.display.HTML object>"
      ]
     },
     "metadata": {},
     "output_type": "display_data"
    }
   ],
   "source": [
    "plot_gershgorin_circles(A2, ranges=(-10, 15, -12, 12), with_real_eigv=True);"
   ]
  },
  {
   "cell_type": "code",
   "execution_count": 9,
   "metadata": {},
   "outputs": [
    {
     "data": {
      "application/javascript": [
       "/* Put everything inside the global mpl namespace */\n",
       "window.mpl = {};\n",
       "\n",
       "\n",
       "mpl.get_websocket_type = function() {\n",
       "    if (typeof(WebSocket) !== 'undefined') {\n",
       "        return WebSocket;\n",
       "    } else if (typeof(MozWebSocket) !== 'undefined') {\n",
       "        return MozWebSocket;\n",
       "    } else {\n",
       "        alert('Your browser does not have WebSocket support.' +\n",
       "              'Please try Chrome, Safari or Firefox ≥ 6. ' +\n",
       "              'Firefox 4 and 5 are also supported but you ' +\n",
       "              'have to enable WebSockets in about:config.');\n",
       "    };\n",
       "}\n",
       "\n",
       "mpl.figure = function(figure_id, websocket, ondownload, parent_element) {\n",
       "    this.id = figure_id;\n",
       "\n",
       "    this.ws = websocket;\n",
       "\n",
       "    this.supports_binary = (this.ws.binaryType != undefined);\n",
       "\n",
       "    if (!this.supports_binary) {\n",
       "        var warnings = document.getElementById(\"mpl-warnings\");\n",
       "        if (warnings) {\n",
       "            warnings.style.display = 'block';\n",
       "            warnings.textContent = (\n",
       "                \"This browser does not support binary websocket messages. \" +\n",
       "                    \"Performance may be slow.\");\n",
       "        }\n",
       "    }\n",
       "\n",
       "    this.imageObj = new Image();\n",
       "\n",
       "    this.context = undefined;\n",
       "    this.message = undefined;\n",
       "    this.canvas = undefined;\n",
       "    this.rubberband_canvas = undefined;\n",
       "    this.rubberband_context = undefined;\n",
       "    this.format_dropdown = undefined;\n",
       "\n",
       "    this.image_mode = 'full';\n",
       "\n",
       "    this.root = $('<div/>');\n",
       "    this._root_extra_style(this.root)\n",
       "    this.root.attr('style', 'display: inline-block');\n",
       "\n",
       "    $(parent_element).append(this.root);\n",
       "\n",
       "    this._init_header(this);\n",
       "    this._init_canvas(this);\n",
       "    this._init_toolbar(this);\n",
       "\n",
       "    var fig = this;\n",
       "\n",
       "    this.waiting = false;\n",
       "\n",
       "    this.ws.onopen =  function () {\n",
       "            fig.send_message(\"supports_binary\", {value: fig.supports_binary});\n",
       "            fig.send_message(\"send_image_mode\", {});\n",
       "            if (mpl.ratio != 1) {\n",
       "                fig.send_message(\"set_dpi_ratio\", {'dpi_ratio': mpl.ratio});\n",
       "            }\n",
       "            fig.send_message(\"refresh\", {});\n",
       "        }\n",
       "\n",
       "    this.imageObj.onload = function() {\n",
       "            if (fig.image_mode == 'full') {\n",
       "                // Full images could contain transparency (where diff images\n",
       "                // almost always do), so we need to clear the canvas so that\n",
       "                // there is no ghosting.\n",
       "                fig.context.clearRect(0, 0, fig.canvas.width, fig.canvas.height);\n",
       "            }\n",
       "            fig.context.drawImage(fig.imageObj, 0, 0);\n",
       "        };\n",
       "\n",
       "    this.imageObj.onunload = function() {\n",
       "        this.ws.close();\n",
       "    }\n",
       "\n",
       "    this.ws.onmessage = this._make_on_message_function(this);\n",
       "\n",
       "    this.ondownload = ondownload;\n",
       "}\n",
       "\n",
       "mpl.figure.prototype._init_header = function() {\n",
       "    var titlebar = $(\n",
       "        '<div class=\"ui-dialog-titlebar ui-widget-header ui-corner-all ' +\n",
       "        'ui-helper-clearfix\"/>');\n",
       "    var titletext = $(\n",
       "        '<div class=\"ui-dialog-title\" style=\"width: 100%; ' +\n",
       "        'text-align: center; padding: 3px;\"/>');\n",
       "    titlebar.append(titletext)\n",
       "    this.root.append(titlebar);\n",
       "    this.header = titletext[0];\n",
       "}\n",
       "\n",
       "\n",
       "\n",
       "mpl.figure.prototype._canvas_extra_style = function(canvas_div) {\n",
       "\n",
       "}\n",
       "\n",
       "\n",
       "mpl.figure.prototype._root_extra_style = function(canvas_div) {\n",
       "\n",
       "}\n",
       "\n",
       "mpl.figure.prototype._init_canvas = function() {\n",
       "    var fig = this;\n",
       "\n",
       "    var canvas_div = $('<div/>');\n",
       "\n",
       "    canvas_div.attr('style', 'position: relative; clear: both; outline: 0');\n",
       "\n",
       "    function canvas_keyboard_event(event) {\n",
       "        return fig.key_event(event, event['data']);\n",
       "    }\n",
       "\n",
       "    canvas_div.keydown('key_press', canvas_keyboard_event);\n",
       "    canvas_div.keyup('key_release', canvas_keyboard_event);\n",
       "    this.canvas_div = canvas_div\n",
       "    this._canvas_extra_style(canvas_div)\n",
       "    this.root.append(canvas_div);\n",
       "\n",
       "    var canvas = $('<canvas/>');\n",
       "    canvas.addClass('mpl-canvas');\n",
       "    canvas.attr('style', \"left: 0; top: 0; z-index: 0; outline: 0\")\n",
       "\n",
       "    this.canvas = canvas[0];\n",
       "    this.context = canvas[0].getContext(\"2d\");\n",
       "\n",
       "    var backingStore = this.context.backingStorePixelRatio ||\n",
       "\tthis.context.webkitBackingStorePixelRatio ||\n",
       "\tthis.context.mozBackingStorePixelRatio ||\n",
       "\tthis.context.msBackingStorePixelRatio ||\n",
       "\tthis.context.oBackingStorePixelRatio ||\n",
       "\tthis.context.backingStorePixelRatio || 1;\n",
       "\n",
       "    mpl.ratio = (window.devicePixelRatio || 1) / backingStore;\n",
       "\n",
       "    var rubberband = $('<canvas/>');\n",
       "    rubberband.attr('style', \"position: absolute; left: 0; top: 0; z-index: 1;\")\n",
       "\n",
       "    var pass_mouse_events = true;\n",
       "\n",
       "    canvas_div.resizable({\n",
       "        start: function(event, ui) {\n",
       "            pass_mouse_events = false;\n",
       "        },\n",
       "        resize: function(event, ui) {\n",
       "            fig.request_resize(ui.size.width, ui.size.height);\n",
       "        },\n",
       "        stop: function(event, ui) {\n",
       "            pass_mouse_events = true;\n",
       "            fig.request_resize(ui.size.width, ui.size.height);\n",
       "        },\n",
       "    });\n",
       "\n",
       "    function mouse_event_fn(event) {\n",
       "        if (pass_mouse_events)\n",
       "            return fig.mouse_event(event, event['data']);\n",
       "    }\n",
       "\n",
       "    rubberband.mousedown('button_press', mouse_event_fn);\n",
       "    rubberband.mouseup('button_release', mouse_event_fn);\n",
       "    // Throttle sequential mouse events to 1 every 20ms.\n",
       "    rubberband.mousemove('motion_notify', mouse_event_fn);\n",
       "\n",
       "    rubberband.mouseenter('figure_enter', mouse_event_fn);\n",
       "    rubberband.mouseleave('figure_leave', mouse_event_fn);\n",
       "\n",
       "    canvas_div.on(\"wheel\", function (event) {\n",
       "        event = event.originalEvent;\n",
       "        event['data'] = 'scroll'\n",
       "        if (event.deltaY < 0) {\n",
       "            event.step = 1;\n",
       "        } else {\n",
       "            event.step = -1;\n",
       "        }\n",
       "        mouse_event_fn(event);\n",
       "    });\n",
       "\n",
       "    canvas_div.append(canvas);\n",
       "    canvas_div.append(rubberband);\n",
       "\n",
       "    this.rubberband = rubberband;\n",
       "    this.rubberband_canvas = rubberband[0];\n",
       "    this.rubberband_context = rubberband[0].getContext(\"2d\");\n",
       "    this.rubberband_context.strokeStyle = \"#000000\";\n",
       "\n",
       "    this._resize_canvas = function(width, height) {\n",
       "        // Keep the size of the canvas, canvas container, and rubber band\n",
       "        // canvas in synch.\n",
       "        canvas_div.css('width', width)\n",
       "        canvas_div.css('height', height)\n",
       "\n",
       "        canvas.attr('width', width * mpl.ratio);\n",
       "        canvas.attr('height', height * mpl.ratio);\n",
       "        canvas.attr('style', 'width: ' + width + 'px; height: ' + height + 'px;');\n",
       "\n",
       "        rubberband.attr('width', width);\n",
       "        rubberband.attr('height', height);\n",
       "    }\n",
       "\n",
       "    // Set the figure to an initial 600x600px, this will subsequently be updated\n",
       "    // upon first draw.\n",
       "    this._resize_canvas(600, 600);\n",
       "\n",
       "    // Disable right mouse context menu.\n",
       "    $(this.rubberband_canvas).bind(\"contextmenu\",function(e){\n",
       "        return false;\n",
       "    });\n",
       "\n",
       "    function set_focus () {\n",
       "        canvas.focus();\n",
       "        canvas_div.focus();\n",
       "    }\n",
       "\n",
       "    window.setTimeout(set_focus, 100);\n",
       "}\n",
       "\n",
       "mpl.figure.prototype._init_toolbar = function() {\n",
       "    var fig = this;\n",
       "\n",
       "    var nav_element = $('<div/>')\n",
       "    nav_element.attr('style', 'width: 100%');\n",
       "    this.root.append(nav_element);\n",
       "\n",
       "    // Define a callback function for later on.\n",
       "    function toolbar_event(event) {\n",
       "        return fig.toolbar_button_onclick(event['data']);\n",
       "    }\n",
       "    function toolbar_mouse_event(event) {\n",
       "        return fig.toolbar_button_onmouseover(event['data']);\n",
       "    }\n",
       "\n",
       "    for(var toolbar_ind in mpl.toolbar_items) {\n",
       "        var name = mpl.toolbar_items[toolbar_ind][0];\n",
       "        var tooltip = mpl.toolbar_items[toolbar_ind][1];\n",
       "        var image = mpl.toolbar_items[toolbar_ind][2];\n",
       "        var method_name = mpl.toolbar_items[toolbar_ind][3];\n",
       "\n",
       "        if (!name) {\n",
       "            // put a spacer in here.\n",
       "            continue;\n",
       "        }\n",
       "        var button = $('<button/>');\n",
       "        button.addClass('ui-button ui-widget ui-state-default ui-corner-all ' +\n",
       "                        'ui-button-icon-only');\n",
       "        button.attr('role', 'button');\n",
       "        button.attr('aria-disabled', 'false');\n",
       "        button.click(method_name, toolbar_event);\n",
       "        button.mouseover(tooltip, toolbar_mouse_event);\n",
       "\n",
       "        var icon_img = $('<span/>');\n",
       "        icon_img.addClass('ui-button-icon-primary ui-icon');\n",
       "        icon_img.addClass(image);\n",
       "        icon_img.addClass('ui-corner-all');\n",
       "\n",
       "        var tooltip_span = $('<span/>');\n",
       "        tooltip_span.addClass('ui-button-text');\n",
       "        tooltip_span.html(tooltip);\n",
       "\n",
       "        button.append(icon_img);\n",
       "        button.append(tooltip_span);\n",
       "\n",
       "        nav_element.append(button);\n",
       "    }\n",
       "\n",
       "    var fmt_picker_span = $('<span/>');\n",
       "\n",
       "    var fmt_picker = $('<select/>');\n",
       "    fmt_picker.addClass('mpl-toolbar-option ui-widget ui-widget-content');\n",
       "    fmt_picker_span.append(fmt_picker);\n",
       "    nav_element.append(fmt_picker_span);\n",
       "    this.format_dropdown = fmt_picker[0];\n",
       "\n",
       "    for (var ind in mpl.extensions) {\n",
       "        var fmt = mpl.extensions[ind];\n",
       "        var option = $(\n",
       "            '<option/>', {selected: fmt === mpl.default_extension}).html(fmt);\n",
       "        fmt_picker.append(option)\n",
       "    }\n",
       "\n",
       "    // Add hover states to the ui-buttons\n",
       "    $( \".ui-button\" ).hover(\n",
       "        function() { $(this).addClass(\"ui-state-hover\");},\n",
       "        function() { $(this).removeClass(\"ui-state-hover\");}\n",
       "    );\n",
       "\n",
       "    var status_bar = $('<span class=\"mpl-message\"/>');\n",
       "    nav_element.append(status_bar);\n",
       "    this.message = status_bar[0];\n",
       "}\n",
       "\n",
       "mpl.figure.prototype.request_resize = function(x_pixels, y_pixels) {\n",
       "    // Request matplotlib to resize the figure. Matplotlib will then trigger a resize in the client,\n",
       "    // which will in turn request a refresh of the image.\n",
       "    this.send_message('resize', {'width': x_pixels, 'height': y_pixels});\n",
       "}\n",
       "\n",
       "mpl.figure.prototype.send_message = function(type, properties) {\n",
       "    properties['type'] = type;\n",
       "    properties['figure_id'] = this.id;\n",
       "    this.ws.send(JSON.stringify(properties));\n",
       "}\n",
       "\n",
       "mpl.figure.prototype.send_draw_message = function() {\n",
       "    if (!this.waiting) {\n",
       "        this.waiting = true;\n",
       "        this.ws.send(JSON.stringify({type: \"draw\", figure_id: this.id}));\n",
       "    }\n",
       "}\n",
       "\n",
       "\n",
       "mpl.figure.prototype.handle_save = function(fig, msg) {\n",
       "    var format_dropdown = fig.format_dropdown;\n",
       "    var format = format_dropdown.options[format_dropdown.selectedIndex].value;\n",
       "    fig.ondownload(fig, format);\n",
       "}\n",
       "\n",
       "\n",
       "mpl.figure.prototype.handle_resize = function(fig, msg) {\n",
       "    var size = msg['size'];\n",
       "    if (size[0] != fig.canvas.width || size[1] != fig.canvas.height) {\n",
       "        fig._resize_canvas(size[0], size[1]);\n",
       "        fig.send_message(\"refresh\", {});\n",
       "    };\n",
       "}\n",
       "\n",
       "mpl.figure.prototype.handle_rubberband = function(fig, msg) {\n",
       "    var x0 = msg['x0'] / mpl.ratio;\n",
       "    var y0 = (fig.canvas.height - msg['y0']) / mpl.ratio;\n",
       "    var x1 = msg['x1'] / mpl.ratio;\n",
       "    var y1 = (fig.canvas.height - msg['y1']) / mpl.ratio;\n",
       "    x0 = Math.floor(x0) + 0.5;\n",
       "    y0 = Math.floor(y0) + 0.5;\n",
       "    x1 = Math.floor(x1) + 0.5;\n",
       "    y1 = Math.floor(y1) + 0.5;\n",
       "    var min_x = Math.min(x0, x1);\n",
       "    var min_y = Math.min(y0, y1);\n",
       "    var width = Math.abs(x1 - x0);\n",
       "    var height = Math.abs(y1 - y0);\n",
       "\n",
       "    fig.rubberband_context.clearRect(\n",
       "        0, 0, fig.canvas.width, fig.canvas.height);\n",
       "\n",
       "    fig.rubberband_context.strokeRect(min_x, min_y, width, height);\n",
       "}\n",
       "\n",
       "mpl.figure.prototype.handle_figure_label = function(fig, msg) {\n",
       "    // Updates the figure title.\n",
       "    fig.header.textContent = msg['label'];\n",
       "}\n",
       "\n",
       "mpl.figure.prototype.handle_cursor = function(fig, msg) {\n",
       "    var cursor = msg['cursor'];\n",
       "    switch(cursor)\n",
       "    {\n",
       "    case 0:\n",
       "        cursor = 'pointer';\n",
       "        break;\n",
       "    case 1:\n",
       "        cursor = 'default';\n",
       "        break;\n",
       "    case 2:\n",
       "        cursor = 'crosshair';\n",
       "        break;\n",
       "    case 3:\n",
       "        cursor = 'move';\n",
       "        break;\n",
       "    }\n",
       "    fig.rubberband_canvas.style.cursor = cursor;\n",
       "}\n",
       "\n",
       "mpl.figure.prototype.handle_message = function(fig, msg) {\n",
       "    fig.message.textContent = msg['message'];\n",
       "}\n",
       "\n",
       "mpl.figure.prototype.handle_draw = function(fig, msg) {\n",
       "    // Request the server to send over a new figure.\n",
       "    fig.send_draw_message();\n",
       "}\n",
       "\n",
       "mpl.figure.prototype.handle_image_mode = function(fig, msg) {\n",
       "    fig.image_mode = msg['mode'];\n",
       "}\n",
       "\n",
       "mpl.figure.prototype.updated_canvas_event = function() {\n",
       "    // Called whenever the canvas gets updated.\n",
       "    this.send_message(\"ack\", {});\n",
       "}\n",
       "\n",
       "// A function to construct a web socket function for onmessage handling.\n",
       "// Called in the figure constructor.\n",
       "mpl.figure.prototype._make_on_message_function = function(fig) {\n",
       "    return function socket_on_message(evt) {\n",
       "        if (evt.data instanceof Blob) {\n",
       "            /* FIXME: We get \"Resource interpreted as Image but\n",
       "             * transferred with MIME type text/plain:\" errors on\n",
       "             * Chrome.  But how to set the MIME type?  It doesn't seem\n",
       "             * to be part of the websocket stream */\n",
       "            evt.data.type = \"image/png\";\n",
       "\n",
       "            /* Free the memory for the previous frames */\n",
       "            if (fig.imageObj.src) {\n",
       "                (window.URL || window.webkitURL).revokeObjectURL(\n",
       "                    fig.imageObj.src);\n",
       "            }\n",
       "\n",
       "            fig.imageObj.src = (window.URL || window.webkitURL).createObjectURL(\n",
       "                evt.data);\n",
       "            fig.updated_canvas_event();\n",
       "            fig.waiting = false;\n",
       "            return;\n",
       "        }\n",
       "        else if (typeof evt.data === 'string' && evt.data.slice(0, 21) == \"data:image/png;base64\") {\n",
       "            fig.imageObj.src = evt.data;\n",
       "            fig.updated_canvas_event();\n",
       "            fig.waiting = false;\n",
       "            return;\n",
       "        }\n",
       "\n",
       "        var msg = JSON.parse(evt.data);\n",
       "        var msg_type = msg['type'];\n",
       "\n",
       "        // Call the  \"handle_{type}\" callback, which takes\n",
       "        // the figure and JSON message as its only arguments.\n",
       "        try {\n",
       "            var callback = fig[\"handle_\" + msg_type];\n",
       "        } catch (e) {\n",
       "            console.log(\"No handler for the '\" + msg_type + \"' message type: \", msg);\n",
       "            return;\n",
       "        }\n",
       "\n",
       "        if (callback) {\n",
       "            try {\n",
       "                // console.log(\"Handling '\" + msg_type + \"' message: \", msg);\n",
       "                callback(fig, msg);\n",
       "            } catch (e) {\n",
       "                console.log(\"Exception inside the 'handler_\" + msg_type + \"' callback:\", e, e.stack, msg);\n",
       "            }\n",
       "        }\n",
       "    };\n",
       "}\n",
       "\n",
       "// from http://stackoverflow.com/questions/1114465/getting-mouse-location-in-canvas\n",
       "mpl.findpos = function(e) {\n",
       "    //this section is from http://www.quirksmode.org/js/events_properties.html\n",
       "    var targ;\n",
       "    if (!e)\n",
       "        e = window.event;\n",
       "    if (e.target)\n",
       "        targ = e.target;\n",
       "    else if (e.srcElement)\n",
       "        targ = e.srcElement;\n",
       "    if (targ.nodeType == 3) // defeat Safari bug\n",
       "        targ = targ.parentNode;\n",
       "\n",
       "    // jQuery normalizes the pageX and pageY\n",
       "    // pageX,Y are the mouse positions relative to the document\n",
       "    // offset() returns the position of the element relative to the document\n",
       "    var x = e.pageX - $(targ).offset().left;\n",
       "    var y = e.pageY - $(targ).offset().top;\n",
       "\n",
       "    return {\"x\": x, \"y\": y};\n",
       "};\n",
       "\n",
       "/*\n",
       " * return a copy of an object with only non-object keys\n",
       " * we need this to avoid circular references\n",
       " * http://stackoverflow.com/a/24161582/3208463\n",
       " */\n",
       "function simpleKeys (original) {\n",
       "  return Object.keys(original).reduce(function (obj, key) {\n",
       "    if (typeof original[key] !== 'object')\n",
       "        obj[key] = original[key]\n",
       "    return obj;\n",
       "  }, {});\n",
       "}\n",
       "\n",
       "mpl.figure.prototype.mouse_event = function(event, name) {\n",
       "    var canvas_pos = mpl.findpos(event)\n",
       "\n",
       "    if (name === 'button_press')\n",
       "    {\n",
       "        this.canvas.focus();\n",
       "        this.canvas_div.focus();\n",
       "    }\n",
       "\n",
       "    var x = canvas_pos.x * mpl.ratio;\n",
       "    var y = canvas_pos.y * mpl.ratio;\n",
       "\n",
       "    this.send_message(name, {x: x, y: y, button: event.button,\n",
       "                             step: event.step,\n",
       "                             guiEvent: simpleKeys(event)});\n",
       "\n",
       "    /* This prevents the web browser from automatically changing to\n",
       "     * the text insertion cursor when the button is pressed.  We want\n",
       "     * to control all of the cursor setting manually through the\n",
       "     * 'cursor' event from matplotlib */\n",
       "    event.preventDefault();\n",
       "    return false;\n",
       "}\n",
       "\n",
       "mpl.figure.prototype._key_event_extra = function(event, name) {\n",
       "    // Handle any extra behaviour associated with a key event\n",
       "}\n",
       "\n",
       "mpl.figure.prototype.key_event = function(event, name) {\n",
       "\n",
       "    // Prevent repeat events\n",
       "    if (name == 'key_press')\n",
       "    {\n",
       "        if (event.which === this._key)\n",
       "            return;\n",
       "        else\n",
       "            this._key = event.which;\n",
       "    }\n",
       "    if (name == 'key_release')\n",
       "        this._key = null;\n",
       "\n",
       "    var value = '';\n",
       "    if (event.ctrlKey && event.which != 17)\n",
       "        value += \"ctrl+\";\n",
       "    if (event.altKey && event.which != 18)\n",
       "        value += \"alt+\";\n",
       "    if (event.shiftKey && event.which != 16)\n",
       "        value += \"shift+\";\n",
       "\n",
       "    value += 'k';\n",
       "    value += event.which.toString();\n",
       "\n",
       "    this._key_event_extra(event, name);\n",
       "\n",
       "    this.send_message(name, {key: value,\n",
       "                             guiEvent: simpleKeys(event)});\n",
       "    return false;\n",
       "}\n",
       "\n",
       "mpl.figure.prototype.toolbar_button_onclick = function(name) {\n",
       "    if (name == 'download') {\n",
       "        this.handle_save(this, null);\n",
       "    } else {\n",
       "        this.send_message(\"toolbar_button\", {name: name});\n",
       "    }\n",
       "};\n",
       "\n",
       "mpl.figure.prototype.toolbar_button_onmouseover = function(tooltip) {\n",
       "    this.message.textContent = tooltip;\n",
       "};\n",
       "mpl.toolbar_items = [[\"Home\", \"Reset original view\", \"fa fa-home icon-home\", \"home\"], [\"Back\", \"Back to  previous view\", \"fa fa-arrow-left icon-arrow-left\", \"back\"], [\"Forward\", \"Forward to next view\", \"fa fa-arrow-right icon-arrow-right\", \"forward\"], [\"\", \"\", \"\", \"\"], [\"Pan\", \"Pan axes with left mouse, zoom with right\", \"fa fa-arrows icon-move\", \"pan\"], [\"Zoom\", \"Zoom to rectangle\", \"fa fa-square-o icon-check-empty\", \"zoom\"], [\"\", \"\", \"\", \"\"], [\"Download\", \"Download plot\", \"fa fa-floppy-o icon-save\", \"download\"]];\n",
       "\n",
       "mpl.extensions = [\"eps\", \"jpeg\", \"pdf\", \"png\", \"ps\", \"raw\", \"svg\", \"tif\"];\n",
       "\n",
       "mpl.default_extension = \"png\";var comm_websocket_adapter = function(comm) {\n",
       "    // Create a \"websocket\"-like object which calls the given IPython comm\n",
       "    // object with the appropriate methods. Currently this is a non binary\n",
       "    // socket, so there is still some room for performance tuning.\n",
       "    var ws = {};\n",
       "\n",
       "    ws.close = function() {\n",
       "        comm.close()\n",
       "    };\n",
       "    ws.send = function(m) {\n",
       "        //console.log('sending', m);\n",
       "        comm.send(m);\n",
       "    };\n",
       "    // Register the callback with on_msg.\n",
       "    comm.on_msg(function(msg) {\n",
       "        //console.log('receiving', msg['content']['data'], msg);\n",
       "        // Pass the mpl event to the overriden (by mpl) onmessage function.\n",
       "        ws.onmessage(msg['content']['data'])\n",
       "    });\n",
       "    return ws;\n",
       "}\n",
       "\n",
       "mpl.mpl_figure_comm = function(comm, msg) {\n",
       "    // This is the function which gets called when the mpl process\n",
       "    // starts-up an IPython Comm through the \"matplotlib\" channel.\n",
       "\n",
       "    var id = msg.content.data.id;\n",
       "    // Get hold of the div created by the display call when the Comm\n",
       "    // socket was opened in Python.\n",
       "    var element = $(\"#\" + id);\n",
       "    var ws_proxy = comm_websocket_adapter(comm)\n",
       "\n",
       "    function ondownload(figure, format) {\n",
       "        window.open(figure.imageObj.src);\n",
       "    }\n",
       "\n",
       "    var fig = new mpl.figure(id, ws_proxy,\n",
       "                           ondownload,\n",
       "                           element.get(0));\n",
       "\n",
       "    // Call onopen now - mpl needs it, as it is assuming we've passed it a real\n",
       "    // web socket which is closed, not our websocket->open comm proxy.\n",
       "    ws_proxy.onopen();\n",
       "\n",
       "    fig.parent_element = element.get(0);\n",
       "    fig.cell_info = mpl.find_output_cell(\"<div id='\" + id + \"'></div>\");\n",
       "    if (!fig.cell_info) {\n",
       "        console.error(\"Failed to find cell for figure\", id, fig);\n",
       "        return;\n",
       "    }\n",
       "\n",
       "    var output_index = fig.cell_info[2]\n",
       "    var cell = fig.cell_info[0];\n",
       "\n",
       "};\n",
       "\n",
       "mpl.figure.prototype.handle_close = function(fig, msg) {\n",
       "    var width = fig.canvas.width/mpl.ratio\n",
       "    fig.root.unbind('remove')\n",
       "\n",
       "    // Update the output cell to use the data from the current canvas.\n",
       "    fig.push_to_output();\n",
       "    var dataURL = fig.canvas.toDataURL();\n",
       "    // Re-enable the keyboard manager in IPython - without this line, in FF,\n",
       "    // the notebook keyboard shortcuts fail.\n",
       "    IPython.keyboard_manager.enable()\n",
       "    $(fig.parent_element).html('<img src=\"' + dataURL + '\" width=\"' + width + '\">');\n",
       "    fig.close_ws(fig, msg);\n",
       "}\n",
       "\n",
       "mpl.figure.prototype.close_ws = function(fig, msg){\n",
       "    fig.send_message('closing', msg);\n",
       "    // fig.ws.close()\n",
       "}\n",
       "\n",
       "mpl.figure.prototype.push_to_output = function(remove_interactive) {\n",
       "    // Turn the data on the canvas into data in the output cell.\n",
       "    var width = this.canvas.width/mpl.ratio\n",
       "    var dataURL = this.canvas.toDataURL();\n",
       "    this.cell_info[1]['text/html'] = '<img src=\"' + dataURL + '\" width=\"' + width + '\">';\n",
       "}\n",
       "\n",
       "mpl.figure.prototype.updated_canvas_event = function() {\n",
       "    // Tell IPython that the notebook contents must change.\n",
       "    IPython.notebook.set_dirty(true);\n",
       "    this.send_message(\"ack\", {});\n",
       "    var fig = this;\n",
       "    // Wait a second, then push the new image to the DOM so\n",
       "    // that it is saved nicely (might be nice to debounce this).\n",
       "    setTimeout(function () { fig.push_to_output() }, 1000);\n",
       "}\n",
       "\n",
       "mpl.figure.prototype._init_toolbar = function() {\n",
       "    var fig = this;\n",
       "\n",
       "    var nav_element = $('<div/>')\n",
       "    nav_element.attr('style', 'width: 100%');\n",
       "    this.root.append(nav_element);\n",
       "\n",
       "    // Define a callback function for later on.\n",
       "    function toolbar_event(event) {\n",
       "        return fig.toolbar_button_onclick(event['data']);\n",
       "    }\n",
       "    function toolbar_mouse_event(event) {\n",
       "        return fig.toolbar_button_onmouseover(event['data']);\n",
       "    }\n",
       "\n",
       "    for(var toolbar_ind in mpl.toolbar_items){\n",
       "        var name = mpl.toolbar_items[toolbar_ind][0];\n",
       "        var tooltip = mpl.toolbar_items[toolbar_ind][1];\n",
       "        var image = mpl.toolbar_items[toolbar_ind][2];\n",
       "        var method_name = mpl.toolbar_items[toolbar_ind][3];\n",
       "\n",
       "        if (!name) { continue; };\n",
       "\n",
       "        var button = $('<button class=\"btn btn-default\" href=\"#\" title=\"' + name + '\"><i class=\"fa ' + image + ' fa-lg\"></i></button>');\n",
       "        button.click(method_name, toolbar_event);\n",
       "        button.mouseover(tooltip, toolbar_mouse_event);\n",
       "        nav_element.append(button);\n",
       "    }\n",
       "\n",
       "    // Add the status bar.\n",
       "    var status_bar = $('<span class=\"mpl-message\" style=\"text-align:right; float: right;\"/>');\n",
       "    nav_element.append(status_bar);\n",
       "    this.message = status_bar[0];\n",
       "\n",
       "    // Add the close button to the window.\n",
       "    var buttongrp = $('<div class=\"btn-group inline pull-right\"></div>');\n",
       "    var button = $('<button class=\"btn btn-mini btn-primary\" href=\"#\" title=\"Stop Interaction\"><i class=\"fa fa-power-off icon-remove icon-large\"></i></button>');\n",
       "    button.click(function (evt) { fig.handle_close(fig, {}); } );\n",
       "    button.mouseover('Stop Interaction', toolbar_mouse_event);\n",
       "    buttongrp.append(button);\n",
       "    var titlebar = this.root.find($('.ui-dialog-titlebar'));\n",
       "    titlebar.prepend(buttongrp);\n",
       "}\n",
       "\n",
       "mpl.figure.prototype._root_extra_style = function(el){\n",
       "    var fig = this\n",
       "    el.on(\"remove\", function(){\n",
       "\tfig.close_ws(fig, {});\n",
       "    });\n",
       "}\n",
       "\n",
       "mpl.figure.prototype._canvas_extra_style = function(el){\n",
       "    // this is important to make the div 'focusable\n",
       "    el.attr('tabindex', 0)\n",
       "    // reach out to IPython and tell the keyboard manager to turn it's self\n",
       "    // off when our div gets focus\n",
       "\n",
       "    // location in version 3\n",
       "    if (IPython.notebook.keyboard_manager) {\n",
       "        IPython.notebook.keyboard_manager.register_events(el);\n",
       "    }\n",
       "    else {\n",
       "        // location in version 2\n",
       "        IPython.keyboard_manager.register_events(el);\n",
       "    }\n",
       "\n",
       "}\n",
       "\n",
       "mpl.figure.prototype._key_event_extra = function(event, name) {\n",
       "    var manager = IPython.notebook.keyboard_manager;\n",
       "    if (!manager)\n",
       "        manager = IPython.keyboard_manager;\n",
       "\n",
       "    // Check for shift+enter\n",
       "    if (event.shiftKey && event.which == 13) {\n",
       "        this.canvas_div.blur();\n",
       "        // select the cell after this one\n",
       "        var index = IPython.notebook.find_cell_index(this.cell_info[0]);\n",
       "        IPython.notebook.select(index + 1);\n",
       "    }\n",
       "}\n",
       "\n",
       "mpl.figure.prototype.handle_save = function(fig, msg) {\n",
       "    fig.ondownload(fig, null);\n",
       "}\n",
       "\n",
       "\n",
       "mpl.find_output_cell = function(html_output) {\n",
       "    // Return the cell and output element which can be found *uniquely* in the notebook.\n",
       "    // Note - this is a bit hacky, but it is done because the \"notebook_saving.Notebook\"\n",
       "    // IPython event is triggered only after the cells have been serialised, which for\n",
       "    // our purposes (turning an active figure into a static one), is too late.\n",
       "    var cells = IPython.notebook.get_cells();\n",
       "    var ncells = cells.length;\n",
       "    for (var i=0; i<ncells; i++) {\n",
       "        var cell = cells[i];\n",
       "        if (cell.cell_type === 'code'){\n",
       "            for (var j=0; j<cell.output_area.outputs.length; j++) {\n",
       "                var data = cell.output_area.outputs[j];\n",
       "                if (data.data) {\n",
       "                    // IPython >= 3 moved mimebundle to data attribute of output\n",
       "                    data = data.data;\n",
       "                }\n",
       "                if (data['text/html'] == html_output) {\n",
       "                    return [cell, data, j];\n",
       "                }\n",
       "            }\n",
       "        }\n",
       "    }\n",
       "}\n",
       "\n",
       "// Register the function which deals with the matplotlib target/channel.\n",
       "// The kernel may be null if the page has been refreshed.\n",
       "if (IPython.notebook.kernel != null) {\n",
       "    IPython.notebook.kernel.comm_manager.register_target('matplotlib', mpl.mpl_figure_comm);\n",
       "}\n"
      ],
      "text/plain": [
       "<IPython.core.display.Javascript object>"
      ]
     },
     "metadata": {},
     "output_type": "display_data"
    },
    {
     "data": {
      "text/html": [
       "<img src=\"data:image/png;base64,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\" width=\"600\">"
      ],
      "text/plain": [
       "<IPython.core.display.HTML object>"
      ]
     },
     "metadata": {},
     "output_type": "display_data"
    }
   ],
   "source": [
    "plot_gershgorin_circles(A2.T, with_real_eigv=True);"
   ]
  },
  {
   "cell_type": "code",
   "execution_count": 18,
   "metadata": {},
   "outputs": [
    {
     "name": "stdout",
     "output_type": "stream",
     "text": [
      "[[ 9.  0.  2.]\n",
      " [-6.  4.  4.]\n",
      " [-2. -7.  5.]]\n",
      "6.32456\n",
      "0.0800911207686\n",
      "[ 0.         -0.98708745 -0.16018224]\n",
      "[[ 0.         -0.         -0.        ]\n",
      " [-0.          0.97434164  0.15811388]\n",
      " [-0.          0.15811388  0.02565835]]\n",
      "[[ 1.          0.          0.        ]\n",
      " [ 0.         -0.94868329 -0.31622776]\n",
      " [ 0.         -0.31622776  0.9486833 ]]\n",
      "[[  9.00000000e+00  -6.32455524e-01   1.89736660e+00]\n",
      " [  6.32455524e+00   3.19999992e+00  -4.59999996e+00]\n",
      " [ -2.48923977e-08   6.39999991e+00   5.79999999e+00]]\n"
     ]
    }
   ],
   "source": [
    "B = r_hessenberg(A2)"
   ]
  },
  {
   "cell_type": "code",
   "execution_count": 39,
   "metadata": {},
   "outputs": [
    {
     "name": "stdout",
     "output_type": "stream",
     "text": [
      "\n"
     ]
    },
    {
     "data": {
      "text/html": [
       "Q<sub>1</sub>:"
      ],
      "text/plain": [
       "<IPython.core.display.HTML object>"
      ]
     },
     "metadata": {},
     "output_type": "display_data"
    },
    {
     "name": "stdout",
     "output_type": "stream",
     "text": [
      "[[ -8.18181821e-01   2.42817777e-01   5.21169871e-01]\n",
      " [ -5.74959570e-01  -3.45535762e-01  -7.41637735e-01]\n",
      " [  2.26294525e-09  -9.06446118e-01   4.22321484e-01]]\n"
     ]
    },
    {
     "data": {
      "text/html": [
       "R<sub>1</sub>:"
      ],
      "text/plain": [
       "<IPython.core.display.HTML object>"
      ]
     },
     "metadata": {},
     "output_type": "display_data"
    },
    {
     "name": "stdout",
     "output_type": "stream",
     "text": [
      "[[-10.99999996  -1.32240695   1.09242315]\n",
      " [  0.          -7.06054093  -3.20720864]\n",
      " [  0.           0.           6.84984846]]\n"
     ]
    },
    {
     "data": {
      "text/html": [
       "A<sub>2</sub>:"
      ],
      "text/plain": [
       "<IPython.core.display.HTML object>"
      ]
     },
     "metadata": {},
     "output_type": "display_data"
    },
    {
     "name": "stdout",
     "output_type": "stream",
     "text": [
      "[[  9.76033053e+00  -3.20427937e+00  -4.29076789e+00]\n",
      " [  4.05952557e+00   5.34683121e+00   3.88189047e+00]\n",
      " [  1.55008321e-08  -6.20901854e+00   2.89283816e+00]]\n",
      "__________________________________________________\n",
      "\n"
     ]
    },
    {
     "data": {
      "text/html": [
       "Q<sub>2</sub>:"
      ],
      "text/plain": [
       "<IPython.core.display.HTML object>"
      ]
     },
     "metadata": {},
     "output_type": "display_data"
    },
    {
     "name": "stdout",
     "output_type": "stream",
     "text": [
      "[[ -9.23321200e-01   2.70634049e-01  -2.72461324e-01]\n",
      " [ -3.84028595e-01  -6.50686328e-01   6.55079645e-01]\n",
      " [ -1.46636907e-09   7.09481863e-01   7.04723695e-01]]\n"
     ]
    },
    {
     "data": {
      "text/html": [
       "R<sub>2</sub>:"
      ],
      "text/plain": [
       "<IPython.core.display.HTML object>"
      ]
     },
     "metadata": {},
     "output_type": "display_data"
    },
    {
     "name": "stdout",
     "output_type": "stream",
     "text": [
      "[[-10.570894     0.905243     2.47100002]\n",
      " [  0.          -8.75148311  -1.63470473]\n",
      " [  0.           0.           5.75066733]]\n"
     ]
    },
    {
     "data": {
      "text/html": [
       "A<sub>3</sub>:"
      ],
      "text/plain": [
       "<IPython.core.display.HTML object>"
      ]
     },
     "metadata": {},
     "output_type": "display_data"
    },
    {
     "name": "stdout",
     "output_type": "stream",
     "text": [
      "[[  9.41269133e+00  -1.69674340e+00   5.21453830e+00]\n",
      " [  3.36081976e+00   4.53467705e+00  -6.88493360e+00]\n",
      " [ -8.43260073e-09   4.07999417e+00   4.05263153e+00]]\n",
      "__________________________________________________\n",
      "\n"
     ]
    },
    {
     "data": {
      "text/html": [
       "Q<sub>3</sub>:"
      ],
      "text/plain": [
       "<IPython.core.display.HTML object>"
      ]
     },
     "metadata": {},
     "output_type": "display_data"
    },
    {
     "name": "stdout",
     "output_type": "stream",
     "text": [
      "[[ -9.41769027e-01   2.57125040e-01   2.16697516e-01]\n",
      " [ -3.36260464e-01  -7.20133425e-01  -6.06907530e-01]\n",
      " [  8.43707915e-10  -6.44433522e-01   7.64660340e-01]]\n"
     ]
    },
    {
     "data": {
      "text/html": [
       "R<sub>3</sub>:"
      ],
      "text/plain": [
       "<IPython.core.display.HTML object>"
      ]
     },
     "metadata": {},
     "output_type": "display_data"
    },
    {
     "name": "stdout",
     "output_type": "stream",
     "text": [
      "[[-9.99469197  0.07310777 -2.59575969]\n",
      " [ 0.         -6.33113274  3.68720758]\n",
      " [ 0.          0.          8.40738215]]\n"
     ]
    },
    {
     "data": {
      "text/html": [
       "A<sub>4</sub>:"
      ],
      "text/plain": [
       "<IPython.core.display.HTML object>"
      ]
     },
     "metadata": {},
     "output_type": "display_data"
    },
    {
     "name": "stdout",
     "output_type": "stream",
     "text": [
      "[[  9.38810808e+00  -9.49738375e-01  -4.19506906e+00]\n",
      " [  2.12890964e+00   2.18310014e+00   6.66187354e+00]\n",
      " [  7.09337487e-09  -5.41799889e+00   6.42879170e+00]]\n",
      "__________________________________________________\n",
      "\n"
     ]
    },
    {
     "data": {
      "text/html": [
       "Q<sub>4</sub>:"
      ],
      "text/plain": [
       "<IPython.core.display.HTML object>"
      ]
     },
     "metadata": {},
     "output_type": "display_data"
    },
    {
     "name": "stdout",
     "output_type": "stream",
     "text": [
      "[[ -9.75239407e-01   8.76564480e-02  -2.03038040e-01]\n",
      " [ -2.21151754e-01  -3.86549152e-01   8.95361187e-01]\n",
      " [ -7.36861852e-10   9.18093732e-01   3.96363343e-01]]\n"
     ]
    },
    {
     "data": {
      "text/html": [
       "R<sub>4</sub>:"
      ],
      "text/plain": [
       "<IPython.core.display.HTML object>"
      ]
     },
     "metadata": {},
     "output_type": "display_data"
    },
    {
     "name": "stdout",
     "output_type": "stream",
     "text": [
      "[[-9.62646506  0.44342587  2.61791164]\n",
      " [ 0.         -5.90135701  2.95936694]\n",
      " [ 0.          0.          9.36467897]]\n"
     ]
    },
    {
     "data": {
      "text/html": [
       "A<sub>5</sub>:"
      ],
      "text/plain": [
       "<IPython.core.display.HTML object>"
      ]
     },
     "metadata": {},
     "output_type": "display_data"
    },
    {
     "name": "stdout",
     "output_type": "stream",
     "text": [
      "[[  9.29004367e+00   1.38826064e+00   3.38920912e+00]\n",
      " [  1.30509546e+00   4.99814079e+00  -4.11086145e+00]\n",
      " [ -6.90047468e-09   8.59765306e+00   3.71181546e+00]]\n",
      "__________________________________________________\n",
      "\n"
     ]
    },
    {
     "data": {
      "text/html": [
       "Q<sub>5</sub>:"
      ],
      "text/plain": [
       "<IPython.core.display.HTML object>"
      ]
     },
     "metadata": {},
     "output_type": "display_data"
    },
    {
     "name": "stdout",
     "output_type": "stream",
     "text": [
      "[[ -9.90275927e-01   6.73440598e-02   1.21730709e-01]\n",
      " [ -1.39117173e-01  -4.79374332e-01  -8.66514086e-01]\n",
      " [  7.35558864e-10  -8.75022873e-01   4.84081576e-01]]\n"
     ]
    },
    {
     "data": {
      "text/html": [
       "R<sub>5</sub>:"
      ],
      "text/plain": [
       "<IPython.core.display.HTML object>"
      ]
     },
     "metadata": {},
     "output_type": "display_data"
    },
    {
     "name": "stdout",
     "output_type": "stream",
     "text": [
      "[[-9.3812678  -2.0700883  -2.78436077]\n",
      " [ 0.         -9.82563237 -1.04903886]\n",
      " [ 0.          0.          5.77151166]]\n"
     ]
    },
    {
     "data": {
      "text/html": [
       "A<sub>6</sub>:"
      ],
      "text/plain": [
       "<IPython.core.display.HTML object>"
      ]
     },
     "metadata": {},
     "output_type": "display_data"
    },
    {
     "name": "stdout",
     "output_type": "stream",
     "text": [
      "[[  9.57802850e+00   2.79695390e+00  -6.96085454e-01]\n",
      " [  1.36691420e+00   5.62808895e+00   8.00622847e+00]\n",
      " [  4.24528656e-09  -5.05020471e+00   2.79388246e+00]]\n",
      "__________________________________________________\n",
      "\n"
     ]
    },
    {
     "data": {
      "text/html": [
       "Q<sub>6</sub>:"
      ],
      "text/plain": [
       "<IPython.core.display.HTML object>"
      ]
     },
     "metadata": {},
     "output_type": "display_data"
    },
    {
     "name": "stdout",
     "output_type": "stream",
     "text": [
      "[[ -9.89969389e-01   1.01127278e-01  -9.86604421e-02]\n",
      " [ -1.41282020e-01  -7.08603330e-01   6.91318097e-01]\n",
      " [ -4.38785888e-10   6.98322701e-01   7.15783072e-01]]\n"
     ]
    },
    {
     "data": {
      "text/html": [
       "R<sub>6</sub>:"
      ],
      "text/plain": [
       "<IPython.core.display.HTML object>"
      ]
     },
     "metadata": {},
     "output_type": "display_data"
    },
    {
     "name": "stdout",
     "output_type": "stream",
     "text": [
      "[[-9.67507542 -3.56404652 -0.44203284]\n",
      " [ 0.         -7.23190683 -3.79260184]\n",
      " [ 0.          0.          7.6033405 ]]\n"
     ]
    },
    {
     "data": {
      "text/html": [
       "A<sub>7</sub>:"
      ],
      "text/plain": [
       "<IPython.core.display.HTML object>"
      ]
     },
     "metadata": {},
     "output_type": "display_data"
    },
    {
     "name": "stdout",
     "output_type": "stream",
     "text": [
      "[[  1.00815642e+01   1.23839962e+00  -1.82574226e+00]\n",
      " [  1.02173841e+00   2.47609331e+00  -7.71422826e+00]\n",
      " [ -3.33623851e-09   5.30958527e+00   5.44234242e+00]]\n",
      "__________________________________________________\n",
      "\n"
     ]
    },
    {
     "data": {
      "text/html": [
       "Q<sub>7</sub>:"
      ],
      "text/plain": [
       "<IPython.core.display.HTML object>"
      ]
     },
     "metadata": {},
     "output_type": "display_data"
    },
    {
     "name": "stdout",
     "output_type": "stream",
     "text": [
      "[[ -9.94903598e-01   4.06431838e-02   9.22765547e-02]\n",
      " [ -1.00830704e-01  -4.01029134e-01  -9.10499205e-01]\n",
      " [  3.29238166e-10  -9.15163245e-01   4.03083409e-01]]\n"
     ]
    },
    {
     "data": {
      "text/html": [
       "R<sub>7</sub>:"
      ],
      "text/plain": [
       "<IPython.core.display.HTML object>"
      ]
     },
     "metadata": {},
     "output_type": "display_data"
    },
    {
     "name": "stdout",
     "output_type": "stream",
     "text": [
      "[[-10.13320709  -1.48175447   2.59426862]\n",
      " [  0.          -5.80179034  -1.96120544]\n",
      " [  0.           0.           9.04904343]]\n"
     ]
    },
    {
     "data": {
      "text/html": [
       "A<sub>8</sub>:"
      ],
      "text/plain": [
       "<IPython.core.display.HTML object>"
      ]
     },
     "metadata": {},
     "output_type": "display_data"
    },
    {
     "name": "stdout",
     "output_type": "stream",
     "text": [
      "[[  1.02309705e+01  -2.19179837e+00   1.45978547e+00]\n",
      " [  5.84998606e-01   4.12151010e+00   4.49199612e+00]\n",
      " [  2.97929046e-09  -8.28135195e+00   3.64751928e+00]]\n",
      "__________________________________________________\n",
      "\n"
     ]
    },
    {
     "data": {
      "text/html": [
       "Q<sub>8</sub>:"
      ],
      "text/plain": [
       "<IPython.core.display.HTML object>"
      ]
     },
     "metadata": {},
     "output_type": "display_data"
    },
    {
     "name": "stdout",
     "output_type": "stream",
     "text": [
      "[[ -9.98369268e-01   2.60155586e-02  -5.08133439e-02]\n",
      " [ -5.70859458e-02  -4.54982993e-01   8.88668482e-01]\n",
      " [ -2.90728238e-10   8.90120030e-01   4.55726160e-01]]\n"
     ]
    },
    {
     "data": {
      "text/html": [
       "R<sub>8</sub>:"
      ],
      "text/plain": [
       "<IPython.core.display.HTML object>"
      ]
     },
     "metadata": {},
     "output_type": "display_data"
    },
    {
     "name": "stdout",
     "output_type": "stream",
     "text": [
      "[[-10.24768176   1.95294384  -1.7138348 ]\n",
      " [  0.          -9.3036351    1.24092527]\n",
      " [  0.           0.           5.57998874]]\n"
     ]
    },
    {
     "data": {
      "text/html": [
       "A<sub>9</sub>:"
      ],
      "text/plain": [
       "<IPython.core.display.HTML object>"
      ]
     },
     "metadata": {},
     "output_type": "display_data"
    },
    {
     "name": "stdout",
     "output_type": "stream",
     "text": [
      "[[  1.01194849e+01  -2.68067408e+00   1.47519926e+00]\n",
      " [  5.31106809e-01   5.33756818e+00  -7.70232518e+00]\n",
      " [ -1.62226030e-09   4.96685975e+00   2.54294684e+00]]\n",
      "__________________________________________________\n",
      "\n"
     ]
    },
    {
     "data": {
      "text/html": [
       "Q<sub>9</sub>:"
      ],
      "text/plain": [
       "<IPython.core.display.HTML object>"
      ]
     },
     "metadata": {},
     "output_type": "display_data"
    },
    {
     "name": "stdout",
     "output_type": "stream",
     "text": [
      "[[ -9.98625576e-01   3.88043799e-02   3.52303824e-02]\n",
      " [ -5.24114467e-02  -7.39362272e-01  -6.71264829e-01]\n",
      " [  1.60090226e-10  -6.72188702e-01   7.40379868e-01]]\n"
     ]
    },
    {
     "data": {
      "text/html": [
       "R<sub>9</sub>:"
      ],
      "text/plain": [
       "<IPython.core.display.HTML object>"
      ]
     },
     "metadata": {},
     "output_type": "display_data"
    },
    {
     "name": "stdout",
     "output_type": "stream",
     "text": [
      "[[-10.1334125    2.39724003  -1.0694817 ]\n",
      " [  0.          -7.38908543   4.0427127 ]\n",
      " [  0.           0.           7.10501848]]\n"
     ]
    },
    {
     "data": {
      "text/html": [
       "A<sub>10</sub>:"
      ],
      "text/plain": [
       "<IPython.core.display.HTML object>"
      ]
     },
     "metadata": {},
     "output_type": "display_data"
    },
    {
     "name": "stdout",
     "output_type": "stream",
     "text": [
      "[[  9.99384207e+00  -1.44675610e+00  -2.75800964e+00]\n",
      " [  3.87272658e-01   2.74574520e+00   7.95317627e+00]\n",
      " [  1.13744401e-09  -4.77591315e+00   5.26041264e+00]]\n",
      "__________________________________________________\n",
      "\n"
     ]
    },
    {
     "data": {
      "text/html": [
       "Q<sub>10</sub>:"
      ],
      "text/plain": [
       "<IPython.core.display.HTML object>"
      ]
     },
     "metadata": {},
     "output_type": "display_data"
    },
    {
     "name": "stdout",
     "output_type": "stream",
     "text": [
      "[[ -9.99250020e-01   1.95826812e-02  -3.34053436e-02]\n",
      " [ -3.87220658e-02  -5.05344801e-01   8.62048278e-01]\n",
      " [ -1.13729129e-10   8.62695283e-01   5.05724084e-01]]\n"
     ]
    },
    {
     "data": {
      "text/html": [
       "R<sub>10</sub>:"
      ],
      "text/plain": [
       "<IPython.core.display.HTML object>"
      ]
     },
     "metadata": {},
     "output_type": "display_data"
    },
    {
     "name": "stdout",
     "output_type": "stream",
     "text": [
      "[[-10.00134288   1.33935014   2.44797777]\n",
      " [  0.          -5.53603716   0.46502767]\n",
      " [  0.           0.           9.60847153]]\n"
     ]
    },
    {
     "data": {
      "text/html": [
       "A<sub>11</sub>:"
      ],
      "text/plain": [
       "<IPython.core.display.HTML object>"
      ]
     },
     "metadata": {},
     "output_type": "display_data"
    },
    {
     "name": "stdout",
     "output_type": "stream",
     "text": [
      "[[  9.94197967e+00   1.23917214e+00   2.72668409e+00]\n",
      " [  2.14366796e-01   3.19878478e+00  -4.53715561e+00]\n",
      " [ -1.09276310e-09   8.28918306e+00   4.85923547e+00]]\n",
      "__________________________________________________\n",
      "\n"
     ]
    },
    {
     "data": {
      "text/html": [
       "Q<sub>11</sub>:"
      ],
      "text/plain": [
       "<IPython.core.display.HTML object>"
      ]
     },
     "metadata": {},
     "output_type": "display_data"
    },
    {
     "name": "stdout",
     "output_type": "stream",
     "text": [
      "[[ -9.99767626e-01   7.70283171e-03   2.01335733e-02]\n",
      " [ -2.15567713e-02  -3.57244680e-01  -9.33762038e-01]\n",
      " [  1.09888493e-10  -9.33979071e-01   3.57327714e-01]]\n"
     ]
    },
    {
     "data": {
      "text/html": [
       "R<sub>11</sub>:"
      ],
      "text/plain": [
       "<IPython.core.display.HTML object>"
      ]
     },
     "metadata": {},
     "output_type": "display_data"
    },
    {
     "name": "stdout",
     "output_type": "stream",
     "text": [
      "[[-9.94429046 -1.30783965 -2.62824405]\n",
      " [ 0.         -8.87512721 -2.89654633]\n",
      " [ 0.          0.          6.02786107]]\n"
     ]
    },
    {
     "data": {
      "text/html": [
       "A<sub>12</sub>:"
      ],
      "text/plain": [
       "<IPython.core.display.HTML object>"
      ]
     },
     "metadata": {},
     "output_type": "display_data"
    },
    {
     "name": "stdout",
     "output_type": "stream",
     "text": [
      "[[  9.97017247e+00   2.84534450e+00   8.18524827e-02]\n",
      " [  1.91319087e-01   5.87590563e+00   7.25224059e+00]\n",
      " [  6.62392570e-10  -5.62989608e+00   2.15392181e+00]]\n",
      "__________________________________________________\n",
      "\n"
     ]
    },
    {
     "data": {
      "text/html": [
       "Q<sub>12</sub>:"
      ],
      "text/plain": [
       "<IPython.core.display.HTML object>"
      ]
     },
     "metadata": {},
     "output_type": "display_data"
    },
    {
     "name": "stdout",
     "output_type": "stream",
     "text": [
      "[[ -9.99815939e-01   1.37898876e-02  -1.33389188e-02]\n",
      " [ -1.91856133e-02  -7.18629594e-01   6.95128347e-01]\n",
      " [ -6.64251949e-11   6.95256316e-01   7.18761890e-01]]\n"
     ]
    },
    {
     "data": {
      "text/html": [
       "R<sub>12</sub>:"
      ],
      "text/plain": [
       "<IPython.core.display.HTML object>"
      ]
     },
     "metadata": {},
     "output_type": "display_data"
    },
    {
     "name": "stdout",
     "output_type": "stream",
     "text": [
      "[[-9.97200792 -2.95755364 -0.2209761 ]\n",
      " [ 0.         -8.09758351 -3.71301823]\n",
      " [ 0.          0.          6.5883031 ]]\n"
     ]
    },
    {
     "data": {
      "text/html": [
       "A<sub>13</sub>:"
      ],
      "text/plain": [
       "<IPython.core.display.HTML object>"
      ]
     },
     "metadata": {},
     "output_type": "display_data"
    },
    {
     "name": "stdout",
     "output_type": "stream",
     "text": [
      "[[  1.00269149e+01   1.83423767e+00  -2.08169276e+00]\n",
      " [  1.55357106e-01   3.23766377e+00  -8.29763584e+00]\n",
      " [ -4.37629318e-10   4.58055934e+00   4.73542119e+00]]\n",
      "__________________________________________________\n",
      "\n"
     ]
    },
    {
     "data": {
      "text/html": [
       "Q<sub>13</sub>:"
      ],
      "text/plain": [
       "<IPython.core.display.HTML object>"
      ]
     },
     "metadata": {},
     "output_type": "display_data"
    },
    {
     "name": "stdout",
     "output_type": "stream",
     "text": [
      "[[ -9.99879989e-01   8.88875066e-03   1.26884512e-02]\n",
      " [ -1.54921491e-02  -5.73689544e-01  -8.18926309e-01]\n",
      " [  4.36402223e-11  -8.19024601e-01   5.73758402e-01]]\n"
     ]
    },
    {
     "data": {
      "text/html": [
       "R<sub>13</sub>:"
      ],
      "text/plain": [
       "<IPython.core.display.HTML object>"
      ]
     },
     "metadata": {},
     "output_type": "display_data"
    },
    {
     "name": "stdout",
     "output_type": "stream",
     "text": [
      "[[-10.02811843  -1.88417591   2.20999115]\n",
      " [  0.          -5.59270056   0.86333683]\n",
      " [  0.           0.           9.48572653]]\n"
     ]
    },
    {
     "data": {
      "text/html": [
       "A<sub>14</sub>:"
      ],
      "text/plain": [
       "<IPython.core.display.HTML object>"
      ]
     },
     "metadata": {},
     "output_type": "display_data"
    },
    {
     "name": "stdout",
     "output_type": "stream",
     "text": [
      "[[  1.00561049e+01  -8.18242543e-01   2.68376093e+00]\n",
      " [  8.66429509e-02   2.50137974e+00   5.07535639e+00]\n",
      " [  4.13959215e-10  -7.76904338e+00   5.44251529e+00]]\n",
      "__________________________________________________\n",
      "\n"
     ]
    },
    {
     "data": {
      "text/html": [
       "Q<sub>14</sub>:"
      ],
      "text/plain": [
       "<IPython.core.display.HTML object>"
      ]
     },
     "metadata": {},
     "output_type": "display_data"
    },
    {
     "name": "stdout",
     "output_type": "stream",
     "text": [
      "[[ -9.99962885e-01   2.64712069e-03  -8.19889801e-03]\n",
      " [ -8.61563559e-03  -3.07234730e-01   9.51594762e-01]\n",
      " [ -4.11634381e-11   9.51630082e-01   3.07246134e-01]]\n"
     ]
    },
    {
     "data": {
      "text/html": [
       "R<sub>14</sub>:"
      ],
      "text/plain": [
       "<IPython.core.display.HTML object>"
      ]
     },
     "metadata": {},
     "output_type": "display_data"
    },
    {
     "name": "stdout",
     "output_type": "stream",
     "text": [
      "[[-10.05647813   0.7966612   -2.72738874]\n",
      " [  0.          -8.16393211   3.62703976]\n",
      " [  0.           0.           6.47987045]]\n"
     ]
    },
    {
     "data": {
      "text/html": [
       "A<sub>15</sub>:"
      ],
      "text/plain": [
       "<IPython.core.display.HTML object>"
      ]
     },
     "metadata": {},
     "output_type": "display_data"
    },
    {
     "name": "stdout",
     "output_type": "stream",
     "text": [
      "[[  1.00492411e+01  -2.86684787e+00   2.57101561e-03]\n",
      " [  7.03374639e-02   5.95984363e+00  -6.65436109e+00]\n",
      " [ -2.66733746e-10   6.16643965e+00   1.99091514e+00]]\n",
      "__________________________________________________\n",
      "\n"
     ]
    },
    {
     "data": {
      "text/html": [
       "Q<sub>15</sub>:"
      ],
      "text/plain": [
       "<IPython.core.display.HTML object>"
      ]
     },
     "metadata": {},
     "output_type": "display_data"
    },
    {
     "name": "stdout",
     "output_type": "stream",
     "text": [
      "[[ -9.99975506e-01   4.87247881e-03   5.02458821e-03]\n",
      " [ -6.99910969e-03  -6.96139895e-01  -7.17872035e-01]\n",
      " [  2.65420253e-11  -7.17889619e-01   6.96156947e-01]]\n"
     ]
    },
    {
     "data": {
      "text/html": [
       "R<sub>15</sub>:"
      ],
      "text/plain": [
       "<IPython.core.display.HTML object>"
      ]
     },
     "metadata": {},
     "output_type": "display_data"
    },
    {
     "name": "stdout",
     "output_type": "stream",
     "text": [
      "[[-10.04948729   2.82506405   0.04400365]\n",
      " [  0.          -8.58967659   3.20312145]\n",
      " [  0.           0.           6.16298206]]\n"
     ]
    },
    {
     "data": {
      "text/html": [
       "A<sub>16</sub>:"
      ],
      "text/plain": [
       "<IPython.core.display.HTML object>"
      ]
     },
     "metadata": {},
     "output_type": "display_data"
    },
    {
     "name": "stdout",
     "output_type": "stream",
     "text": [
      "[[  1.00294682e+01  -2.04719547e+00  -2.04789557e+00]\n",
      " [  6.01200887e-02   3.68012893e+00   8.39616386e+00]\n",
      " [  1.63578026e-10  -4.42434085e+00   4.29040278e+00]]\n",
      "__________________________________________________\n",
      "\n"
     ]
    },
    {
     "data": {
      "text/html": [
       "Q<sub>16</sub>:"
      ],
      "text/plain": [
       "<IPython.core.display.HTML object>"
      ]
     },
     "metadata": {},
     "output_type": "display_data"
    },
    {
     "name": "stdout",
     "output_type": "stream",
     "text": [
      "[[ -9.99982034e-01   3.84072078e-03  -4.60214516e-03]\n",
      " [ -5.99423692e-03  -6.40724056e-01   7.67747845e-01]\n",
      " [ -1.63094477e-11   7.67761638e-01   6.40735567e-01]]\n"
     ]
    },
    {
     "data": {
      "text/html": [
       "R<sub>16</sub>:"
      ],
      "text/plain": [
       "<IPython.core.display.HTML object>"
      ]
     },
     "metadata": {},
     "output_type": "display_data"
    },
    {
     "name": "stdout",
     "output_type": "stream",
     "text": [
      "[[-10.0296484    2.02509913   1.99753018]\n",
      " [  0.          -5.76264901  -2.09348289]\n",
      " [  0.           0.           9.20457508]]\n"
     ]
    },
    {
     "data": {
      "text/html": [
       "A<sub>17</sub>:"
      ],
      "text/plain": [
       "<IPython.core.display.HTML object>"
      ]
     },
     "metadata": {},
     "output_type": "display_data"
    },
    {
     "name": "stdout",
     "output_type": "stream",
     "text": [
      "[[  1.00173293e+01   1.97576237e-01   2.88081202e+00]\n",
      " [  3.45426835e-02   2.08497200e+00  -5.76563031e+00]\n",
      " [ -1.50121536e-10   7.06691964e+00   5.89769863e+00]]\n",
      "__________________________________________________\n",
      "\n"
     ]
    },
    {
     "data": {
      "text/html": [
       "Q<sub>17</sub>:"
      ],
      "text/plain": [
       "<IPython.core.display.HTML object>"
      ]
     },
     "metadata": {},
     "output_type": "display_data"
    },
    {
     "name": "stdout",
     "output_type": "stream",
     "text": [
      "[[ -9.99994055e-01   9.75472532e-04   3.30742113e-03]\n",
      " [ -3.44827220e-03  -2.82885657e-01  -9.59147442e-01]\n",
      " [  1.49860945e-11  -9.59153144e-01   2.82887339e-01]]\n"
     ]
    },
    {
     "data": {
      "text/html": [
       "R<sub>17</sub>:"
      ],
      "text/plain": [
       "<IPython.core.display.HTML object>"
      ]
     },
     "metadata": {},
     "output_type": "display_data"
    },
    {
     "name": "stdout",
     "output_type": "stream",
     "text": [
      "[[-10.01738884  -0.20476461  -2.86091343]\n",
      " [  0.          -7.36787413  -4.02297192]\n",
      " [  0.           0.           7.20800189]]\n"
     ]
    },
    {
     "data": {
      "text/html": [
       "A<sub>18</sub>:"
      ],
      "text/plain": [
       "<IPython.core.display.HTML object>"
      ]
     },
     "metadata": {},
     "output_type": "display_data"
    },
    {
     "name": "stdout",
     "output_type": "stream",
     "text": [
      "[[  1.00180354e+01   2.79220740e+00  -6.46048454e-01]\n",
      " [  2.54064355e-02   5.94291207e+00   5.92882980e+00]\n",
      " [  1.08019797e-10  -6.91357767e+00   2.03905247e+00]]\n",
      "__________________________________________________\n",
      "\n"
     ]
    },
    {
     "data": {
      "text/html": [
       "Q<sub>18</sub>:"
      ],
      "text/plain": [
       "<IPython.core.display.HTML object>"
      ]
     },
     "metadata": {},
     "output_type": "display_data"
    },
    {
     "name": "stdout",
     "output_type": "stream",
     "text": [
      "[[ -9.99996784e-01   1.65203283e-03  -1.92416098e-03]\n",
      " [ -2.53606150e-03  -6.51414613e-01   7.58717714e-01]\n",
      " [ -1.07824984e-11   7.58720154e-01   6.51416708e-01]]\n"
     ]
    },
    {
     "data": {
      "text/html": [
       "R<sub>18</sub>:"
      ],
      "text/plain": [
       "<IPython.core.display.HTML object>"
      ]
     },
     "metadata": {},
     "output_type": "display_data"
    },
    {
     "name": "stdout",
     "output_type": "stream",
     "text": [
      "[[-10.01806758  -2.80727001   0.6310105 ]\n",
      " [  0.          -9.11215767  -2.31612346]\n",
      " [  0.           0.           5.82782415]]\n"
     ]
    },
    {
     "data": {
      "text/html": [
       "A<sub>19</sub>:"
      ],
      "text/plain": [
       "<IPython.core.display.HTML object>"
      ]
     },
     "metadata": {},
     "output_type": "display_data"
    },
    {
     "name": "stdout",
     "output_type": "stream",
     "text": [
      "[[  1.00251548e+01   2.29090691e+00  -1.69959833e+00]\n",
      " [  2.31089923e-02   4.17850311e+00  -8.42231696e+00]\n",
      " [ -6.28385043e-11   4.42168763e+00   3.79634202e+00]]\n",
      "__________________________________________________\n",
      "\n"
     ]
    },
    {
     "data": {
      "text/html": [
       "Q<sub>19</sub>:"
      ],
      "text/plain": [
       "<IPython.core.display.HTML object>"
      ]
     },
     "metadata": {},
     "output_type": "display_data"
    },
    {
     "name": "stdout",
     "output_type": "stream",
     "text": [
      "[[ -9.99997343e-01   1.58216565e-03   1.67636908e-03]\n",
      " [ -2.30509467e-03  -6.86375909e-01  -7.27243287e-01]\n",
      " [  6.26806656e-12  -7.27245219e-01   6.86377733e-01]]\n"
     ]
    },
    {
     "data": {
      "text/html": [
       "R<sub>19</sub>:"
      ],
      "text/plain": [
       "<IPython.core.display.HTML object>"
      ]
     },
     "metadata": {},
     "output_type": "display_data"
    },
    {
     "name": "stdout",
     "output_type": "stream",
     "text": [
      "[[-10.02518141  -2.30053267   1.71900805]\n",
      " [  0.          -6.08005047   3.01731483]\n",
      " [  0.           0.           8.72794894]]\n"
     ]
    },
    {
     "data": {
      "text/html": [
       "A<sub>20</sub>:"
      ],
      "text/plain": [
       "<IPython.core.display.HTML object>"
      ]
     },
     "metadata": {},
     "output_type": "display_data"
    },
    {
     "name": "stdout",
     "output_type": "stream",
     "text": [
      "[[  1.00304577e+01   3.13028322e-01   2.83612988e+00]\n",
      " [  1.40150920e-02   1.97887238e+00   6.49269360e+00]\n",
      " [  5.47073649e-11  -6.34735914e+00   5.99066981e+00]]\n",
      "__________________________________________________\n",
      "\n"
     ]
    },
    {
     "data": {
      "text/html": [
       "Q<sub>20</sub>:"
      ],
      "text/plain": [
       "<IPython.core.display.HTML object>"
      ]
     },
     "metadata": {},
     "output_type": "display_data"
    },
    {
     "name": "stdout",
     "output_type": "stream",
     "text": [
      "[[ -9.99999024e-01   4.15785605e-04  -1.33395495e-03]\n",
      " [ -1.39725212e-03  -2.97573501e-01   9.54697889e-01]\n",
      " [ -5.45411914e-12   9.54698821e-01   2.97573791e-01]]\n"
     ]
    },
    {
     "data": {
      "text/html": [
       "R<sub>20</sub>:"
      ],
      "text/plain": [
       "<IPython.core.display.HTML object>"
      ]
     },
     "metadata": {},
     "output_type": "display_data"
    },
    {
     "name": "stdout",
     "output_type": "stream",
     "text": [
      "[[-10.03046751  -0.315793    -2.84519904]\n",
      " [  0.          -6.64854612   3.78841106]\n",
      " [  0.           0.           7.97744393]]\n"
     ]
    },
    {
     "data": {
      "text/html": [
       "A<sub>21</sub>:"
      ],
      "text/plain": [
       "<IPython.core.display.HTML object>"
      ]
     },
     "metadata": {},
     "output_type": "display_data"
    },
    {
     "name": "stdout",
     "output_type": "stream",
     "text": [
      "[[  1.00308990e+01  -2.62650707e+00  -1.13476339e+00]\n",
      " [  9.28969512e-03   5.59522271e+00  -5.22002110e+00]\n",
      " [ -4.35099296e-11   7.61605631e+00   2.37387823e+00]]\n",
      "__________________________________________________\n",
      "\n"
     ]
    },
    {
     "data": {
      "text/html": [
       "Q<sub>21</sub>:"
      ],
      "text/plain": [
       "<IPython.core.display.HTML object>"
      ]
     },
     "metadata": {},
     "output_type": "display_data"
    },
    {
     "name": "stdout",
     "output_type": "stream",
     "text": [
      "[[ -9.99999571e-01   5.48465334e-04   7.46231162e-04]\n",
      " [ -9.26107537e-04  -5.92226151e-01  -8.05771263e-01]\n",
      " [  4.33758840e-12  -8.05771608e-01   5.92226405e-01]]\n"
     ]
    },
    {
     "data": {
      "text/html": [
       "R<sub>21</sub>:"
      ],
      "text/plain": [
       "<IPython.core.display.HTML object>"
      ]
     },
     "metadata": {},
     "output_type": "display_data"
    },
    {
     "name": "stdout",
     "output_type": "stream",
     "text": [
      "[[-10.03090327   2.62132416   1.1395972 ]\n",
      " [  0.          -9.45187971   1.17800694]\n",
      " [  0.           0.           5.61116957]]\n"
     ]
    },
    {
     "data": {
      "text/html": [
       "A<sub>22</sub>:"
      ],
      "text/plain": [
       "<IPython.core.display.HTML object>"
      ]
     },
     "metadata": {},
     "output_type": "display_data"
    },
    {
     "name": "stdout",
     "output_type": "stream",
     "text": [
      "[[  1.00284713e+01  -2.47617339e+00  -1.44477350e+00]\n",
      " [  8.75345704e-03   4.64844579e+00   8.31369987e+00]\n",
      " [  2.43389440e-11  -4.52132113e+00   3.32308278e+00]]\n",
      "__________________________________________________\n",
      "\n"
     ]
    },
    {
     "data": {
      "text/html": [
       "Q<sub>22</sub>:"
      ],
      "text/plain": [
       "<IPython.core.display.HTML object>"
      ]
     },
     "metadata": {},
     "output_type": "display_data"
    },
    {
     "name": "stdout",
     "output_type": "stream",
     "text": [
      "[[ -9.99999619e-01   6.25843119e-04  -6.08445031e-04]\n",
      " [ -8.72860221e-04  -7.17002410e-01   6.97070142e-01]\n",
      " [ -2.42698353e-12   6.97070407e-01   7.17002683e-01]]\n"
     ]
    },
    {
     "data": {
      "text/html": [
       "R<sub>22</sub>:"
      ],
      "text/plain": [
       "<IPython.core.display.HTML object>"
      ]
     },
     "metadata": {},
     "output_type": "display_data"
    },
    {
     "name": "stdout",
     "output_type": "stream",
     "text": [
      "[[-10.02847516   2.47211501   1.43751625]\n",
      " [  0.          -6.48617569  -3.64542437]\n",
      " [  0.           0.           8.17877028]]\n"
     ]
    },
    {
     "data": {
      "text/html": [
       "A<sub>23</sub>:"
      ],
      "text/plain": [
       "<IPython.core.display.HTML object>"
      ]
     },
     "metadata": {},
     "output_type": "display_data"
    },
    {
     "name": "stdout",
     "output_type": "stream",
     "text": [
      "[[  1.00263135e+01  -7.76738628e-01   2.76004234e+00]\n",
      " [  5.66152476e-03   2.10948615e+00  -7.13509846e+00]\n",
      " [ -1.98497408e-11   5.70117873e+00   5.86420024e+00]]\n",
      "__________________________________________________\n",
      "\n"
     ]
    },
    {
     "data": {
      "text/html": [
       "Q<sub>23</sub>:"
      ],
      "text/plain": [
       "<IPython.core.display.HTML object>"
      ]
     },
     "metadata": {},
     "output_type": "display_data"
    },
    {
     "name": "stdout",
     "output_type": "stream",
     "text": [
      "[[ -9.99999841e-01   1.95984199e-04   5.29564448e-04]\n",
      " [ -5.64666549e-04  -3.47079475e-01  -9.37835550e-01]\n",
      " [  1.97976430e-12  -9.37835700e-01   3.47079531e-01]]\n"
     ]
    },
    {
     "data": {
      "text/html": [
       "R<sub>23</sub>:"
      ],
      "text/plain": [
       "<IPython.core.display.HTML object>"
      ]
     },
     "metadata": {},
     "output_type": "display_data"
    },
    {
     "name": "stdout",
     "output_type": "stream",
     "text": [
      "[[-10.02631512   0.77554735  -2.75601295]\n",
      " [  0.          -6.07908052  -3.02266917]\n",
      " [  0.           0.           8.72835448]]\n"
     ]
    },
    {
     "data": {
      "text/html": [
       "A<sub>24</sub>:"
      ],
      "text/plain": [
       "<IPython.core.display.HTML object>"
      ]
     },
     "metadata": {},
     "output_type": "display_data"
    },
    {
     "name": "stdout",
     "output_type": "stream",
     "text": [
      "[[  1.00258756e+01   2.31354577e+00  -1.68920114e+00]\n",
      " [  3.43265341e-03   4.94469114e+00   4.65207122e+00]\n",
      " [  1.72800846e-11  -8.18576243e+00   3.02943317e+00]]\n",
      "__________________________________________________\n",
      "\n"
     ]
    },
    {
     "data": {
      "text/html": [
       "Q<sub>24</sub>:"
      ],
      "text/plain": [
       "<IPython.core.display.HTML object>"
      ]
     },
     "metadata": {},
     "output_type": "display_data"
    },
    {
     "name": "stdout",
     "output_type": "stream",
     "text": [
      "[[ -9.99999941e-01   1.77006037e-04  -2.93074243e-04]\n",
      " [ -3.42379393e-04  -5.16987971e-01   8.55992594e-01]\n",
      " [ -1.72354857e-12   8.55992644e-01   5.16988001e-01]]\n"
     ]
    },
    {
     "data": {
      "text/html": [
       "R<sub>24</sub>:"
      ],
      "text/plain": [
       "<IPython.core.display.HTML object>"
      ]
     },
     "metadata": {},
     "output_type": "display_data"
    },
    {
     "name": "stdout",
     "output_type": "stream",
     "text": [
      "[[-10.02587619  -2.31523859   1.68760826]\n",
      " [  0.          -9.56288875   0.18780865]\n",
      " [  0.           0.           5.54881418]]\n"
     ]
    },
    {
     "data": {
      "text/html": [
       "A<sub>25</sub>:"
      ],
      "text/plain": [
       "<IPython.core.display.HTML object>"
      ]
     },
     "metadata": {},
     "output_type": "display_data"
    },
    {
     "name": "stdout",
     "output_type": "stream",
     "text": [
      "[[  1.00266683e+01   2.63975612e+00  -1.10641554e+00]\n",
      " [  3.27413605e-03   5.10466127e+00  -8.08866713e+00]\n",
      " [ -9.56365076e-12   4.74974412e+00   2.86867035e+00]]\n",
      "__________________________________________________\n",
      "\n"
     ]
    },
    {
     "data": {
      "text/html": [
       "Q<sub>25</sub>:"
      ],
      "text/plain": [
       "<IPython.core.display.HTML object>"
      ]
     },
     "metadata": {},
     "output_type": "display_data"
    },
    {
     "name": "stdout",
     "output_type": "stream",
     "text": [
      "[[ -9.99999947e-01   2.39042990e-04   2.22460376e-04]\n",
      " [ -3.26542754e-04  -7.32041901e-01  -6.81259531e-01]\n",
      " [  9.53821347e-13  -6.81259567e-01   7.32041940e-01]]\n"
     ]
    },
    {
     "data": {
      "text/html": [
       "R<sub>25</sub>:"
      ],
      "text/plain": [
       "<IPython.core.display.HTML object>"
      ]
     },
     "metadata": {},
     "output_type": "display_data"
    },
    {
     "name": "stdout",
     "output_type": "stream",
     "text": [
      "[[-10.02666882  -2.64142287   1.10905678]\n",
      " [  0.          -6.97200355   3.96666966]\n",
      " [  0.           0.           7.61022244]]\n"
     ]
    },
    {
     "data": {
      "text/html": [
       "A<sub>26</sub>:"
      ],
      "text/plain": [
       "<IPython.core.display.HTML object>"
      ]
     },
     "metadata": {},
     "output_type": "display_data"
    },
    {
     "name": "stdout",
     "output_type": "stream",
     "text": [
      "[[  1.00275308e+01   1.17567988e+00   2.60914004e+00]\n",
      " [  2.27665724e-03   2.40146708e+00   7.65351242e+00]\n",
      " [  7.25879262e-12  -5.18453685e+00   5.57100200e+00]]\n",
      "__________________________________________________\n",
      "\n"
     ]
    },
    {
     "data": {
      "text/html": [
       "Q<sub>26</sub>:"
      ],
      "text/plain": [
       "<IPython.core.display.HTML object>"
      ]
     },
     "metadata": {},
     "output_type": "display_data"
    },
    {
     "name": "stdout",
     "output_type": "stream",
     "text": [
      "[[ -9.99999974e-01   9.54162668e-05  -2.06017465e-04]\n",
      " [ -2.27040657e-04  -4.20260699e-01   9.07403380e-01]\n",
      " [ -7.23886325e-13   9.07403403e-01   4.20260710e-01]]\n"
     ]
    },
    {
     "data": {
      "text/html": [
       "R<sub>26</sub>:"
      ],
      "text/plain": [
       "<IPython.core.display.HTML object>"
      ]
     },
     "metadata": {},
     "output_type": "display_data"
    },
    {
     "name": "stdout",
     "output_type": "stream",
     "text": [
      "[[-10.02753109  -1.17622508  -2.61087764]\n",
      " [  0.          -5.71359643   1.83892465]\n",
      " [  0.           0.           9.28555877]]\n"
     ]
    },
    {
     "data": {
      "text/html": [
       "A<sub>27</sub>:"
      ],
      "text/plain": [
       "<IPython.core.display.HTML object>"
      ]
     },
     "metadata": {},
     "output_type": "display_data"
    },
    {
     "name": "stdout",
     "output_type": "stream",
     "text": [
      "[[  1.00277979e+01  -1.87575487e+00  -2.16249405e+00]\n",
      " [  1.29721868e-03   4.06984652e+00  -4.41170893e+00]\n",
      " [ -6.72168901e-12   8.42574763e+00   3.90235552e+00]]\n",
      "__________________________________________________\n",
      "\n"
     ]
    },
    {
     "data": {
      "text/html": [
       "Q<sub>27</sub>:"
      ],
      "text/plain": [
       "<IPython.core.display.HTML object>"
      ]
     },
     "metadata": {},
     "output_type": "display_data"
    },
    {
     "name": "stdout",
     "output_type": "stream",
     "text": [
      "[[ -9.99999992e-01   5.62680047e-05   1.16483939e-04]\n",
      " [ -1.29362268e-04  -4.34964583e-01  -9.00447553e-01]\n",
      " [  6.70305588e-13  -9.00447560e-01   4.34964586e-01]]\n"
     ]
    },
    {
     "data": {
      "text/html": [
       "R<sub>27</sub>:"
      ],
      "text/plain": [
       "<IPython.core.display.HTML object>"
      ]
     },
     "metadata": {},
     "output_type": "display_data"
    },
    {
     "name": "stdout",
     "output_type": "stream",
     "text": [
      "[[-10.02779796   1.87522837   2.16306474]\n",
      " [  0.          -9.35728853  -1.59505105]\n",
      " [  0.           0.           5.66964707]]\n"
     ]
    },
    {
     "data": {
      "text/html": [
       "A<sub>28</sub>:"
      ],
      "text/plain": [
       "<IPython.core.display.HTML object>"
      ]
     },
     "metadata": {},
     "output_type": "display_data"
    },
    {
     "name": "stdout",
     "output_type": "stream",
     "text": [
      "[[  1.00275553e+01  -2.76394854e+00  -7.48856313e-01]\n",
      " [  1.21048006e-03   5.50634892e+00   7.73195684e+00]\n",
      " [  3.80039611e-12  -5.10521987e+00   2.46609569e+00]]\n",
      "__________________________________________________\n",
      "\n"
     ]
    },
    {
     "data": {
      "text/html": [
       "Q<sub>28</sub>:"
      ],
      "text/plain": [
       "<IPython.core.display.HTML object>"
      ]
     },
     "metadata": {},
     "output_type": "display_data"
    },
    {
     "name": "stdout",
     "output_type": "stream",
     "text": [
      "[[ -9.99999993e-01   8.85245647e-05  -8.20707143e-05]\n",
      " [ -1.20715371e-04  -7.33332995e-01   6.79869623e-01]\n",
      " [ -3.78995276e-13   6.79869628e-01   7.33333000e-01]]\n"
     ]
    },
    {
     "data": {
      "text/html": [
       "R<sub>28</sub>:"
      ],
      "text/plain": [
       "<IPython.core.display.HTML object>"
      ]
     },
     "metadata": {},
     "output_type": "display_data"
    },
    {
     "name": "stdout",
     "output_type": "stream",
     "text": [
      "[[-10.02755537   2.76328382   0.74792294]\n",
      " [  0.          -7.50911596  -3.9935418 ]\n",
      " [  0.           0.           7.06525339]]\n"
     ]
    },
    {
     "data": {
      "text/html": [
       "A<sub>29</sub>:"
      ],
      "text/plain": [
       "<IPython.core.display.HTML object>"
      ]
     },
     "metadata": {},
     "output_type": "display_data"
    },
    {
     "name": "stdout",
     "output_type": "stream",
     "text": [
      "[[  1.00272217e+01  -1.51880479e+00   2.42797227e+00]\n",
      " [  9.06465717e-04   2.79159472e+00  -8.03381582e+00]\n",
      " [ -2.67769765e-12   4.80345119e+00   5.18118347e+00]]\n",
      "__________________________________________________\n",
      "\n"
     ]
    },
    {
     "data": {
      "text/html": [
       "Q<sub>29</sub>:"
      ],
      "text/plain": [
       "<IPython.core.display.HTML object>"
      ]
     },
     "metadata": {},
     "output_type": "display_data"
    },
    {
     "name": "stdout",
     "output_type": "stream",
     "text": [
      "[[ -9.99999996e-01   4.54253104e-05   7.81587422e-05]\n",
      " [ -9.04004856e-05  -5.02489672e-01  -8.64583207e-01]\n",
      " [  2.67042828e-13  -8.64583210e-01   5.02489674e-01]]\n"
     ]
    },
    {
     "data": {
      "text/html": [
       "R<sub>29</sub>:"
      ],
      "text/plain": [
       "<IPython.core.display.HTML object>"
      ]
     },
     "metadata": {},
     "output_type": "display_data"
    },
    {
     "name": "stdout",
     "output_type": "stream",
     "text": [
      "[[-10.02722177   1.51855242  -2.427246  ]\n",
      " [  0.          -5.55579976  -0.44254446]\n",
      " [  0.           0.           9.5495832 ]]\n"
     ]
    },
    {
     "data": {
      "text/html": [
       "A<sub>30</sub>:"
      ],
      "text/plain": [
       "<IPython.core.display.HTML object>"
      ]
     },
     "metadata": {},
     "output_type": "display_data"
    },
    {
     "name": "stdout",
     "output_type": "stream",
     "text": [
      "[[  1.00270844e+01   1.33504374e+00  -2.53336469e+00]\n",
      " [  5.02246996e-04   3.17434851e+00   4.58107715e+00]\n",
      " [  2.55014770e-12  -8.25640930e+00   4.79856695e+00]]\n",
      "__________________________________________________\n",
      "\n"
     ]
    },
    {
     "data": {
      "text/html": [
       "Q<sub>30</sub>:"
      ],
      "text/plain": [
       "<IPython.core.display.HTML object>"
      ]
     },
     "metadata": {},
     "output_type": "display_data"
    },
    {
     "name": "stdout",
     "output_type": "stream",
     "text": [
      "[[ -9.99999999e-01   1.79746983e-05  -4.67527728e-05]\n",
      " [ -5.00890362e-05  -3.58854948e-01   9.33393338e-01]\n",
      " [ -2.54325942e-13   9.33393339e-01   3.58854949e-01]]\n"
     ]
    },
    {
     "data": {
      "text/html": [
       "R<sub>30</sub>:"
      ],
      "text/plain": [
       "<IPython.core.display.HTML object>"
      ]
     },
     "metadata": {},
     "output_type": "display_data"
    },
    {
     "name": "stdout",
     "output_type": "stream",
     "text": [
      "[[-10.02708446  -1.33520274   2.53313522]\n",
      " [  0.          -8.84558412   2.83496269]\n",
      " [  0.           0.           5.99805483]]\n"
     ]
    },
    {
     "data": {
      "text/html": [
       "A<sub>31</sub>:"
      ],
      "text/plain": [
       "<IPython.core.display.HTML object>"
      ]
     },
     "metadata": {},
     "output_type": "display_data"
    },
    {
     "name": "stdout",
     "output_type": "stream",
     "text": [
      "[[  1.00271513e+01   2.84337542e+00  -3.36772433e-01]\n",
      " [  4.43066782e-04   5.82041693e+00  -7.23906890e+00]\n",
      " [ -1.52546095e-12   5.59854443e+00   2.15243166e+00]]\n",
      "__________________________________________________\n",
      "\n"
     ]
    },
    {
     "data": {
      "text/html": [
       "Q<sub>31</sub>:"
      ],
      "text/plain": [
       "<IPython.core.display.HTML object>"
      ]
     },
     "metadata": {},
     "output_type": "display_data"
    },
    {
     "name": "stdout",
     "output_type": "stream",
     "text": [
      "[[ -9.99999999e-01   3.18454683e-05   3.06321903e-05]\n",
      " [ -4.41867054e-05  -7.20702485e-01  -6.93244493e-01]\n",
      " [  1.52133033e-13  -6.93244494e-01   7.20702485e-01]]\n"
     ]
    },
    {
     "data": {
      "text/html": [
       "R<sub>31</sub>:"
      ],
      "text/plain": [
       "<IPython.core.display.HTML object>"
      ]
     },
     "metadata": {},
     "output_type": "display_data"
    },
    {
     "name": "stdout",
     "output_type": "stream",
     "text": [
      "[[-10.02715133  -2.8436326    0.3370923 ]\n",
      " [  0.          -8.07585849   3.72504282]\n",
      " [  0.           0.           6.56969718]]\n"
     ]
    },
    {
     "data": {
      "text/html": [
       "A<sub>32</sub>:"
      ],
      "text/plain": [
       "<IPython.core.display.HTML object>"
      ]
     },
     "metadata": {},
     "output_type": "display_data"
    },
    {
     "name": "stdout",
     "output_type": "stream",
     "text": [
      "[[  1.00272770e+01   1.81540638e+00   2.21396875e+00]\n",
      " [  3.56845581e-04   3.23792585e+00   8.28319204e+00]\n",
      " [  9.99467958e-13  -4.55440639e+00   4.73479708e+00]]\n",
      "__________________________________________________\n",
      "\n"
     ]
    },
    {
     "data": {
      "text/html": [
       "Q<sub>32</sub>:"
      ],
      "text/plain": [
       "<IPython.core.display.HTML object>"
      ]
     },
     "metadata": {},
     "output_type": "display_data"
    },
    {
     "name": "stdout",
     "output_type": "stream",
     "text": [
      "[[ -9.99999999e-01   2.06202934e-05  -2.90047008e-05]\n",
      " [ -3.55874861e-05  -5.79425403e-01   8.15025277e-01]\n",
      " [ -9.96749127e-14   8.15025277e-01   5.79425403e-01]]\n"
     ]
    },
    {
     "data": {
      "text/html": [
       "R<sub>32</sub>:"
      ],
      "text/plain": [
       "<IPython.core.display.HTML object>"
      ]
     },
     "metadata": {},
     "output_type": "display_data"
    },
    {
     "name": "stdout",
     "output_type": "stream",
     "text": [
      "[[-10.02727698  -1.81552161  -2.21426353]\n",
      " [  0.          -5.58805539  -0.94046693]\n",
      " [  0.           0.           9.49440838]]\n"
     ]
    },
    {
     "data": {
      "text/html": [
       "A<sub>33</sub>:"
      ],
      "text/plain": [
       "<IPython.core.display.HTML object>"
      ]
     },
     "metadata": {},
     "output_type": "display_data"
    },
    {
     "name": "stdout",
     "output_type": "stream",
     "text": [
      "[[  1.00273416e+01  -7.52928170e-01  -2.76240570e+00]\n",
      " [  1.98864844e-04   2.47135693e+00  -5.09933682e+00]\n",
      " [ -9.46354326e-13   7.73818282e+00   5.50130140e+00]]\n",
      "__________________________________________________\n",
      "\n"
     ]
    },
    {
     "data": {
      "text/html": [
       "Q<sub>33</sub>:"
      ],
      "text/plain": [
       "<IPython.core.display.HTML object>"
      ]
     },
     "metadata": {},
     "output_type": "display_data"
    },
    {
     "name": "stdout",
     "output_type": "stream",
     "text": [
      "[[ -1.00000000e+00   6.03365677e-06   1.88921549e-05]\n",
      " [ -1.98322598e-05  -3.04234460e-01  -9.52597183e-01]\n",
      " [  9.43773898e-14  -9.52597183e-01   3.04234460e-01]]\n"
     ]
    },
    {
     "data": {
      "text/html": [
       "R<sub>33</sub>:"
      ],
      "text/plain": [
       "<IPython.core.display.HTML object>"
      ]
     },
     "metadata": {},
     "output_type": "display_data"
    },
    {
     "name": "stdout",
     "output_type": "stream",
     "text": [
      "[[-10.02734159   0.75287916   2.76250683]\n",
      " [  0.          -8.12324764  -3.6891469 ]\n",
      " [  0.           0.           6.53124716]]\n"
     ]
    },
    {
     "data": {
      "text/html": [
       "A<sub>34</sub>:"
      ],
      "text/plain": [
       "<IPython.core.display.HTML object>"
      ]
     },
     "metadata": {},
     "output_type": "display_data"
    },
    {
     "name": "stdout",
     "output_type": "stream",
     "text": [
      "[[  1.00273267e+01  -2.86066851e+00   1.23069771e-01]\n",
      " [  1.61102357e-04   5.98564280e+00   6.61581720e+00]\n",
      " [  6.16402059e-13  -6.22164765e+00   1.98703045e+00]]\n",
      "__________________________________________________\n",
      "\n"
     ]
    },
    {
     "data": {
      "text/html": [
       "Q<sub>34</sub>:"
      ],
      "text/plain": [
       "<IPython.core.display.HTML object>"
      ]
     },
     "metadata": {},
     "output_type": "display_data"
    },
    {
     "name": "stdout",
     "output_type": "stream",
     "text": [
      "[[ -1.00000000e+00   1.11389391e-05  -1.15780419e-05]\n",
      " [ -1.60663318e-05  -6.93309419e-01   7.20640027e-01]\n",
      " [ -6.14722229e-14   7.20640028e-01   6.93309419e-01]]\n"
     ]
    },
    {
     "data": {
      "text/html": [
       "R<sub>34</sub>:"
      ],
      "text/plain": [
       "<IPython.core.display.HTML object>"
      ]
     },
     "metadata": {},
     "output_type": "display_data"
    },
    {
     "name": "stdout",
     "output_type": "stream",
     "text": [
      "[[-10.02732666   2.86057234  -0.12317606]\n",
      " [  0.          -8.63350273  -3.15487333]\n",
      " [  0.           0.           6.14524819]]\n"
     ]
    },
    {
     "data": {
      "text/html": [
       "A<sub>35</sub>:"
      ],
      "text/plain": [
       "<IPython.core.display.HTML object>"
      ]
     },
     "metadata": {},
     "output_type": "display_data"
    },
    {
     "name": "stdout",
     "output_type": "stream",
     "text": [
      "[[  1.00272807e+01  -2.07213904e+00   1.97615990e+00]\n",
      " [  1.38708720e-04   3.71216076e+00  -8.40895104e+00]\n",
      " [ -3.77762067e-13   4.42851183e+00   4.26055846e+00]]\n",
      "__________________________________________________\n",
      "\n"
     ]
    },
    {
     "data": {
      "text/html": [
       "Q<sub>35</sub>:"
      ],
      "text/plain": [
       "<IPython.core.display.HTML object>"
      ]
     },
     "metadata": {},
     "output_type": "display_data"
    },
    {
     "name": "stdout",
     "output_type": "stream",
     "text": [
      "[[ -1.00000000e+00   8.88646563e-06   1.06012420e-05]\n",
      " [ -1.38331342e-05  -6.42404354e-01  -7.66365870e-01]\n",
      " [  3.76734309e-14  -7.66365870e-01   6.42404354e-01]]\n"
     ]
    },
    {
     "data": {
      "text/html": [
       "R<sub>35</sub>:"
      ],
      "text/plain": [
       "<IPython.core.display.HTML object>"
      ]
     },
     "metadata": {},
     "output_type": "display_data"
    },
    {
     "name": "stdout",
     "output_type": "stream",
     "text": [
      "[[-10.0272807    2.07208769  -1.97604358]\n",
      " [  0.          -5.77858697   2.13681773]\n",
      " [  0.           0.           9.18135533]]\n"
     ]
    },
    {
     "data": {
      "text/html": [
       "A<sub>36</sub>:"
      ],
      "text/plain": [
       "<IPython.core.display.HTML object>"
      ]
     },
     "metadata": {},
     "output_type": "display_data"
    },
    {
     "name": "stdout",
     "output_type": "stream",
     "text": [
      "[[  1.00272520e+01   1.83165096e-01  -2.85750259e+00]\n",
      " [  7.99359693e-05   2.07460524e+00   5.80121284e+00]\n",
      " [  3.45893156e-13  -7.03627736e+00   5.89814263e+00]]\n",
      "__________________________________________________\n",
      "\n"
     ]
    },
    {
     "data": {
      "text/html": [
       "Q<sub>36</sub>:"
      ],
      "text/plain": [
       "<IPython.core.display.HTML object>"
      ]
     },
     "metadata": {},
     "output_type": "display_data"
    },
    {
     "name": "stdout",
     "output_type": "stream",
     "text": [
      "[[ -1.00000000e+00   2.25450470e-06  -7.64643388e-06]\n",
      " [ -7.97187196e-06  -2.82807444e-01   9.59176704e-01]\n",
      " [ -3.44953088e-14   9.59176704e-01   2.82807445e-01]]\n"
     ]
    },
    {
     "data": {
      "text/html": [
       "R<sub>36</sub>:"
      ],
      "text/plain": [
       "<IPython.core.display.HTML object>"
      ]
     },
     "metadata": {},
     "output_type": "display_data"
    },
    {
     "name": "stdout",
     "output_type": "stream",
     "text": [
      "[[-10.02725203  -0.18318163   2.85745634]\n",
      " [  0.          -7.33574672   4.01672839]\n",
      " [  0.           0.           7.23244871]]\n"
     ]
    },
    {
     "data": {
      "text/html": [
       "A<sub>37</sub>:"
      ],
      "text/plain": [
       "<IPython.core.display.HTML object>"
      ]
     },
     "metadata": {},
     "output_type": "display_data"
    },
    {
     "name": "stdout",
     "output_type": "stream",
     "text": [
      "[[  1.00272535e+01   2.79258808e+00   6.32483042e-01]\n",
      " [  5.84796335e-05   5.92735608e+00  -5.90031667e+00]\n",
      " [ -2.49485552e-13   6.93719631e+00   2.04539034e+00]]\n",
      "__________________________________________________\n",
      "\n"
     ]
    },
    {
     "ename": "KeyboardInterrupt",
     "evalue": "",
     "output_type": "error",
     "traceback": [
      "\u001b[0;31m---------------------------------------------------------------------------\u001b[0m",
      "\u001b[0;31mKeyboardInterrupt\u001b[0m                         Traceback (most recent call last)",
      "\u001b[0;32mC:\\Users\\lekho\\Anaconda3\\lib\\site-packages\\ipykernel\\kernelbase.py\u001b[0m in \u001b[0;36m_input_request\u001b[0;34m(self, prompt, ident, parent, password)\u001b[0m\n\u001b[1;32m    718\u001b[0m             \u001b[1;32mtry\u001b[0m\u001b[1;33m:\u001b[0m\u001b[1;33m\u001b[0m\u001b[0m\n\u001b[0;32m--> 719\u001b[0;31m                 \u001b[0mident\u001b[0m\u001b[1;33m,\u001b[0m \u001b[0mreply\u001b[0m \u001b[1;33m=\u001b[0m \u001b[0mself\u001b[0m\u001b[1;33m.\u001b[0m\u001b[0msession\u001b[0m\u001b[1;33m.\u001b[0m\u001b[0mrecv\u001b[0m\u001b[1;33m(\u001b[0m\u001b[0mself\u001b[0m\u001b[1;33m.\u001b[0m\u001b[0mstdin_socket\u001b[0m\u001b[1;33m,\u001b[0m \u001b[1;36m0\u001b[0m\u001b[1;33m)\u001b[0m\u001b[1;33m\u001b[0m\u001b[0m\n\u001b[0m\u001b[1;32m    720\u001b[0m             \u001b[1;32mexcept\u001b[0m \u001b[0mException\u001b[0m\u001b[1;33m:\u001b[0m\u001b[1;33m\u001b[0m\u001b[0m\n",
      "\u001b[0;32mC:\\Users\\lekho\\Anaconda3\\lib\\site-packages\\jupyter_client\\session.py\u001b[0m in \u001b[0;36mrecv\u001b[0;34m(self, socket, mode, content, copy)\u001b[0m\n\u001b[1;32m    738\u001b[0m         \u001b[1;32mtry\u001b[0m\u001b[1;33m:\u001b[0m\u001b[1;33m\u001b[0m\u001b[0m\n\u001b[0;32m--> 739\u001b[0;31m             \u001b[0mmsg_list\u001b[0m \u001b[1;33m=\u001b[0m \u001b[0msocket\u001b[0m\u001b[1;33m.\u001b[0m\u001b[0mrecv_multipart\u001b[0m\u001b[1;33m(\u001b[0m\u001b[0mmode\u001b[0m\u001b[1;33m,\u001b[0m \u001b[0mcopy\u001b[0m\u001b[1;33m=\u001b[0m\u001b[0mcopy\u001b[0m\u001b[1;33m)\u001b[0m\u001b[1;33m\u001b[0m\u001b[0m\n\u001b[0m\u001b[1;32m    740\u001b[0m         \u001b[1;32mexcept\u001b[0m \u001b[0mzmq\u001b[0m\u001b[1;33m.\u001b[0m\u001b[0mZMQError\u001b[0m \u001b[1;32mas\u001b[0m \u001b[0me\u001b[0m\u001b[1;33m:\u001b[0m\u001b[1;33m\u001b[0m\u001b[0m\n",
      "\u001b[0;32mC:\\Users\\lekho\\Anaconda3\\lib\\site-packages\\zmq\\sugar\\socket.py\u001b[0m in \u001b[0;36mrecv_multipart\u001b[0;34m(self, flags, copy, track)\u001b[0m\n\u001b[1;32m    394\u001b[0m         \"\"\"\n\u001b[0;32m--> 395\u001b[0;31m         \u001b[0mparts\u001b[0m \u001b[1;33m=\u001b[0m \u001b[1;33m[\u001b[0m\u001b[0mself\u001b[0m\u001b[1;33m.\u001b[0m\u001b[0mrecv\u001b[0m\u001b[1;33m(\u001b[0m\u001b[0mflags\u001b[0m\u001b[1;33m,\u001b[0m \u001b[0mcopy\u001b[0m\u001b[1;33m=\u001b[0m\u001b[0mcopy\u001b[0m\u001b[1;33m,\u001b[0m \u001b[0mtrack\u001b[0m\u001b[1;33m=\u001b[0m\u001b[0mtrack\u001b[0m\u001b[1;33m)\u001b[0m\u001b[1;33m]\u001b[0m\u001b[1;33m\u001b[0m\u001b[0m\n\u001b[0m\u001b[1;32m    396\u001b[0m         \u001b[1;31m# have first part already, only loop while more to receive\u001b[0m\u001b[1;33m\u001b[0m\u001b[1;33m\u001b[0m\u001b[0m\n",
      "\u001b[0;32mzmq/backend/cython/socket.pyx\u001b[0m in \u001b[0;36mzmq.backend.cython.socket.Socket.recv (zmq\\backend\\cython\\socket.c:7683)\u001b[0;34m()\u001b[0m\n",
      "\u001b[0;32mzmq/backend/cython/socket.pyx\u001b[0m in \u001b[0;36mzmq.backend.cython.socket.Socket.recv (zmq\\backend\\cython\\socket.c:7460)\u001b[0;34m()\u001b[0m\n",
      "\u001b[0;32mzmq/backend/cython/socket.pyx\u001b[0m in \u001b[0;36mzmq.backend.cython.socket._recv_copy (zmq\\backend\\cython\\socket.c:2344)\u001b[0;34m()\u001b[0m\n",
      "\u001b[0;32mC:\\Users\\lekho\\Anaconda3\\lib\\site-packages\\zmq\\backend\\cython\\checkrc.pxd\u001b[0m in \u001b[0;36mzmq.backend.cython.checkrc._check_rc (zmq\\backend\\cython\\socket.c:9621)\u001b[0;34m()\u001b[0m\n",
      "\u001b[0;31mKeyboardInterrupt\u001b[0m: ",
      "\nDuring handling of the above exception, another exception occurred:\n",
      "\u001b[0;31mKeyboardInterrupt\u001b[0m                         Traceback (most recent call last)",
      "\u001b[0;32m<ipython-input-39-a7b89989681e>\u001b[0m in \u001b[0;36m<module>\u001b[0;34m()\u001b[0m\n\u001b[0;32m----> 1\u001b[0;31m \u001b[0mQR\u001b[0m\u001b[1;33m(\u001b[0m\u001b[0mB\u001b[0m\u001b[1;33m,\u001b[0m \u001b[1;36m1e-4\u001b[0m\u001b[1;33m,\u001b[0m \u001b[1;32mTrue\u001b[0m\u001b[1;33m)\u001b[0m\u001b[1;33m\u001b[0m\u001b[0m\n\u001b[0m",
      "\u001b[0;32m<ipython-input-5-1d64b3bd51ed>\u001b[0m in \u001b[0;36mQR\u001b[0;34m(A, eps, show_history)\u001b[0m\n\u001b[1;32m      9\u001b[0m     \u001b[0mk\u001b[0m \u001b[1;33m=\u001b[0m \u001b[1;36m0\u001b[0m\u001b[1;33m\u001b[0m\u001b[0m\n\u001b[1;32m     10\u001b[0m     \u001b[1;32mwhile\u001b[0m \u001b[0mt\u001b[0m\u001b[1;33m(\u001b[0m\u001b[0mAk\u001b[0m\u001b[1;33m)\u001b[0m \u001b[1;33m>=\u001b[0m \u001b[0meps\u001b[0m\u001b[1;33m:\u001b[0m\u001b[1;33m\u001b[0m\u001b[0m\n\u001b[0;32m---> 11\u001b[0;31m         \u001b[0minput\u001b[0m\u001b[1;33m(\u001b[0m\u001b[1;33m)\u001b[0m\u001b[1;33m\u001b[0m\u001b[0m\n\u001b[0m\u001b[1;32m     12\u001b[0m         \u001b[0mQk\u001b[0m\u001b[1;33m,\u001b[0m \u001b[0mRk\u001b[0m \u001b[1;33m=\u001b[0m \u001b[0mnp\u001b[0m\u001b[1;33m.\u001b[0m\u001b[0mlinalg\u001b[0m\u001b[1;33m.\u001b[0m\u001b[0mqr\u001b[0m\u001b[1;33m(\u001b[0m\u001b[0mAk\u001b[0m\u001b[1;33m)\u001b[0m\u001b[1;33m\u001b[0m\u001b[0m\n\u001b[1;32m     13\u001b[0m         \u001b[0mAk\u001b[0m \u001b[1;33m=\u001b[0m \u001b[0mdot\u001b[0m\u001b[1;33m(\u001b[0m\u001b[0mRk\u001b[0m\u001b[1;33m,\u001b[0m \u001b[0mQk\u001b[0m\u001b[1;33m)\u001b[0m\u001b[1;33m\u001b[0m\u001b[0m\n",
      "\u001b[0;32mC:\\Users\\lekho\\Anaconda3\\lib\\site-packages\\ipykernel\\kernelbase.py\u001b[0m in \u001b[0;36mraw_input\u001b[0;34m(self, prompt)\u001b[0m\n\u001b[1;32m    692\u001b[0m             \u001b[0mself\u001b[0m\u001b[1;33m.\u001b[0m\u001b[0m_parent_ident\u001b[0m\u001b[1;33m,\u001b[0m\u001b[1;33m\u001b[0m\u001b[0m\n\u001b[1;32m    693\u001b[0m             \u001b[0mself\u001b[0m\u001b[1;33m.\u001b[0m\u001b[0m_parent_header\u001b[0m\u001b[1;33m,\u001b[0m\u001b[1;33m\u001b[0m\u001b[0m\n\u001b[0;32m--> 694\u001b[0;31m             \u001b[0mpassword\u001b[0m\u001b[1;33m=\u001b[0m\u001b[1;32mFalse\u001b[0m\u001b[1;33m,\u001b[0m\u001b[1;33m\u001b[0m\u001b[0m\n\u001b[0m\u001b[1;32m    695\u001b[0m         )\n\u001b[1;32m    696\u001b[0m \u001b[1;33m\u001b[0m\u001b[0m\n",
      "\u001b[0;32mC:\\Users\\lekho\\Anaconda3\\lib\\site-packages\\ipykernel\\kernelbase.py\u001b[0m in \u001b[0;36m_input_request\u001b[0;34m(self, prompt, ident, parent, password)\u001b[0m\n\u001b[1;32m    722\u001b[0m             \u001b[1;32mexcept\u001b[0m \u001b[0mKeyboardInterrupt\u001b[0m\u001b[1;33m:\u001b[0m\u001b[1;33m\u001b[0m\u001b[0m\n\u001b[1;32m    723\u001b[0m                 \u001b[1;31m# re-raise KeyboardInterrupt, to truncate traceback\u001b[0m\u001b[1;33m\u001b[0m\u001b[1;33m\u001b[0m\u001b[0m\n\u001b[0;32m--> 724\u001b[0;31m                 \u001b[1;32mraise\u001b[0m \u001b[0mKeyboardInterrupt\u001b[0m\u001b[1;33m\u001b[0m\u001b[0m\n\u001b[0m\u001b[1;32m    725\u001b[0m             \u001b[1;32melse\u001b[0m\u001b[1;33m:\u001b[0m\u001b[1;33m\u001b[0m\u001b[0m\n\u001b[1;32m    726\u001b[0m                 \u001b[1;32mbreak\u001b[0m\u001b[1;33m\u001b[0m\u001b[0m\n",
      "\u001b[0;31mKeyboardInterrupt\u001b[0m: "
     ]
    }
   ],
   "source": [
    "QR(B, 1e-4, True)"
   ]
  },
  {
   "cell_type": "code",
   "execution_count": 19,
   "metadata": {},
   "outputs": [
    {
     "data": {
      "text/plain": [
       "array([ 3.98636+6.09622289j,  3.98636-6.09622289j])"
      ]
     },
     "execution_count": 19,
     "metadata": {},
     "output_type": "execute_result"
    }
   ],
   "source": [
    "A35_block = array([\n",
    "    [3.71216, -8.40895],\n",
    "    [4.42851,  4.26056]\n",
    "])\n",
    "np.linalg.eigvals(A35_block)"
   ]
  },
  {
   "cell_type": "code",
   "execution_count": 21,
   "metadata": {},
   "outputs": [
    {
     "data": {
      "text/plain": [
       "array([ 3.986375+6.09623593j,  3.986375-6.09623593j])"
      ]
     },
     "execution_count": 21,
     "metadata": {},
     "output_type": "execute_result"
    }
   ],
   "source": [
    "A36_block = array([\n",
    "    [ 2.07461, 5.80121],\n",
    "    [-7.03628, 5.89814]\n",
    "])\n",
    "\n",
    "np.linalg.eigvals(A36_block)"
   ]
  },
  {
   "cell_type": "code",
   "execution_count": null,
   "metadata": {
    "collapsed": true
   },
   "outputs": [],
   "source": []
  },
  {
   "cell_type": "code",
   "execution_count": null,
   "metadata": {
    "collapsed": true
   },
   "outputs": [],
   "source": []
  },
  {
   "cell_type": "markdown",
   "metadata": {
    "collapsed": true
   },
   "source": [
    "$$Q^{(k)*} Q^{(k-1)*} ... Q^{(1)*} A Q^{(1)}Q^{(2)}...Q^{(k)}$$\n"
   ]
  },
  {
   "cell_type": "code",
   "execution_count": 9,
   "metadata": {},
   "outputs": [
    {
     "data": {
      "text/plain": [
       "(array([ 17.34291473,   7.54370244,   5.77528294,   2.42809989]),\n",
       " array([ 17.34291473,   7.54370244,   5.77528294,   2.42809989]))"
      ]
     },
     "execution_count": 9,
     "metadata": {},
     "output_type": "execute_result"
    }
   ],
   "source": [
    "np.sort(l)[::-1], np.sort(l_true)[::-1]"
   ]
  }
 ],
 "metadata": {
  "kernelspec": {
   "display_name": "Python 3",
   "language": "python",
   "name": "python3"
  },
  "language_info": {
   "codemirror_mode": {
    "name": "ipython",
    "version": 3
   },
   "file_extension": ".py",
   "mimetype": "text/x-python",
   "name": "python",
   "nbconvert_exporter": "python",
   "pygments_lexer": "ipython3",
   "version": "3.6.0"
  }
 },
 "nbformat": 4,
 "nbformat_minor": 2
}
